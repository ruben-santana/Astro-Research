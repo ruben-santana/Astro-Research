{
 "cells": [
  {
   "cell_type": "markdown",
   "metadata": {},
   "source": [
    "# Finding Period and Initial Best Fit"
   ]
  },
  {
   "cell_type": "code",
   "execution_count": 1,
   "metadata": {
    "collapsed": false
   },
   "outputs": [],
   "source": [
    "#Importing and notebook setup\n",
    "%matplotlib inline\n",
    "import os\n",
    "\n",
    "#For Plotting\n",
    "import matplotlib.pyplot as plt\n",
    "\n",
    "import numpy as np\n",
    "import pandas as pd\n",
    "from scipy import optimize\n",
    "from gatspy.periodic import LombScargleFast\n",
    "\n",
    "#Making Tables\n",
    "from tabulate import tabulate\n",
    "\n",
    "#for Radvel\n",
    "import matplotlib\n",
    "import pylab as pl\n",
    "\n",
    "import corner\n",
    "\n",
    "#importing radvel\n",
    "import radvel\n",
    "import radvel.plotting\n",
    "\n",
    "matplotlib.rcParams['font.size'] = 14"
   ]
  },
  {
   "cell_type": "markdown",
   "metadata": {},
   "source": [
    "Define Periodogram Function"
   ]
  },
  {
   "cell_type": "code",
   "execution_count": 2,
   "metadata": {
    "collapsed": false
   },
   "outputs": [],
   "source": [
    "def periodogram(datax, datay, min_, max_, nyquist):\n",
    "    #finding periodogram\n",
    "    model = LombScargleFast().fit(datax, datay)\n",
    "    period, power = model.periodogram_auto(nyquist_factor=nyquist) # Default 50\n",
    "\n",
    "    #Plotting\n",
    "    plt.figure\n",
    "    plt.plot(period,power)\n",
    "    plt.ylabel('Power')\n",
    "    plt.xlabel('Period')# days\n",
    "    plt.xscale('log')\n",
    "    #used bottom line to zoom in periodogram\n",
    "#     plt.xlim(min_-1,max_+10)\n",
    "\n",
    "    # set range and find period\n",
    "    model.optimizer.period_range=(min_, max_)\n",
    "    period = model.best_period\n",
    "    print(\"period = {0}\".format(period))\n",
    "    return period"
   ]
  },
  {
   "cell_type": "markdown",
   "metadata": {},
   "source": [
    "Function for RadVel and Residuals"
   ]
  },
  {
   "cell_type": "markdown",
   "metadata": {},
   "source": [
    "Define a Plotting Function to Display the Data, Model, and Residuals"
   ]
  },
  {
   "cell_type": "code",
   "execution_count": 3,
   "metadata": {
    "collapsed": true
   },
   "outputs": [],
   "source": [
    "#used for plotting radvel plots\n",
    "def plot_results(like):\n",
    "    fig = pl.figure(figsize=(12,4))\n",
    "    fig = pl.gcf()\n",
    "    pl.errorbar(\n",
    "        like.x, like.model(t)+like.residuals(), \n",
    "        yerr=like.yerr, fmt='o'\n",
    "        )\n",
    "    pl.plot(ti, like.model(ti))\n",
    "    fig.set_tight_layout(True)\n",
    "    pl.xlabel('Time')\n",
    "    pl.ylabel('RV')\n",
    "    pl.draw()"
   ]
  },
  {
   "cell_type": "markdown",
   "metadata": {},
   "source": [
    "Define RMS Function"
   ]
  },
  {
   "cell_type": "code",
   "execution_count": 4,
   "metadata": {
    "collapsed": true
   },
   "outputs": [],
   "source": [
    "#getting RMS\n",
    "def RMS (Residuals):\n",
    "    RMS = np.std(Residuals)\n",
    "    return RMS"
   ]
  },
  {
   "cell_type": "markdown",
   "metadata": {},
   "source": [
    "Using Radvel to Find Model Likelihood"
   ]
  },
  {
   "cell_type": "code",
   "execution_count": 5,
   "metadata": {
    "collapsed": true
   },
   "outputs": [],
   "source": [
    "#Found in Radvel.Fitting\n",
    "def model_likelihood(post,show=False):\n",
    "    num_planet = post.likelihood.model.num_planets\n",
    "    ndata = len(post.likelihood.y)\n",
    "    nfree = len(post.get_vary_params())\n",
    "    rms = np.std(post.likelihood.residuals())\n",
    "    logprob = post.logprob()\n",
    "    chi = np.sum((post.likelihood.residuals()/post.likelihood.errorbars())**2)\n",
    "    chi_red = chi / (ndata - nfree)\n",
    "    bic = post.bic()\n",
    "    if show:\n",
    "        print \"N_free = %d\" % nfree\n",
    "        print \"RMS = %4.2f\" % np.std(post.likelihood.residuals())\n",
    "        print \"logprob (jitter fixed) = %4.2f\" % post.logprob() #radvel.likelihood\n",
    "        print \"chi (jitter fixed) = %4.2f\" % chi\n",
    "        print \"chi_red (jitter fixed) = %4.2f\" % chi_red\n",
    "        print \"BIC (jitter fixed) = %4.2f\" % post.bic()\n",
    "        \n",
    "    model_likelihood = [num_planet, ndata, nfree, rms, logprob, chi , chi_red, bic]\n",
    "    return model_likelihood"
   ]
  },
  {
   "cell_type": "markdown",
   "metadata": {},
   "source": [
    "My Own Method of Modeling Data"
   ]
  },
  {
   "cell_type": "code",
   "execution_count": 6,
   "metadata": {
    "collapsed": false
   },
   "outputs": [],
   "source": [
    "#My own method of plotting and finding likelihood\n",
    "def residuals(num_planet,data_x, data_y,data_err,amplitude,period,phase_shift,vertical_shift):\n",
    "    # Target function\n",
    "    fitfunc = lambda p, x: p[0]*np.cos(2*np.pi/p[1]*x+p[2]) + p[3]*x\n",
    "    #Distance to the target function\n",
    "    errfunc = lambda p, x, y: fitfunc(p, x) - y \n",
    "    \n",
    "    # Initial guess for the first set's parameters\n",
    "    p0 = [amplitude, period, phase_shift, vertical_shift]\n",
    "    p1, success = optimize.leastsq(errfunc, p0[:], args=(data_x, data_y))\n",
    "    \n",
    "    print 'Amplitude: ', np.absolute(p1[0])\n",
    "    print 'Period: ', p1[1]\n",
    "    print 'Phase Shift: ', p1[2]\n",
    "    print 'Vertical-Shift: ',p1[3]\n",
    "    period = p1[1]\n",
    "    \n",
    "    #Finding Residuals\n",
    "    Residuals = data_y - fitfunc(p1,data_x)\n",
    "    \n",
    "    #Finding Likelihood\n",
    "    ndata = len(data_x)\n",
    "    nfree = 4.\n",
    "    RMS = np.std(Residuals)\n",
    "    logprob = np.log(np.sum(Residuals))\n",
    "    chi = np.sum(((Residuals)/data_err)**2)\n",
    "    chi_red = chi / (ndata - nfree)\n",
    "#     bic = -2.0 * self.logprob() + len(self.likelihood.get_vary_params()) + np.log(len(self.likelihood.y))\n",
    "    bic = np.log(ndata)+nfree +-2.*logprob\n",
    "    #chisquared = sum(Residuals**2/(fitfunc(p1,data_x)))\n",
    "    print \"RMS of Residuals: \", RMS\n",
    "    print \"RMS\", RMS\n",
    "    print 'Chi Square', chi\n",
    "    likelihood = [num_planet, ndata, nfree, RMS, logprob, chi , chi_red, bic]\n",
    "    \n",
    "    #Plotting Data with Fit\n",
    "    time = np.linspace(data_x.min(), data_x.max(), 1000*len(data_x))\n",
    "    plt.plot(data_x, data_y, \"go\", time, fitfunc(p1, time),\"b-\",alpha=0.5)\n",
    "    plt.title('HD217014')\n",
    "    plt.xlabel('Time [JD-2.44e6]')\n",
    "    plt.ylabel('Mean Velocity[m/s]')\n",
    "    plt.legend(('Data', 'Fit'))\n",
    "    plt.xlim(data_x[0]-5,data_x[-1]+5)\n",
    "    ax1 = plt.axes()\n",
    "    plt.show()\n",
    "    \n",
    "    #plotting Residuals\n",
    "    #plt.plot(data_x, Residuals, \"ro\", time, fitfunc(p2, time),\"b-\")\n",
    "    plt.plot(data_x, Residuals, \"ro\")\n",
    "    plt.xlim(data_x[0]-5,data_x[-1]+5)\n",
    "    plt.ylim(-max(data_y)-10, max(data_y)+10)\n",
    "    plt.title('Residuals')\n",
    "    plt.xlabel('Time [JD-2.44e6]')\n",
    "    plt.ylabel('Mean Velocity[m/s]')\n",
    "    plt.legend(('Residuals', 'Fit'))\n",
    "    ax2 = plt.axes()\n",
    "    \n",
    "    \n",
    "    return Residuals, period, likelihood"
   ]
  },
  {
   "cell_type": "markdown",
   "metadata": {},
   "source": [
    "Importing Data"
   ]
  },
  {
   "cell_type": "code",
   "execution_count": 10,
   "metadata": {
    "collapsed": false
   },
   "outputs": [],
   "source": [
    "#Data import\n",
    "#here data_rj includes both rk data and rj data\n",
    "data_rj= pd.read_csv('C:/users/rscsa/Research/radvel-master/research/HD75732/HD75732.csv')\n",
    "\n",
    "#data from different telescopes\n",
    "#data_rk = data[0:23]\n",
    "# data_rj = data[24:653]\n",
    "\n",
    "#Naming Variables from data\n",
    "t = np.array(data_rj.jd)\n",
    "vel = np.array(data_rj.mnvel)\n",
    "errvel = np.array(data_rj.errvel)\n",
    "tel = np.array(data_rj.tel)\n",
    "\n",
    "#time vector for best fit\n",
    "ti = np.linspace(t.min(),t.max(),num=len(t)* 10000)\n",
    "# print data"
   ]
  },
  {
   "cell_type": "markdown",
   "metadata": {},
   "source": [
    "# Finding Period in Data (1st Planet)"
   ]
  },
  {
   "cell_type": "code",
   "execution_count": 11,
   "metadata": {
    "collapsed": false,
    "scrolled": false
   },
   "outputs": [
    {
     "name": "stdout",
     "output_type": "stream",
     "text": [
      "Finding optimal frequency:\n",
      " - Estimated peak width = 0.00113\n",
      " - Using 5 steps per peak; omega_step = 0.000227\n",
      " - User-specified period range:  1 to 5.5e+03\n",
      " - Computing periods at 27725 steps\n",
      "Zooming-in on 5 candidate peaks:\n",
      " - Computing periods at 1000 steps\n",
      "period = 14.6518809412\n"
     ]
    },
    {
     "data": {
      "image/png": "[encoded data removed]",
      "text/plain": [
       "<matplotlib.figure.Figure at 0x51ddfd0>"
      ]
     },
     "metadata": {},
     "output_type": "display_data"
    }
   ],
   "source": [
    "#nyquist - min period for data\n",
    "nyquist = .5\n",
    "#finding first planet period\n",
    "period1 = periodogram(t,vel,1,max(t)-min(t),nyquist)"
   ]
  },
  {
   "cell_type": "markdown",
   "metadata": {},
   "source": [
    "Initializing Radvel"
   ]
  },
  {
   "cell_type": "code",
   "execution_count": 12,
   "metadata": {
    "collapsed": true
   },
   "outputs": [],
   "source": [
    "nplanets = 1\n",
    "instnames = ['k', 'j']    # list of instrument names. Can be whatever you like but should match 'tel' column in the input file.\n",
    "ntels = len(instnames)       # number of instruments with unique velocity zero-points\n",
    "\n",
    "def initialize_model():\n",
    "    time_base = 2420\n",
    "    params = radvel.RVParameters(nplanets,basis='per tc secosw sesinw logk')\n",
    "    \n",
    "    #1st Planet\n",
    "    params['per1'] = period1    # period of 1st planet\n",
    "    params['tc1'] = 2074.52   # time of inferior conjunction of 1st planet\n",
    "    params['secosw1'] = 0.01 \n",
    "    params['sesinw1'] =  0.01 \n",
    "    params['logk1'] =  np.log(50)   # velocity semi-amplitude for 1st planet  \n",
    "    \n",
    "\n",
    "    mod = radvel.RVModel(params, time_base=time_base)\n",
    "    mod.params['dvdt'] = 0.0         # slope\n",
    "    mod.params['curv'] = 0.0        # curvature  \n",
    "    return mod"
   ]
  },
  {
   "cell_type": "code",
   "execution_count": 13,
   "metadata": {
    "collapsed": false
   },
   "outputs": [],
   "source": [
    "mod = initialize_model()\n",
    "like = radvel.likelihood.RVLikelihood(mod, t, vel, errvel)\n",
    "like.params['gamma'] = 1.0\n",
    "like.params['jit'] = 2.6\n",
    "\n",
    "# like.params['gamma_k'] = 0.0\n",
    "# like.params['gamma_j'] = 1.0\n",
    "# like.params['jit_k'] = 2.6\n",
    "# like.params['jit_j'] = 2.6"
   ]
  },
  {
   "cell_type": "markdown",
   "metadata": {},
   "source": [
    "Defining Variables that are Going to Vary."
   ]
  },
  {
   "cell_type": "code",
   "execution_count": 14,
   "metadata": {
    "collapsed": false
   },
   "outputs": [],
   "source": [
    "like.vary['curv'] = True\n",
    "like.vary['dvdt'] = True\n",
    "#like.vary['per1'] = False\n",
    "#like.vary['logk1'] = False\n",
    "#like.vary['secosw1'] = False\n",
    "#like.vary['sesinw1'] = False\n",
    "#like.vary['tc1'] = False"
   ]
  },
  {
   "cell_type": "markdown",
   "metadata": {},
   "source": [
    "Plotting Radvels Initial Likelihood"
   ]
  },
  {
   "cell_type": "code",
   "execution_count": 15,
   "metadata": {
    "collapsed": false
   },
   "outputs": [
    {
     "data": {
      "text/plain": [
       "<matplotlib.figure.Figure at 0xd1a6940>"
      ]
     },
     "metadata": {},
     "output_type": "display_data"
    },
    {
     "name": "stderr",
     "output_type": "stream",
     "text": [
      "C:\\Users\\rscsa\\Anaconda2\\lib\\site-packages\\matplotlib\\figure.py:1742: UserWarning: This figure includes Axes that are not compatible with tight_layout, so its results might be incorrect.\n",
      "  warnings.warn(\"This figure includes Axes that are not \"\n"
     ]
    },
    {
     "data": {
      "image/png": "[encoded data removed]",
      "text/plain": [
       "<matplotlib.figure.Figure at 0xc6cfcf8>"
      ]
     },
     "metadata": {},
     "output_type": "display_data"
    }
   ],
   "source": [
    "pl.figure()\n",
    "plot_results(like)\n",
    "# radvel.plotting.rv_multipanel_plot(post, epoch=2440000)"
   ]
  },
  {
   "cell_type": "markdown",
   "metadata": {},
   "source": [
    "Maximize the Likelihood and Print the Updated Posterior Object"
   ]
  },
  {
   "cell_type": "code",
   "execution_count": 16,
   "metadata": {
    "collapsed": false,
    "scrolled": true
   },
   "outputs": [
    {
     "name": "stdout",
     "output_type": "stream",
     "text": [
      "parameter                     value      vary\n",
      "per1                        14.6519       True\n",
      "tc1                         2074.52       True\n",
      "secosw1                        0.01       True\n",
      "sesinw1                        0.01       True\n",
      "logk1                       3.91202       True\n",
      "dvdt                              0       True\n",
      "curv                              0       True\n",
      "jit                             2.6       True\n",
      "gamma                             1       True\n",
      "\n",
      "Priors\n",
      "------\n",
      "Gaussian prior on per1, mu=14.6518809412, sigma=3.6629702353\n",
      "e1 constrained to be < 0.99\n",
      "K constrained to be > 0\n",
      "Gaussian prior on jit, mu=0.0, sigma=2.7080502011\n",
      "\n"
     ]
    }
   ],
   "source": [
    "post = radvel.posterior.Posterior(like)\n",
    "\n",
    "post.priors += [radvel.prior.Gaussian('per1',like.params['per1'],.25*like.params['per1'])]\n",
    "\n",
    "post.priors += [radvel.prior.EccentricityPrior(nplanets)] #change for # of planets\n",
    "post.priors += [radvel.prior.PositiveKPrior( nplanets )]\n",
    "\n",
    "post.priors += [radvel.prior.Gaussian( 'jit', np.log(1), np.log(15))]\n",
    "#post.priors += [radvel.prior.Gaussian( 'jit_k', np.log(1), np.log(15))]\n",
    "#post.priors += [radvel.prior.Gaussian( 'jit_j', np.log(1), np.log(15))]\n",
    "\n",
    "print post"
   ]
  },
  {
   "cell_type": "code",
   "execution_count": 17,
   "metadata": {
    "collapsed": false
   },
   "outputs": [
    {
     "name": "stdout",
     "output_type": "stream",
     "text": [
      "parameter                     value      vary\n",
      "per1                        14.6518       True\n",
      "tc1                         2074.51       True\n",
      "secosw1                    0.137389       True\n",
      "sesinw1                   -0.121821       True\n",
      "logk1                       4.18196       True\n",
      "dvdt                   -0.000843897       True\n",
      "curv                    2.62468e-09       True\n",
      "jit                         23.8404       True\n",
      "gamma                     -0.710821       True\n",
      "\n",
      "Priors\n",
      "------\n",
      "Gaussian prior on per1, mu=14.6518809412, sigma=3.6629702353\n",
      "e1 constrained to be < 0.99\n",
      "K constrained to be > 0\n",
      "Gaussian prior on jit, mu=0.0, sigma=2.7080502011\n",
      "\n"
     ]
    },
    {
     "name": "stderr",
     "output_type": "stream",
     "text": [
      "C:\\Users\\rscsa\\Anaconda2\\lib\\site-packages\\matplotlib\\axes\\_axes.py:545: UserWarning: No labelled objects found. Use label='...' kwarg on individual plots.\n",
      "  warnings.warn(\"No labelled objects found. \"\n"
     ]
    },
    {
     "data": {
      "text/plain": [
       "(<matplotlib.figure.Figure at 0xd4443c8>,\n",
       " [<matplotlib.axes._subplots.AxesSubplot at 0xdea6198>,\n",
       "  <matplotlib.axes._axes.Axes at 0x1db110b8>,\n",
       "  <matplotlib.axes._subplots.AxesSubplot at 0x1dc0c630>])"
      ]
     },
     "execution_count": 17,
     "metadata": {},
     "output_type": "execute_result"
    },
    {
     "data": {
      "image/png": "[encoded data removed]",
      "text/plain": [
       "<matplotlib.figure.Figure at 0xde1aba8>"
      ]
     },
     "metadata": {},
     "output_type": "display_data"
    },
    {
     "data": {
      "image/png": "[encoded data removed]",
      "text/plain": [
       "<matplotlib.figure.Figure at 0xd4443c8>"
      ]
     },
     "metadata": {},
     "output_type": "display_data"
    }
   ],
   "source": [
    "res  = optimize.minimize(\n",
    "    post.neglogprob_array,     # objective function is negative log likelihood\n",
    "    post.get_vary_params(),    # initial variable parameters\n",
    "    method='Powell',           # Nelder-Mead also works\n",
    "    )\n",
    "#Get residuals\n",
    "#orbel = []\n",
    "#radvel.kepler.rv_drive(t)\n",
    "plot_results(like)             # plot best fit model\n",
    "print post\n",
    "radvel.plotting.rv_multipanel_plot(post,epoch=2440000)"
   ]
  },
  {
   "cell_type": "code",
   "execution_count": 18,
   "metadata": {
    "collapsed": false,
    "scrolled": false
   },
   "outputs": [],
   "source": [
    "# res  = optimize.minimize(\n",
    "#     post.neglogprob_array,     # objective function is negative log likelihood\n",
    "#     post.get_vary_params(),    # initial variable parameters\n",
    "#     method='Powell',           # Nelder-Mead also works\n",
    "#     )\n",
    "# #Get residuals\n",
    "# #orbel = []\n",
    "# #radvel.kepler.rv_drive(t)\n",
    "# plot_results(like)             # plot best fit model\n",
    "# print post\n",
    "# radvel.plotting.rv_multipanel_plot(post, telfmts=radvel.plotting.telfmts_default,epoch=2440000)"
   ]
  },
  {
   "cell_type": "markdown",
   "metadata": {},
   "source": [
    "Finding the Model Likelihood, using RMS, Chi Squared, Log Probability, & BIC"
   ]
  },
  {
   "cell_type": "code",
   "execution_count": 19,
   "metadata": {
    "collapsed": false
   },
   "outputs": [
    {
     "name": "stdout",
     "output_type": "stream",
     "text": [
      "Radvel RMS of Residuals:  25.2979699951\n",
      " \n",
      " \n",
      "N_free = 9\n",
      "RMS = 25.30\n",
      "logprob (jitter fixed) = -3081.65\n",
      "chi (jitter fixed) = 734.50\n",
      "chi_red (jitter fixed) = 1.14\n",
      "BIC (jitter fixed) = 6178.78\n"
     ]
    }
   ],
   "source": [
    "Residuals_Radvel_1 = post.likelihood.residuals()\n",
    "RMS_Radvel_1 = RMS(Residuals_Radvel_1)\n",
    "print 'Radvel RMS of Residuals: ', RMS_Radvel_1\n",
    "print ' '\n",
    "print ' '\n",
    "\n",
    "one_planet= model_likelihood(post, True)"
   ]
  },
  {
   "cell_type": "markdown",
   "metadata": {},
   "source": [
    "# ***********Attempting to use Multiple Data***********"
   ]
  },
  {
   "cell_type": "code",
   "execution_count": 20,
   "metadata": {
    "collapsed": false
   },
   "outputs": [
    {
     "ename": "TypeError",
     "evalue": "_mtelplot() takes at least 5 arguments (5 given)",
     "output_type": "error",
     "traceback": [
      "\u001b[0;31m---------------------------------------------------------------------------\u001b[0m",
      "\u001b[0;31mTypeError\u001b[0m                                 Traceback (most recent call last)",
      "\u001b[0;32m<ipython-input-20-edd3779ec14b>\u001b[0m in \u001b[0;36m<module>\u001b[0;34m()\u001b[0m\n\u001b[1;32m      4\u001b[0m \u001b[1;31m# not sure how to use \"telfmts_default[ ]\"\u001b[0m\u001b[1;33m\u001b[0m\u001b[1;33m\u001b[0m\u001b[0m\n\u001b[1;32m      5\u001b[0m \u001b[0max\u001b[0m \u001b[1;33m=\u001b[0m \u001b[1;36m0\u001b[0m\u001b[1;33m\u001b[0m\u001b[0m\n\u001b[0;32m----> 6\u001b[0;31m \u001b[0mradvel\u001b[0m\u001b[1;33m.\u001b[0m\u001b[0mplotting\u001b[0m\u001b[1;33m.\u001b[0m\u001b[0m_mtelplot\u001b[0m\u001b[1;33m(\u001b[0m\u001b[0mt\u001b[0m\u001b[1;33m,\u001b[0m\u001b[0mvel\u001b[0m\u001b[1;33m,\u001b[0m\u001b[0max\u001b[0m\u001b[1;33m,\u001b[0m\u001b[0merrvel\u001b[0m\u001b[1;33m,\u001b[0m \u001b[0mtelfmts\u001b[0m\u001b[1;33m=\u001b[0m\u001b[1;33m{\u001b[0m\u001b[1;34m'hires_rj'\u001b[0m\u001b[1;33m,\u001b[0m\u001b[1;34m'hires_rk'\u001b[0m\u001b[1;33m}\u001b[0m\u001b[1;33m)\u001b[0m\u001b[1;33m\u001b[0m\u001b[0m\n\u001b[0m",
      "\u001b[0;31mTypeError\u001b[0m: _mtelplot() takes at least 5 arguments (5 given)"
     ]
    }
   ],
   "source": [
    "# http://radvel.readthedocs.io/en/master/_modules/radvel/plotting.html?highlight=tel\n",
    "# Using Radvel.fitting\n",
    "# not sure what \"ax\" is on arguments\n",
    "# not sure how to use \"telfmts_default[ ]\" \n",
    "ax = 0\n",
    "radvel.plotting._mtelplot(t,vel,ax,errvel, telfmts={'hires_rj','hires_rk'})"
   ]
  },
  {
   "cell_type": "markdown",
   "metadata": {},
   "source": [
    "# Initial Best Fit My Own Way (1st Planet)"
   ]
  },
  {
   "cell_type": "markdown",
   "metadata": {},
   "source": [
    "Finding Model for Data"
   ]
  },
  {
   "cell_type": "code",
   "execution_count": null,
   "metadata": {
    "collapsed": false
   },
   "outputs": [],
   "source": [
    "guess_amp = 50.\n",
    "guess_pshft =0.\n",
    "guess_vshft = 0.\n",
    "residuals1, period1, likelihood1 = residuals(nplanets,t,vel,errvel,guess_amp,period1,guess_pshft,guess_vshft)"
   ]
  },
  {
   "cell_type": "markdown",
   "metadata": {},
   "source": [
    "# Finding Period for 2nd Planet"
   ]
  },
  {
   "cell_type": "markdown",
   "metadata": {},
   "source": [
    "Looking at Residuals for another Period"
   ]
  },
  {
   "cell_type": "code",
   "execution_count": null,
   "metadata": {
    "collapsed": false,
    "scrolled": false
   },
   "outputs": [],
   "source": [
    "period_radvel_2 = periodogram(t,Residuals_Radvel_1,1,max(t)-min(t),50)"
   ]
  },
  {
   "cell_type": "code",
   "execution_count": null,
   "metadata": {
    "collapsed": true
   },
   "outputs": [],
   "source": [
    "nplanets = 2\n",
    "# instnames = ['k', 'j']    # list of instrument names. Can be whatever you like but should match 'tel' column in the input file.\n",
    "# ntels = len(instnames)       # number of instruments with unique velocity zero-points\n",
    "\n",
    "def initialize_model():\n",
    "    time_base = 2420\n",
    "    params = radvel.RVParameters(nplanets,basis='per tc secosw sesinw logk')\n",
    "    \n",
    "    #1st Planet\n",
    "    params['per1'] = post.params['per1']    # period of 1st planet\n",
    "    params['tc1'] = post.params['tc1']   # time of inferior conjunction of 1st planet\n",
    "    params['secosw1'] = post.params['secosw1']\n",
    "    params['sesinw1'] =  post.params['sesinw1']\n",
    "    params['logk1'] =  post.params['logk1']   # velocity semi-amplitude for 1st planet\n",
    "    \n",
    "    #2nd planet    \n",
    "    params['per2'] = period_radvel_2 \n",
    "    params['tc2'] =  4268.95 + 1000   \n",
    "    params['secosw2'] = 0.01  \n",
    "    params['sesinw2'] = 0.01 \n",
    "    params['logk2'] = np.log(RMS_Radvel_1)   \n",
    "    \n",
    "\n",
    "    mod = radvel.RVModel(params, time_base=time_base)\n",
    "    mod.params['dvdt'] = 0.0         # slope\n",
    "    mod.params['curv'] = 0.0        # curvature  \n",
    "    return mod"
   ]
  },
  {
   "cell_type": "code",
   "execution_count": null,
   "metadata": {
    "collapsed": false
   },
   "outputs": [],
   "source": [
    "mod = initialize_model()\n",
    "like = radvel.likelihood.RVLikelihood(mod, t, vel, errvel)\n",
    "like.params['gamma'] = 1.0\n",
    "like.params['jit'] = 2.6\n",
    "\n",
    "like.vary['curv'] = True\n",
    "like.vary['dvdt'] = True\n",
    "\n",
    "pl.figure()\n",
    "plot_results(like)"
   ]
  },
  {
   "cell_type": "code",
   "execution_count": null,
   "metadata": {
    "collapsed": false
   },
   "outputs": [],
   "source": [
    "post = radvel.posterior.Posterior(like)\n",
    "\n",
    "post.priors += [radvel.prior.Gaussian('per1',like.params['per1'],.25*like.params['per1'])]\n",
    "post.priors += [radvel.prior.Gaussian('per2',like.params['per2'],.25*like.params['per2'])]\n",
    "post.priors += [radvel.prior.EccentricityPrior(nplanets)] #change for # of planets\n",
    "post.priors += [radvel.prior.PositiveKPrior( nplanets )]\n",
    "\n",
    "post.priors += [radvel.prior.Gaussian( 'jit', np.log(1), np.log(15))]\n",
    "\n",
    "print post"
   ]
  },
  {
   "cell_type": "code",
   "execution_count": null,
   "metadata": {
    "collapsed": false
   },
   "outputs": [],
   "source": [
    "res  = optimize.minimize(\n",
    "    post.neglogprob_array,     # objective function is negative log likelihood\n",
    "    post.get_vary_params(),    # initial variable parameters\n",
    "    method='Powell',           # Nelder-Mead also works\n",
    "    )\n",
    "\n",
    "plot_results(like)             # plot best fit model\n",
    "print post\n",
    "radvel.plotting.rv_multipanel_plot(post, epoch=2440000)"
   ]
  },
  {
   "cell_type": "code",
   "execution_count": null,
   "metadata": {
    "collapsed": false
   },
   "outputs": [],
   "source": [
    "# res  = optimize.minimize(\n",
    "#     post.neglogprob_array,     # objective function is negative log likelihood\n",
    "#     post.get_vary_params(),    # initial variable parameters\n",
    "#     method='Powell',           # Nelder-Mead also works\n",
    "#     )\n",
    "# #Get residuals\n",
    "# #orbel = []\n",
    "# #radvel.kepler.rv_drive(t)\n",
    "# plot_results(like)             # plot best fit model\n",
    "# print post\n",
    "# radvel.plotting.rv_multipanel_plot(post, telfmts=radvel.plotting.telfmts_default,epoch=2440000)"
   ]
  },
  {
   "cell_type": "code",
   "execution_count": null,
   "metadata": {
    "collapsed": false
   },
   "outputs": [],
   "source": [
    "Residuals_Radvel_2 = post.likelihood.residuals()\n",
    "RMS_Radvel_2 = RMS(Residuals_Radvel_2)\n",
    "print 'Radvel RMS of Residuals: ', RMS_Radvel_2\n",
    "print ' '\n",
    "print ' '\n",
    "\n",
    "#Model Likelihood\n",
    "two_planet= model_likelihood(post, True)"
   ]
  },
  {
   "cell_type": "markdown",
   "metadata": {},
   "source": [
    "# Initial Best Fit My Own Way (2nd Planet)"
   ]
  },
  {
   "cell_type": "markdown",
   "metadata": {},
   "source": [
    "Period for my own method"
   ]
  },
  {
   "cell_type": "code",
   "execution_count": null,
   "metadata": {
    "collapsed": false
   },
   "outputs": [],
   "source": [
    "period2 = periodogram(t,residuals1,1,max(t)-min(t),nyquist)"
   ]
  },
  {
   "cell_type": "code",
   "execution_count": null,
   "metadata": {
    "collapsed": false
   },
   "outputs": [],
   "source": [
    "guess_amp = 30.\n",
    "guess_pshft = 0.\n",
    "guess_vshft = 0.\n",
    "residuals2, period2, likelihood2 = residuals(nplanets, t, residuals1, errvel, guess_amp, period2, guess_pshft, guess_vshft)"
   ]
  },
  {
   "cell_type": "markdown",
   "metadata": {},
   "source": [
    "# Finding Period for Planet 3"
   ]
  },
  {
   "cell_type": "code",
   "execution_count": null,
   "metadata": {
    "collapsed": false,
    "scrolled": false
   },
   "outputs": [],
   "source": [
    "period_radvel_3 = periodogram(t,Residuals_Radvel_2,1,max(t)-min(t),nyquist)"
   ]
  },
  {
   "cell_type": "code",
   "execution_count": null,
   "metadata": {
    "collapsed": true
   },
   "outputs": [],
   "source": [
    "nplanets = 3\n",
    "# instnames = ['k', 'j']    # list of instrument names. Can be whatever you like but should match 'tel' column in the input file.\n",
    "# ntels = len(instnames)       # number of instruments with unique velocity zero-points\n",
    "\n",
    "def initialize_model():\n",
    "    time_base = 2420\n",
    "    params = radvel.RVParameters(nplanets,basis='per tc secosw sesinw logk')\n",
    "    \n",
    "    #1st Planet\n",
    "    params['per1'] = post.params['per1']    # period of 1st planet\n",
    "    params['tc1'] = post.params['tc1']   # time of inferior conjunction of 1st planet\n",
    "    params['secosw1'] = post.params['secosw1']\n",
    "    params['sesinw1'] =  post.params['sesinw1']\n",
    "    params['logk1'] =  post.params['logk1']   # velocity semi-amplitude for 1st planet\n",
    "    \n",
    "    #2nd planet    \n",
    "    params['per2'] = post.params['per2']\n",
    "    params['tc2'] =  post.params['tc2']  \n",
    "    params['secosw2'] = post.params['secosw2']\n",
    "    params['sesinw2'] = post.params['sesinw2']\n",
    "    params['logk2'] = post.params['logk2'] \n",
    "\n",
    "    #3rd Planet\n",
    "    params['per3'] = period_radvel_3\n",
    "    params['tc3'] = 2087.07 \n",
    "    params['secosw3'] = 0.01\n",
    "    params['sesinw3'] =  0.01 \n",
    "    params['logk3'] = np.log(RMS_Radvel_2)\n",
    "    \n",
    "    \n",
    "\n",
    "    mod = radvel.RVModel(params, time_base=time_base)\n",
    "    mod.params['dvdt'] = 0.0         # slope\n",
    "    mod.params['curv'] = 0.0        # curvature  \n",
    "    return mod"
   ]
  },
  {
   "cell_type": "code",
   "execution_count": null,
   "metadata": {
    "collapsed": false
   },
   "outputs": [],
   "source": [
    "mod = initialize_model()\n",
    "like = radvel.likelihood.RVLikelihood(mod, t, vel, errvel)\n",
    "like.params['gamma'] = 1.0\n",
    "like.params['jit'] = 2.6\n",
    "\n",
    "like.vary['curv'] = True\n",
    "like.vary['dvdt'] = True\n",
    "\n",
    "pl.figure()\n",
    "plot_results(like)"
   ]
  },
  {
   "cell_type": "code",
   "execution_count": null,
   "metadata": {
    "collapsed": false
   },
   "outputs": [],
   "source": [
    "post = radvel.posterior.Posterior(like)\n",
    "\n",
    "post.priors += [radvel.prior.Gaussian('per1',like.params['per1'],.25*like.params['per1'])]\n",
    "post.priors += [radvel.prior.Gaussian('per2',like.params['per2'],.25*like.params['per2'])]\n",
    "post.priors += [radvel.prior.Gaussian('per3',like.params['per3'],.25*like.params['per3'])]\n",
    "\n",
    "post.priors += [radvel.prior.EccentricityPrior(nplanets)] #change for # of planets\n",
    "post.priors += [radvel.prior.PositiveKPrior( nplanets )]\n",
    "\n",
    "post.priors += [radvel.prior.Gaussian( 'jit', np.log(1), np.log(15))]\n",
    "\n",
    "print post"
   ]
  },
  {
   "cell_type": "code",
   "execution_count": null,
   "metadata": {
    "collapsed": false,
    "scrolled": false
   },
   "outputs": [],
   "source": [
    "res  = optimize.minimize(\n",
    "    post.neglogprob_array,     # objective function is negative log likelihood\n",
    "    post.get_vary_params(),    # initial variable parameters\n",
    "    method='Powell',           # Nelder-Mead also works\n",
    "    )\n",
    "\n",
    "plot_results(like)             # plot best fit model\n",
    "print post\n",
    "radvel.plotting.rv_multipanel_plot(post, epoch=2440000)"
   ]
  },
  {
   "cell_type": "code",
   "execution_count": null,
   "metadata": {
    "collapsed": false
   },
   "outputs": [],
   "source": [
    "# res  = optimize.minimize(\n",
    "#     post.neglogprob_array,     # objective function is negative log likelihood\n",
    "#     post.get_vary_params(),    # initial variable parameters\n",
    "#     method='Powell',           # Nelder-Mead also works\n",
    "#     )\n",
    "# #Get residuals\n",
    "# #orbel = []\n",
    "# #radvel.kepler.rv_drive(t)\n",
    "# plot_results(like)             # plot best fit model\n",
    "# print post\n",
    "# radvel.plotting.rv_multipanel_plot(post, telfmts=radvel.plotting.telfmts_default,epoch=2440000)"
   ]
  },
  {
   "cell_type": "code",
   "execution_count": null,
   "metadata": {
    "collapsed": false
   },
   "outputs": [],
   "source": [
    "Residuals_Radvel_3 = post.likelihood.residuals()\n",
    "RMS_Radvel_3 = RMS(Residuals_Radvel_3)\n",
    "print 'Radvel RMS of Residuals: ', RMS_Radvel_3\n",
    "print ' '\n",
    "print ' '\n",
    "\n",
    "#model likelihood\n",
    "three_planet= model_likelihood(post, True)"
   ]
  },
  {
   "cell_type": "markdown",
   "metadata": {},
   "source": [
    "# Initial Best Fit My Own Way (3rd Planet)"
   ]
  },
  {
   "cell_type": "code",
   "execution_count": null,
   "metadata": {
    "collapsed": false
   },
   "outputs": [],
   "source": [
    "period3 = periodogram(t,residuals2,1,max(t)-min(t),nyquist)"
   ]
  },
  {
   "cell_type": "code",
   "execution_count": null,
   "metadata": {
    "collapsed": false
   },
   "outputs": [],
   "source": [
    "guess_amp = 20.\n",
    "guess_pshft =0.\n",
    "guess_vshft = 0.\n",
    "residuals3, period3, likelihood3 = residuals(nplanets, t, residuals2, errvel, guess_amp, period3, guess_pshft, guess_vshft)"
   ]
  },
  {
   "cell_type": "markdown",
   "metadata": {},
   "source": [
    "# Finding 4th Planet"
   ]
  },
  {
   "cell_type": "code",
   "execution_count": null,
   "metadata": {
    "collapsed": false
   },
   "outputs": [],
   "source": [
    "period_radvel_4 = periodogram(t,Residuals_Radvel_3,1,max(t)-min(t),nyquist)"
   ]
  },
  {
   "cell_type": "code",
   "execution_count": null,
   "metadata": {
    "collapsed": true
   },
   "outputs": [],
   "source": [
    "nplanets = 4\n",
    "# instnames = ['k', 'j']    # list of instrument names. Can be whatever you like but should match 'tel' column in the input file.\n",
    "# ntels = len(instnames)       # number of instruments with unique velocity zero-points\n",
    "\n",
    "def initialize_model():\n",
    "    time_base = 2420\n",
    "    params = radvel.RVParameters(nplanets,basis='per tc secosw sesinw logk')\n",
    "    \n",
    "    #1st Planet\n",
    "    params['per1'] = post.params['per1']    # period of 1st planet\n",
    "    params['tc1'] = post.params['tc1']   # time of inferior conjunction of 1st planet\n",
    "    params['secosw1'] = post.params['secosw1']\n",
    "    params['sesinw1'] =  post.params['sesinw1']\n",
    "    params['logk1'] =  post.params['logk1']   # velocity semi-amplitude for 1st planet\n",
    "    \n",
    "    #2nd planet    \n",
    "    params['per2'] = post.params['per2']\n",
    "    params['tc2'] =  post.params['tc2']  \n",
    "    params['secosw2'] = post.params['secosw2']\n",
    "    params['sesinw2'] = post.params['sesinw2']\n",
    "    params['logk2'] = post.params['logk2']  \n",
    "\n",
    "    #3rd Planet\n",
    "    params['per3'] = post.params['per3']\n",
    "    params['tc3'] = post.params['tc3']\n",
    "    params['secosw3'] = post.params['secosw3']\n",
    "    params['sesinw3'] =  post.params['sesinw3']\n",
    "    params['logk3'] = post.params['logk3']\n",
    "    \n",
    "    #4th Planet\n",
    "    params['per4'] = period_radvel_4\n",
    "    params['tc4'] = 2087.07 -1000   \n",
    "    params['secosw4'] = 0.01\n",
    "    params['sesinw4'] = 0.01\n",
    "    params['logk4'] = np.log(RMS_Radvel_3)   \n",
    " \n",
    "    \n",
    "\n",
    "    mod = radvel.RVModel(params, time_base=time_base)\n",
    "    mod.params['dvdt'] = 0.0         # slope\n",
    "    mod.params['curv'] = 0.0        # curvature  \n",
    "    return mod"
   ]
  },
  {
   "cell_type": "code",
   "execution_count": null,
   "metadata": {
    "collapsed": false
   },
   "outputs": [],
   "source": [
    "mod = initialize_model()\n",
    "like = radvel.likelihood.RVLikelihood(mod, t, vel, errvel)\n",
    "like.params['gamma'] = 1.0\n",
    "like.params['jit'] = 2.6\n",
    "\n",
    "like.vary['curv'] = True\n",
    "like.vary['dvdt'] = True\n",
    "\n",
    "pl.figure()\n",
    "plot_results(like)"
   ]
  },
  {
   "cell_type": "code",
   "execution_count": null,
   "metadata": {
    "collapsed": false
   },
   "outputs": [],
   "source": [
    "post = radvel.posterior.Posterior(like)\n",
    "\n",
    "post.priors += [radvel.prior.Gaussian('per1',like.params['per1'],.25*like.params['per1'])]\n",
    "post.priors += [radvel.prior.Gaussian('per2',like.params['per2'],.25*like.params['per2'])]\n",
    "post.priors += [radvel.prior.Gaussian('per3',like.params['per3'],.25*like.params['per3'])]\n",
    "post.priors += [radvel.prior.Gaussian('per4',like.params['per4'],.25*like.params['per4'])]\n",
    "\n",
    "post.priors += [radvel.prior.EccentricityPrior(nplanets)] #change for # of planets\n",
    "post.priors += [radvel.prior.PositiveKPrior( nplanets )]\n",
    "\n",
    "post.priors += [radvel.prior.Gaussian( 'jit', np.log(1), np.log(15))]\n",
    "\n",
    "print post"
   ]
  },
  {
   "cell_type": "code",
   "execution_count": null,
   "metadata": {
    "collapsed": false,
    "scrolled": false
   },
   "outputs": [],
   "source": [
    "res  = optimize.minimize(\n",
    "    post.neglogprob_array,     # objective function is negative log likelihood\n",
    "    post.get_vary_params(),    # initial variable parameters\n",
    "    method='Powell',           # Nelder-Mead also works\n",
    "    )\n",
    "\n",
    "plot_results(like)             # plot best fit model\n",
    "print post\n",
    "radvel.plotting.rv_multipanel_plot(post, epoch=2440000)"
   ]
  },
  {
   "cell_type": "code",
   "execution_count": null,
   "metadata": {
    "collapsed": false
   },
   "outputs": [],
   "source": [
    "# res  = optimize.minimize(\n",
    "#     post.neglogprob_array,     # objective function is negative log likelihood\n",
    "#     post.get_vary_params(),    # initial variable parameters\n",
    "#     method='Powell',           # Nelder-Mead also works\n",
    "#     )\n",
    "# #Get residuals\n",
    "# #orbel = []\n",
    "# #radvel.kepler.rv_drive(t)\n",
    "# plot_results(like)             # plot best fit model\n",
    "# print post\n",
    "# radvel.plotting.rv_multipanel_plot(post, telfmts=radvel.plotting.telfmts_default,epoch=2440000)"
   ]
  },
  {
   "cell_type": "code",
   "execution_count": null,
   "metadata": {
    "collapsed": false
   },
   "outputs": [],
   "source": [
    "Residuals_Radvel_4 = post.likelihood.residuals()\n",
    "RMS_Radvel_4 = RMS(Residuals_Radvel_4)\n",
    "print 'Radvel RMS of Residuals: ', RMS_Radvel_4\n",
    "print ' '\n",
    "print ' '\n",
    "\n",
    "#model likelihood\n",
    "four_planet= model_likelihood(post, True)"
   ]
  },
  {
   "cell_type": "markdown",
   "metadata": {},
   "source": [
    "# Initial Best Fit My Own Way (4th Planet)"
   ]
  },
  {
   "cell_type": "code",
   "execution_count": null,
   "metadata": {
    "collapsed": false
   },
   "outputs": [],
   "source": [
    "period4 = periodogram(t,residuals3,1,max(t)-min(t),nyquist)"
   ]
  },
  {
   "cell_type": "code",
   "execution_count": null,
   "metadata": {
    "collapsed": false,
    "scrolled": false
   },
   "outputs": [],
   "source": [
    "guess_amp = 15.\n",
    "guess_pshft =0.\n",
    "guess_vshft = 0.\n",
    "residuals4, period4, likelihood4 = residuals(nplanets, t, residuals3, errvel, guess_amp, period4, guess_pshft, guess_vshft)"
   ]
  },
  {
   "cell_type": "markdown",
   "metadata": {},
   "source": [
    "# 5th Planet Period"
   ]
  },
  {
   "cell_type": "code",
   "execution_count": null,
   "metadata": {
    "collapsed": false
   },
   "outputs": [],
   "source": [
    "period_radvel_5 = periodogram(t,Residuals_Radvel_4,1.2,max(t)-min(t),50)\n",
    "period_radvel_5 = 259.7"
   ]
  },
  {
   "cell_type": "code",
   "execution_count": null,
   "metadata": {
    "collapsed": true
   },
   "outputs": [],
   "source": [
    "nplanets = 5\n",
    "# instnames = ['k', 'j']    # list of instrument names. Can be whatever you like but should match 'tel' column in the input file.\n",
    "# ntels = len(instnames)       # number of instruments with unique velocity zero-points\n",
    "\n",
    "def initialize_model():\n",
    "    time_base = 2420\n",
    "    params = radvel.RVParameters(nplanets,basis='per tc secosw sesinw logk')\n",
    "    \n",
    "    #1st Planet\n",
    "    params['per1'] = post.params['per1']    # period of 1st planet\n",
    "    params['tc1'] = post.params['tc1']   # time of inferior conjunction of 1st planet\n",
    "    params['secosw1'] = post.params['secosw1']\n",
    "    params['sesinw1'] =  post.params['sesinw1']\n",
    "    params['logk1'] =  post.params['logk1']   # velocity semi-amplitude for 1st planet\n",
    "    \n",
    "    #2nd planet    \n",
    "    params['per2'] = post.params['per2']\n",
    "    params['tc2'] =  post.params['tc2']  \n",
    "    params['secosw2'] = post.params['secosw2']\n",
    "    params['sesinw2'] = post.params['sesinw2']\n",
    "    params['logk2'] = post.params['logk2']  \n",
    "\n",
    "    #3rd Planet\n",
    "    params['per3'] = post.params['per3']\n",
    "    params['tc3'] = post.params['tc3']\n",
    "    params['secosw3'] = post.params['secosw3']\n",
    "    params['sesinw3'] =  post.params['sesinw3']\n",
    "    params['logk3'] = post.params['logk3']\n",
    "    \n",
    "    #4th Planet\n",
    "    params['per4'] = post.params['per4']\n",
    "    params['tc4'] = post.params['tc4']\n",
    "    params['secosw4'] = post.params['secosw4']\n",
    "    params['sesinw4'] = post.params['sesinw4']\n",
    "    params['logk4'] = post.params['logk4']\n",
    "    \n",
    "    #5th Planet\n",
    "    params['per5'] = period_radvel_5\n",
    "    params['tc5'] = 2087.07  \n",
    "    params['secosw5'] = 0.01\n",
    "    params['sesinw5'] = 0.01\n",
    "    params['logk5'] = np.log(RMS_Radvel_4)  \n",
    "    \n",
    "\n",
    "    mod = radvel.RVModel(params, time_base=time_base)\n",
    "    mod.params['dvdt'] = 0.0         # slope\n",
    "    mod.params['curv'] = 0.0        # curvature  \n",
    "    return mod"
   ]
  },
  {
   "cell_type": "code",
   "execution_count": null,
   "metadata": {
    "collapsed": false
   },
   "outputs": [],
   "source": [
    "mod = initialize_model()\n",
    "like = radvel.likelihood.RVLikelihood(mod, t, vel, errvel)\n",
    "like.params['gamma'] = 1.0\n",
    "like.params['jit'] = 2.6\n",
    "\n",
    "like.vary['curv'] = True\n",
    "like.vary['dvdt'] = True\n",
    "\n",
    "pl.figure()\n",
    "plot_results(like)"
   ]
  },
  {
   "cell_type": "code",
   "execution_count": null,
   "metadata": {
    "collapsed": false
   },
   "outputs": [],
   "source": [
    "post = radvel.posterior.Posterior(like)\n",
    "\n",
    "post.priors += [radvel.prior.Gaussian('per1',like.params['per1'],.25*like.params['per1'])]\n",
    "post.priors += [radvel.prior.Gaussian('per2',like.params['per2'],.25*like.params['per2'])]\n",
    "post.priors += [radvel.prior.Gaussian('per3',like.params['per3'],.25*like.params['per3'])]\n",
    "post.priors += [radvel.prior.Gaussian('per4',like.params['per4'],.25*like.params['per4'])]\n",
    "post.priors += [radvel.prior.Gaussian('per5',like.params['per5'],.25*like.params['per5'])]\n",
    "\n",
    "post.priors += [radvel.prior.EccentricityPrior(nplanets)] #change for # of planets\n",
    "post.priors += [radvel.prior.PositiveKPrior( nplanets )]\n",
    "\n",
    "post.priors += [radvel.prior.Gaussian( 'jit', np.log(1), np.log(15))]\n",
    "\n",
    "print post"
   ]
  },
  {
   "cell_type": "code",
   "execution_count": null,
   "metadata": {
    "collapsed": false,
    "scrolled": false
   },
   "outputs": [],
   "source": [
    "res  = optimize.minimize(\n",
    "    post.neglogprob_array,     # objective function is negative log likelihood\n",
    "    post.get_vary_params(),    # initial variable parameters\n",
    "    method='Powell',           # Nelder-Mead also works\n",
    "    )\n",
    "\n",
    "plot_results(like)             # plot best fit model\n",
    "print post\n",
    "radvel.plotting.rv_multipanel_plot(post, epoch=2440000)"
   ]
  },
  {
   "cell_type": "code",
   "execution_count": null,
   "metadata": {
    "collapsed": false,
    "scrolled": false
   },
   "outputs": [],
   "source": [
    "# res  = optimize.minimize(\n",
    "#     post.neglogprob_array,     # objective function is negative log likelihood\n",
    "#     post.get_vary_params(),    # initial variable parameters\n",
    "#     method='Powell',           # Nelder-Mead also works\n",
    "#     )\n",
    "# #Get residuals\n",
    "# #orbel = []\n",
    "# #radvel.kepler.rv_drive(t)\n",
    "# plot_results(like)             # plot best fit model\n",
    "# print post\n",
    "# radvel.plotting.rv_multipanel_plot(post, telfmts=radvel.plotting.telfmts_default,epoch=2440000)"
   ]
  },
  {
   "cell_type": "code",
   "execution_count": null,
   "metadata": {
    "collapsed": false
   },
   "outputs": [],
   "source": [
    "Residuals_Radvel_5 = post.likelihood.residuals()\n",
    "RMS_Radvel_5 = RMS(Residuals_Radvel_5)\n",
    "print 'Radvel RMS of Residuals: ', RMS_Radvel_5\n",
    "print ' '\n",
    "print ' '\n",
    "\n",
    "#model likelihood\n",
    "five_planet= model_likelihood(post, True)"
   ]
  },
  {
   "cell_type": "markdown",
   "metadata": {},
   "source": [
    "# Initial Best Fit My Own Way (5th Planet)"
   ]
  },
  {
   "cell_type": "code",
   "execution_count": null,
   "metadata": {
    "collapsed": false
   },
   "outputs": [],
   "source": [
    "period5 = periodogram(t,residuals4,15,1500,nyquist)"
   ]
  },
  {
   "cell_type": "code",
   "execution_count": null,
   "metadata": {
    "collapsed": false
   },
   "outputs": [],
   "source": [
    "guess_amp = 10.\n",
    "guess_pshft =0.\n",
    "guess_vshft = 0.\n",
    "residuals5, period5, likelihood5 = residuals(nplanets, t, residuals4, errvel, guess_amp, period5, guess_pshft, guess_vshft)"
   ]
  },
  {
   "cell_type": "markdown",
   "metadata": {},
   "source": [
    "# Possible 6th Planet"
   ]
  },
  {
   "cell_type": "code",
   "execution_count": null,
   "metadata": {
    "collapsed": false
   },
   "outputs": [],
   "source": [
    "period_radvel_6 = periodogram(t,Residuals_Radvel_5,1.2,200,nyquist)"
   ]
  },
  {
   "cell_type": "code",
   "execution_count": null,
   "metadata": {
    "collapsed": true
   },
   "outputs": [],
   "source": [
    "nplanets = 6\n",
    "# instnames = ['k', 'j']    # list of instrument names. Can be whatever you like but should match 'tel' column in the input file.\n",
    "# ntels = len(instnames)       # number of instruments with unique velocity zero-points\n",
    "\n",
    "def initialize_model():\n",
    "    time_base = 2420\n",
    "    params = radvel.RVParameters(nplanets,basis='per tc secosw sesinw logk')\n",
    "    \n",
    "    #1st Planet\n",
    "    params['per1'] = post.params['per1']    # period of 1st planet\n",
    "    params['tc1'] = post.params['tc1']   # time of inferior conjunction of 1st planet\n",
    "    params['secosw1'] = post.params['secosw1']\n",
    "    params['sesinw1'] =  post.params['sesinw1']\n",
    "    params['logk1'] =  post.params['logk1']   # velocity semi-amplitude for 1st planet\n",
    "    \n",
    "    #2nd planet    \n",
    "    params['per2'] = post.params['per2']\n",
    "    params['tc2'] =  post.params['tc2']  \n",
    "    params['secosw2'] = post.params['secosw2']\n",
    "    params['sesinw2'] = post.params['sesinw2']\n",
    "    params['logk2'] = post.params['logk2']  \n",
    "\n",
    "    #3rd Planet\n",
    "    params['per3'] = post.params['per3']\n",
    "    params['tc3'] = post.params['tc3']\n",
    "    params['secosw3'] = post.params['secosw3']\n",
    "    params['sesinw3'] =  post.params['sesinw3']\n",
    "    params['logk3'] = post.params['logk3']\n",
    "    \n",
    "    #4th Planet\n",
    "    params['per4'] = post.params['per4']\n",
    "    params['tc4'] = post.params['tc4']\n",
    "    params['secosw4'] = post.params['secosw4']\n",
    "    params['sesinw4'] = post.params['sesinw4']\n",
    "    params['logk4'] = post.params['logk4']\n",
    "    \n",
    "    #5th Planet\n",
    "    params['per5'] = post.params['per5']\n",
    "    params['tc5'] = post.params['tc5']\n",
    "    params['secosw5'] = post.params['secosw5']\n",
    "    params['sesinw5'] = post.params['sesinw5']\n",
    "    params['logk5'] = post.params['logk5'] \n",
    "    \n",
    "    #6th Planet\n",
    "    params['per6'] = period_radvel_6\n",
    "    params['tc6'] = 2087.07  \n",
    "    params['secosw6'] = 0.01\n",
    "    params['sesinw6'] = 0.01\n",
    "    params['logk6'] = np.log(RMS_Radvel_5) \n",
    "\n",
    "    mod = radvel.RVModel(params, time_base=time_base)\n",
    "    mod.params['dvdt'] = 0.0         # slope\n",
    "    mod.params['curv'] = 0.0        # curvature  \n",
    "    return mod"
   ]
  },
  {
   "cell_type": "code",
   "execution_count": null,
   "metadata": {
    "collapsed": false
   },
   "outputs": [],
   "source": [
    "mod = initialize_model()\n",
    "like = radvel.likelihood.RVLikelihood(mod, t, vel, errvel)\n",
    "like.params['gamma'] = 1.0\n",
    "like.params['jit'] = 2.6\n",
    "\n",
    "like.vary['curv'] = True\n",
    "like.vary['dvdt'] = True\n",
    "\n",
    "pl.figure()\n",
    "plot_results(like)"
   ]
  },
  {
   "cell_type": "code",
   "execution_count": null,
   "metadata": {
    "collapsed": false
   },
   "outputs": [],
   "source": [
    "post = radvel.posterior.Posterior(like)\n",
    "\n",
    "post.priors += [radvel.prior.Gaussian('per1',like.params['per1'],.25*like.params['per1'])]\n",
    "post.priors += [radvel.prior.Gaussian('per2',like.params['per2'],.25*like.params['per2'])]\n",
    "post.priors += [radvel.prior.Gaussian('per3',like.params['per3'],.25*like.params['per3'])]\n",
    "post.priors += [radvel.prior.Gaussian('per4',like.params['per4'],.25*like.params['per4'])]\n",
    "post.priors += [radvel.prior.Gaussian('per5',like.params['per5'],.25*like.params['per5'])]\n",
    "post.priors += [radvel.prior.Gaussian('per6',like.params['per6'],.25*like.params['per6'])]\n",
    "\n",
    "\n",
    "post.priors += [radvel.prior.EccentricityPrior(nplanets)] #change for # of planets\n",
    "post.priors += [radvel.prior.PositiveKPrior( nplanets )]\n",
    "\n",
    "post.priors += [radvel.prior.Gaussian( 'jit', np.log(1), np.log(15))]\n",
    "\n",
    "print post"
   ]
  },
  {
   "cell_type": "code",
   "execution_count": null,
   "metadata": {
    "collapsed": false,
    "scrolled": false
   },
   "outputs": [],
   "source": [
    "res  = optimize.minimize(\n",
    "    post.neglogprob_array,     # objective function is negative log likelihood\n",
    "    post.get_vary_params(),    # initial variable parameters\n",
    "    method='Powell',           # Nelder-Mead also works\n",
    "    )\n",
    "\n",
    "plot_results(like)             # plot best fit model\n",
    "print post\n",
    "radvel.plotting.rv_multipanel_plot(post, epoch=2440000)"
   ]
  },
  {
   "cell_type": "code",
   "execution_count": null,
   "metadata": {
    "collapsed": false
   },
   "outputs": [],
   "source": [
    "Residuals_Radvel_6 = post.likelihood.residuals()\n",
    "RMS_Radvel_6 = RMS(Residuals_Radvel_6)\n",
    "print 'Radvel RMS of Residuals: ', RMS_Radvel_6\n",
    "print ' '\n",
    "print ' '\n",
    "\n",
    "#model likelihood\n",
    "six_planet= model_likelihood(post, True)"
   ]
  },
  {
   "cell_type": "markdown",
   "metadata": {},
   "source": [
    "# Initial Best Fit My Own Way (6th Planet)"
   ]
  },
  {
   "cell_type": "code",
   "execution_count": null,
   "metadata": {
    "collapsed": false
   },
   "outputs": [],
   "source": [
    "period6 = periodogram(t,residuals5,15,1000,nyquist)"
   ]
  },
  {
   "cell_type": "code",
   "execution_count": null,
   "metadata": {
    "collapsed": false
   },
   "outputs": [],
   "source": [
    "guess_amp = 10.\n",
    "guess_pshft =0.\n",
    "guess_vshft = 0.\n",
    "residuals6, period6, likelihood6 = residuals(nplanets, t, residuals5, errvel, guess_amp, period6, guess_pshft, guess_vshft)"
   ]
  },
  {
   "cell_type": "markdown",
   "metadata": {},
   "source": [
    "# Results"
   ]
  },
  {
   "cell_type": "markdown",
   "metadata": {},
   "source": [
    "Periods of all Planets"
   ]
  },
  {
   "cell_type": "code",
   "execution_count": null,
   "metadata": {
    "collapsed": false
   },
   "outputs": [],
   "source": [
    "header_likely = ['Method','1st Planet','2nd Planet', '3rd Planet', '4th Planet', '5th Planet', '6th Planet']\n",
    "radvel_periods = ['Radvel',period1,period_radvel_2,period_radvel_3,period_radvel_4,period_radvel_5,period_radvel_6]\n",
    "own_periods = ['Own',period1,period2,period3, period4,period5,period6]\n",
    "print 'PERIODS FOR PLANETS'\n",
    "print ''\n",
    "print tabulate([radvel_periods, own_periods],headers=header_likely)"
   ]
  },
  {
   "cell_type": "markdown",
   "metadata": {},
   "source": [
    "Model Comparison using Radvel"
   ]
  },
  {
   "cell_type": "code",
   "execution_count": null,
   "metadata": {
    "collapsed": false
   },
   "outputs": [],
   "source": [
    "header_likely = ['num_planets','# Data', 'Free Params', 'RMS', 'Logprob', 'chi', 'chi_red', 'BIC']\n",
    "print 'MODEL COMPARISON RADVEL'\n",
    "print ''\n",
    "print tabulate([one_planet,two_planet,three_planet,four_planet,five_planet,six_planet],headers=header_likely)"
   ]
  },
  {
   "cell_type": "markdown",
   "metadata": {},
   "source": [
    "Model Comparison using my own method"
   ]
  },
  {
   "cell_type": "code",
   "execution_count": null,
   "metadata": {
    "collapsed": false
   },
   "outputs": [],
   "source": [
    "print 'MODEL COMPARISON FOR OWN METHOD'\n",
    "print ''\n",
    "print tabulate([likelihood1,likelihood2,likelihood3,likelihood4,likelihood5,likelihood6],headers=header_likely)"
   ]
  },
  {
   "cell_type": "markdown",
   "metadata": {
    "collapsed": false
   },
   "source": [
    "# Utilizing RadVel Module"
   ]
  },
  {
   "cell_type": "markdown",
   "metadata": {},
   "source": [
    "Define a function that we will use to initialize the ``radvel.RVParameters`` and ``radvel.RVModel`` objects"
   ]
  },
  {
   "cell_type": "markdown",
   "metadata": {},
   "source": [
    "curv                   -7.39154e-08       True\n",
    "dvdt                   -0.000573222       True\n",
    "gamma                       4.61095       True\n",
    "jit                         11.2417       True\n",
    "logk1                       4.24819       True\n",
    "logk2                       3.42597       True\n",
    "per1                        14.6521       True\n",
    "per2                        3901.48       True\n",
    "secosw1                   0.0647091       True\n",
    "secosw2                   0.0836947       True\n",
    "sesinw1                     0.10735       True\n",
    "sesinw2                   -0.419884       True\n",
    "tc1                         2074.21       True\n",
    "tc2                         4268.95       True"
   ]
  },
  {
   "cell_type": "markdown",
   "metadata": {},
   "source": [
    "# MCMC Chain"
   ]
  },
  {
   "cell_type": "markdown",
   "metadata": {},
   "source": [
    "Now lets use Markov-Chain Monte Carlo (MCMC) to estimate the parameter uncertainties."
   ]
  },
  {
   "cell_type": "code",
   "execution_count": null,
   "metadata": {
    "collapsed": false
   },
   "outputs": [],
   "source": [
    "# df = radvel.mcmc(post,nwalkers=50,nrun=5000)"
   ]
  },
  {
   "cell_type": "markdown",
   "metadata": {},
   "source": [
    "Now lets make a corner plot to display the posterior distributions."
   ]
  },
  {
   "cell_type": "code",
   "execution_count": null,
   "metadata": {
    "collapsed": false
   },
   "outputs": [],
   "source": [
    "# radvel.plotting.corner_plot(post, df)"
   ]
  },
  {
   "cell_type": "code",
   "execution_count": null,
   "metadata": {
    "collapsed": false
   },
   "outputs": [],
   "source": [
    "# print post\n",
    "# radvel.plotting.rv_multipanel_plot(post, epoch=2440000)"
   ]
  },
  {
   "cell_type": "code",
   "execution_count": null,
   "metadata": {
    "collapsed": false
   },
   "outputs": [],
   "source": [
    "\"\"\"\n",
    "df['k1'] = np.exp(df['logk1'])\n",
    "df['k2'] = np.exp(df['logk2'])\n",
    "df['k3'] = np.exp(df['logk3'])\n",
    "df['k4'] = np.exp(df['logk4'])\n",
    "df['jit'] = np.exp(df['jit'])\n",
    "df['e1'] = df['secosw1']**2 + df['sesinw1']**2\n",
    "df['e2'] = df['secosw2']**2 + df['sesinw2']**2\n",
    "df['e3'] = df['secosw3']**2 + df['sesinw3']**2\n",
    "df['e4'] = df['secosw4']**2 + df['sesinw4']**2\n",
    "\n",
    "df['ecosw1'] = df['secosw1']*np.sqrt(df['e1'])\n",
    "df['esinw1'] = df['sesinw1']*np.sqrt(df['e1'])\n",
    "\n",
    "df['ecosw2'] = df['secosw2']*np.sqrt(df['e2'])\n",
    "df['esinw2'] = df['sesinw2']*np.sqrt(df['e2'])\n",
    "\n",
    "df['ecosw3'] = df['secosw3']*np.sqrt(df['e3'])\n",
    "df['esinw3'] = df['sesinw3']*np.sqrt(df['e3'])\n",
    "\n",
    "df['ecosw4'] = df['secosw4']*np.sqrt(df['e4'])\n",
    "df['esinw4'] = df['sesinw4']*np.sqrt(df['e4'])\n",
    "\n",
    "labels = 'k1 k2 k3 k4 jit e1 e2 e3 e4'.split()\n",
    "fig = corner.corner(\n",
    "    df[labels],\n",
    "    labels=labels,\n",
    "    levels=[0.68,0.95],\n",
    "    plot_datapoints=False,\n",
    "    smooth=True,\n",
    "    bins=20,\n",
    "    quantiles=[.14,.5,.84,]\n",
    "    )\n",
    "\"\"\""
   ]
  },
  {
   "cell_type": "code",
   "execution_count": null,
   "metadata": {
    "collapsed": false
   },
   "outputs": [],
   "source": [
    "# print post\n",
    "# radvel.plotting.rv_multipanel_plot(post, epoch=2440000)"
   ]
  },
  {
   "cell_type": "raw",
   "metadata": {},
   "source": []
  },
  {
   "cell_type": "code",
   "execution_count": null,
   "metadata": {
    "collapsed": false
   },
   "outputs": [],
   "source": [
    "a = radvel.posterior.bic()"
   ]
  },
  {
   "cell_type": "code",
   "execution_count": null,
   "metadata": {
    "collapsed": true
   },
   "outputs": [],
   "source": []
  }
 ],
 "metadata": {
  "kernelspec": {
   "display_name": "Python 2",
   "language": "python",
   "name": "python2"
  },
  "language_info": {
   "codemirror_mode": {
    "name": "ipython",
    "version": 2
   },
   "file_extension": ".py",
   "mimetype": "text/x-python",
   "name": "python",
   "nbconvert_exporter": "python",
   "pygments_lexer": "ipython2",
   "version": "2.7.13"
  }
 },
 "nbformat": 4,
 "nbformat_minor": 2
}
