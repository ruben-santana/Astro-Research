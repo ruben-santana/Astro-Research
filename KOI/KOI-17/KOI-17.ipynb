{
 "cells": [
  {
   "cell_type": "markdown",
   "metadata": {},
   "source": [
    "# Importing Module"
   ]
  },
  {
   "cell_type": "code",
   "execution_count": 1,
   "metadata": {
    "collapsed": false
   },
   "outputs": [],
   "source": [
    "#kplr used to import koi data easier\n",
    "import kplr\n",
    "client = kplr.API()\n",
    "\n",
    "#used to open .fits files\n",
    "import pyfits\n",
    "# import astropy\n",
    "\n",
    "#Used for plotting and numerical functions\n",
    "import matplotlib.pyplot as plt\n",
    "import numpy as np\n",
    "%matplotlib inline"
   ]
  },
  {
   "cell_type": "markdown",
   "metadata": {},
   "source": [
    "# Importing Data"
   ]
  },
  {
   "cell_type": "code",
   "execution_count": 17,
   "metadata": {
    "collapsed": false
   },
   "outputs": [
    {
     "name": "stdout",
     "output_type": "stream",
     "text": [
      "Period w/ errors:  (0.00078, -0.00078, None)\n",
      "10874614\n",
      "Associated Star Temperature:  None\n"
     ]
    }
   ],
   "source": [
    "# Find a KOI.\n",
    "koi = client.koi(17.01)\n",
    "\n",
    "#period, period error (postive & negative)\n",
    "print 'Period w/ errors: ',(koi.koi_period, koi.koi_period_err1, koi.koi_period_err2)\n",
    "print koi.kepid\n",
    "# This KOI has an associated star.\n",
    "star = koi.star\n",
    "print \"Associated Star Temperature: \",(star.kic_teff)\n",
    "\n",
    "#Download the lightcurves for this KOI.\n",
    "lightcurves = koi.get_light_curves()\n",
    "# for lc in lightcurves:\n",
    "#     print (lc.filename)"
   ]
  },
  {
   "cell_type": "markdown",
   "metadata": {},
   "source": [
    "Getting Like Curve Data"
   ]
  },
  {
   "cell_type": "code",
   "execution_count": 7,
   "metadata": {
    "collapsed": false
   },
   "outputs": [],
   "source": [
    "# Loop over the datasets and read in the data.\n",
    "time, flux, ferr, quality = [], [], [], []\n",
    "for lc in lightcurves:\n",
    "    with lc.open() as f:\n",
    "        # The lightcurve data are in the first FITS HDU.\n",
    "        hdu_data = f[1].data\n",
    "        time.append(hdu_data[\"time\"])\n",
    "        flux.append(hdu_data[\"sap_flux\"])\n",
    "        ferr.append(hdu_data[\"sap_flux_err\"])\n",
    "        quality.append(hdu_data[\"sap_quality\"])"
   ]
  },
  {
   "cell_type": "markdown",
   "metadata": {},
   "source": [
    "Plotting Data"
   ]
  },
  {
   "cell_type": "code",
   "execution_count": 12,
   "metadata": {
    "collapsed": false
   },
   "outputs": [
    {
     "data": {
      "text/plain": [
       "<matplotlib.text.Text at 0x12b68f98>"
      ]
     },
     "execution_count": 12,
     "metadata": {},
     "output_type": "execute_result"
    },
    {
     "data": {
      "image/png": "[encoded data removed]",
      "text/plain": [
       "<matplotlib.figure.Figure at 0x12ae7cf8>"
      ]
     },
     "metadata": {},
     "output_type": "display_data"
    }
   ],
   "source": [
    "#Time (BJD - 2454833)\n",
    "#Flux (e-/sec) + ____e+4\n",
    "#Which quarter do you want to look at?\n",
    "quarter = 2\n",
    "\n",
    "#plotting Light curve\n",
    "plt.figure()\n",
    "# print len(time)\n",
    "# print len(time[quarter])\n",
    "# print len(flux[quarter])\n",
    "plt.plot(time[quarter],flux[quarter])\n",
    "plt.xlabel('Time (BJD - 2454833)')\n",
    "plt.ylabel('Flux (e-/sec) e+4')"
   ]
  },
  {
   "cell_type": "code",
   "execution_count": 5,
   "metadata": {
    "collapsed": false
   },
   "outputs": [
    {
     "name": "stdout",
     "output_type": "stream",
     "text": [
      "<pyfits.hdu.image.PrimaryHDU object at 0x000000000A8257B8>\n"
     ]
    }
   ],
   "source": [
    "#using pyfits to open a quarter of data as .fits file\n",
    "pyfits.open('c:/Users/rscsa/.kplr/data/lightcurves/010874614/kplr010874614-2009131105131_llc.fits')\n",
    "print pyfits.hdu.image.PrimaryHDU()"
   ]
  },
  {
   "cell_type": "code",
   "execution_count": null,
   "metadata": {
    "collapsed": true
   },
   "outputs": [],
   "source": []
  },
  {
   "cell_type": "code",
   "execution_count": null,
   "metadata": {
    "collapsed": true
   },
   "outputs": [],
   "source": []
  }
 ],
 "metadata": {
  "kernelspec": {
   "display_name": "Python 2",
   "language": "python",
   "name": "python2"
  },
  "language_info": {
   "codemirror_mode": {
    "name": "ipython",
    "version": 2
   },
   "file_extension": ".py",
   "mimetype": "text/x-python",
   "name": "python",
   "nbconvert_exporter": "python",
   "pygments_lexer": "ipython2",
   "version": "2.7.13"
  }
 },
 "nbformat": 4,
 "nbformat_minor": 2
}
