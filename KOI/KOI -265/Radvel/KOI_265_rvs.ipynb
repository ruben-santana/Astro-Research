{
 "cells": [
  {
   "cell_type": "markdown",
   "metadata": {},
   "source": [
    "# Finding Period and Initial Best Fit"
   ]
  },
  {
   "cell_type": "code",
   "execution_count": 1,
   "metadata": {
    "collapsed": false
   },
   "outputs": [
    {
     "ename": "ImportError",
     "evalue": "No module named radvel",
     "output_type": "error",
     "traceback": [
      "\u001b[0;31m---------------------------------------------------------------------------\u001b[0m",
      "\u001b[0;31mImportError\u001b[0m                               Traceback (most recent call last)",
      "\u001b[0;32m<ipython-input-1-bda971b5b916>\u001b[0m in \u001b[0;36m<module>\u001b[0;34m()\u001b[0m\n\u001b[1;32m     25\u001b[0m \u001b[0;34m\u001b[0m\u001b[0m\n\u001b[1;32m     26\u001b[0m \u001b[0;31m#importing radvel\u001b[0m\u001b[0;34m\u001b[0m\u001b[0;34m\u001b[0m\u001b[0m\n\u001b[0;32m---> 27\u001b[0;31m \u001b[0;32mimport\u001b[0m \u001b[0mradvel\u001b[0m\u001b[0;34m\u001b[0m\u001b[0m\n\u001b[0m\u001b[1;32m     28\u001b[0m \u001b[0;32mimport\u001b[0m \u001b[0mradvel\u001b[0m\u001b[0;34m.\u001b[0m\u001b[0mplotting\u001b[0m\u001b[0;34m\u001b[0m\u001b[0m\n\u001b[1;32m     29\u001b[0m \u001b[0;34m\u001b[0m\u001b[0m\n",
      "\u001b[0;31mImportError\u001b[0m: No module named radvel"
     ]
    }
   ],
   "source": [
    "#Importing and notebook setup\n",
    "%matplotlib inline\n",
    "import os\n",
    "\n",
    "#For Plotting\n",
    "import matplotlib.pyplot as plt\n",
    "\n",
    "#Numbers and Functions\n",
    "import numpy as np\n",
    "#Used to open excel file of data\n",
    "import pandas as pd\n",
    "#For Maximum Likelihood\n",
    "from scipy import optimize\n",
    "#For Periodogram\n",
    "from gatspy.periodic import LombScargleFast\n",
    "\n",
    "#Making Tables\n",
    "from tabulate import tabulate\n",
    "\n",
    "#for Radvel\n",
    "import matplotlib\n",
    "import pylab as pl\n",
    "\n",
    "import corner\n",
    "\n",
    "#importing radvel\n",
    "import radvel\n",
    "import radvel.plotting\n",
    "\n",
    "matplotlib.rcParams['font.size'] = 14"
   ]
  },
  {
   "cell_type": "markdown",
   "metadata": {},
   "source": [
    "Define Periodogram Function"
   ]
  },
  {
   "cell_type": "code",
   "execution_count": null,
   "metadata": {
    "collapsed": false
   },
   "outputs": [],
   "source": [
    "def periodogram(datax, datay, min_, max_, nyquist):\n",
    "    #finding periodogram\n",
    "    model = LombScargleFast().fit(datax, datay)\n",
    "    period, power = model.periodogram_auto(nyquist_factor=nyquist) # Default 50\n",
    "\n",
    "    #Plotting\n",
    "    plt.figure\n",
    "    plt.plot(period,power)\n",
    "    plt.ylabel('Power')\n",
    "    plt.xlabel('Period')# days\n",
    "    plt.xscale('log')\n",
    "    #used bottom line to zoom in periodogram\n",
    "#     plt.xlim(min_-1,max_+10)\n",
    "\n",
    "    # set range and find period\n",
    "    model.optimizer.period_range=(min_, max_)\n",
    "    period = model.best_period\n",
    "    print(\"period = {0}\".format(period))\n",
    "    return period"
   ]
  },
  {
   "cell_type": "markdown",
   "metadata": {},
   "source": [
    "Function for RadVel and Residuals"
   ]
  },
  {
   "cell_type": "markdown",
   "metadata": {},
   "source": [
    "Define a Plotting Function to Display the Data, Model, and Residuals"
   ]
  },
  {
   "cell_type": "code",
   "execution_count": null,
   "metadata": {
    "collapsed": true
   },
   "outputs": [],
   "source": [
    "#used for plotting radvel plots\n",
    "def plot_results(like):\n",
    "    fig = pl.figure(figsize=(12,4))\n",
    "    fig = pl.gcf()\n",
    "    pl.errorbar(\n",
    "        like.x, like.model(t)+like.residuals(), \n",
    "        yerr=like.yerr, fmt='o'\n",
    "        )\n",
    "    pl.plot(ti, like.model(ti))\n",
    "    fig.set_tight_layout(True)\n",
    "    pl.xlabel('Time')\n",
    "    pl.ylabel('RV')\n",
    "    pl.draw()"
   ]
  },
  {
   "cell_type": "markdown",
   "metadata": {},
   "source": [
    "Define RMS Function"
   ]
  },
  {
   "cell_type": "code",
   "execution_count": null,
   "metadata": {
    "collapsed": true
   },
   "outputs": [],
   "source": [
    "#getting RMS\n",
    "def RMS (Residuals):\n",
    "    RMS = np.std(Residuals)\n",
    "    return RMS"
   ]
  },
  {
   "cell_type": "markdown",
   "metadata": {},
   "source": [
    "Using Radvel to Find Model Likelihood"
   ]
  },
  {
   "cell_type": "code",
   "execution_count": null,
   "metadata": {
    "collapsed": true
   },
   "outputs": [],
   "source": [
    "#Found in Radvel.Fitting\n",
    "def model_likelihood(post,show=False):\n",
    "    num_planet = post.likelihood.model.num_planets\n",
    "    ndata = len(post.likelihood.y)\n",
    "    nfree = len(post.get_vary_params())\n",
    "    rms = np.std(post.likelihood.residuals())\n",
    "    logprob = post.logprob()\n",
    "    chi = np.sum((post.likelihood.residuals()/post.likelihood.errorbars())**2)\n",
    "    chi_red = chi / (ndata - nfree)\n",
    "    bic = post.bic()\n",
    "    if show:\n",
    "        print \"N_free = %d\" % nfree\n",
    "        print \"RMS = %4.2f\" % np.std(post.likelihood.residuals())\n",
    "        print \"logprob (jitter fixed) = %4.2f\" % post.logprob() #radvel.likelihood\n",
    "        print \"chi (jitter fixed) = %4.2f\" % chi\n",
    "        print \"chi_red (jitter fixed) = %4.2f\" % chi_red\n",
    "        print \"BIC (jitter fixed) = %4.2f\" % post.bic()\n",
    "        \n",
    "    model_likelihood = [num_planet, ndata, nfree, rms, logprob, chi , chi_red, bic]\n",
    "    return model_likelihood"
   ]
  },
  {
   "cell_type": "markdown",
   "metadata": {},
   "source": [
    "My Own Method of Modeling Data"
   ]
  },
  {
   "cell_type": "code",
   "execution_count": null,
   "metadata": {
    "collapsed": false
   },
   "outputs": [],
   "source": [
    "#My own method of plotting and finding likelihood\n",
    "def residuals(num_planet,data_x, data_y,data_err,amplitude,period,phase_shift,vertical_shift):\n",
    "    # Target function\n",
    "    fitfunc = lambda p, x: p[0]*np.cos(2*np.pi/p[1]*x+p[2]) + p[3]*x\n",
    "    #Distance to the target function\n",
    "    errfunc = lambda p, x, y: fitfunc(p, x) - y \n",
    "    \n",
    "    # Initial guess for the first set's parameters\n",
    "    p0 = [amplitude, period, phase_shift, vertical_shift]\n",
    "    p1, success = optimize.leastsq(errfunc, p0[:], args=(data_x, data_y))\n",
    "    \n",
    "    print 'Amplitude: ', np.absolute(p1[0])\n",
    "    print 'Period: ', p1[1]\n",
    "    print 'Phase Shift: ', p1[2]\n",
    "    print 'Vertical-Shift: ',p1[3]\n",
    "    period = p1[1]\n",
    "    \n",
    "    #Finding Residuals\n",
    "    Residuals = data_y - fitfunc(p1,data_x)\n",
    "    \n",
    "    #Finding Likelihood\n",
    "    ndata = len(data_x)\n",
    "    nfree = 4.\n",
    "    RMS = np.std(Residuals)\n",
    "    logprob = np.log(np.sum(Residuals))\n",
    "    chi = np.sum(((Residuals)/data_err)**2)\n",
    "    chi_red = chi / (ndata - nfree)\n",
    "#     bic = -2.0 * self.logprob() + len(self.likelihood.get_vary_params()) + np.log(len(self.likelihood.y))\n",
    "    bic = np.log(ndata)+nfree +-2.*logprob\n",
    "    #chisquared = sum(Residuals**2/(fitfunc(p1,data_x)))\n",
    "    print \"RMS of Residuals: \", RMS\n",
    "    print \"RMS\", RMS\n",
    "    print 'Chi Square', chi\n",
    "    likelihood = [num_planet, ndata, nfree, RMS, logprob, chi , chi_red, bic]\n",
    "    \n",
    "    #Plotting Data with Fit\n",
    "    time = np.linspace(data_x.min(), data_x.max(), 1000*len(data_x))\n",
    "    plt.plot(data_x, data_y, \"go\", time, fitfunc(p1, time),\"b-\",alpha=0.5)\n",
    "    plt.title('HD75732')\n",
    "    plt.xlabel('Time [JD-2.44e6]')\n",
    "    plt.ylabel('Mean Velocity[m/s]')\n",
    "    plt.legend(('Data', 'Fit'))\n",
    "    plt.xlim(data_x[0]-5,data_x[-1]+5)\n",
    "    ax1 = plt.axes()\n",
    "    plt.show()\n",
    "    \n",
    "    #plotting Residuals\n",
    "    #plt.plot(data_x, Residuals, \"ro\", time, fitfunc(p2, time),\"b-\")\n",
    "    plt.plot(data_x, Residuals, \"ro\")\n",
    "    plt.xlim(data_x[0]-5,data_x[-1]+5)\n",
    "    plt.ylim(-max(data_y)-10, max(data_y)+10)\n",
    "    plt.title('Residuals')\n",
    "    plt.xlabel('Time [JD-2.44e6]')\n",
    "    plt.ylabel('Mean Velocity[m/s]')\n",
    "    plt.legend(('Residuals', 'Fit'))\n",
    "    ax2 = plt.axes()\n",
    "    \n",
    "    \n",
    "    return Residuals, period, likelihood"
   ]
  },
  {
   "cell_type": "markdown",
   "metadata": {},
   "source": [
    "Importing Data"
   ]
  },
  {
   "cell_type": "code",
   "execution_count": null,
   "metadata": {
    "collapsed": false
   },
   "outputs": [],
   "source": [
    "#Data import\n",
    "#here data_rj includes both rk data and rj data\n",
    "data= pd.read_csv('koi265_rvs.csv')\n",
    "\n",
    "#data from different telescopes\n",
    "\n",
    "dataOne = data[0:8]\n",
    "dataTwo = data[8:13]\n",
    "dataThree = data[13:27]\n",
    "dataFour = data[27:38]\n",
    "dataFive = data[38:]\n",
    "\n",
    "# data = dataOne.append(dataTwo.append(dataThree.append(dataFour)))\n",
    "\n",
    "#Naming Variables from data\n",
    "t = np.array(data.jd)\n",
    "vel = np.array(data.mnvel)\n",
    "errvel = np.array(data.errvel)\n",
    "# tel = np.array(data.tel)\n",
    "\n",
    "#time vector for best fit\n",
    "ti = np.linspace(t.min(),t.max(),num=len(t)* 10000)\n",
    "# print data"
   ]
  },
  {
   "cell_type": "markdown",
   "metadata": {},
   "source": [
    "# Finding Period in Data (1st Planet)"
   ]
  },
  {
   "cell_type": "markdown",
   "metadata": {},
   "source": [
    "Initializing Radvel"
   ]
  },
  {
   "cell_type": "code",
   "execution_count": null,
   "metadata": {
    "collapsed": false,
    "scrolled": false
   },
   "outputs": [],
   "source": [
    "#nyquist - min period for data\n",
    "nyquist = .5\n",
    "#finding first planet period\n",
    "period_guess = 3.56760613628 \n",
    "maxPer = period_guess*1.25\n",
    "minPer = period_guess*.75\n",
    "# maxPer = (t.max()-t.min())/2.\n",
    "\n",
    "# minPer = 1.5\n",
    "# period1 = periodogram(t,vel,minPer,maxPer,nyquist)\n",
    "period1 = 3.56760613628 "
   ]
  },
  {
   "cell_type": "code",
   "execution_count": null,
   "metadata": {
    "collapsed": true
   },
   "outputs": [],
   "source": [
    "nplanets = 1 # number of planets\n",
    "# instnames = ['k', 'j']    # list of instrument names. Can be whatever you like but should match 'tel' column in the input file.\n",
    "# ntels = len(instnames)       # number of instruments with unique velocity zero-points\n",
    "\n",
    "def initialize_model():\n",
    "    time_base = 0\n",
    "    params = radvel.RVParameters(nplanets,basis='per tc secosw sesinw logk')\n",
    "    \n",
    "    #1st Planet\n",
    "    params['per1'] = period1    # period of 1st planet\n",
    "    params['tc1'] = 1300.0  # time of inferior conjunction of 1st planet\n",
    "    params['secosw1'] = 0.01 \n",
    "    params['sesinw1'] =  0.01 \n",
    "    params['logk1'] =  np.log(8)   # velocity semi-amplitude for 1st planet  \n",
    "    \n",
    "\n",
    "    mod = radvel.RVModel(params, time_base=time_base)\n",
    "    mod.params['dvdt'] = -.0001       # slope\n",
    "    mod.params['curv'] = 0.0        # curvature  \n",
    "    return mod"
   ]
  },
  {
   "cell_type": "code",
   "execution_count": null,
   "metadata": {
    "collapsed": false
   },
   "outputs": [],
   "source": [
    "mod = initialize_model()\n",
    "like = radvel.likelihood.RVLikelihood(mod, t, vel, errvel)\n",
    "like.params['gamma'] = 1.0\n",
    "like.params['jit'] = 1.0\n",
    "\n",
    "# like.params['gamma_k'] = 0.0\n",
    "# like.params['gamma_j'] = 1.0\n",
    "# like.params['jit_k'] = 2.6\n",
    "# like.params['jit_j'] = 2.6"
   ]
  },
  {
   "cell_type": "markdown",
   "metadata": {},
   "source": [
    "Defining Variables that are Going to Vary."
   ]
  },
  {
   "cell_type": "code",
   "execution_count": null,
   "metadata": {
    "collapsed": false
   },
   "outputs": [],
   "source": [
    "# like.vary['curv'] = True\n",
    "# like.vary['dvdt'] = True\n",
    "# like.vary['per1'] = False\n",
    "# like.vary['logk1'] = True\n",
    "# like.vary['secosw1'] = False\n",
    "# like.vary['sesinw1'] = False\n",
    "#like.vary['tc1'] = False"
   ]
  },
  {
   "cell_type": "markdown",
   "metadata": {},
   "source": [
    "Plotting Radvels Initial Likelihood"
   ]
  },
  {
   "cell_type": "code",
   "execution_count": null,
   "metadata": {
    "collapsed": false
   },
   "outputs": [],
   "source": [
    "pl.figure()\n",
    "plot_results(like)\n",
    "# pl.xlim(16460,16550)\n",
    "# radvel.plotting.rv_multipanel_plot(post, epoch=2440000)"
   ]
  },
  {
   "cell_type": "markdown",
   "metadata": {},
   "source": [
    "Maximize the Likelihood and Print the Updated Posterior Object"
   ]
  },
  {
   "cell_type": "code",
   "execution_count": null,
   "metadata": {
    "collapsed": false,
    "scrolled": true
   },
   "outputs": [],
   "source": [
    "post = radvel.posterior.Posterior(like)\n",
    "\n",
    "post.priors += [radvel.prior.Gaussian('per1',like.params['per1'],.00025*like.params['per1'])]\n",
    "post.priors += [radvel.prior.Gaussian('secosw1',like.params['secosw1'],.2)]\n",
    "post.priors += [radvel.prior.Gaussian('sesinw1',like.params['sesinw1'],.2)]\n",
    "\n",
    "\n",
    "\n",
    "post.priors += [radvel.prior.EccentricityPrior(nplanets)] #change for # of planets\n",
    "post.priors += [radvel.prior.PositiveKPrior( nplanets )]\n",
    "\n",
    "post.priors += [radvel.prior.Gaussian( 'jit', np.log(1), np.log(15))]\n",
    "#post.priors += [radvel.prior.Gaussian( 'jit_k', np.log(1), np.log(15))]\n",
    "#post.priors += [radvel.prior.Gaussian( 'jit_j', np.log(1), np.log(15))]\n",
    "\n",
    "print post"
   ]
  },
  {
   "cell_type": "code",
   "execution_count": null,
   "metadata": {
    "collapsed": false
   },
   "outputs": [],
   "source": [
    "res  = optimize.minimize(\n",
    "    post.neglogprob_array,     # objective function is negative log likelihood\n",
    "    post.get_vary_params(),    # initial variable parameters\n",
    "    method='Powell',           # Nelder-Mead also works\n",
    "    )\n",
    "#Get residuals\n",
    "#orbel = []\n",
    "#radvel.kepler.rv_drive(t)\n",
    "plot_results(like)             # plot best fit model\n",
    "print post\n",
    "radvel.plotting.rv_multipanel_plot(post,epoch=2440000)"
   ]
  },
  {
   "cell_type": "code",
   "execution_count": null,
   "metadata": {
    "collapsed": false,
    "scrolled": false
   },
   "outputs": [],
   "source": [
    "# res  = optimize.minimize(\n",
    "#     post.neglogprob_array,     # objective function is negative log likelihood\n",
    "#     post.get_vary_params(),    # initial variable parameters\n",
    "#     method='Powell',           # Nelder-Mead also works\n",
    "#     )\n",
    "# #Get residuals\n",
    "# #orbel = []\n",
    "# #radvel.kepler.rv_drive(t)\n",
    "# plot_results(like)             # plot best fit model\n",
    "# print post\n",
    "# radvel.plotting.rv_multipanel_plot(post, telfmts=radvel.plotting.telfmts_default,epoch=2440000)"
   ]
  },
  {
   "cell_type": "markdown",
   "metadata": {},
   "source": [
    "Finding the Model Likelihood, using RMS, Chi Squared, Log Probability, & BIC"
   ]
  },
  {
   "cell_type": "code",
   "execution_count": null,
   "metadata": {
    "collapsed": false
   },
   "outputs": [],
   "source": [
    "Residuals_Radvel_1 = post.likelihood.residuals()\n",
    "RMS_Radvel_1 = RMS(Residuals_Radvel_1)\n",
    "print 'Radvel RMS of Residuals: ', RMS_Radvel_1\n",
    "print ' '\n",
    "print ' '\n",
    "\n",
    "one_planet= model_likelihood(post, True)"
   ]
  },
  {
   "cell_type": "markdown",
   "metadata": {},
   "source": [
    "# Finding 2nd Planet"
   ]
  },
  {
   "cell_type": "code",
   "execution_count": null,
   "metadata": {
    "collapsed": false,
    "scrolled": false
   },
   "outputs": [],
   "source": [
    "\n",
    "#finding Second planet period\n",
    "\n",
    "period_radvel_2  = periodogram(t,Residuals_Radvel_1,minPer,maxPer,nyquist)"
   ]
  },
  {
   "cell_type": "code",
   "execution_count": null,
   "metadata": {
    "collapsed": true
   },
   "outputs": [],
   "source": [
    "nplanets = 2\n",
    "# instnames = ['k', 'j']    # list of instrument names. Can be whatever you like but should match 'tel' column in the input file.\n",
    "# ntels = len(instnames)       # number of instruments with unique velocity zero-points\n",
    "\n",
    "def initialize_model():\n",
    "    time_base = 2420\n",
    "    params = radvel.RVParameters(nplanets,basis='per tc secosw sesinw logk')\n",
    "    \n",
    "    #1st Planet\n",
    "    params['per1'] = post.params['per1']    # period of 1st planet\n",
    "    params['tc1'] = post.params['tc1']   # time of inferior conjunction of 1st planet\n",
    "    params['secosw1'] = post.params['secosw1']\n",
    "    params['sesinw1'] =  post.params['sesinw1']\n",
    "    params['logk1'] =  post.params['logk1']   # velocity semi-amplitude for 1st planet\n",
    "    \n",
    "    #2nd planet    \n",
    "    params['per2'] = period_radvel_2 \n",
    "    params['tc2'] =  4268.95 + 1000   \n",
    "    params['secosw2'] = 0.01  \n",
    "    params['sesinw2'] = 0.01 \n",
    "    params['logk2'] = np.log(RMS_Radvel_1)   \n",
    "    \n",
    "\n",
    "    mod = radvel.RVModel(params, time_base=time_base)\n",
    "    mod.params['dvdt'] = 0.0         # slope\n",
    "    mod.params['curv'] = 0.0        # curvature  \n",
    "    return mod"
   ]
  },
  {
   "cell_type": "code",
   "execution_count": null,
   "metadata": {
    "collapsed": false
   },
   "outputs": [],
   "source": [
    "mod = initialize_model()\n",
    "like = radvel.likelihood.RVLikelihood(mod, t, vel, errvel)\n",
    "like.params['gamma'] = 1.0\n",
    "like.params['jit'] = 2.6\n",
    "\n",
    "like.vary['secosw1'] = False\n",
    "like.vary['sesinw1'] = False\n",
    "like.vary['secosw2'] = False\n",
    "like.vary['sesinw2'] = False\n",
    "\n",
    "like.vary['curv'] = True\n",
    "like.vary['dvdt'] = True\n",
    "\n",
    "pl.figure()\n",
    "plot_results(like)"
   ]
  },
  {
   "cell_type": "code",
   "execution_count": null,
   "metadata": {
    "collapsed": false
   },
   "outputs": [],
   "source": [
    "post = radvel.posterior.Posterior(like)\n",
    "\n",
    "post.priors += [radvel.prior.Gaussian('per1',like.params['per1'],.25*like.params['per1'])]\n",
    "post.priors += [radvel.prior.Gaussian('per2',like.params['per2'],.25*like.params['per2'])]\n",
    "post.priors += [radvel.prior.EccentricityPrior(nplanets)] #change for # of planets\n",
    "post.priors += [radvel.prior.PositiveKPrior( nplanets )]\n",
    "\n",
    "# post.priors += [radvel.prior.Gaussian( 'jit', np.log(1), np.log(15))]\n",
    "\n",
    "print post"
   ]
  },
  {
   "cell_type": "code",
   "execution_count": null,
   "metadata": {
    "collapsed": false
   },
   "outputs": [],
   "source": [
    "res  = optimize.minimize(\n",
    "    post.neglogprob_array,     # objective function is negative log likelihood\n",
    "    post.get_vary_params(),    # initial variable parameters\n",
    "    method='Powell',           # Nelder-Mead also works\n",
    "    )\n",
    "\n",
    "plot_results(like)             # plot best fit model\n",
    "print post\n",
    "radvel.plotting.rv_multipanel_plot(post, epoch=2440000)"
   ]
  },
  {
   "cell_type": "code",
   "execution_count": null,
   "metadata": {
    "collapsed": false
   },
   "outputs": [],
   "source": [
    "# res  = optimize.minimize(\n",
    "#     post.neglogprob_array,     # objective function is negative log likelihood\n",
    "#     post.get_vary_params(),    # initial variable parameters\n",
    "#     method='Powell',           # Nelder-Mead also works\n",
    "#     )\n",
    "# #Get residuals\n",
    "# #orbel = []\n",
    "# #radvel.kepler.rv_drive(t)\n",
    "# plot_results(like)             # plot best fit model\n",
    "# print post\n",
    "# radvel.plotting.rv_multipanel_plot(post, telfmts=radvel.plotting.telfmts_default,epoch=2440000)"
   ]
  },
  {
   "cell_type": "code",
   "execution_count": null,
   "metadata": {
    "collapsed": false
   },
   "outputs": [],
   "source": [
    "Residuals_Radvel_2 = post.likelihood.residuals()\n",
    "RMS_Radvel_2 = RMS(Residuals_Radvel_2)\n",
    "print 'Radvel RMS of Residuals: ', RMS_Radvel_2\n",
    "print ' '\n",
    "print ' '\n",
    "\n",
    "#Model Likelihood\n",
    "two_planet= model_likelihood(post, True)"
   ]
  },
  {
   "cell_type": "code",
   "execution_count": 2,
   "metadata": {
    "collapsed": false
   },
   "outputs": [
    {
     "name": "stdout",
     "output_type": "stream",
     "text": [
      "0.001054025\n",
      "1.01648522321e-09\n"
     ]
    }
   ],
   "source": [
    "#####MASSS##############\n",
    "KOI_mass = (1.1070) * 1.989*10**30 #error =  0.1020 kg\n",
    "KOI_radius =  1.3340 # error = 0.228 R_sun\n",
    "KOI_V = 2.55 * (0.000210805) #m/s to Au/year\n",
    "RV = 5\n",
    "KOI_V = RV  * (0.000210805)\n",
    "# print 1/(3.17098e-8/6.68459e-12)\n",
    "# KOI_V = 5\n",
    "print KOI_V\n",
    "planet_per =3.56760613628 * 0.00273973 #day to year\n",
    "planet_V = 2*np.pi*(KOI_mass/planet_per)**(1/3.) #Au/Year\n",
    "planet_mass = ((KOI_mass*KOI_V)/planet_V)/(5.972*10**24) #earth masses\n",
    "\n",
    "print planet_mass"
   ]
  },
  {
   "cell_type": "code",
   "execution_count": 3,
   "metadata": {
    "collapsed": false
   },
   "outputs": [
    {
     "name": "stdout",
     "output_type": "stream",
     "text": [
      "0.0007060126553\n"
     ]
    }
   ],
   "source": [
    "print 0.012371665981-0.0116656533257"
   ]
  },
  {
   "cell_type": "code",
   "execution_count": 4,
   "metadata": {
    "collapsed": false
   },
   "outputs": [
    {
     "name": "stdout",
     "output_type": "stream",
     "text": [
      "2.59229522753e-10\n"
     ]
    }
   ],
   "source": [
    "###DEnsity\n",
    "planet_r = 0.978233804846 #-0.550446930839\n",
    "planet_Size = (4./3)*np.pi*(planet_r)**3\n",
    "planet_density = planet_mass/planet_Size\n",
    "print planet_density"
   ]
  },
  {
   "cell_type": "code",
   "execution_count": 5,
   "metadata": {
    "collapsed": false
   },
   "outputs": [
    {
     "name": "stdout",
     "output_type": "stream",
     "text": [
      "0.00388494531434\n"
     ]
    }
   ],
   "source": [
    "print 0.00690418026434 - 0.00301923495"
   ]
  },
  {
   "cell_type": "code",
   "execution_count": 6,
   "metadata": {
    "collapsed": false
   },
   "outputs": [
    {
     "data": {
      "text/plain": [
       "0.005549853296839218"
      ]
     },
     "execution_count": 6,
     "metadata": {},
     "output_type": "execute_result"
    }
   ],
   "source": [
    "0.005549853296839218"
   ]
  },
  {
   "cell_type": "code",
   "execution_count": 15,
   "metadata": {
    "collapsed": false
   },
   "outputs": [
    {
     "name": "stdout",
     "output_type": "stream",
     "text": [
      "6.510053735916598\n"
     ]
    }
   ],
   "source": [
    "# from radvel import utils \n",
    "K = 2.54561\n",
    "P = 3.56760613628 *  0.00273973 # days to years\n",
    "e = 0.0\n",
    "K_0 = 28.4329\n",
    "Mtotal = 1.1070 # + .1020\n",
    "\n",
    "# Msini = radvel.utils.Msini(K,P,Mtotal, e, Msini_units='earth')\n",
    "Msini = K / K_0 * np.sqrt(1.0 - e**2.0)*Mtotal**(2.0 / 3.0)*P**(1 / 3.0) *317.8\n",
    "print Msini\n",
    "\n",
    "# print 6.915952557999762 - 6.521280567953192"
   ]
  },
  {
   "cell_type": "code",
   "execution_count": 25,
   "metadata": {
    "collapsed": false
   },
   "outputs": [
    {
     "name": "stdout",
     "output_type": "stream",
     "text": [
      "13.258775278117021\n",
      "0.016539\n"
     ]
    }
   ],
   "source": [
    "planet_r = 0.864556769278# -0.550446930839\n",
    "planet_Size = (4./3)*np.pi*(planet_r)**3\n",
    "planet_density = Msini/planet_Size\n",
    "print planet_density * 5.513 #g/cm^3\n",
    "print 0.003 * 5.513"
   ]
  },
  {
   "cell_type": "code",
   "execution_count": 20,
   "metadata": {
    "collapsed": false
   },
   "outputs": [
    {
     "name": "stdout",
     "output_type": "stream",
     "text": [
      "0.0839122464893\n"
     ]
    }
   ],
   "source": [
    "####\n",
    "a = 13.53 * KOI_radius * 0.00464913034 # r sun to AU\n",
    "print a"
   ]
  },
  {
   "cell_type": "code",
   "execution_count": 28,
   "metadata": {
    "collapsed": false
   },
   "outputs": [
    {
     "name": "stdout",
     "output_type": "stream",
     "text": [
      "5.51325873859\n"
     ]
    }
   ],
   "source": [
    "print 5.972 * 10**27/ (637.1*10**6)**3 /((4/3.)*np.pi)"
   ]
  },
  {
   "cell_type": "code",
   "execution_count": null,
   "metadata": {
    "collapsed": true
   },
   "outputs": [],
   "source": []
  }
 ],
 "metadata": {
  "kernelspec": {
   "display_name": "Python 2",
   "language": "python",
   "name": "python2"
  },
  "language_info": {
   "codemirror_mode": {
    "name": "ipython",
    "version": 2
   },
   "file_extension": ".py",
   "mimetype": "text/x-python",
   "name": "python",
   "nbconvert_exporter": "python",
   "pygments_lexer": "ipython2",
   "version": "2.7.6"
  }
 },
 "nbformat": 4,
 "nbformat_minor": 2
}
