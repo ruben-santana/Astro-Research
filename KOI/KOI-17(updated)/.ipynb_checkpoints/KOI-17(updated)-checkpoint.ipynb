{
 "cells": [
  {
   "cell_type": "markdown",
   "metadata": {},
   "source": [
    "# Importing Module"
   ]
  },
  {
   "cell_type": "code",
   "execution_count": 220,
   "metadata": {
    "collapsed": false
   },
   "outputs": [
    {
     "data": {
      "text/html": [
       "\n",
       "    <div class=\"bk-root\">\n",
       "        <a href=\"http://bokeh.pydata.org\" target=\"_blank\" class=\"bk-logo bk-logo-small bk-logo-notebook\"></a>\n",
       "        <span id=\"4374ef7d-d3fb-4c12-b873-f9b8d14724f1\">Loading BokehJS ...</span>\n",
       "    </div>"
      ]
     },
     "metadata": {},
     "output_type": "display_data"
    },
    {
     "data": {
      "application/javascript": [
       "\n",
       "(function(global) {\n",
       "  function now() {\n",
       "    return new Date();\n",
       "  }\n",
       "\n",
       "  var force = true;\n",
       "\n",
       "  if (typeof (window._bokeh_onload_callbacks) === \"undefined\" || force === true) {\n",
       "    window._bokeh_onload_callbacks = [];\n",
       "    window._bokeh_is_loading = undefined;\n",
       "  }\n",
       "\n",
       "\n",
       "  \n",
       "  if (typeof (window._bokeh_timeout) === \"undefined\" || force === true) {\n",
       "    window._bokeh_timeout = Date.now() + 5000;\n",
       "    window._bokeh_failed_load = false;\n",
       "  }\n",
       "\n",
       "  var NB_LOAD_WARNING = {'data': {'text/html':\n",
       "     \"<div style='background-color: #fdd'>\\n\"+\n",
       "     \"<p>\\n\"+\n",
       "     \"BokehJS does not appear to have successfully loaded. If loading BokehJS from CDN, this \\n\"+\n",
       "     \"may be due to a slow or bad network connection. Possible fixes:\\n\"+\n",
       "     \"</p>\\n\"+\n",
       "     \"<ul>\\n\"+\n",
       "     \"<li>re-rerun `output_notebook()` to attempt to load from CDN again, or</li>\\n\"+\n",
       "     \"<li>use INLINE resources instead, as so:</li>\\n\"+\n",
       "     \"</ul>\\n\"+\n",
       "     \"<code>\\n\"+\n",
       "     \"from bokeh.resources import INLINE\\n\"+\n",
       "     \"output_notebook(resources=INLINE)\\n\"+\n",
       "     \"</code>\\n\"+\n",
       "     \"</div>\"}};\n",
       "\n",
       "  function display_loaded() {\n",
       "    if (window.Bokeh !== undefined) {\n",
       "      var el = document.getElementById(\"4374ef7d-d3fb-4c12-b873-f9b8d14724f1\");\n",
       "      el.textContent = \"BokehJS \" + Bokeh.version + \" successfully loaded.\";\n",
       "    } else if (Date.now() < window._bokeh_timeout) {\n",
       "      setTimeout(display_loaded, 100)\n",
       "    }\n",
       "  }\n",
       "\n",
       "  function run_callbacks() {\n",
       "    try {\n",
       "      window._bokeh_onload_callbacks.forEach(function(callback) { callback() });\n",
       "    }\n",
       "    finally {\n",
       "      delete window._bokeh_onload_callbacks\n",
       "    }\n",
       "    console.info(\"Bokeh: all callbacks have finished\");\n",
       "  }\n",
       "\n",
       "  function load_libs(js_urls, callback) {\n",
       "    window._bokeh_onload_callbacks.push(callback);\n",
       "    if (window._bokeh_is_loading > 0) {\n",
       "      console.log(\"Bokeh: BokehJS is being loaded, scheduling callback at\", now());\n",
       "      return null;\n",
       "    }\n",
       "    if (js_urls == null || js_urls.length === 0) {\n",
       "      run_callbacks();\n",
       "      return null;\n",
       "    }\n",
       "    console.log(\"Bokeh: BokehJS not loaded, scheduling load and callback at\", now());\n",
       "    window._bokeh_is_loading = js_urls.length;\n",
       "    for (var i = 0; i < js_urls.length; i++) {\n",
       "      var url = js_urls[i];\n",
       "      var s = document.createElement('script');\n",
       "      s.src = url;\n",
       "      s.async = false;\n",
       "      s.onreadystatechange = s.onload = function() {\n",
       "        window._bokeh_is_loading--;\n",
       "        if (window._bokeh_is_loading === 0) {\n",
       "          console.log(\"Bokeh: all BokehJS libraries loaded\");\n",
       "          run_callbacks()\n",
       "        }\n",
       "      };\n",
       "      s.onerror = function() {\n",
       "        console.warn(\"failed to load library \" + url);\n",
       "      };\n",
       "      console.log(\"Bokeh: injecting script tag for BokehJS library: \", url);\n",
       "      document.getElementsByTagName(\"head\")[0].appendChild(s);\n",
       "    }\n",
       "  };var element = document.getElementById(\"4374ef7d-d3fb-4c12-b873-f9b8d14724f1\");\n",
       "  if (element == null) {\n",
       "    console.log(\"Bokeh: ERROR: autoload.js configured with elementid '4374ef7d-d3fb-4c12-b873-f9b8d14724f1' but no matching script tag was found. \")\n",
       "    return false;\n",
       "  }\n",
       "\n",
       "  var js_urls = [\"https://cdn.pydata.org/bokeh/release/bokeh-0.12.6.min.js\", \"https://cdn.pydata.org/bokeh/release/bokeh-widgets-0.12.6.min.js\"];\n",
       "\n",
       "  var inline_js = [\n",
       "    function(Bokeh) {\n",
       "      Bokeh.set_log_level(\"info\");\n",
       "    },\n",
       "    \n",
       "    function(Bokeh) {\n",
       "      \n",
       "    },\n",
       "    \n",
       "    function(Bokeh) {\n",
       "      \n",
       "      document.getElementById(\"4374ef7d-d3fb-4c12-b873-f9b8d14724f1\").textContent = \"BokehJS is loading...\";\n",
       "    },\n",
       "    function(Bokeh) {\n",
       "      console.log(\"Bokeh: injecting CSS: https://cdn.pydata.org/bokeh/release/bokeh-0.12.6.min.css\");\n",
       "      Bokeh.embed.inject_css(\"https://cdn.pydata.org/bokeh/release/bokeh-0.12.6.min.css\");\n",
       "      console.log(\"Bokeh: injecting CSS: https://cdn.pydata.org/bokeh/release/bokeh-widgets-0.12.6.min.css\");\n",
       "      Bokeh.embed.inject_css(\"https://cdn.pydata.org/bokeh/release/bokeh-widgets-0.12.6.min.css\");\n",
       "    }\n",
       "  ];\n",
       "\n",
       "  function run_inline_js() {\n",
       "    \n",
       "    if ((window.Bokeh !== undefined) || (force === true)) {\n",
       "      for (var i = 0; i < inline_js.length; i++) {\n",
       "        inline_js[i](window.Bokeh);\n",
       "      }if (force === true) {\n",
       "        display_loaded();\n",
       "      }} else if (Date.now() < window._bokeh_timeout) {\n",
       "      setTimeout(run_inline_js, 100);\n",
       "    } else if (!window._bokeh_failed_load) {\n",
       "      console.log(\"Bokeh: BokehJS failed to load within specified timeout.\");\n",
       "      window._bokeh_failed_load = true;\n",
       "    } else if (force !== true) {\n",
       "      var cell = $(document.getElementById(\"4374ef7d-d3fb-4c12-b873-f9b8d14724f1\")).parents('.cell').data().cell;\n",
       "      cell.output_area.append_execute_result(NB_LOAD_WARNING)\n",
       "    }\n",
       "\n",
       "  }\n",
       "\n",
       "  if (window._bokeh_is_loading === 0) {\n",
       "    console.log(\"Bokeh: BokehJS loaded, going straight to plotting\");\n",
       "    run_inline_js();\n",
       "  } else {\n",
       "    load_libs(js_urls, function() {\n",
       "      console.log(\"Bokeh: BokehJS plotting callback run at\", now());\n",
       "      run_inline_js();\n",
       "    });\n",
       "  }\n",
       "}(this));"
      ]
     },
     "metadata": {},
     "output_type": "display_data"
    }
   ],
   "source": [
    "#kplr used to import koi data easier\n",
    "import kplr\n",
    "client = kplr.API()\n",
    "\n",
    "#used to open .fits files\n",
    "import pyfits\n",
    "# import astropy\n",
    "\n",
    "#Used for Plotting\n",
    "#Experimenting with this instead of using matplot.lib\n",
    "from bokeh.plotting import figure, show, output_file,output_notebook\n",
    "#Allows for viewing of plots on jupyter notebooks\n",
    "output_notebook()\n",
    "\n",
    "#For Maximum Likelihood\n",
    "from scipy import optimize\n",
    "\n",
    "#Used for scientific computing\n",
    "import numpy as np\n",
    "\n",
    "#For making copies of data\n",
    "import copy\n",
    "\n",
    "#Needed to correct median with 'nan' data points\n",
    "import math\n",
    "\n",
    "#For Periodogram\n",
    "from gatspy.periodic import LombScargleFast\n",
    "\n",
    "#Importing and notebook setup\n",
    "%matplotlib inline\n",
    "\n",
    "#For Plotting\n",
    "import matplotlib.pyplot as plt\n",
    "\n",
    "#adjusting data using pyke\n",
    "import pyke\n",
    "\n",
    "#for astro constants\n",
    "from astropy.constants import *"
   ]
  },
  {
   "cell_type": "markdown",
   "metadata": {},
   "source": [
    "# Making useful functions"
   ]
  },
  {
   "cell_type": "markdown",
   "metadata": {},
   "source": [
    "Median Smooth"
   ]
  },
  {
   "cell_type": "code",
   "execution_count": 2,
   "metadata": {
    "collapsed": false
   },
   "outputs": [],
   "source": [
    "#Making loop to get Median Smooth\n",
    " \n",
    "#jump - The number of pixels you are taking the median\n",
    "### ex. jump = 7, median over 7 points, replaces values inbetween with median\n",
    "### Before: [1,2,3,4,5,6,7]\n",
    "### After:  [1,4,4,4,4,4,7]\n",
    "\n",
    "#delta_min - delta between pixels must be less than this to be smoothed\n",
    "#max_flux - anything above max_flux is smoothed out with median\n",
    "#### used to keep peaks unchanged\n",
    "\n",
    "def median_smooth(flux,jump,delta_max,max_flux):\n",
    "    #n - determines section of data we are looking at\n",
    "    n = 1\n",
    "    \n",
    "    #Data that is being changed and smoothed\n",
    "    smooth_flux = copy.copy(flux)\n",
    "\n",
    "    #median smoothing loop\n",
    "    while n <= len(smooth_flux)-jump-1:    \n",
    "        #delta of data from one point to another\n",
    "        #used in for loop to leave troughs unchanged\n",
    "        max_change = 0\n",
    "        increase = False\n",
    "        #Checks the max delta of data points for each jump\n",
    "        for i in range (n-1,n+jump-1):\n",
    "            delta = abs( flux[i]-flux[i+1])\n",
    "            delta = flux[i]-flux[i+1]\n",
    "            if delta > max_change:\n",
    "                max_change = delta\n",
    "            if flux[i] > max_flux:\n",
    "                increase = True\n",
    "        #Makes pixels in range equal to median\n",
    "        if max_change < delta_max:\n",
    "            median = np.median(flux[n-1:n+jump])\n",
    "            \n",
    "            #This line corrects errors with data labeled at 'nan' creates an 'nan' median\n",
    "            if math.isnan(median)==False:\n",
    "                smooth_flux[n:n+jump-2] = median\n",
    "\n",
    "        #removes increases in flux\n",
    "        if increase == True:\n",
    "            median = np.median(flux[n-1:n+jump])\n",
    "            smooth_flux[n:n+jump-2] = median\n",
    "\n",
    "        #Loop counter\n",
    "        n=n+jump\n",
    "\n",
    "    return smooth_flux\n"
   ]
  },
  {
   "cell_type": "markdown",
   "metadata": {},
   "source": [
    "Removing \"nan\" Flux Data Points"
   ]
  },
  {
   "cell_type": "code",
   "execution_count": 3,
   "metadata": {
    "collapsed": false
   },
   "outputs": [],
   "source": [
    "#Removes nan data points\n",
    "def remove_nan(datax,datay):\n",
    "    #array of nan points location in flux array\n",
    "    nan_points=np.array([])\n",
    "    \n",
    "    #finds points that have nan as data point\n",
    "    for j in range(0,len(datax)-1):\n",
    "        if math.isnan(datay[j])==True:\n",
    "            nan_points = np.append(nan_points,j)\n",
    "    \n",
    "    #deletes the points with nan and correspoding time\n",
    "    datax = np.delete(datax,nan_points)\n",
    "    datay = np.delete(datay,nan_points)\n",
    "        \n",
    "    return(datax,datay)"
   ]
  },
  {
   "cell_type": "markdown",
   "metadata": {},
   "source": [
    "Periodograms"
   ]
  },
  {
   "cell_type": "code",
   "execution_count": 4,
   "metadata": {
    "collapsed": true
   },
   "outputs": [],
   "source": [
    "######Lomb-Scargle Periodogram##########\n",
    "\n",
    "# Used to find periodic activity of star \n",
    "### Works only if you remove \"nan\" data points\n",
    "#1st argument: time data\n",
    "#2nd argument: flux data\n",
    "#3rd argument: range minimum for finding period\n",
    "#4th argument: range maximum for finding period\n",
    "#5th argument: time between data points\n",
    "def periodogram(datax, datay, min_per, max_per, nyquist):\n",
    "    #finding periodogram\n",
    "    model = LombScargleFast().fit(datax, datay)\n",
    "    period, power = model.periodogram_auto(nyquist_factor=nyquist)\n",
    "\n",
    "    #Plotting\n",
    "    periodogram = figure(\n",
    "        x_axis_label=\"Period\",\n",
    "        x_axis_type=\"log\",\n",
    "        y_axis_label=\"Period\",\n",
    "        tools = 'hover,crosshair,pan,wheel_zoom,box_zoom,reset,tap,save,box_select')\n",
    "\n",
    "    #adding x and y data for plot\n",
    "    periodogram.line(period,power)\n",
    "\n",
    "    #showing results\n",
    "    show(periodogram)\n",
    "\n",
    "    # set range and find period\n",
    "    model.optimizer.period_range=(min_per, max_per)\n",
    "    period = model.best_period\n",
    "    print(\"period = {0}\".format(period))\n",
    "    return period"
   ]
  },
  {
   "cell_type": "code",
   "execution_count": 5,
   "metadata": {
    "collapsed": true
   },
   "outputs": [],
   "source": [
    "#My own method of finding periods\n",
    "#### Only works for clear periodiotic drops in flux\n",
    "### Step 1: Make a cut_off and only look at that data\n",
    "### Step 2: Find min flux of each trough\n",
    "### Step 3: Find the avg. time diff between each local min\n",
    "###Still need to makes this plot into a function and then will place it up above\n",
    "\n",
    "#1st Argument: Flux Data\n",
    "#2nd Argument: cut_off for troughs that get counted\n",
    "\n",
    "def find_period(flux,cut_off):\n",
    "    # cut_off is the max the point can be to pass the filter\n",
    "    # f_change - change in flux from cutoff\n",
    "\n",
    "    min_f = np.array([])\n",
    "    min_t = np.array([])\n",
    "\n",
    "    #Step 1: filters data to just the points below the cut_off\n",
    "    for i in range(0,len(flux)):\n",
    "        f_change = flux[i] - cut_off\n",
    "\n",
    "        #checks if it's lower than cut off\n",
    "        if f_change < 0:\n",
    "            min_f = np.append(min_f,[flux[i]])\n",
    "            min_t = np.append(min_t,[t[i]])\n",
    "\n",
    "    # print min_f\n",
    "    # print min_t\n",
    "\n",
    "    #local_min - lowest point of troughs place holder\n",
    "    #check - checks to see if new point is lower than previous local_min\n",
    "    local_min = min_f[0]\n",
    "    ndata = 0\n",
    "    troughs_f = np.array([])\n",
    "    troughs_t = np.array([])\n",
    "\n",
    "    #Step 2: filters to just show only the lowest point of each trough\n",
    "    for i in range(0,len(min_f)-1):\n",
    "        t_change = min_t[i+1] - min_t[i]\n",
    "        check = min_f[i]\n",
    "        # checks if it's lower than previous local_min\n",
    "        if check < local_min:\n",
    "            local_min = check\n",
    "            ndata = i\n",
    "\n",
    "        #documents lowest point of each trough and resets check for next trough\n",
    "        #t_change: checks time seperation between points to distinguish two seperate troughs, \n",
    "        #          can also be seen as min period it looks for\n",
    "        if t_change > .5 or i > len(min_f)-3:\n",
    "            troughs_f = np.append(troughs_f, [local_min])\n",
    "            troughs_t = np.append(troughs_t, [min_t[ndata]])\n",
    "            local_min = cut_off\n",
    "\n",
    "    # print 'The min of each flux trough: ', troughs_f\n",
    "    # print 'The corresponding time for each trough: ' ,troughs_t\n",
    "\n",
    "    all_periods = np.array([])\n",
    "\n",
    "    #Step 3: finding average change in time from each trough\n",
    "    for i in range(0,len(troughs_t)-1):\n",
    "        period = troughs_t[i+1]-troughs_t[i]\n",
    "        all_periods = np.append(all_periods,period)\n",
    "\n",
    "    avg_period = np.mean(all_periods)\n",
    "    print 'All periods: ', all_periods\n",
    "    print 'Avg. period: ', avg_period, ' days.'\n",
    "\n",
    "    return avg_period"
   ]
  },
  {
   "cell_type": "markdown",
   "metadata": {},
   "source": [
    "# Beginning to Look at Data"
   ]
  },
  {
   "cell_type": "markdown",
   "metadata": {},
   "source": [
    "Importing Data"
   ]
  },
  {
   "cell_type": "code",
   "execution_count": 6,
   "metadata": {
    "collapsed": false
   },
   "outputs": [
    {
     "name": "stdout",
     "output_type": "stream",
     "text": [
      "Kepler ID  10874614\n"
     ]
    }
   ],
   "source": [
    "# Find a KOI.\n",
    "koi = client.koi(17.01)\n",
    "\n",
    "#period, period error (postive & negative)\n",
    "# print 'Period w/ errors: ',(koi.koi_period, koi.koi_period_err1, koi.koi_period_err2)\n",
    "\n",
    "# This KOI has an associated star.\n",
    "# star = koi.star\n",
    "# print star\n",
    "# print \"Associated Star Temperature: \",(star.kic_teff)\n",
    "\n",
    "#Download the lightcurves for this KOI.\n",
    "lightcurves = koi.get_light_curves(short_cadence=False)\n",
    "# for lc in lightcurves:\n",
    "#     print (lc.filename)\n",
    "print \"Kepler ID \", koi.kepid"
   ]
  },
  {
   "cell_type": "markdown",
   "metadata": {},
   "source": [
    "Getting Like Curve Data"
   ]
  },
  {
   "cell_type": "code",
   "execution_count": 7,
   "metadata": {
    "collapsed": false
   },
   "outputs": [],
   "source": [
    "# Loop over the datasets and read in the data.\n",
    "time, flux, ferr, quality = [], [], [], []\n",
    "for lc in lightcurves:\n",
    "    with lc.open() as f:\n",
    "        # The lightcurve data are in the first FITS HDU.\n",
    "        #can also append \"SAP_Flux\n",
    "        hdu_data = f[1].data\n",
    "        time.append(hdu_data[\"time\"])\n",
    "        flux.append(hdu_data[\"PDCSAP_FLUX\"])\n",
    "        ferr.append(hdu_data[\"PDCSAP_FLUX_ERR\"])\n",
    "        quality.append(hdu_data[\"sap_quality\"])"
   ]
  },
  {
   "cell_type": "markdown",
   "metadata": {},
   "source": [
    "Initial Plot of Data"
   ]
  },
  {
   "cell_type": "code",
   "execution_count": 57,
   "metadata": {
    "collapsed": false,
    "scrolled": false
   },
   "outputs": [
    {
     "data": {
      "text/html": [
       "\n",
       "\n",
       "    <div class=\"bk-root\">\n",
       "        <div class=\"bk-plotdiv\" id=\"fb5698ef-fc25-41df-9a48-b96c94b69c52\"></div>\n",
       "    </div>\n",
       "<script type=\"text/javascript\">\n",
       "  \n",
       "  (function(global) {\n",
       "    function now() {\n",
       "      return new Date();\n",
       "    }\n",
       "  \n",
       "    var force = false;\n",
       "  \n",
       "    if (typeof (window._bokeh_onload_callbacks) === \"undefined\" || force === true) {\n",
       "      window._bokeh_onload_callbacks = [];\n",
       "      window._bokeh_is_loading = undefined;\n",
       "    }\n",
       "  \n",
       "  \n",
       "    \n",
       "    if (typeof (window._bokeh_timeout) === \"undefined\" || force === true) {\n",
       "      window._bokeh_timeout = Date.now() + 0;\n",
       "      window._bokeh_failed_load = false;\n",
       "    }\n",
       "  \n",
       "    var NB_LOAD_WARNING = {'data': {'text/html':\n",
       "       \"<div style='background-color: #fdd'>\\n\"+\n",
       "       \"<p>\\n\"+\n",
       "       \"BokehJS does not appear to have successfully loaded. If loading BokehJS from CDN, this \\n\"+\n",
       "       \"may be due to a slow or bad network connection. Possible fixes:\\n\"+\n",
       "       \"</p>\\n\"+\n",
       "       \"<ul>\\n\"+\n",
       "       \"<li>re-rerun `output_notebook()` to attempt to load from CDN again, or</li>\\n\"+\n",
       "       \"<li>use INLINE resources instead, as so:</li>\\n\"+\n",
       "       \"</ul>\\n\"+\n",
       "       \"<code>\\n\"+\n",
       "       \"from bokeh.resources import INLINE\\n\"+\n",
       "       \"output_notebook(resources=INLINE)\\n\"+\n",
       "       \"</code>\\n\"+\n",
       "       \"</div>\"}};\n",
       "  \n",
       "    function display_loaded() {\n",
       "      if (window.Bokeh !== undefined) {\n",
       "        var el = document.getElementById(\"fb5698ef-fc25-41df-9a48-b96c94b69c52\");\n",
       "        el.textContent = \"BokehJS \" + Bokeh.version + \" successfully loaded.\";\n",
       "      } else if (Date.now() < window._bokeh_timeout) {\n",
       "        setTimeout(display_loaded, 100)\n",
       "      }\n",
       "    }\n",
       "  \n",
       "    function run_callbacks() {\n",
       "      try {\n",
       "        window._bokeh_onload_callbacks.forEach(function(callback) { callback() });\n",
       "      }\n",
       "      finally {\n",
       "        delete window._bokeh_onload_callbacks\n",
       "      }\n",
       "      console.info(\"Bokeh: all callbacks have finished\");\n",
       "    }\n",
       "  \n",
       "    function load_libs(js_urls, callback) {\n",
       "      window._bokeh_onload_callbacks.push(callback);\n",
       "      if (window._bokeh_is_loading > 0) {\n",
       "        console.log(\"Bokeh: BokehJS is being loaded, scheduling callback at\", now());\n",
       "        return null;\n",
       "      }\n",
       "      if (js_urls == null || js_urls.length === 0) {\n",
       "        run_callbacks();\n",
       "        return null;\n",
       "      }\n",
       "      console.log(\"Bokeh: BokehJS not loaded, scheduling load and callback at\", now());\n",
       "      window._bokeh_is_loading = js_urls.length;\n",
       "      for (var i = 0; i < js_urls.length; i++) {\n",
       "        var url = js_urls[i];\n",
       "        var s = document.createElement('script');\n",
       "        s.src = url;\n",
       "        s.async = false;\n",
       "        s.onreadystatechange = s.onload = function() {\n",
       "          window._bokeh_is_loading--;\n",
       "          if (window._bokeh_is_loading === 0) {\n",
       "            console.log(\"Bokeh: all BokehJS libraries loaded\");\n",
       "            run_callbacks()\n",
       "          }\n",
       "        };\n",
       "        s.onerror = function() {\n",
       "          console.warn(\"failed to load library \" + url);\n",
       "        };\n",
       "        console.log(\"Bokeh: injecting script tag for BokehJS library: \", url);\n",
       "        document.getElementsByTagName(\"head\")[0].appendChild(s);\n",
       "      }\n",
       "    };var element = document.getElementById(\"fb5698ef-fc25-41df-9a48-b96c94b69c52\");\n",
       "    if (element == null) {\n",
       "      console.log(\"Bokeh: ERROR: autoload.js configured with elementid 'fb5698ef-fc25-41df-9a48-b96c94b69c52' but no matching script tag was found. \")\n",
       "      return false;\n",
       "    }\n",
       "  \n",
       "    var js_urls = [];\n",
       "  \n",
       "    var inline_js = [\n",
       "      function(Bokeh) {\n",
       "        (function() {\n",
       "          var fn = function() {\n",
       "            var docs_json = {\"542b3064-658f-4c07-99d1-ea0e93ee67fb\":{\"roots\":{\"references\":[{\"attributes\":{},\"id\":\"3c822ecd-35ed-43e5-bc2a-52dfb5b77e60\",\"type\":\"ToolEvents\"},{\"attributes\":{\"plot\":{\"id\":\"18f1d467-3a00-488f-b7dd-cd0f031f22a5\",\"subtype\":\"Figure\",\"type\":\"Plot\"}},\"id\":\"bf5a10c9-d444-416b-84a2-913ad97cf20f\",\"type\":\"PanTool\"},{\"attributes\":{\"callback\":null,\"column_names\":[\"y\",\"x\"],\"data\":{\"x\":[131.51178135778173,131.53221582827246,131.5526501987697,131.5730844693171,131.59351883981435,131.61395331031235,131.63438758080883,131.6548219512988,131.6752564217968,131.69569079228677,131.71612506272504,131.73655943322228,131.7569939036548,131.77742817415128,131.79786254459032,131.81829701508104,131.83873128551932,131.85916565595835,131.8796000263901,131.90003439682914,131.92046876726818,131.94090313769993,131.96133750808076,131.9817718785198,132.00220624889334,132.02264051933162,132.0430749897132,132.06350936008675,132.08394363046682,132.10437800084765,132.12481247122196,132.14524674160202,132.16568111192464,132.18611558229895,132.20654995262157,132.22698422300164,132.24741859332426,132.26785306364036,132.28828733396222,132.30872170427756,132.32915617454273,132.3495904448646,132.3700248151872,132.39045918544434,132.41089355570875,132.4313279259659,132.4517622962303,132.47219676649547,132.49263103675912,132.51306540695805,132.5334996771635,132.5539341474214,132.5743685176276,132.59480278783303,132.61523725804,132.63567162818072,132.65610599838692,132.67654026853415,132.69697473873384,132.71740910888184,132.73784337902907,132.75827784917055,132.77871221926034,132.79914648940758,132.8195808594901,132.84001532958064,132.86044959966966,132.88088396975218,132.90131843984273,132.92175270987354,132.94218707995606,132.96262144998764,132.98305592001998,133.00349019004352,133.0239245600751,133.04435893004847,133.06479330001457,133.08522767004615,133.10566203996132,133.1260964099274,133.1465307799008,133.16696514987416,133.18739951978205,133.20783398969797,133.22826825961238,133.24870262946206,133.26913699937722,133.28957136923418,133.31000573908386,133.33044000894006,133.35087447879778,133.37130884864746,133.3917432184462,133.41217758824496,133.43261195803643,133.45304632783518,133.47348059757496,133.4939150673672,133.51434943710774,133.53478370684752,133.55521817652334,133.57565254626388,133.59608681594545,133.6165211856205,133.6369556553036,133.65739002497867,133.67782429460203,133.69825876422692,133.71869313385105,133.73912740346714,133.75956177309126,133.77999624265067,133.80043051221583,133.82086488178174,133.84129925134766,133.8617336208481,133.8821679903558,133.90260235986352,133.92303672936396,133.94347109881346,133.96390546826296,133.98433973770443,134.0047742071547,134.0252085766042,134.04564284598746,134.06607731537952,134.0865116847708,134.10694595409586,134.12738032342895,134.1478147927628,134.1682491620886,134.18868343142094,134.20911790069658,134.2295522699642,134.2499865391801,134.27042090845498,134.29085537766514,134.31128964688105,134.33172401609772,134.35215848524967,134.37259275440738,134.39302712356584,134.41346149265883,134.4338958618173,134.45433023091755,134.47476459995232,134.49519906905334,134.51563333809463,134.5360677071294,134.5565019761707,134.5769364451553,134.59737081413186,134.61780508311494,134.63823945204058,134.6586739210179,134.67910828988533,134.69954265881097,134.71997702772933,134.74041139653855,134.7608456654052,134.78128003426536,134.80171450307535,134.82214887188456,134.84258314063482,134.8630176093793,134.88345197813032,134.90388634687406,134.9243206155661,134.94475508425967,134.9651894529452,134.98562372157903,135.0060581902144,135.0264925588417,135.04692682747554,135.06736119605193,135.0877956646218,135.10822993313923,135.1286643016574,135.14909877016908,135.16953313868726,135.18996740714647,135.21040177559917,135.2308362440017,135.2512705124027,135.2717048807972,135.2921391491982,135.3125736175425,135.3330079858788,135.35344225416338,135.3738767224495,135.39431109072757,135.41474545901292,135.4351797272393,135.45561419545993,135.47604856362886,135.49648283179704,135.51691729995946,135.5373516680702,135.55778593618015,135.57822030429088,135.5986547723369,135.61908904038864,135.6395234084339,135.65995787642896,135.68039224442327,135.70082651241682,135.72126088034565,135.74169534828252,135.76212961615238,135.78256398403028,135.80299845190893,135.82343271972786,135.84386708754027,135.86430145535996,135.88473582311417,135.90517019087565,135.92560455857893,135.94603882628144,135.9664732939782,135.98690766162326,136.00734192926757,136.02777639690612,136.04821076449298,136.06864503202087,136.08907939960045,136.10951386712986,136.12994823459303,136.1503825020627,136.17081696953392,136.19125133700436,136.21168560440856,136.2321199717626,136.2525544391101,136.27298870646337,136.2934230738174,136.31385754111398,136.33429180834355,136.35472617558116,136.37516054281878,136.3955949099909,136.4160292771703,136.43646364434971,136.4568981114644,136.47733237852663,136.49776674564782,136.51820111264533,136.53863547970832,136.5590698466549,136.5795042137106,136.59993858065718,136.62037294760376,136.64080731442664,136.6612416813732,136.68167604820337,136.70211041502625,136.7225447818564,136.7429790485694,136.76341351527662,136.78384788210678,136.80428214870335,136.82471661541058,136.8451509820079,136.86558534871438,136.88601961531094,136.90645408190903,136.92688844838995,136.94732271486282,136.9677571813445,136.98819154781813,137.00862581429828,137.02906018066278,137.04949464714446,137.0699289133845,137.090363279749,137.11079774610698,137.1312320123543,137.15166637860239,137.17210074485047,137.19253521097562,137.21296947722294,137.2334038433546,137.25383810947824,137.27427257549425,137.2947069415095,137.31514120763313,137.33557567353273,137.35601003954798,137.37644440555596,137.39687867145403,137.41731313735363,137.43774750312878,137.45818176902685,137.47861623481003,137.49905060058518,137.51948486625042,137.53991923203284,137.56035369769234,137.58078796335758,137.60122232902359,137.62165679456666,137.64209116023267,137.66252542566508,137.6829597912074,137.70339425675775,137.72382852219016,137.74426288761606,137.76469735305,137.785131618366,137.80556598367548,137.82600024899148,137.846434714309,137.86686907950207,137.8873034447024,137.907737709902,137.92817217509582,137.94860654017975,137.96904080526292,137.98947527034034,138.00990963542426,138.03034390039102,138.05077826535853,138.07121273031953,138.09164709517063,138.1120813600137,138.13251582486555,138.15295018971665,138.1733844545597,138.1938188192944,138.21425328402984,138.23468764864083,138.25512191337475,138.27555637799378,138.29599074260477,138.31642500710586,138.33685937160772,138.35729383610305,138.3777282006049,138.39816246498958,138.41859692948492,138.43903129375394,138.45946555813862,138.47989992240036,138.50033438667015,138.5207686509384,138.54120301520015,138.56163737935276,138.58207174350537,138.60250610753428,138.6229404716869,138.64337483572308,138.66380919963558,138.68424356367177,138.70467782759079,138.72511229150405,138.74554665542382,138.76598091922642,138.78641538302327,138.80684974682663,138.8272840105128,138.84771837419248,138.8681528378802,138.88858720156713,138.9090214651369,138.92945592870092,138.94989029227145,138.97032455571753,138.99075891917164,139.01119338262652,139.03162764596345,139.05206200929388,139.07249647263234,139.092930735962,139.11336509918328,139.13379946240457,139.15423382562585,139.17466818872344,139.1951025518283,139.21553681493242,139.23597127791436,139.25640564101923,139.2768399038905,139.29727436687244,139.31770872974448,139.33814309260924,139.35857735548052,139.3790118182369,139.39944618099253,139.4198804436237,139.44031490638008,139.460749269012,139.48118353165046,139.50161789417325,139.5220523566968,139.54248661921156,139.56292098161794,139.5833554440178,139.6037897064234,139.6242240688298,139.64465843111975,139.6650928934032,139.68552715557598,139.70596151774953,139.7263958799158,139.74683024208935,139.76726460414648,139.78769896619633,139.80813332813705,139.82856769019418,139.84900205212762,139.86943641395192,139.88987077577622,139.91030513759324,139.93073949941754,139.9511739611189,139.97160822282603,139.99204258453392,140.01247684612463,140.03291130770958,140.05334566918464,140.07378003076883,140.09421439224388,140.11464875360252,140.13508311507758,140.15551737631176,140.17595183767116,140.1963861989061,140.21682046014757,140.23725492139056,140.25768928251637,140.27812354363414,140.29855790464353,140.3189923656464,140.33942662665504,140.35986098766443,140.3802953485574,140.40072980944387,140.42116407021967,140.44159843099624,140.46203289176628,140.48246715242567,140.50290151308582,140.52333577373793,140.54377023428242,140.56420459482615,140.5846389553626,140.60507331578992,140.62550767621724,140.64594203652086,140.66637629694742,140.68681075714267,140.7072451174463,140.72767937764002,140.74811383783526,140.76854819790606,140.78898245798337,140.80941681806144,140.82985127801658,140.85028563797823,140.87071989793913,140.8911542577771,140.9115887176231,140.93202297735115,140.95245733718912,140.9728917968023,140.99332605653035,141.01376041613548,141.03419477563148,141.05462913512747,141.0750634946162,141.09549785411218,141.11593221349176,141.13636657286406,141.15680093212723,141.17723519138963,141.19766965064628,141.21810400979302,141.238538268939,141.25897272807924,141.27940708710958,141.29984134613915,141.3202757050458,141.34071016396047,141.36114452287438,141.38157878166385,141.40201314046135,141.4224475991432,141.442881957817,141.46331621649733,141.48375067517918,141.50418503373658,141.52461929218407,141.54505365063233,141.5654880090733,141.58592246752232,141.606356725737,141.6267911840623,141.64722554227774,141.6676598004924,141.68809415870055,141.70852861680032,141.72896287478216,141.7493972328739,141.76983169074083,141.79026594872266,141.81070030658157,141.83113466444775,141.8515690221975,141.87200337994,141.89243773757335,141.91287219520746,141.93330645283277,141.9537408103497,141.97417506786587,141.9946095253763,142.0150438827768,142.03547814006015,142.0559124974534,142.07634695462184,142.09678131190594,142.11721556907287,142.13765002623404,142.1580843832853,142.17851864032855,142.1989529972634,142.21938745419902,142.23982171113312,142.26025606794428,142.28069052464707,142.30112478145747,142.3215591381595,142.3419934947451,142.3624279513242,142.38286220790906,142.40329656437825,142.42373102084093,142.44416527730937,142.46459963366215,142.48503388989775,142.5054683461276,142.52590270236396,142.54633705847664,142.56677131459583,142.58720577071654,142.60764012672007,142.62807438259915,142.64850883860345,142.66894319436688,142.68937745025323,142.70981180602394,142.73024626167899,142.75068051732524,142.77111487297952,142.79154932851088,142.811983584048,142.83241793946945,142.8528522948909,142.87328675030585,142.89372100549372,142.91415536079876,142.93458981598087,142.95502407116874,142.97545842624095,142.99589268130512,143.01632713626168,143.03676149121748,143.057195846166,143.07763020100538,143.09806455584476,143.11849891056045,143.1389332652834,143.1593676198827,143.17980197448924,143.2002362289786,143.22067058346875,143.24110503795237,143.26153939232609,143.28197374669253,143.30240810094983,143.32284245520714,143.34327680934803,143.36371106348088,143.3841455175061,143.4045798715233,143.42501412554702,143.44544857945584,143.46588293324749,143.4863171870311,143.50675154082273,143.52718599449145,143.54762034816667,143.56805460172473,143.5884890552843,143.60892340883584,143.62935766216106,143.64979201560345,143.67022646892292,143.69066072213172,143.7110950753413,143.73152942854358,143.75196378163673,143.77239813472988,143.79283248769934,143.81326684067608,143.8337011935364,143.85413554638944,143.8745697991326,143.89500425187725,143.91543860461388,143.9358728572406,143.95630730975245,143.97674166225625,143.99717591476656,144.01761026716122,144.03804471943295,144.0584790717112,144.07891332398867,144.099347776144,144.11978212830581,144.14021638035047,144.1606507323886,144.18108518431836,144.2015194362466,144.2219537880519,144.24238823986525,144.26282249156066,144.28325684324955,144.3036911948293,144.32412554640905,144.34455989798153,144.36499424944486,144.38542850079102,144.40586295213143,144.42629730336193,144.44673155459168,144.46716600581567,144.48760035692976,144.50803460792667,144.52846895891707,144.5489034099155,144.56933776079677,144.58977201156085,144.61020646231918,144.63064081308403,144.65107506372442,144.67150941437285,144.69194386490562,144.7123781153132,144.73281246572878,144.75324691614514,144.7736811664363,144.79411551661906,144.81454986680183,144.83498431697808,144.85541856704367,144.87585291711002,144.89628726705268,144.9167216168862,144.93715596671973,144.95759031654597,144.97802476626384,144.99845901586377,145.0188933654572,145.03932771505788,145.05976206454216,145.08019641390274,145.1006307632706,145.12106521263922,145.14149946188263,145.16193381101766,145.18236806015193,145.20280250928045,145.22323685829906,145.2436711072005,145.26410555609618,145.28453990488197,145.30497425366775,145.32540850233636,145.3458429509992,145.36627729955217,145.38671154809708,145.40714599653438,145.42758034497092,145.44801459329028,145.46844894160313,145.4888833898076,145.50931763800327,145.52975198609056,145.55018633406144,145.5706207820258,145.5910550299959,145.61148937785038,145.6319238255819,145.6523580733192,145.67279242105724,145.6932266686781,145.7136611161768,145.73409546368202,145.75452981106355,145.77496415845235,145.79539850572473,145.81583285299712,145.83626710014505,145.85670154730178,145.87713589433406,145.89757014125644,145.91800458818034,145.93843893510348,145.95887318190216,145.97930752859247,145.99974197527627,146.02017632185016,146.0406105684233,146.06104501488153,146.08147936133173,146.10191360767203,146.12234795389668,146.1427824001148,146.1632166463387,146.18365099244693,146.20408533843147,146.22451968442329,146.2449540302987,146.2653883761668,146.2858227219258,146.30625706768478,146.32669141332008,146.34712565884547,146.3675601043651,146.38799444989127,146.40842869530024,146.42886314059433,146.44929748588038,146.46973173105653,146.49016617622692,146.51060052128742,146.5310348662315,146.5514691111748,146.57190355611237,146.59233790082362,146.612772245644,146.63320649023808,146.6536409349501,146.6740752794285,146.6945095238989,146.71494396837807,146.7353783127328,146.75581265697838,146.7762469012232,146.79668134535314,146.81711568947503,146.83754993348703,146.85798427738337,146.8784187212732,146.89885296505236,146.91928730883228,146.93972175248928,146.96015599615203,146.98059033969912,147.00102468312252,147.0214590265532,147.04189336998388,147.06232771317445,147.08276215648948,147.10319639957015,147.1236307426443,147.14406498572498,147.16449942857435,147.1849337715321,147.2053680142635,147.22580245711288,147.24623679972137,147.26667114233715,147.28710538483574,147.30753982732858,147.32797416971152,147.3484084120937,147.36884275435295,147.38927719650383,147.40971143865318,147.4301457806796,147.45058022271405,147.47101446463057,147.49144880654057,147.51188314822502,147.53231759002665,147.55275183158665,147.5731861732711,147.59362061472348,147.61405485616706,147.63448919750226,147.6549234388367,147.67535788004898,147.69579222126777,147.71622646225296,147.73666090334882,147.75709524433478,147.77752958520432,147.79796382595669,147.8183982667033,147.83883260734,147.85926684796868,147.87970118848898,147.90013562901004,147.92056986940588,147.94100420969335,147.96143864986516,147.9818728901446,148.00230723019922,148.02274157025386,148.04317601018556,148.06361025012302,148.08404458994482,148.1044790296437,148.12491326934833,148.1453476089373,148.165781948519,148.18621628787514,148.2066506273477,148.22708496669657,148.24751940593706,148.2679536450596,148.28838798417564,148.30882232318254,148.32925666218944,148.34969100107264,148.3701253398467,148.39055957862,148.41099401727115,148.4314283559288,148.45186269447004,148.47229703288758,148.492731371196,148.5131657095044,148.53359994781204,148.5540343859975,148.57446872407309,148.5949029620242,148.61533739998413,148.63577173782687,148.65620597566885,148.6766403133879,148.69707475099858,148.71750898860046,148.73794332609395,148.7583777634718,148.7788121008416,148.7992463381015,148.81968067536218,148.84011511249992,148.860549349527,148.88098368655483,148.90141812345973,148.92185236025398,148.94228669704898,148.9627210337203,148.98315537028247,149.00358970684465,149.0240240432904,149.04445827972813,149.06489271594182,149.0853270522639,149.10576128835964,149.12619572445692,149.14663006043702,149.16706429640908,149.18749863227276,149.20793306801352,149.22836740376079,149.24880163939088,149.26923607490608,149.28967041041324,149.3101046458105,149.3305389810921,149.3509734163672,149.37140765153163,149.39184198669682,149.41227642173908,149.43271065667068,149.45314499148662,149.4735793262953,149.49401366099482,149.51444799569435,149.53488233015378,149.55531676473765,149.5757509990799,149.59618533343018,149.6166195676633,149.63705400189792,149.6574883360081,149.67792257000838,149.698356903893,149.7187913377711,149.73922567153932,149.75965990530676,149.78009433895204,149.80052867248742,149.82096290590562,149.8413972393173,149.8618316726206,149.88226600592316,149.90270023910125,149.92313467217173,149.94356900511775,149.96400333807105,149.98443757090718,150.00487200374482,150.02530633645802,150.0457405690613,150.06617500154243,150.08660933403007,150.10704356640053,150.12747789865534,150.14791233090364,150.16834656304127,150.18878089506325,150.2092153270787,150.2296495589835,150.25008389077266,150.27051822255453,150.29095265422802,150.31138688578358,150.33182121733262,150.35225544865534,150.372689880096,150.3931242112958,150.4135584425021,150.43399287359352,150.4544272045605,150.47486153553473,150.4952957663918,150.5157301971267,150.5361645278681,150.55659875849233,150.5770331889944,150.59746751950297,150.61790174989437,150.63833608016284,150.65877051032294,150.6792047404815,150.69963907051715,150.72007350056083,150.74050783037092,150.76094206017297,150.78137638986664,150.80181081956107,150.8222450491303,150.84267937859113,150.86311380805273,150.8835480372727,150.9039823665007,150.92441669572872,150.94485102471663,150.9652853537118,150.98571968259057,151.00615391146857,151.0265883402244,151.04702266887034,151.06745689739182,151.0878913259221,151.1083256543352,151.12875988262385,151.14919421080413,151.16962863898516,151.19006286704098,151.21049719510484,151.23093162293662,151.25136595076037,151.27180017859064,151.29223450618883,151.31266893378051,151.33310316126153,151.3535374886269,151.37397191598575,151.39440614323394,151.41484047036647,151.4352747973753,151.45570912439143,151.47614345129114,151.49657777806715,151.51701210485044,151.5374464315173,151.5578807580605,151.57831508449453,151.59874951092934,151.61918373723893,151.63961806344014,151.66005238952494,151.68048671560246,151.70092104157084,151.7213553674228,151.7417896932675,151.76222401900304,151.78265834462218,151.80309257011686,151.82352699562034,151.84396132089023,151.86439554627577,151.88482997142273,151.9052642965762,151.9256985214888,151.94613284652587,151.96656727133086,151.9870015961278,152.00743582081486,152.02787024538702,152.04830456983473,152.06873879428895,152.0891731186275,152.10960754284315,152.13004176694812,152.15047609105386,152.1709104150359,152.1913447389088,152.21177906278172,152.2322133865382,152.25264781017177,152.27308203369466,152.29351635709463,152.3139505805011,152.3343850037927,152.35481932696712,152.3752535501335,152.39568797307584,152.41612229601014,152.4365566188353,152.45699084165972,152.47742526425282,152.49785958683788,152.51829380931304,152.53872823178244,152.55916255402553,152.57959677626786,152.60003109839454,152.6204655205147,152.64089974240778,152.66133406430163,152.68176838607178,152.7022027078492,152.7226370293938,152.74307135093113,152.76350577236008,152.7839399936638,152.80437431485916,152.82480853605375,152.84524295713345,152.8656772780887,152.88611149893404,152.90654591977363,152.92698024050333,152.9474145611166,152.9678487816127,152.98828320210305,153.00871752236708,153.02915174263035,153.04958616288786,153.07002048291906,153.0904547029495,153.110889022857,153.13132344265614,153.15175766233733,153.1721919818956,153.19262630146113,153.21306072091102,153.23349504023645,153.2539292595684,153.27436367866176,153.29479799776163,153.31523221674433,153.33566653561138,153.35610085447115,153.37653517310537,153.39696949173958,153.41740391025087,153.43783822876867,153.45827244705288,153.47870676533057,153.4991411834999,153.51957540155126,153.5400097194797,153.5604441374162,153.58087835523474,153.60131267281395,153.62174699051684,153.6421813079869,153.6626156254497,153.68304994268692,153.7034841599234,153.7239185771541,153.7443528941585,153.76478711116215,153.7852215279272,153.80565584469878,153.82609006135317,153.84652437800105,153.86695879442414,153.8873930108457,153.90782732714433,153.9282617433346,153.94869605952408,153.9691302754727,153.98956459142937,154.00999900727038,154.03043322298618,154.0508675385936,154.07130195420177,154.09173616968474,154.1121704849429,154.13260480020108,154.15303911545197,154.17347343047732,154.19390774550266,154.2143420604043,154.23477637519682,154.2552106898729,154.27564490442455,154.296079318985,154.31651363342826,154.33694784763065,154.3573821619575,154.37781657605228,154.39825079002185,154.41868510399945,154.4391195178614,154.4595538315989,154.4799880452265,154.50042235873843,154.52085677224386,154.5412909855222,154.56172529880132,154.5821597119575,154.60259392511944,154.6230282380493,154.6434625509719,154.66389686366892,154.68433117636596,154.7047654889393,154.72519990152068,154.7456341138677,154.76606842620822,154.78650273832318,154.80693705043814,154.8273713624294,154.84780557442718,154.86823998619366,154.8886742979521,154.90910860948497,154.92954292101786,154.94997723242705,154.9704115437271,154.99084585502715,155.01128006608633,155.0317144771543,155.05214878810511,155.07258299893874,155.0930174096502,155.11345172025176,155.13388593084528,155.15432024133042,155.1747546515835,155.19518896182853,155.2156231720801,155.23605748209957,155.25649189199612,155.27692610189843,155.29736041156866,155.31779482123238,155.33822903078544,155.35866334022285,155.37909764965298,155.39953195885755,155.41996626806213,155.44040057715029,155.46083498611551,155.48126919497008,155.50170350370172,155.52213771232346,155.54257212094672,155.56300642933638,155.583440637718,155.60387504599203,155.6243093541416,155.644743662182,155.66517787010525,155.68561227803002,155.70604658571392,155.72648079340433,155.7469151009791,155.76734950843093,155.7877837157721,155.8082180229976,155.8286524302166,155.84908663720853,155.8695209442012,155.8899552510702,155.91038965783082,155.9308238644735,155.95125817099324,155.9716925774046,155.99212678380718,156.01256108998496,156.03299529616197,156.0534297022241,156.07386400816176,156.0942983139903,156.11473261969513,156.13516692529083,156.15560123088653,156.17603543624864,156.196469841605,156.21690414685145,156.23733835198072,156.25777265698707,156.27820706188504,156.29864126666507,156.3190755714386,156.3395099759873,156.3599441805345,156.38037848495878,156.4008127892739,156.4212471934734,156.44168139754765,156.46211570151354,156.4825501053565,156.5029843092052,156.52341861282184,156.54385291643848,156.56428721993143,156.58472152331524,156.60515582658263,156.62559012972633,156.6460244327609,156.66645873567904,156.68689303858991,156.70732734127523,156.72776164396055,156.74819594652217,156.76863014885748,156.78906455119431,156.8094988534067,156.82993315550993,156.85036745761317,156.8708017594763,156.89123606134672,156.91167026298353,156.9321046646146,156.95253896613576,156.97297316742333,156.99340756870515,157.01384186987707,157.0342760709318,157.05471037198004,157.07514477280347,157.09557897350896,157.11601327420794,157.13644767479855,157.15688197515556,157.17731617550453,157.19775047574512,157.21818487587007,157.2386190758698,157.25905337576114,157.27948767553607,157.29992197530373,157.32035627484584,157.34079057427152,157.36122487368993,157.3816591729992,157.40209347207565,157.42252767115133,157.44296207010484,157.46339636894845,157.4838305676676,157.50426496627915,157.52469926477352,157.54513346325984,157.56556776152138,157.58600215978367,157.60643635780434,157.62687065583305,157.64730505362968,157.66773935141828,157.68817354909697,157.70860784666002,157.72904224410013,157.74947644142958,157.76991073864338,157.79034513573424,157.81077933283086,157.8312136296954,157.85164792643627,157.8720822231844,157.8925165196997,157.91295081620774,157.93338501260587,157.9538194087727,157.97425370493147,157.99468790098035,158.01512229691434,158.03555659272388,158.05599078842351,158.0764250840075,158.09685947946855,158.11729377493612,158.1377279701701,158.1581623652819,158.17859666040022,158.19903085528495,158.21946515016316,158.23989954481658,158.26033373946848,158.28076803400472,158.30120242830162,158.32163672260504,158.342070916784,158.36250521085458,158.3829396048095,158.40337389863998,158.42380809236056,158.44424238596548,158.4646767795639,158.48511097293522,158.5055452661909,158.52597965932364,158.54641385246214,158.56684814536857,158.58728243826772,158.60771673094132,158.62815102361492,158.6485853160557,158.66901970848994,158.68945390081353,158.70988819289778,158.73032238498854,158.7507567769644,158.7711910688231,158.7916253605581,158.81205965218396,158.83249394368613,158.85292823507916,158.87336242635502,158.89379681751598,158.91423110855249,158.9346652994791,158.95509969028353,158.9755339810945,158.99596817167185,159.01640246213356,159.03683685247233,159.05727104281686,159.07770533292933,159.0981396229181,159.1185740129149,159.13900820267736,159.1594424924333,159.17987688196445,159.2003110714868,159.22074536090076,159.24117955008114,159.26161393926304,159.2820482283205,159.30248251715238,159.322916805977,159.34335109469248,159.36378538317513,159.384219571657,159.40465396001673,159.42508824826655,159.4455224363992,159.46595682429324,159.48639111219381,159.5068252999772,159.52725958763767,159.54769397518976,159.5681281626239,159.58856244993513,159.6089967371372,159.62943112422363,159.64986531118484,159.67029959803767,159.69073398476758,159.71116817138682,159.7316024578904,159.75203674427758,159.77247103054106,159.7929053166954,159.81333960273332,159.83377388864756,159.85420817445265,159.87464246014133,159.89507664570556,159.91551103127858,159.93594531661802,159.95637960183376,159.97681388694036,159.99724817193055,160.01768245679705,160.0381167415544,160.05855102619535,160.0789853107126,160.09941959523712,160.11985377952806,160.14028816369682,160.1607224477557,160.18115663169738,160.2015910155169,160.22202529922652,160.24245948281896,160.26289376628847,160.2833281496496,160.3037623328928,160.32419661601307,160.34463099914137,160.36506528203608,160.38549946480634,160.40593374746823,160.42636813001445,160.44680231243547,160.4672365947481,160.48767097694508,160.50810515901685,160.52853944098024,160.5489737227108,160.56940800443408,160.58984228604822,160.61027656754595,160.6307107489265,160.6511451301849,160.67157941133337,160.69201359224098,160.7124479731574,160.73288225395663,160.75331643463142,160.77375071519782,160.79418509553216,160.81461937585846,160.83505355607485,160.85548793605994,160.875922216037,160.89635639578773,160.91679067553923,160.93722505505139,160.9576592345693,160.97809351385513,160.99852789313445,161.0189620721867,161.0393963512397,161.0598306300526,161.08026490875636,161.10069918746012,161.12113346592378,161.14156784427905,161.1620020225164,161.1824363006308,161.2028704786353,161.22330485664133,161.2437391344065,161.26417341206252,161.28460758960136,161.30504196701804,161.32547624432482,161.345910421398,161.36634479846543,161.38677907542296,161.40721325226332,161.42764752886433,161.44808190547337,161.46851608196448,161.48895035822352,161.50938473447604,161.5298189105015,161.55025318652042,161.5706874623138,161.59112183799152,161.61155601366772,161.63199028910458,161.65242466443306,161.67285893963708,161.6932931147312,161.71372738970967,161.73416176456521,161.7545959393101,161.77503021393932,161.79546448844485,161.81589876284124,161.8363330370048,161.85676731116837,161.877201685209,161.89763585902256,161.9180701328296,161.93850430641032,161.95893867999257,161.97937295334123,161.9998072265662,162.02024149968202,162.04067577267415,162.06111004567356,162.08154421843938,162.1019785910903,162.12241286350036,162.14284703591693,162.16328140821133,162.18371568039584,162.20414985234675,162.22458412429842,162.24501849601074,162.26545266772882,162.28588693921483,162.3063213105779,162.3267555819475,162.3471897530835,162.36762402409659,162.38805839500128,162.40849256578076,162.42892683645186,162.4493610070058,162.4697953773284,162.490229647643,162.51066331773472,162.53109768781724,162.55153185767267,162.5719661275216,162.59240039714496,162.61283476665267,162.63326893604244,162.65370320530928,162.67413757446775,162.694571743501,162.71500601242587,162.73544028123433,162.75587454980996,162.7763088183783,162.7967430867211,162.8171773549402,162.8376116231666,162.85804589116015,162.87848005903652,162.89891442679072,162.91934869443503,162.93978286196216,162.96021712936636,162.98065149654576,163.00108566372364,163.02151993066218,163.04195429760875,163.06238856431446,163.08282273091027,163.10325699739042,163.12369136375492,163.1441255299942,163.1645597961251,163.18499416213308,163.2054283280304,163.22586259369564,163.24629685936088,163.26673112478602,163.28716539010202,163.3075996553016,163.32803402049467,163.34846818534425,163.36890245019458,163.38933661492047,163.40977097953873,163.4302052439234,163.45063940830005,163.47107377245266,163.49150803648809,163.51194230039982,163.53237646420166,163.55281082788133,163.5732450914511,163.5936792549037,163.61411351824063,163.63454788133822,163.65498204432515,163.67541630731284,163.6958506700612,163.71628483269888,163.7367190952209,163.75715335761925,163.77758761979203,163.79802188196481,163.8184561438975,163.8388905058382,163.85932466754457,163.879758929128,163.90019309060153,163.92062745196017,163.94106171319436,163.9614959743194,163.98193023521162,164.00236449609656,164.02279875675595,164.04323291729816,164.0636672778346,164.08410153814475,164.10453579822206,164.12496995829133,164.14540431813657,164.1658384779803,164.18627273758466,164.20670709719707,164.22714135657588,164.24757551571383,164.26800977485982,164.28844403377298,164.30887829267886,164.32931255135918,164.34974691004027,164.37018116848049,164.3906153266944,164.41104958490905,164.43148384311644,164.45191810109827,164.47235235884727,164.49278671658976,164.51322087410517,164.5336551313885,164.55408938866458,164.57452364594792,164.5949579027656,164.61539215980883,164.63582631639292,164.65626067321136,164.6766949295561,164.69712918590812,164.71756344226014,164.73799769813922,164.7584319542584,164.77886610991118,164.7993004655582,164.81973472121172,164.84016887663165,164.860603231813,164.88103748700087,164.90147164218797,164.9219058969029,164.94234025162586,164.9627744063473,164.98320866083668],\"y\":[73603.9765625,73619.9296875,73624.5625,73640.40625,73624.0234375,73623.3359375,73620.6953125,73627.7421875,73632.0390625,73623.265625,73629.265625,73609.7734375,73633.40625,73620.4921875,73618.2578125,73632.828125,73629.171875,73611.4296875,73625.4765625,73641.921875,73605.390625,73641.578125,73618.7109375,73618.96875,73651.3125,73625.59375,73635.6640625,73631.4453125,73623.890625,73616.765625,73636.875,73617.7109375,73617.2421875,73615.0625,73611.75,73618.375,73622.5703125,73617.046875,73619.2265625,73634.3828125,73627.2109375,73636.2734375,73612.3203125,73620.15625,73618.53125,73631.640625,73620.1953125,73624.5859375,73625.4140625,73637.6015625,73631.3984375,73632.703125,73635.2578125,73629.203125,73629.9921875,73625.8125,73616.8984375,73616.484375,73624.8203125,73623.984375,73630.390625,73626.1015625,73618.828125,73637.546875,73634.578125,73635.609375,73615.3359375,73611.0546875,73623.6640625,73623.8515625,73640.6796875,73629.6015625,73618.53125,73617.0390625,73652.8359375,73641.8828125,73638.2109375,73627.203125,73613.671875,73611.546875,73631.703125,73622.21875,73618.4140625,73640.296875,73615.8125,73622.734375,73633.2890625,73615.484375,73631.0546875,73610.8359375,73626.2109375,73629.0,73621.4921875,73620.3984375,73623.640625,73628.8203125,73628.2578125,73638.09375,73620.2109375,73620.3671875,73632.796875,73623.828125,73612.734375,73617.21875,73610.0859375,73617.46875,73619.1328125,73633.78125,73621.4609375,73619.3515625,73619.3671875,73607.78125,73612.7421875,73600.0390625,73610.3828125,73615.5625,73622.65625,73611.5078125,73625.7890625,73618.546875,73616.0859375,73618.296875,73623.40625,73600.46875,73622.0234375,73627.3203125,73634.890625,73605.3984375,73619.953125,73622.3671875,73604.3046875,73618.7734375,73616.609375,73624.09375,73627.515625,73634.234375,73633.921875,73624.71875,73613.75,73500.8828125,73006.6171875,\"NaN\",72831.7578125,72856.1875,72876.0625,72973.9921875,73424.546875,73591.25,73623.0390625,73632.140625,73621.59375,73620.2265625,73622.1640625,73634.75,73629.859375,73631.3203125,73623.4375,73618.1640625,73629.109375,73624.171875,73632.140625,73614.8046875,73617.1953125,73626.2734375,73619.515625,73629.9453125,73616.2734375,73628.3046875,73591.4765625,73617.4140625,73621.2734375,73616.296875,73614.0546875,73613.3125,73622.1953125,73608.6953125,73627.5546875,73626.9296875,73609.7890625,73586.8359375,73618.2578125,73620.7734375,73626.90625,73623.125,73614.5390625,73609.3046875,73615.7890625,73624.7265625,73608.171875,73615.046875,73603.8515625,73611.171875,73620.328125,73611.640625,73598.640625,73625.2421875,73608.71875,73626.96875,73628.6328125,73707.0546875,73613.0859375,73610.2890625,73631.1171875,73619.3984375,73633.1171875,73611.2421875,73614.3828125,73621.140625,73602.734375,73610.40625,73618.703125,73631.5859375,73627.4453125,73607.5078125,73610.015625,73601.296875,73617.203125,73609.7265625,73610.6328125,73600.734375,73622.15625,73602.078125,73613.3046875,73611.5078125,73606.9375,73615.140625,73622.4375,73603.03125,73614.1171875,73609.84375,73622.296875,73636.734375,73603.5234375,73629.0859375,73624.1171875,73623.3515625,73628.109375,73621.140625,73622.515625,73621.140625,73620.671875,73609.140625,73614.5703125,73613.390625,73623.2890625,73605.21875,73617.921875,73618.1640625,73616.8125,73616.6953125,73614.25,73627.7734375,73607.078125,73619.7265625,73603.421875,73592.640625,73620.4609375,73602.125,73624.3984375,73624.078125,73609.9609375,73616.3359375,73603.2734375,73610.6015625,73623.5859375,73608.3828125,73620.0234375,73615.9375,73606.3359375,73624.34375,73603.75,73624.7890625,73620.4375,73600.0546875,73641.609375,73613.109375,73623.328125,73604.0703125,73613.0859375,73620.796875,73602.7265625,73610.734375,73605.984375,73596.046875,73613.59375,73607.734375,73621.3515625,\"NaN\",73615.0625,73612.75,73611.15625,73597.515625,73602.2734375,73607.484375,73605.0703125,73594.84375,73619.8984375,73603.84375,73100.4140625,72913.1953125,72864.0390625,72830.3984375,72853.8984375,72932.2578125,73234.0390625,73591.671875,73610.9921875,73602.40625,73603.421875,73609.9140625,73612.34375,73615.671875,73607.5859375,73612.5859375,73604.5,73613.9140625,73612.640625,73611.890625,73624.0390625,73616.796875,73620.71875,73611.453125,73614.3671875,73614.171875,73616.5234375,73607.078125,73620.3671875,73617.1953125,73609.75,73598.5546875,73611.7734375,73614.3359375,73608.0,73610.40625,73605.1875,73603.3515625,73614.390625,73616.140625,73621.203125,73612.953125,73618.203125,73597.09375,73607.828125,73611.921875,73611.5703125,73593.40625,73618.3359375,73603.4453125,73617.359375,73598.5078125,73626.2734375,73602.2890625,73610.390625,73610.3671875,73600.7265625,73601.34375,73601.1953125,73611.3671875,73608.078125,73622.75,73617.0078125,73605.3828125,73626.4296875,73609.5703125,73616.5546875,73603.8828125,73598.40625,73605.671875,73611.28125,73613.078125,73619.984375,73618.2578125,73625.0859375,73607.9296875,73612.7421875,73602.7421875,73606.9296875,73621.3046875,73611.453125,73604.640625,73607.5625,73597.3359375,73581.0859375,73619.3984375,73609.140625,73601.8671875,73615.53125,73620.34375,73600.3359375,73610.46875,73618.4296875,73610.6015625,73626.9765625,73608.671875,73609.2109375,73621.1640625,73608.53125,73604.46875,73614.3671875,73596.15625,73618.1875,73610.4140625,73599.515625,73605.4375,73613.5703125,73608.4609375,73624.0,73608.3203125,73609.84375,73617.75,73608.328125,73597.984375,73612.2421875,73597.0859375,73617.6171875,73622.59375,73600.703125,73593.546875,73607.8984375,73610.46875,73612.90625,73612.140625,73612.6171875,73614.5703125,73594.078125,73608.2734375,73604.6171875,73606.859375,73614.71875,73625.265625,73598.09375,73606.6328125,73612.2578125,\"NaN\",73615.1796875,73600.453125,73603.3671875,73586.2578125,73612.1953125,73603.5,73613.890625,73614.7890625,73609.0703125,73614.8203125,73604.3046875,73625.2578125,73598.234375,73605.0859375,73609.8828125,73598.9453125,73616.25,73624.21875,73614.875,73608.8046875,73598.78125,73595.7421875,73276.8515625,72928.1640625,72862.921875,72837.8203125,72823.2890625,72895.6640625,73066.4375,73585.484375,73608.6953125,73611.75,73613.4765625,73621.484375,73596.8828125,73601.3203125,73591.71875,73599.3203125,73609.140625,73612.65625,73590.140625,73596.4453125,73609.859375,73605.421875,73600.65625,73614.9375,73610.5390625,73612.1328125,73600.34375,73608.34375,73617.0703125,73607.78125,73587.4140625,73627.4765625,73603.96875,73599.59375,73605.453125,73596.1484375,73608.625,73609.8828125,73600.9453125,73604.1484375,73605.2578125,73614.890625,73603.6875,73608.234375,73602.6171875,73614.359375,73601.234375,73597.703125,73610.1015625,73607.0234375,73590.6484375,73617.875,73598.6171875,73603.90625,73605.046875,73593.625,73604.1328125,73596.0390625,73595.3671875,73613.7734375,73614.1875,73612.2109375,73601.0546875,73607.1484375,73603.546875,73604.5546875,73586.34375,73610.703125,73592.1640625,73609.6328125,73608.140625,73600.6328125,73605.6953125,73600.140625,73589.171875,73587.84375,73605.453125,73589.0546875,73609.7265625,73598.90625,73595.59375,73606.0625,73598.515625,73602.75,73589.3203125,73592.9609375,73598.4453125,73596.3984375,73591.515625,73606.65625,73592.7421875,73591.8046875,73608.46875,73610.5859375,73597.5390625,73599.4296875,73609.0234375,73606.1640625,73592.5859375,73608.2578125,73604.421875,73604.171875,73586.7421875,73595.65625,73596.1015625,73611.34375,73609.2734375,73619.8984375,73604.953125,73624.359375,73613.875,73613.09375,73599.203125,73612.5,73607.7421875,73605.2890625,73621.7109375,73587.9375,73586.0,73598.8046875,73597.34375,73613.484375,73614.265625,\"NaN\",73600.5390625,73610.984375,73590.546875,73601.3984375,73593.3359375,73608.6328125,73611.921875,73602.546875,73598.8984375,73606.4765625,73597.6171875,73613.4765625,73610.8828125,73598.0078125,73594.2890625,73604.1796875,73616.4140625,73595.171875,73602.1796875,73610.4765625,73613.953125,73599.21875,73599.5390625,73600.734375,73614.640625,73591.6953125,73603.8359375,73607.6796875,73630.8671875,73603.0859375,73600.171875,73606.796875,73588.203125,73577.125,73452.4921875,72971.25,72869.1875,72819.7890625,72828.109375,72870.8828125,72987.5859375,73452.5390625,73602.1015625,73611.703125,73599.8671875,73587.6953125,73613.484375,73607.078125,73602.5546875,73602.140625,73585.03125,73604.3203125,73603.765625,73593.8046875,73617.8203125,73603.203125,73596.1953125,73578.796875,73596.8984375,73607.40625,73572.8671875,73602.328125,73618.421875,73604.1328125,73607.375,73596.875,73597.4375,73606.34375,73581.140625,73612.265625,73593.5625,73604.6875,73595.0,73611.7734375,73613.515625,73606.1796875,73606.0625,73595.2109375,73600.78125,73604.734375,73620.3125,73615.4453125,73601.1328125,73618.640625,73597.125,73606.6484375,73611.6640625,73584.1328125,73600.984375,73608.328125,73604.640625,73613.546875,73603.09375,73605.671875,73595.7890625,73613.1015625,73618.828125,73597.8828125,73603.421875,73606.9609375,73642.5,73609.3046875,73601.78125,73588.1953125,73612.3125,73603.7109375,73597.7265625,73599.5859375,73614.0546875,73599.40625,73595.1484375,73597.7421875,73616.7109375,73603.65625,73600.203125,73608.5390625,73594.1796875,73613.5703125,73611.7734375,73595.1640625,73596.8671875,73596.0078125,73614.2578125,73596.09375,73591.5703125,73598.125,73614.53125,73601.203125,73606.875,73607.328125,73607.7578125,73618.8125,73591.953125,73610.40625,73609.7890625,73621.875,73604.0078125,73598.7890625,73609.875,73632.703125,73597.3125,73610.7109375,73613.7421875,73606.6484375,73601.96875,\"NaN\",73605.5546875,73606.65625,73604.21875,73598.4140625,73619.71875,73611.9296875,73607.9609375,73615.484375,73596.125,73618.3046875,73613.1328125,73603.9375,73602.9453125,73601.359375,73595.8828125,73607.1953125,73611.015625,73625.4609375,73602.6953125,73606.03125,73612.4375,73611.7890625,73588.765625,73606.90625,73617.109375,73626.2109375,73605.4140625,73611.1640625,73608.65625,73615.875,73600.4140625,73614.2265625,73619.8515625,73612.1484375,73621.4609375,73606.7890625,73629.6875,73613.953125,73618.65625,73618.546875,73590.0625,73598.734375,73612.5390625,73617.625,73615.4453125,73609.4296875,73601.625,73048.0390625,72893.5859375,72855.4765625,72823.7421875,72864.0390625,72929.1328125,73306.2109375,73645.9921875,73617.6875,73622.3515625,73605.1875,73596.703125,73612.5625,73614.90625,73609.8359375,73608.296875,73609.2890625,73611.078125,73615.234375,73609.390625,73613.6328125,73616.71875,73604.34375,73604.703125,73611.109375,73617.4453125,73628.5,73621.6953125,73594.1328125,\"NaN\",73589.390625,73607.6640625,73623.1640625,73611.5546875,73611.828125,73614.1015625,73615.4296875,73595.2421875,73607.7109375,73626.671875,73620.0390625,73616.7265625,73605.7734375,73597.515625,73621.203125,73608.0078125,73612.546875,73612.25,73627.6171875,73621.6171875,73613.2109375,73623.625,73628.5625,73628.3046875,73624.109375,73611.1484375,73606.828125,73611.2578125,73603.5546875,73604.375,73604.2421875,73618.1484375,73599.0703125,73611.1875,73599.7734375,73608.609375,73606.3203125,73622.796875,73609.125,73630.0546875,73608.34375,73605.859375,73619.796875,73622.0859375,73615.8359375,73622.2109375,73607.3515625,73616.7734375,73613.1875,73618.7578125,73611.65625,73588.7265625,73609.421875,73621.5625,73610.2578125,73597.90625,73610.0625,73603.046875,73607.2578125,73616.421875,73611.7265625,73606.2890625,73606.15625,73619.890625,73618.828125,73617.421875,73615.2578125,73619.0546875,\"NaN\",73612.078125,73621.046875,73618.1875,73610.7421875,73614.5390625,73622.1171875,73626.703125,73621.1640625,73622.234375,73614.890625,73626.890625,73624.234375,73640.203125,73604.0546875,73622.125,73617.0859375,73618.5390625,73612.828125,73622.3671875,73618.140625,73631.9765625,73618.8671875,73608.0078125,73618.7734375,73609.0,73612.4375,73617.0703125,73613.4609375,73604.7109375,73615.28125,73616.6171875,73610.0078125,73617.3515625,73605.859375,73620.3671875,73622.6015625,73633.421875,73607.1875,73630.59375,73621.1640625,73617.8984375,73612.3828125,73627.609375,73611.8046875,73606.8671875,73634.953125,73606.5390625,73618.0390625,73622.40625,73603.4765625,73623.3359375,73614.171875,73615.5703125,73613.96875,73623.484375,73619.3984375,73629.5625,73612.1640625,73619.5859375,73204.1171875,72925.5,72844.9453125,72844.828125,72874.8359375,72917.890625,73130.046875,73605.109375,73615.3046875,73606.4921875,73607.3984375,73627.734375,73613.15625,73614.703125,73599.2421875,73621.5859375,73609.5,73612.8984375,73601.953125,73626.234375,73618.890625,73611.1328125,73632.90625,73615.75,73618.265625,73613.578125,73632.0078125,73620.3125,73618.9453125,73615.4453125,73618.71875,73616.7109375,73616.1484375,73616.1796875,73629.984375,73624.96875,73632.1796875,73607.5546875,73632.625,73623.65625,73628.03125,73633.4765625,73609.0234375,73623.34375,73614.2421875,73628.59375,73633.5234375,73622.625,73627.5546875,73637.234375,73611.65625,73624.9609375,73627.2578125,73626.0,73619.0390625,\"NaN\",73620.296875,73630.34375,73619.234375,73622.3359375,73620.625,73623.5,73622.8828125,73626.03125,73632.96875,73607.40625,73618.75,73605.8984375,73608.828125,73621.2265625,73635.7109375,73608.890625,73610.4921875,73617.7734375,73626.5,73630.15625,73626.2578125,73610.671875,73620.1171875,73613.2421875,73630.9296875,73618.5546875,73615.765625,73609.96875,73626.8359375,73615.4296875,\"NaN\",73615.2734375,73623.6953125,73617.8125,73634.8359375,73616.453125,73635.1875,73624.046875,73621.84375,73619.1171875,73609.4140625,73630.4609375,73615.8984375,73623.125,73630.3203125,73622.9765625,73607.953125,73609.96875,\"NaN\",73614.609375,73616.4453125,73624.265625,73610.90625,73613.9375,73601.453125,73609.5,73619.28125,73608.9453125,73606.96875,73620.0,73626.8515625,73618.5703125,73624.890625,73606.1953125,73603.2421875,73606.1640625,73620.2578125,73602.0,73644.921875,73612.7421875,73611.359375,73618.8515625,73627.578125,73624.515625,73618.75,73618.359375,73632.234375,73621.3359375,73629.625,73625.046875,73634.828125,73614.0,73609.3828125,73632.90625,73623.65625,73617.5859375,73609.3046875,73620.1796875,73624.9609375,73614.8203125,73619.9296875,73633.421875,73622.40625,73603.8125,73617.9375,73605.0390625,73625.4140625,73627.15625,73633.7109375,73590.0703125,73625.359375,73593.171875,73385.140625,72982.46875,72887.484375,72835.21875,72862.296875,72908.234375,73025.953125,73519.0625,73624.8671875,73596.8046875,73616.5234375,73606.90625,73614.59375,73629.625,73611.2265625,73614.296875,73613.4921875,73609.2265625,73619.796875,73627.46875,73603.34375,73614.75,73619.578125,73611.859375,73629.0703125,73615.296875,73621.0234375,73632.3046875,73620.7421875,73615.03125,73611.0,73620.1640625,73623.875,73622.015625,73602.9609375,73631.515625,73623.5,73619.2734375,73616.6328125,73615.59375,73618.4453125,73610.0,73611.9453125,73611.9765625,73610.109375,73619.0,73621.0625,73619.0234375,73609.4140625,73620.1484375,73618.4765625,73614.5859375,73613.9765625,73627.9765625,73614.15625,73615.5390625,73614.7265625,73630.203125,73614.6796875,73620.1328125,73616.7421875,73649.875,73620.3828125,73611.1953125,73615.2265625,73618.453125,73633.65625,73612.015625,73613.3515625,73615.25,73621.90625,73627.9609375,73615.109375,73614.671875,\"NaN\",73628.4609375,73614.765625,73610.9140625,73622.5234375,73606.9765625,73620.1171875,73631.5078125,73628.75,73627.578125,73628.2421875,73605.9609375,73622.3125,73642.890625,\"NaN\",73625.4140625,73623.953125,73614.703125,73633.4921875,73623.7578125,73615.7578125,73621.5859375,73609.8125,73618.5234375,73617.6875,73616.5234375,73627.25,73623.3046875,73612.5390625,73605.5390625,73624.53125,73625.90625,73618.8203125,73610.84375,73635.4140625,73605.7734375,73621.75,73622.1875,73632.5078125,73628.3125,73617.6171875,73614.2265625,73617.75,73619.4375,73612.65625,73618.953125,73625.125,73621.8203125,73623.8671875,73629.234375,73619.859375,73614.7578125,73620.4765625,73627.6015625,73612.3046875,73624.609375,73613.5625,73625.7421875,73611.125,73614.625,73628.5,73629.3359375,73633.40625,73627.296875,73638.1953125,73626.5,73621.65625,73615.0078125,73630.9921875,73633.78125,73611.3359375,73611.890625,73676.0,73639.9296875,73616.140625,73624.828125,73615.5546875,73627.5078125,73644.78125,73618.5078125,73631.328125,73610.5,73619.6640625,73614.5,73535.546875,73039.0234375,72913.046875,72863.921875,72836.078125,72871.15625,72977.7109375,73371.0390625,73616.921875,73628.3046875,73630.65625,73612.890625,73639.75,73616.7109375,73631.9140625,73626.1015625,73627.15625,73629.6015625,73622.2421875,73611.7890625,73621.5625,73600.2890625,73615.6640625,73622.828125,73614.7109375,73627.609375,73641.0390625,73611.140625,73613.4765625,73629.625,73623.890625,73721.421875,73617.59375,73631.3359375,73629.5078125,73642.8203125,73633.390625,73612.671875,73645.8359375,73606.046875,73604.40625,73634.4609375,73620.2265625,73622.2421875,73620.640625,73629.0390625,73623.84375,73615.265625,73628.6015625,73620.609375,73636.109375,73617.3828125,73643.78125,73614.0,73633.75,73631.6171875,73620.234375,73610.640625,73636.2734375,73609.2578125,73640.2734375,73620.203125,\"NaN\",73631.3828125,73613.171875,73630.84375,73606.8515625,73634.453125,73635.125,73615.546875,73607.328125,73620.7265625,73628.65625,73633.3671875,73620.625,73626.1171875,73626.9921875,73619.3515625,73621.5078125,73621.40625,73627.0078125,73631.3203125,73633.3125,73607.5546875,73614.6640625,73617.453125,73615.8515625,73631.640625,73627.484375,73617.890625,73611.5390625,73614.6875,73626.3515625,73620.5546875,73621.4765625,73634.6796875,73622.0703125,73633.4453125,73608.1328125,73628.671875,73609.46875,73619.515625,73629.640625,73628.8515625,73608.234375,73628.734375,73632.4765625,73616.4921875,73621.90625,73623.6953125,73620.9296875,73623.125,73621.4296875,73617.03125,73621.1953125,73648.828125,73624.4375,73616.796875,73619.1640625,73614.8125,73626.46875,73626.828125,73631.5234375,73629.4296875,73640.546875,73628.8359375,73626.3046875,73630.5703125,73633.8359375,73622.8984375,73633.8203125,73622.3203125,73642.2421875,73621.7265625,73632.046875,73611.1875,73621.578125,73619.921875,73634.8515625,73634.3984375,73614.078125,73616.4609375,73628.6796875,73629.453125,73627.3125,73651.046875,73620.3671875,73623.5234375,73620.6953125,73621.4609375,73635.265625,73621.25,73634.9609375,73621.9140625,73640.9921875,73625.9140625,73609.09375,73619.015625,73599.6015625,73152.0234375,72945.96875,72865.8359375,72844.515625,72873.0625,72931.0078125,73189.28125,73610.5390625,73616.015625,73611.84375,73603.046875,73646.640625,73641.1640625,73610.7578125,73627.125,73618.5859375,73620.8359375,73635.0546875,73635.171875,73614.4765625,73614.359375,73628.953125,73618.96875,73613.0546875,73621.0625,73622.6796875,73619.1171875,73617.109375,73625.890625,73639.390625,73628.1015625,73607.546875,73602.75,73624.34375,73622.015625,73608.9453125,73620.7734375,73610.7265625,73620.0078125,73623.8046875,73615.6875,73614.3828125,73624.296875,73630.0546875,73608.4296875,73613.625,73617.59375,73627.9296875,73611.265625,\"NaN\",73638.0703125,73618.9296875,73609.4609375,73608.7265625,73631.3828125,73632.765625,73618.40625,73625.296875,73633.6484375,73617.3515625,73629.0390625,73625.46875,73619.0,73628.8828125,73615.5390625,73630.6796875,73649.2109375,73612.3125,73630.921875,73602.046875,73631.8515625,73628.3671875,73608.96875,73627.6328125,73622.1171875,73651.8984375,73629.2265625,73640.6640625,73612.328125,73626.328125,73640.84375,73626.21875,73643.765625,73620.265625,73625.71875,73610.3671875,73616.21875,73623.703125,73619.890625,73627.3515625,73599.46875,73627.0390625,73615.125,73613.09375,73616.4765625,73626.6875,73598.9609375,73627.78125,73619.375,73612.890625,73615.0546875,73641.265625,73603.6171875,73613.78125,73638.0390625,73602.9453125,73626.6796875,73635.1484375,73610.1640625,73597.8984375,73607.9765625,73642.4296875,73636.1875,73634.5078125,73617.8671875,73625.2109375,73622.3515625,73609.5390625,73617.921875,73636.5234375,73619.109375,73630.1640625,73618.3515625,73609.96875,73631.4453125,73619.1484375,73634.765625,73616.5234375,73633.5234375,73615.125,73626.4296875,73617.0234375,73600.9140625,73619.875,73617.7890625,73615.9921875,73621.109375,73594.9453125,73616.9765625,73630.0390625,73615.3515625,73625.0078125,73613.9921875,73620.078125,73635.234375,73629.7265625,73623.75,73619.5,73622.1796875,73621.8828125,73618.765625,73628.0390625,73631.265625,73623.0546875,73639.328125,73617.9453125,73615.5390625,73627.8203125,73341.9921875,72964.71875,72889.453125,72833.578125,72849.8984375,72908.0625,73066.1171875,73557.0234375,73619.03125,73622.09375,73608.59375,73616.0078125,73616.046875,73631.8203125,73611.78125,73613.9140625,73617.3671875,73615.296875,73618.4765625,73627.2421875,73594.3046875,73627.6015625,73622.53125,73619.765625,73619.2265625,73607.9296875,73631.25,73606.296875,73605.0546875,73620.828125,73605.7109375,73626.5390625,73597.0546875,73624.703125,73617.640625,73637.40625,73628.2265625,\"NaN\",73636.890625,73613.6796875,73608.0390625,73598.4375,73603.953125,73619.4140625,73626.0078125,73610.109375,73620.671875,73626.7421875,73639.3515625,73618.6171875,73612.8828125,73636.25,73623.0390625,73610.703125,73623.578125,73633.9140625,73620.671875,73604.5625,73622.34375,73627.1015625,73626.1796875,73613.8671875,73620.8359375,73616.3515625,73639.2265625,73621.9375,73619.4765625,73620.359375,73637.1328125,73616.046875,73627.8203125,73621.34375,73614.6015625,73627.625,73618.328125]}},\"id\":\"9d095dff-079f-4f4e-b77b-c372d841de84\",\"type\":\"ColumnDataSource\"},{\"attributes\":{},\"id\":\"cf910c26-e172-4ec5-9b99-93a15c19af3f\",\"type\":\"LinearScale\"},{\"attributes\":{},\"id\":\"dc35f349-110b-47da-a0f3-980c6c7cd3d5\",\"type\":\"LinearScale\"},{\"attributes\":{\"callback\":null,\"plot\":{\"id\":\"18f1d467-3a00-488f-b7dd-cd0f031f22a5\",\"subtype\":\"Figure\",\"type\":\"Plot\"}},\"id\":\"fc140b49-0a68-430e-bfd3-db5a566b8fab\",\"type\":\"HoverTool\"},{\"attributes\":{},\"id\":\"657ae3c7-d73e-4fbe-94d4-65c1e82b80fc\",\"type\":\"BasicTicker\"},{\"attributes\":{\"label\":{\"value\":\"Quarter 1\"},\"renderers\":[{\"id\":\"addd58ee-fe95-4e59-b122-e070a40beff9\",\"type\":\"GlyphRenderer\"}]},\"id\":\"0623d8e4-7818-4b6b-9fc9-402f0c5bb3a8\",\"type\":\"LegendItem\"},{\"attributes\":{\"fill_color\":{\"value\":\"#1f77b4\"},\"line_color\":{\"value\":\"#1f77b4\"},\"x\":{\"field\":\"x\"},\"y\":{\"field\":\"y\"}},\"id\":\"a4be251b-07d0-4936-846b-9e22b795c0f6\",\"type\":\"Circle\"},{\"attributes\":{\"callback\":null,\"plot\":{\"id\":\"18f1d467-3a00-488f-b7dd-cd0f031f22a5\",\"subtype\":\"Figure\",\"type\":\"Plot\"}},\"id\":\"5176a4a5-38b7-47c7-b3b6-d8c143cb85ea\",\"type\":\"TapTool\"},{\"attributes\":{\"below\":[{\"id\":\"13d12d2a-0181-4b8b-9456-d4fd8ab20686\",\"type\":\"LinearAxis\"}],\"left\":[{\"id\":\"9bf23152-017f-455d-8eb8-12e78bb5c8cf\",\"type\":\"LinearAxis\"}],\"renderers\":[{\"id\":\"13d12d2a-0181-4b8b-9456-d4fd8ab20686\",\"type\":\"LinearAxis\"},{\"id\":\"f6aa4fe2-4bd1-43d2-9632-983f490362b3\",\"type\":\"Grid\"},{\"id\":\"9bf23152-017f-455d-8eb8-12e78bb5c8cf\",\"type\":\"LinearAxis\"},{\"id\":\"21922186-0627-4943-8d43-74a3f91ac04d\",\"type\":\"Grid\"},{\"id\":\"486fea69-e6fc-4d23-a1d5-31fbccc4ed1a\",\"type\":\"BoxAnnotation\"},{\"id\":\"def29db0-1a8e-417c-9c72-ba58d5d243d9\",\"type\":\"BoxAnnotation\"},{\"id\":\"cf36f8af-5170-40a3-b220-07243dcc6df3\",\"type\":\"Legend\"},{\"id\":\"addd58ee-fe95-4e59-b122-e070a40beff9\",\"type\":\"GlyphRenderer\"}],\"title\":{\"id\":\"bc66a4f5-1901-478f-889d-c2ef39259e9f\",\"type\":\"Title\"},\"tool_events\":{\"id\":\"3c822ecd-35ed-43e5-bc2a-52dfb5b77e60\",\"type\":\"ToolEvents\"},\"toolbar\":{\"id\":\"e142f2e9-c32b-4181-95b1-f8af768eff4b\",\"type\":\"Toolbar\"},\"x_range\":{\"id\":\"f5f1d4e5-79c5-4755-9fe6-4369fff326f7\",\"type\":\"DataRange1d\"},\"x_scale\":{\"id\":\"cf910c26-e172-4ec5-9b99-93a15c19af3f\",\"type\":\"LinearScale\"},\"y_range\":{\"id\":\"e76c74ed-de7d-4051-8fbf-29bda1482f85\",\"type\":\"DataRange1d\"},\"y_scale\":{\"id\":\"dc35f349-110b-47da-a0f3-980c6c7cd3d5\",\"type\":\"LinearScale\"}},\"id\":\"18f1d467-3a00-488f-b7dd-cd0f031f22a5\",\"subtype\":\"Figure\",\"type\":\"Plot\"},{\"attributes\":{},\"id\":\"af855ce8-6499-4194-9127-8daf35641a05\",\"type\":\"BasicTickFormatter\"},{\"attributes\":{},\"id\":\"74dc2232-8af4-4095-92f6-a51b66d7d0c2\",\"type\":\"BasicTicker\"},{\"attributes\":{\"callback\":null,\"overlay\":{\"id\":\"def29db0-1a8e-417c-9c72-ba58d5d243d9\",\"type\":\"BoxAnnotation\"},\"plot\":{\"id\":\"18f1d467-3a00-488f-b7dd-cd0f031f22a5\",\"subtype\":\"Figure\",\"type\":\"Plot\"},\"renderers\":[{\"id\":\"addd58ee-fe95-4e59-b122-e070a40beff9\",\"type\":\"GlyphRenderer\"}]},\"id\":\"571fb212-6e4d-4cf5-b8b2-e7cddbaa9f28\",\"type\":\"BoxSelectTool\"},{\"attributes\":{\"plot\":null,\"text\":\"Kepler ID: 10874614, Quarter: 1\"},\"id\":\"bc66a4f5-1901-478f-889d-c2ef39259e9f\",\"type\":\"Title\"},{\"attributes\":{},\"id\":\"0206dfe7-c937-4594-a8b0-bf6b95e4f4c2\",\"type\":\"BasicTickFormatter\"},{\"attributes\":{\"plot\":{\"id\":\"18f1d467-3a00-488f-b7dd-cd0f031f22a5\",\"subtype\":\"Figure\",\"type\":\"Plot\"}},\"id\":\"04b2b17c-397a-49b9-b233-2589cdbadb6e\",\"type\":\"ResetTool\"},{\"attributes\":{\"axis_label\":\"Time (BJD - 245833)\",\"formatter\":{\"id\":\"0206dfe7-c937-4594-a8b0-bf6b95e4f4c2\",\"type\":\"BasicTickFormatter\"},\"plot\":{\"id\":\"18f1d467-3a00-488f-b7dd-cd0f031f22a5\",\"subtype\":\"Figure\",\"type\":\"Plot\"},\"ticker\":{\"id\":\"657ae3c7-d73e-4fbe-94d4-65c1e82b80fc\",\"type\":\"BasicTicker\"}},\"id\":\"13d12d2a-0181-4b8b-9456-d4fd8ab20686\",\"type\":\"LinearAxis\"},{\"attributes\":{\"overlay\":{\"id\":\"486fea69-e6fc-4d23-a1d5-31fbccc4ed1a\",\"type\":\"BoxAnnotation\"},\"plot\":{\"id\":\"18f1d467-3a00-488f-b7dd-cd0f031f22a5\",\"subtype\":\"Figure\",\"type\":\"Plot\"}},\"id\":\"ad1b89a1-cdc9-4e3b-ae51-0e62ea93743a\",\"type\":\"BoxZoomTool\"},{\"attributes\":{\"bottom_units\":\"screen\",\"fill_alpha\":{\"value\":0.5},\"fill_color\":{\"value\":\"lightgrey\"},\"left_units\":\"screen\",\"level\":\"overlay\",\"line_alpha\":{\"value\":1.0},\"line_color\":{\"value\":\"black\"},\"line_dash\":[4,4],\"line_width\":{\"value\":2},\"plot\":null,\"render_mode\":\"css\",\"right_units\":\"screen\",\"top_units\":\"screen\"},\"id\":\"486fea69-e6fc-4d23-a1d5-31fbccc4ed1a\",\"type\":\"BoxAnnotation\"},{\"attributes\":{\"bottom_units\":\"screen\",\"fill_alpha\":{\"value\":0.5},\"fill_color\":{\"value\":\"lightgrey\"},\"left_units\":\"screen\",\"level\":\"overlay\",\"line_alpha\":{\"value\":1.0},\"line_color\":{\"value\":\"black\"},\"line_dash\":[4,4],\"line_width\":{\"value\":2},\"plot\":null,\"render_mode\":\"css\",\"right_units\":\"screen\",\"top_units\":\"screen\"},\"id\":\"def29db0-1a8e-417c-9c72-ba58d5d243d9\",\"type\":\"BoxAnnotation\"},{\"attributes\":{\"axis_label\":\"Flux(e-/sec)\",\"formatter\":{\"id\":\"af855ce8-6499-4194-9127-8daf35641a05\",\"type\":\"BasicTickFormatter\"},\"plot\":{\"id\":\"18f1d467-3a00-488f-b7dd-cd0f031f22a5\",\"subtype\":\"Figure\",\"type\":\"Plot\"},\"ticker\":{\"id\":\"74dc2232-8af4-4095-92f6-a51b66d7d0c2\",\"type\":\"BasicTicker\"}},\"id\":\"9bf23152-017f-455d-8eb8-12e78bb5c8cf\",\"type\":\"LinearAxis\"},{\"attributes\":{\"callback\":null},\"id\":\"e76c74ed-de7d-4051-8fbf-29bda1482f85\",\"type\":\"DataRange1d\"},{\"attributes\":{\"callback\":null},\"id\":\"f5f1d4e5-79c5-4755-9fe6-4369fff326f7\",\"type\":\"DataRange1d\"},{\"attributes\":{\"plot\":{\"id\":\"18f1d467-3a00-488f-b7dd-cd0f031f22a5\",\"subtype\":\"Figure\",\"type\":\"Plot\"}},\"id\":\"67dbbc91-e1d7-41d2-92a4-dc4dbf08f242\",\"type\":\"CrosshairTool\"},{\"attributes\":{\"items\":[{\"id\":\"0623d8e4-7818-4b6b-9fc9-402f0c5bb3a8\",\"type\":\"LegendItem\"}],\"plot\":{\"id\":\"18f1d467-3a00-488f-b7dd-cd0f031f22a5\",\"subtype\":\"Figure\",\"type\":\"Plot\"}},\"id\":\"cf36f8af-5170-40a3-b220-07243dcc6df3\",\"type\":\"Legend\"},{\"attributes\":{\"active_drag\":\"auto\",\"active_inspect\":\"auto\",\"active_scroll\":\"auto\",\"active_tap\":\"auto\",\"tools\":[{\"id\":\"fc140b49-0a68-430e-bfd3-db5a566b8fab\",\"type\":\"HoverTool\"},{\"id\":\"67dbbc91-e1d7-41d2-92a4-dc4dbf08f242\",\"type\":\"CrosshairTool\"},{\"id\":\"bf5a10c9-d444-416b-84a2-913ad97cf20f\",\"type\":\"PanTool\"},{\"id\":\"d237ca6c-b4d1-4996-8e9f-d1995c6b4e95\",\"type\":\"WheelZoomTool\"},{\"id\":\"ad1b89a1-cdc9-4e3b-ae51-0e62ea93743a\",\"type\":\"BoxZoomTool\"},{\"id\":\"04b2b17c-397a-49b9-b233-2589cdbadb6e\",\"type\":\"ResetTool\"},{\"id\":\"5176a4a5-38b7-47c7-b3b6-d8c143cb85ea\",\"type\":\"TapTool\"},{\"id\":\"7bdf5494-9a7d-4cf4-a198-f28b6dcfddf4\",\"type\":\"SaveTool\"},{\"id\":\"571fb212-6e4d-4cf5-b8b2-e7cddbaa9f28\",\"type\":\"BoxSelectTool\"}]},\"id\":\"e142f2e9-c32b-4181-95b1-f8af768eff4b\",\"type\":\"Toolbar\"},{\"attributes\":{\"fill_alpha\":{\"value\":0.1},\"fill_color\":{\"value\":\"#1f77b4\"},\"line_alpha\":{\"value\":0.1},\"line_color\":{\"value\":\"#1f77b4\"},\"x\":{\"field\":\"x\"},\"y\":{\"field\":\"y\"}},\"id\":\"0e26667c-24b3-47f8-91b3-fa5cef2b5111\",\"type\":\"Circle\"},{\"attributes\":{\"plot\":{\"id\":\"18f1d467-3a00-488f-b7dd-cd0f031f22a5\",\"subtype\":\"Figure\",\"type\":\"Plot\"},\"ticker\":{\"id\":\"657ae3c7-d73e-4fbe-94d4-65c1e82b80fc\",\"type\":\"BasicTicker\"}},\"id\":\"f6aa4fe2-4bd1-43d2-9632-983f490362b3\",\"type\":\"Grid\"},{\"attributes\":{\"plot\":{\"id\":\"18f1d467-3a00-488f-b7dd-cd0f031f22a5\",\"subtype\":\"Figure\",\"type\":\"Plot\"}},\"id\":\"d237ca6c-b4d1-4996-8e9f-d1995c6b4e95\",\"type\":\"WheelZoomTool\"},{\"attributes\":{\"data_source\":{\"id\":\"9d095dff-079f-4f4e-b77b-c372d841de84\",\"type\":\"ColumnDataSource\"},\"glyph\":{\"id\":\"a4be251b-07d0-4936-846b-9e22b795c0f6\",\"type\":\"Circle\"},\"hover_glyph\":null,\"muted_glyph\":null,\"nonselection_glyph\":{\"id\":\"0e26667c-24b3-47f8-91b3-fa5cef2b5111\",\"type\":\"Circle\"},\"selection_glyph\":null},\"id\":\"addd58ee-fe95-4e59-b122-e070a40beff9\",\"type\":\"GlyphRenderer\"},{\"attributes\":{\"plot\":{\"id\":\"18f1d467-3a00-488f-b7dd-cd0f031f22a5\",\"subtype\":\"Figure\",\"type\":\"Plot\"}},\"id\":\"7bdf5494-9a7d-4cf4-a198-f28b6dcfddf4\",\"type\":\"SaveTool\"},{\"attributes\":{\"dimension\":1,\"plot\":{\"id\":\"18f1d467-3a00-488f-b7dd-cd0f031f22a5\",\"subtype\":\"Figure\",\"type\":\"Plot\"},\"ticker\":{\"id\":\"74dc2232-8af4-4095-92f6-a51b66d7d0c2\",\"type\":\"BasicTicker\"}},\"id\":\"21922186-0627-4943-8d43-74a3f91ac04d\",\"type\":\"Grid\"}],\"root_ids\":[\"18f1d467-3a00-488f-b7dd-cd0f031f22a5\"]},\"title\":\"Bokeh Application\",\"version\":\"0.12.6\"}};\n",
       "            var render_items = [{\"docid\":\"542b3064-658f-4c07-99d1-ea0e93ee67fb\",\"elementid\":\"fb5698ef-fc25-41df-9a48-b96c94b69c52\",\"modelid\":\"18f1d467-3a00-488f-b7dd-cd0f031f22a5\"}];\n",
       "            \n",
       "            Bokeh.embed.embed_items(docs_json, render_items);\n",
       "          };\n",
       "          if (document.readyState != \"loading\") fn();\n",
       "          else document.addEventListener(\"DOMContentLoaded\", fn);\n",
       "        })();\n",
       "      },\n",
       "      function(Bokeh) {\n",
       "      }\n",
       "    ];\n",
       "  \n",
       "    function run_inline_js() {\n",
       "      \n",
       "      if ((window.Bokeh !== undefined) || (force === true)) {\n",
       "        for (var i = 0; i < inline_js.length; i++) {\n",
       "          inline_js[i](window.Bokeh);\n",
       "        }if (force === true) {\n",
       "          display_loaded();\n",
       "        }} else if (Date.now() < window._bokeh_timeout) {\n",
       "        setTimeout(run_inline_js, 100);\n",
       "      } else if (!window._bokeh_failed_load) {\n",
       "        console.log(\"Bokeh: BokehJS failed to load within specified timeout.\");\n",
       "        window._bokeh_failed_load = true;\n",
       "      } else if (force !== true) {\n",
       "        var cell = $(document.getElementById(\"fb5698ef-fc25-41df-9a48-b96c94b69c52\")).parents('.cell').data().cell;\n",
       "        cell.output_area.append_execute_result(NB_LOAD_WARNING)\n",
       "      }\n",
       "  \n",
       "    }\n",
       "  \n",
       "    if (window._bokeh_is_loading === 0) {\n",
       "      console.log(\"Bokeh: BokehJS loaded, going straight to plotting\");\n",
       "      run_inline_js();\n",
       "    } else {\n",
       "      load_libs(js_urls, function() {\n",
       "        console.log(\"Bokeh: BokehJS plotting callback run at\", now());\n",
       "        run_inline_js();\n",
       "      });\n",
       "    }\n",
       "  }(this));\n",
       "</script>"
      ]
     },
     "metadata": {},
     "output_type": "display_data"
    }
   ],
   "source": [
    "# Time (BJD - 2454833)\n",
    "#Flux (e-/sec) + ____e+4\n",
    "#Which quarter do you want to look at?\n",
    "quarter = 1\n",
    "t = time[quarter]\n",
    "f = flux[quarter]\n",
    "BJD = 245833\n",
    "#Following Labels are used for all graphs\n",
    "x_label = 'Time (BJD - %d)' %BJD\n",
    "y_label = 'Flux(e-/sec)'\n",
    "title = 'Kepler ID: %d, Quarter: %d'%(koi.kepid, quarter)\n",
    "\n",
    "\n",
    "#Creating new plot with title and axis labels\n",
    "#Plot is an object\n",
    "\n",
    "\n",
    "lc_plot_265 = figure(\n",
    "    title=title, \n",
    "    x_axis_label=x_label,\n",
    "    y_axis_label=y_label,\n",
    "    tools = 'hover,crosshair,pan,wheel_zoom,box_zoom,reset,tap,save,box_select')\n",
    "\n",
    "#adding x and y data for plot\n",
    "legend = 'Quarter %d' % quarter\n",
    "lc_plot_265.circle(t, f,legend=legend)\n",
    "\n",
    "#showing results\n",
    "show(lc_plot_265)"
   ]
  },
  {
   "cell_type": "markdown",
   "metadata": {},
   "source": [
    "Removing all nan values from flux data"
   ]
  },
  {
   "cell_type": "code",
   "execution_count": 9,
   "metadata": {
    "collapsed": true
   },
   "outputs": [],
   "source": [
    "t_no_nan, f_no_nan =remove_nan(t,f)"
   ]
  },
  {
   "cell_type": "markdown",
   "metadata": {},
   "source": [
    "Lomb-Scargle Periodogram"
   ]
  },
  {
   "cell_type": "code",
   "execution_count": 89,
   "metadata": {
    "collapsed": false,
    "scrolled": false
   },
   "outputs": [
    {
     "data": {
      "text/html": [
       "\n",
       "\n",
       "    <div class=\"bk-root\">\n",
       "        <div class=\"bk-plotdiv\" id=\"9d65fb36-5cf3-48da-ae7c-1d8db48d8b06\"></div>\n",
       "    </div>\n",
       "<script type=\"text/javascript\">\n",
       "  \n",
       "  (function(global) {\n",
       "    function now() {\n",
       "      return new Date();\n",
       "    }\n",
       "  \n",
       "    var force = false;\n",
       "  \n",
       "    if (typeof (window._bokeh_onload_callbacks) === \"undefined\" || force === true) {\n",
       "      window._bokeh_onload_callbacks = [];\n",
       "      window._bokeh_is_loading = undefined;\n",
       "    }\n",
       "  \n",
       "  \n",
       "    \n",
       "    if (typeof (window._bokeh_timeout) === \"undefined\" || force === true) {\n",
       "      window._bokeh_timeout = Date.now() + 0;\n",
       "      window._bokeh_failed_load = false;\n",
       "    }\n",
       "  \n",
       "    var NB_LOAD_WARNING = {'data': {'text/html':\n",
       "       \"<div style='background-color: #fdd'>\\n\"+\n",
       "       \"<p>\\n\"+\n",
       "       \"BokehJS does not appear to have successfully loaded. If loading BokehJS from CDN, this \\n\"+\n",
       "       \"may be due to a slow or bad network connection. Possible fixes:\\n\"+\n",
       "       \"</p>\\n\"+\n",
       "       \"<ul>\\n\"+\n",
       "       \"<li>re-rerun `output_notebook()` to attempt to load from CDN again, or</li>\\n\"+\n",
       "       \"<li>use INLINE resources instead, as so:</li>\\n\"+\n",
       "       \"</ul>\\n\"+\n",
       "       \"<code>\\n\"+\n",
       "       \"from bokeh.resources import INLINE\\n\"+\n",
       "       \"output_notebook(resources=INLINE)\\n\"+\n",
       "       \"</code>\\n\"+\n",
       "       \"</div>\"}};\n",
       "  \n",
       "    function display_loaded() {\n",
       "      if (window.Bokeh !== undefined) {\n",
       "        var el = document.getElementById(\"9d65fb36-5cf3-48da-ae7c-1d8db48d8b06\");\n",
       "        el.textContent = \"BokehJS \" + Bokeh.version + \" successfully loaded.\";\n",
       "      } else if (Date.now() < window._bokeh_timeout) {\n",
       "        setTimeout(display_loaded, 100)\n",
       "      }\n",
       "    }\n",
       "  \n",
       "    function run_callbacks() {\n",
       "      try {\n",
       "        window._bokeh_onload_callbacks.forEach(function(callback) { callback() });\n",
       "      }\n",
       "      finally {\n",
       "        delete window._bokeh_onload_callbacks\n",
       "      }\n",
       "      console.info(\"Bokeh: all callbacks have finished\");\n",
       "    }\n",
       "  \n",
       "    function load_libs(js_urls, callback) {\n",
       "      window._bokeh_onload_callbacks.push(callback);\n",
       "      if (window._bokeh_is_loading > 0) {\n",
       "        console.log(\"Bokeh: BokehJS is being loaded, scheduling callback at\", now());\n",
       "        return null;\n",
       "      }\n",
       "      if (js_urls == null || js_urls.length === 0) {\n",
       "        run_callbacks();\n",
       "        return null;\n",
       "      }\n",
       "      console.log(\"Bokeh: BokehJS not loaded, scheduling load and callback at\", now());\n",
       "      window._bokeh_is_loading = js_urls.length;\n",
       "      for (var i = 0; i < js_urls.length; i++) {\n",
       "        var url = js_urls[i];\n",
       "        var s = document.createElement('script');\n",
       "        s.src = url;\n",
       "        s.async = false;\n",
       "        s.onreadystatechange = s.onload = function() {\n",
       "          window._bokeh_is_loading--;\n",
       "          if (window._bokeh_is_loading === 0) {\n",
       "            console.log(\"Bokeh: all BokehJS libraries loaded\");\n",
       "            run_callbacks()\n",
       "          }\n",
       "        };\n",
       "        s.onerror = function() {\n",
       "          console.warn(\"failed to load library \" + url);\n",
       "        };\n",
       "        console.log(\"Bokeh: injecting script tag for BokehJS library: \", url);\n",
       "        document.getElementsByTagName(\"head\")[0].appendChild(s);\n",
       "      }\n",
       "    };var element = document.getElementById(\"9d65fb36-5cf3-48da-ae7c-1d8db48d8b06\");\n",
       "    if (element == null) {\n",
       "      console.log(\"Bokeh: ERROR: autoload.js configured with elementid '9d65fb36-5cf3-48da-ae7c-1d8db48d8b06' but no matching script tag was found. \")\n",
       "      return false;\n",
       "    }\n",
       "  \n",
       "    var js_urls = [];\n",
       "  \n",
       "    var inline_js = [\n",
       "      function(Bokeh) {\n",
       "        (function() {\n",
       "          var fn = function() {\n",
       "            var docs_json = {\"61392709-4a25-4667-97d9-58791a09dfa7\":{\"roots\":{\"references\":[{\"attributes\":{\"num_minor_ticks\":10},\"id\":\"1b26f7be-3f8c-400e-b6a7-6098af12f7e2\",\"type\":\"LogTicker\"},{\"attributes\":{},\"id\":\"a8a9c14d-c619-4097-9865-728e1bd177b4\",\"type\":\"LogScale\"},{\"attributes\":{\"plot\":{\"id\":\"96edc688-5f17-4bba-8deb-4857f2113a19\",\"subtype\":\"Figure\",\"type\":\"Plot\"}},\"id\":\"18c87eb9-1dad-4a3a-a322-2fbfc1464668\",\"type\":\"SaveTool\"},{\"attributes\":{\"plot\":{\"id\":\"96edc688-5f17-4bba-8deb-4857f2113a19\",\"subtype\":\"Figure\",\"type\":\"Plot\"}},\"id\":\"49594393-9d05-45f1-985d-11b3ee3e89e1\",\"type\":\"PanTool\"},{\"attributes\":{\"ticker\":null},\"id\":\"e3dbdc6f-dce0-44e0-b0c8-1157627096f1\",\"type\":\"LogTickFormatter\"},{\"attributes\":{\"bottom_units\":\"screen\",\"fill_alpha\":{\"value\":0.5},\"fill_color\":{\"value\":\"lightgrey\"},\"left_units\":\"screen\",\"level\":\"overlay\",\"line_alpha\":{\"value\":1.0},\"line_color\":{\"value\":\"black\"},\"line_dash\":[4,4],\"line_width\":{\"value\":2},\"plot\":null,\"render_mode\":\"css\",\"right_units\":\"screen\",\"top_units\":\"screen\"},\"id\":\"01c7b750-8596-4b8e-80e1-1f0def5a856f\",\"type\":\"BoxAnnotation\"},{\"attributes\":{\"callback\":null,\"overlay\":{\"id\":\"a88c5006-2fbe-486d-8229-8f3decc7a9ff\",\"type\":\"BoxAnnotation\"},\"plot\":{\"id\":\"96edc688-5f17-4bba-8deb-4857f2113a19\",\"subtype\":\"Figure\",\"type\":\"Plot\"},\"renderers\":[{\"id\":\"246b51f4-1325-49e0-8857-78c5b6277250\",\"type\":\"GlyphRenderer\"}]},\"id\":\"adfee9ec-bda4-4ebb-9eac-50cd51e05b02\",\"type\":\"BoxSelectTool\"},{\"attributes\":{\"plot\":null,\"text\":\"\"},\"id\":\"3d89183a-d1d7-4f3d-a29f-2aba6d2257ee\",\"type\":\"Title\"},{\"attributes\":{\"callback\":null,\"plot\":{\"id\":\"96edc688-5f17-4bba-8deb-4857f2113a19\",\"subtype\":\"Figure\",\"type\":\"Plot\"}},\"id\":\"31df604b-4ed1-444c-9304-fcd7c1c11d77\",\"type\":\"TapTool\"},{\"attributes\":{\"line_alpha\":{\"value\":0.1},\"line_color\":{\"value\":\"#1f77b4\"},\"x\":{\"field\":\"x\"},\"y\":{\"field\":\"y\"}},\"id\":\"48cbe65c-26d0-446d-8773-6e6f15d4ded9\",\"type\":\"Line\"},{\"attributes\":{\"plot\":{\"id\":\"96edc688-5f17-4bba-8deb-4857f2113a19\",\"subtype\":\"Figure\",\"type\":\"Plot\"},\"ticker\":{\"id\":\"1b26f7be-3f8c-400e-b6a7-6098af12f7e2\",\"type\":\"LogTicker\"}},\"id\":\"f86da174-af95-47b3-9b0a-b6fd19b1286e\",\"type\":\"Grid\"},{\"attributes\":{\"plot\":{\"id\":\"96edc688-5f17-4bba-8deb-4857f2113a19\",\"subtype\":\"Figure\",\"type\":\"Plot\"}},\"id\":\"951eef82-0ef8-4a8f-86ad-b59bf583ab7e\",\"type\":\"CrosshairTool\"},{\"attributes\":{},\"id\":\"4fad0927-a9eb-41b8-9671-494e9fec359a\",\"type\":\"BasicTickFormatter\"},{\"attributes\":{\"below\":[{\"id\":\"dc8e7af0-1791-4d14-87a8-4ba6d292845e\",\"type\":\"LogAxis\"}],\"left\":[{\"id\":\"459cc1bd-f529-4c9d-a6dd-a05a3bbb4060\",\"type\":\"LinearAxis\"}],\"renderers\":[{\"id\":\"dc8e7af0-1791-4d14-87a8-4ba6d292845e\",\"type\":\"LogAxis\"},{\"id\":\"f86da174-af95-47b3-9b0a-b6fd19b1286e\",\"type\":\"Grid\"},{\"id\":\"459cc1bd-f529-4c9d-a6dd-a05a3bbb4060\",\"type\":\"LinearAxis\"},{\"id\":\"527bd013-dc42-4bc3-8433-1822f8a00011\",\"type\":\"Grid\"},{\"id\":\"01c7b750-8596-4b8e-80e1-1f0def5a856f\",\"type\":\"BoxAnnotation\"},{\"id\":\"a88c5006-2fbe-486d-8229-8f3decc7a9ff\",\"type\":\"BoxAnnotation\"},{\"id\":\"246b51f4-1325-49e0-8857-78c5b6277250\",\"type\":\"GlyphRenderer\"}],\"title\":{\"id\":\"3d89183a-d1d7-4f3d-a29f-2aba6d2257ee\",\"type\":\"Title\"},\"tool_events\":{\"id\":\"5d94ba62-b47b-4d87-a418-ced242a877db\",\"type\":\"ToolEvents\"},\"toolbar\":{\"id\":\"09356c03-5655-46fb-97d5-f1b4e9f660c5\",\"type\":\"Toolbar\"},\"x_range\":{\"id\":\"db9b9e12-a065-45a5-853d-75a760b459e2\",\"type\":\"DataRange1d\"},\"x_scale\":{\"id\":\"a8a9c14d-c619-4097-9865-728e1bd177b4\",\"type\":\"LogScale\"},\"y_range\":{\"id\":\"9a70e158-9e15-40f0-8380-2bccfeb5018d\",\"type\":\"DataRange1d\"},\"y_scale\":{\"id\":\"160887e1-2ab9-4d01-8713-264518383578\",\"type\":\"LinearScale\"}},\"id\":\"96edc688-5f17-4bba-8deb-4857f2113a19\",\"subtype\":\"Figure\",\"type\":\"Plot\"},{\"attributes\":{\"active_drag\":\"auto\",\"active_inspect\":\"auto\",\"active_scroll\":\"auto\",\"active_tap\":\"auto\",\"tools\":[{\"id\":\"85fc53c6-0303-4b6b-a9ec-434e14554954\",\"type\":\"HoverTool\"},{\"id\":\"951eef82-0ef8-4a8f-86ad-b59bf583ab7e\",\"type\":\"CrosshairTool\"},{\"id\":\"49594393-9d05-45f1-985d-11b3ee3e89e1\",\"type\":\"PanTool\"},{\"id\":\"4dc293d4-f025-454e-9f04-6e5b131807b9\",\"type\":\"WheelZoomTool\"},{\"id\":\"336e49e7-68fe-4f6a-85af-9860d37df88f\",\"type\":\"BoxZoomTool\"},{\"id\":\"b4ff4a87-9b9e-482e-8c33-8fbceccc4d51\",\"type\":\"ResetTool\"},{\"id\":\"31df604b-4ed1-444c-9304-fcd7c1c11d77\",\"type\":\"TapTool\"},{\"id\":\"18c87eb9-1dad-4a3a-a322-2fbfc1464668\",\"type\":\"SaveTool\"},{\"id\":\"adfee9ec-bda4-4ebb-9eac-50cd51e05b02\",\"type\":\"BoxSelectTool\"}]},\"id\":\"09356c03-5655-46fb-97d5-f1b4e9f660c5\",\"type\":\"Toolbar\"},{\"attributes\":{\"axis_label\":\"Period\",\"formatter\":{\"id\":\"4fad0927-a9eb-41b8-9671-494e9fec359a\",\"type\":\"BasicTickFormatter\"},\"plot\":{\"id\":\"96edc688-5f17-4bba-8deb-4857f2113a19\",\"subtype\":\"Figure\",\"type\":\"Plot\"},\"ticker\":{\"id\":\"2fb4c4f2-073a-4ff9-bc0c-ad7e491bc246\",\"type\":\"BasicTicker\"}},\"id\":\"459cc1bd-f529-4c9d-a6dd-a05a3bbb4060\",\"type\":\"LinearAxis\"},{\"attributes\":{},\"id\":\"160887e1-2ab9-4d01-8713-264518383578\",\"type\":\"LinearScale\"},{\"attributes\":{\"plot\":{\"id\":\"96edc688-5f17-4bba-8deb-4857f2113a19\",\"subtype\":\"Figure\",\"type\":\"Plot\"}},\"id\":\"b4ff4a87-9b9e-482e-8c33-8fbceccc4d51\",\"type\":\"ResetTool\"},{\"attributes\":{\"dimension\":1,\"plot\":{\"id\":\"96edc688-5f17-4bba-8deb-4857f2113a19\",\"subtype\":\"Figure\",\"type\":\"Plot\"},\"ticker\":{\"id\":\"2fb4c4f2-073a-4ff9-bc0c-ad7e491bc246\",\"type\":\"BasicTicker\"}},\"id\":\"527bd013-dc42-4bc3-8433-1822f8a00011\",\"type\":\"Grid\"},{\"attributes\":{\"overlay\":{\"id\":\"01c7b750-8596-4b8e-80e1-1f0def5a856f\",\"type\":\"BoxAnnotation\"},\"plot\":{\"id\":\"96edc688-5f17-4bba-8deb-4857f2113a19\",\"subtype\":\"Figure\",\"type\":\"Plot\"}},\"id\":\"336e49e7-68fe-4f6a-85af-9860d37df88f\",\"type\":\"BoxZoomTool\"},{\"attributes\":{\"callback\":null,\"plot\":{\"id\":\"96edc688-5f17-4bba-8deb-4857f2113a19\",\"subtype\":\"Figure\",\"type\":\"Plot\"}},\"id\":\"85fc53c6-0303-4b6b-a9ec-434e14554954\",\"type\":\"HoverTool\"},{\"attributes\":{\"callback\":null,\"column_names\":[\"y\",\"x\"],\"data\":{\"x\":{\"__ndarray__\":\"AKqOqW3rZEAAqo6pbetUQKriaDeS5EtAAKqOqW3rREAAiNi6V7xAQKriaDeS5DtASMIQVH3oN0AAqo6pbes0QHHsRXphmDJAAIjYule8MEBdVBXItm0uQKriaDeS5CtAOtFg5Eu/KUBIwhBUfegnQFW1IPl0UCZAAKqOqW3rJEBL6ys2Z7AjQHHsRXphmCJAUD5CnNWdIUAAiNi6V7wgQA0DwRqn4B9AXVQVyLZtHkA4fcbgBxsdQKziaDeS5BtAZqaNxPLGGkA80WDkS78ZQO3lB6MsyxhAScIQVH3oF0AtN9stcBUXQFW1IPl0UBZAQsijIi+YFUAAqo6pbesUQJSNY4UkSRRATOsrNmewE0Bum0BDZCATQHLsRXphmBJAN9j+ybgXEkBRPkKc1Z0RQH2LQJgyKhFAAIjYule8EEBY4km22FMQQAsDwRqn4A9AU1bUwN4iD0BdVBXItm0OQB1H1vabwA1AOH3G4AcbDUCqb0qKf3wMQKriaDeS5AtALycTYNhSC0Bmpo3E8sYKQGXkj52JQApAPNFg5Eu/CUCtbMSv7kIJQO3lB6MsywhAF93dbMVXCEBJwhBUfegHQBdTWNAcfQdALDfbLXAVB0CylRg6R7EGQFW1IPl0UAZAypAoYs/yBUBCyKMiL5gFQF1XK2dvQAVAAKqOqW3rBEBjp4CDCZkEQJSNY4UkSQRAE2nFEKL7A0BL6ys2Z7ADQNCo2ZVaZwNAbptAQ2QgA0BXWN6qbdsCQHLsRXphmAJAs+UhiitXAkA32P7JuBcCQETEsy332QFAUT5CnNWdAUA1MAzgQ2MBQH2LQJgyKgFAmF9jK5PyAEAAiNi6V7wAQEmZWhdzhwBA\",\"dtype\":\"float64\",\"shape\":[81]},\"y\":{\"__ndarray__\":\"kxSspaHTZD9kz5JrxqVkP1bOJWhJpmQ/W/lm2HvXZT8X+/bRG/VpPxc199KnOm8/CY5manxVbD+8aN1eLzViPzsS+gbpF1U/ziEa6SvTSj84DLQmUF9EP+kpfJP1nkU/CJiPP74hQz+WvMPPNX82P8bPoiSaYyA/748sc1grEz8Eny/HyjsyP/7Dywt6pUE/G63/nygVRT8oThFSgcZAP1Mm9znjxzA/b6EYdGeHJD/kvsg4f3owP3WzGtTRlzc/Pn8EoagmNT/WjRALNi0mP+yFY/DO2R8/5qr5A3hTLT/yALifEPIyP1NqmWlCTic/ocQzA//6/j65cjNPf9gjP2P01O2g/UA/6qYrgLUdSD/2DgtU2pRAPwnLtt9Jnxc/zrqMDCQcIz8AaySAO+5JPyw10E8ljVU/58t6sQVgUD+wMe3KYEcrP8CrQYJG2zg/2xeL6Z16YT8siQT+52VwP0OAFBxn8W0/YARTfipAUD+l25PEgPNHP4wc2BPzv4M/KUm4Zz1Anz/kPmmjFhCuP0BzxERS47Q/F1z0KrnntT9f+XIw/a+xP5juliwR16U/aFJTjWCzkj+o/JHh2FNuP9VacHnYBxc/ECmSUI0SYT+1zCW8ZNtuP85tn0TG1Gg/2U6DrCJEUj9UCd295SEgP+VUCrEeb0M/zOn1vamqVz8FoGyi0ARaPxjDbqiciU4/cjKawkvOMT8Lui/HSqYuP/wSTUCzOkU/ZmmgPI5RTj8zy0GGzKVHP2BNyptntTM/tdyNxI7WIT+HrqrRH1U2PxuI3d9Gx0M/moqz5R7TQj8zZxL8B8o0PyeSGYYJvCg/y7yL2kWHNz9xaTysBn5DP/wINLOfY0E/\",\"dtype\":\"float64\",\"shape\":[81]}}},\"id\":\"eeac6ff2-607b-478d-a9fc-1fd7d9965941\",\"type\":\"ColumnDataSource\"},{\"attributes\":{\"callback\":null},\"id\":\"9a70e158-9e15-40f0-8380-2bccfeb5018d\",\"type\":\"DataRange1d\"},{\"attributes\":{\"data_source\":{\"id\":\"eeac6ff2-607b-478d-a9fc-1fd7d9965941\",\"type\":\"ColumnDataSource\"},\"glyph\":{\"id\":\"5219c36f-b0b9-4fd8-88dc-b9f0e8504fa6\",\"type\":\"Line\"},\"hover_glyph\":null,\"muted_glyph\":null,\"nonselection_glyph\":{\"id\":\"48cbe65c-26d0-446d-8773-6e6f15d4ded9\",\"type\":\"Line\"},\"selection_glyph\":null},\"id\":\"246b51f4-1325-49e0-8857-78c5b6277250\",\"type\":\"GlyphRenderer\"},{\"attributes\":{\"line_color\":{\"value\":\"#1f77b4\"},\"x\":{\"field\":\"x\"},\"y\":{\"field\":\"y\"}},\"id\":\"5219c36f-b0b9-4fd8-88dc-b9f0e8504fa6\",\"type\":\"Line\"},{\"attributes\":{},\"id\":\"2fb4c4f2-073a-4ff9-bc0c-ad7e491bc246\",\"type\":\"BasicTicker\"},{\"attributes\":{\"plot\":{\"id\":\"96edc688-5f17-4bba-8deb-4857f2113a19\",\"subtype\":\"Figure\",\"type\":\"Plot\"}},\"id\":\"4dc293d4-f025-454e-9f04-6e5b131807b9\",\"type\":\"WheelZoomTool\"},{\"attributes\":{\"axis_label\":\"Period\",\"formatter\":{\"id\":\"e3dbdc6f-dce0-44e0-b0c8-1157627096f1\",\"type\":\"LogTickFormatter\"},\"plot\":{\"id\":\"96edc688-5f17-4bba-8deb-4857f2113a19\",\"subtype\":\"Figure\",\"type\":\"Plot\"},\"ticker\":{\"id\":\"1b26f7be-3f8c-400e-b6a7-6098af12f7e2\",\"type\":\"LogTicker\"}},\"id\":\"dc8e7af0-1791-4d14-87a8-4ba6d292845e\",\"type\":\"LogAxis\"},{\"attributes\":{},\"id\":\"5d94ba62-b47b-4d87-a418-ced242a877db\",\"type\":\"ToolEvents\"},{\"attributes\":{\"callback\":null},\"id\":\"db9b9e12-a065-45a5-853d-75a760b459e2\",\"type\":\"DataRange1d\"},{\"attributes\":{\"bottom_units\":\"screen\",\"fill_alpha\":{\"value\":0.5},\"fill_color\":{\"value\":\"lightgrey\"},\"left_units\":\"screen\",\"level\":\"overlay\",\"line_alpha\":{\"value\":1.0},\"line_color\":{\"value\":\"black\"},\"line_dash\":[4,4],\"line_width\":{\"value\":2},\"plot\":null,\"render_mode\":\"css\",\"right_units\":\"screen\",\"top_units\":\"screen\"},\"id\":\"a88c5006-2fbe-486d-8229-8f3decc7a9ff\",\"type\":\"BoxAnnotation\"}],\"root_ids\":[\"96edc688-5f17-4bba-8deb-4857f2113a19\"]},\"title\":\"Bokeh Application\",\"version\":\"0.12.6\"}};\n",
       "            var render_items = [{\"docid\":\"61392709-4a25-4667-97d9-58791a09dfa7\",\"elementid\":\"9d65fb36-5cf3-48da-ae7c-1d8db48d8b06\",\"modelid\":\"96edc688-5f17-4bba-8deb-4857f2113a19\"}];\n",
       "            \n",
       "            Bokeh.embed.embed_items(docs_json, render_items);\n",
       "          };\n",
       "          if (document.readyState != \"loading\") fn();\n",
       "          else document.addEventListener(\"DOMContentLoaded\", fn);\n",
       "        })();\n",
       "      },\n",
       "      function(Bokeh) {\n",
       "      }\n",
       "    ];\n",
       "  \n",
       "    function run_inline_js() {\n",
       "      \n",
       "      if ((window.Bokeh !== undefined) || (force === true)) {\n",
       "        for (var i = 0; i < inline_js.length; i++) {\n",
       "          inline_js[i](window.Bokeh);\n",
       "        }if (force === true) {\n",
       "          display_loaded();\n",
       "        }} else if (Date.now() < window._bokeh_timeout) {\n",
       "        setTimeout(run_inline_js, 100);\n",
       "      } else if (!window._bokeh_failed_load) {\n",
       "        console.log(\"Bokeh: BokehJS failed to load within specified timeout.\");\n",
       "        window._bokeh_failed_load = true;\n",
       "      } else if (force !== true) {\n",
       "        var cell = $(document.getElementById(\"9d65fb36-5cf3-48da-ae7c-1d8db48d8b06\")).parents('.cell').data().cell;\n",
       "        cell.output_area.append_execute_result(NB_LOAD_WARNING)\n",
       "      }\n",
       "  \n",
       "    }\n",
       "  \n",
       "    if (window._bokeh_is_loading === 0) {\n",
       "      console.log(\"Bokeh: BokehJS loaded, going straight to plotting\");\n",
       "      run_inline_js();\n",
       "    } else {\n",
       "      load_libs(js_urls, function() {\n",
       "        console.log(\"Bokeh: BokehJS plotting callback run at\", now());\n",
       "        run_inline_js();\n",
       "      });\n",
       "    }\n",
       "  }(this));\n",
       "</script>"
      ]
     },
     "metadata": {},
     "output_type": "display_data"
    },
    {
     "name": "stdout",
     "output_type": "stream",
     "text": [
      "Finding optimal frequency:\n",
      " - Estimated peak width = 0.188\n",
      " - Using 5 steps per peak; omega_step = 0.0375\n",
      " - User-specified period range:  0.5 to 31\n",
      " - Computing periods at 331 steps\n",
      "Zooming-in on 5 candidate peaks:\n",
      " - Computing periods at 1000 steps\n",
      "period = 1.61857621546\n",
      "Half the found period. 0.809288107731\n"
     ]
    }
   ],
   "source": [
    "#1st argument: time data\n",
    "#2nd argument: flux data\n",
    "#3rd argument: minimum period\n",
    "#4th argument: max period\n",
    "#5th argument: time between data points\n",
    "min_period = .5 #about 12 hours\n",
    "max_period = max(t) - min(t)-2\n",
    "# max_period = 4\n",
    "nyquist = .02 #30min flux samples\n",
    "\n",
    "period1 = periodogram(t_no_nan,f_no_nan,min_period,max_period,nyquist)\n",
    "print 'Half the found period.', period1/2."
   ]
  },
  {
   "cell_type": "markdown",
   "metadata": {},
   "source": [
    "## Method 1: Median Smooth, then removing NAN Fluxes"
   ]
  },
  {
   "cell_type": "code",
   "execution_count": 90,
   "metadata": {
    "collapsed": false
   },
   "outputs": [],
   "source": [
    "#1st argument - flux data\n",
    "#2nd argument - number of pixels for median smoothing\n",
    "#3rd argument - maximum pixel delta, anything lower will be smoothed, preserves troughs\n",
    "#4th argument - maximum flux, anything higher will be smoothed\n",
    "npixel = 7\n",
    "maxdelta = 50\n",
    "#needs to be chaged for each quarter\n",
    "maxflux = 73500\n",
    "smooth_flux = median_smooth(f,npixel,maxdelta,maxflux)"
   ]
  },
  {
   "cell_type": "markdown",
   "metadata": {},
   "source": [
    "Median Smoothing of Data"
   ]
  },
  {
   "cell_type": "code",
   "execution_count": 120,
   "metadata": {
    "collapsed": false,
    "scrolled": false
   },
   "outputs": [
    {
     "data": {
      "text/html": [
       "\n",
       "\n",
       "    <div class=\"bk-root\">\n",
       "        <div class=\"bk-plotdiv\" id=\"6b32678c-7416-4f13-9113-14575bc440e8\"></div>\n",
       "    </div>\n",
       "<script type=\"text/javascript\">\n",
       "  \n",
       "  (function(global) {\n",
       "    function now() {\n",
       "      return new Date();\n",
       "    }\n",
       "  \n",
       "    var force = false;\n",
       "  \n",
       "    if (typeof (window._bokeh_onload_callbacks) === \"undefined\" || force === true) {\n",
       "      window._bokeh_onload_callbacks = [];\n",
       "      window._bokeh_is_loading = undefined;\n",
       "    }\n",
       "  \n",
       "  \n",
       "    \n",
       "    if (typeof (window._bokeh_timeout) === \"undefined\" || force === true) {\n",
       "      window._bokeh_timeout = Date.now() + 0;\n",
       "      window._bokeh_failed_load = false;\n",
       "    }\n",
       "  \n",
       "    var NB_LOAD_WARNING = {'data': {'text/html':\n",
       "       \"<div style='background-color: #fdd'>\\n\"+\n",
       "       \"<p>\\n\"+\n",
       "       \"BokehJS does not appear to have successfully loaded. If loading BokehJS from CDN, this \\n\"+\n",
       "       \"may be due to a slow or bad network connection. Possible fixes:\\n\"+\n",
       "       \"</p>\\n\"+\n",
       "       \"<ul>\\n\"+\n",
       "       \"<li>re-rerun `output_notebook()` to attempt to load from CDN again, or</li>\\n\"+\n",
       "       \"<li>use INLINE resources instead, as so:</li>\\n\"+\n",
       "       \"</ul>\\n\"+\n",
       "       \"<code>\\n\"+\n",
       "       \"from bokeh.resources import INLINE\\n\"+\n",
       "       \"output_notebook(resources=INLINE)\\n\"+\n",
       "       \"</code>\\n\"+\n",
       "       \"</div>\"}};\n",
       "  \n",
       "    function display_loaded() {\n",
       "      if (window.Bokeh !== undefined) {\n",
       "        var el = document.getElementById(\"6b32678c-7416-4f13-9113-14575bc440e8\");\n",
       "        el.textContent = \"BokehJS \" + Bokeh.version + \" successfully loaded.\";\n",
       "      } else if (Date.now() < window._bokeh_timeout) {\n",
       "        setTimeout(display_loaded, 100)\n",
       "      }\n",
       "    }\n",
       "  \n",
       "    function run_callbacks() {\n",
       "      try {\n",
       "        window._bokeh_onload_callbacks.forEach(function(callback) { callback() });\n",
       "      }\n",
       "      finally {\n",
       "        delete window._bokeh_onload_callbacks\n",
       "      }\n",
       "      console.info(\"Bokeh: all callbacks have finished\");\n",
       "    }\n",
       "  \n",
       "    function load_libs(js_urls, callback) {\n",
       "      window._bokeh_onload_callbacks.push(callback);\n",
       "      if (window._bokeh_is_loading > 0) {\n",
       "        console.log(\"Bokeh: BokehJS is being loaded, scheduling callback at\", now());\n",
       "        return null;\n",
       "      }\n",
       "      if (js_urls == null || js_urls.length === 0) {\n",
       "        run_callbacks();\n",
       "        return null;\n",
       "      }\n",
       "      console.log(\"Bokeh: BokehJS not loaded, scheduling load and callback at\", now());\n",
       "      window._bokeh_is_loading = js_urls.length;\n",
       "      for (var i = 0; i < js_urls.length; i++) {\n",
       "        var url = js_urls[i];\n",
       "        var s = document.createElement('script');\n",
       "        s.src = url;\n",
       "        s.async = false;\n",
       "        s.onreadystatechange = s.onload = function() {\n",
       "          window._bokeh_is_loading--;\n",
       "          if (window._bokeh_is_loading === 0) {\n",
       "            console.log(\"Bokeh: all BokehJS libraries loaded\");\n",
       "            run_callbacks()\n",
       "          }\n",
       "        };\n",
       "        s.onerror = function() {\n",
       "          console.warn(\"failed to load library \" + url);\n",
       "        };\n",
       "        console.log(\"Bokeh: injecting script tag for BokehJS library: \", url);\n",
       "        document.getElementsByTagName(\"head\")[0].appendChild(s);\n",
       "      }\n",
       "    };var element = document.getElementById(\"6b32678c-7416-4f13-9113-14575bc440e8\");\n",
       "    if (element == null) {\n",
       "      console.log(\"Bokeh: ERROR: autoload.js configured with elementid '6b32678c-7416-4f13-9113-14575bc440e8' but no matching script tag was found. \")\n",
       "      return false;\n",
       "    }\n",
       "  \n",
       "    var js_urls = [];\n",
       "  \n",
       "    var inline_js = [\n",
       "      function(Bokeh) {\n",
       "        (function() {\n",
       "          var fn = function() {\n",
       "            var docs_json = {\"58895cf4-7a7b-42c9-8020-e0b3608aa51a\":{\"roots\":{\"references\":[{\"attributes\":{\"items\":[{\"id\":\"b8938e00-67ef-4ffe-8859-a9ccd7304c28\",\"type\":\"LegendItem\"}],\"plot\":{\"id\":\"78349d76-755b-41ca-a70b-5b15770a23be\",\"subtype\":\"Figure\",\"type\":\"Plot\"}},\"id\":\"d4073509-eae7-4d74-8bbe-4298feb7fa88\",\"type\":\"Legend\"},{\"attributes\":{\"plot\":{\"id\":\"78349d76-755b-41ca-a70b-5b15770a23be\",\"subtype\":\"Figure\",\"type\":\"Plot\"}},\"id\":\"cc5633bd-09b9-4f88-9527-e52fed3c6afe\",\"type\":\"PanTool\"},{\"attributes\":{},\"id\":\"96ff919a-37d8-4e0d-9c25-371394356ec4\",\"type\":\"ToolEvents\"},{\"attributes\":{},\"id\":\"456e7386-f03b-4065-bd59-b87fb8b64f30\",\"type\":\"BasicTicker\"},{\"attributes\":{\"bottom_units\":\"screen\",\"fill_alpha\":{\"value\":0.5},\"fill_color\":{\"value\":\"lightgrey\"},\"left_units\":\"screen\",\"level\":\"overlay\",\"line_alpha\":{\"value\":1.0},\"line_color\":{\"value\":\"black\"},\"line_dash\":[4,4],\"line_width\":{\"value\":2},\"plot\":null,\"render_mode\":\"css\",\"right_units\":\"screen\",\"top_units\":\"screen\"},\"id\":\"e546b83f-5419-49fc-8bf9-9adeb03b999e\",\"type\":\"BoxAnnotation\"},{\"attributes\":{},\"id\":\"25583528-e01f-4823-8205-5c1be15fc58c\",\"type\":\"LinearScale\"},{\"attributes\":{\"callback\":null,\"overlay\":{\"id\":\"ded8ed9e-c741-4e69-becf-699dcc530920\",\"type\":\"BoxAnnotation\"},\"plot\":{\"id\":\"78349d76-755b-41ca-a70b-5b15770a23be\",\"subtype\":\"Figure\",\"type\":\"Plot\"},\"renderers\":[{\"id\":\"6dc9a848-d6ab-44fc-9ccf-c8b2401e82c0\",\"type\":\"GlyphRenderer\"}]},\"id\":\"43e648bb-26a8-469d-bcfb-c8596094f08f\",\"type\":\"BoxSelectTool\"},{\"attributes\":{\"callback\":null,\"plot\":{\"id\":\"78349d76-755b-41ca-a70b-5b15770a23be\",\"subtype\":\"Figure\",\"type\":\"Plot\"}},\"id\":\"edd26976-e247-4dea-a8b6-3a6c41e176e3\",\"type\":\"TapTool\"},{\"attributes\":{\"callback\":null,\"plot\":{\"id\":\"78349d76-755b-41ca-a70b-5b15770a23be\",\"subtype\":\"Figure\",\"type\":\"Plot\"}},\"id\":\"e34c48fe-52b5-4f06-801c-d512e14ff0d6\",\"type\":\"HoverTool\"},{\"attributes\":{\"data_source\":{\"id\":\"37d7b73c-b232-4fe7-aed5-88a0a68c9158\",\"type\":\"ColumnDataSource\"},\"glyph\":{\"id\":\"e7396c42-5275-4ba0-9360-da53f39f94f3\",\"type\":\"Circle\"},\"hover_glyph\":null,\"muted_glyph\":null,\"nonselection_glyph\":{\"id\":\"2a26c569-72a1-47c6-90be-572e7b0a8430\",\"type\":\"Circle\"},\"selection_glyph\":null},\"id\":\"6dc9a848-d6ab-44fc-9ccf-c8b2401e82c0\",\"type\":\"GlyphRenderer\"},{\"attributes\":{\"plot\":{\"id\":\"78349d76-755b-41ca-a70b-5b15770a23be\",\"subtype\":\"Figure\",\"type\":\"Plot\"},\"ticker\":{\"id\":\"456e7386-f03b-4065-bd59-b87fb8b64f30\",\"type\":\"BasicTicker\"}},\"id\":\"8a160847-19e7-4c1e-b823-594ea5bd0edd\",\"type\":\"Grid\"},{\"attributes\":{\"plot\":{\"id\":\"78349d76-755b-41ca-a70b-5b15770a23be\",\"subtype\":\"Figure\",\"type\":\"Plot\"}},\"id\":\"9be81ccb-32cc-4ba7-836f-0e43447920e6\",\"type\":\"WheelZoomTool\"},{\"attributes\":{\"axis_label\":\"Flux(e-/sec)\",\"formatter\":{\"id\":\"c38d2273-d133-488b-b496-505d5c379837\",\"type\":\"BasicTickFormatter\"},\"plot\":{\"id\":\"78349d76-755b-41ca-a70b-5b15770a23be\",\"subtype\":\"Figure\",\"type\":\"Plot\"},\"ticker\":{\"id\":\"ba1e5d58-3bd9-405d-84a7-a466035123f2\",\"type\":\"BasicTicker\"}},\"id\":\"341fc0b8-cb92-4ede-92ee-cbb7a543f00f\",\"type\":\"LinearAxis\"},{\"attributes\":{},\"id\":\"95d70314-97d4-44a8-b9ab-2214161aefb5\",\"type\":\"LinearScale\"},{\"attributes\":{\"label\":{\"value\":\"Median Smooth Data\"},\"renderers\":[{\"id\":\"6dc9a848-d6ab-44fc-9ccf-c8b2401e82c0\",\"type\":\"GlyphRenderer\"}]},\"id\":\"b8938e00-67ef-4ffe-8859-a9ccd7304c28\",\"type\":\"LegendItem\"},{\"attributes\":{\"callback\":null,\"column_names\":[\"x\",\"y\"],\"data\":{\"x\":[131.51178135778173,131.53221582827246,131.5526501987697,131.5730844693171,131.59351883981435,131.61395331031235,131.63438758080883,131.6548219512988,131.6752564217968,131.69569079228677,131.71612506272504,131.73655943322228,131.7569939036548,131.77742817415128,131.79786254459032,131.81829701508104,131.83873128551932,131.85916565595835,131.8796000263901,131.90003439682914,131.92046876726818,131.94090313769993,131.96133750808076,131.9817718785198,132.00220624889334,132.02264051933162,132.0430749897132,132.06350936008675,132.08394363046682,132.10437800084765,132.12481247122196,132.14524674160202,132.16568111192464,132.18611558229895,132.20654995262157,132.22698422300164,132.24741859332426,132.26785306364036,132.28828733396222,132.30872170427756,132.32915617454273,132.3495904448646,132.3700248151872,132.39045918544434,132.41089355570875,132.4313279259659,132.4517622962303,132.47219676649547,132.49263103675912,132.51306540695805,132.5334996771635,132.5539341474214,132.5743685176276,132.59480278783303,132.61523725804,132.63567162818072,132.65610599838692,132.67654026853415,132.69697473873384,132.71740910888184,132.73784337902907,132.75827784917055,132.77871221926034,132.79914648940758,132.8195808594901,132.84001532958064,132.86044959966966,132.88088396975218,132.90131843984273,132.92175270987354,132.94218707995606,132.96262144998764,132.98305592001998,133.00349019004352,133.0239245600751,133.04435893004847,133.06479330001457,133.08522767004615,133.10566203996132,133.1260964099274,133.1465307799008,133.16696514987416,133.18739951978205,133.20783398969797,133.22826825961238,133.24870262946206,133.26913699937722,133.28957136923418,133.31000573908386,133.33044000894006,133.35087447879778,133.37130884864746,133.3917432184462,133.41217758824496,133.43261195803643,133.45304632783518,133.47348059757496,133.4939150673672,133.51434943710774,133.53478370684752,133.55521817652334,133.57565254626388,133.59608681594545,133.6165211856205,133.6369556553036,133.65739002497867,133.67782429460203,133.69825876422692,133.71869313385105,133.73912740346714,133.75956177309126,133.77999624265067,133.80043051221583,133.82086488178174,133.84129925134766,133.8617336208481,133.8821679903558,133.90260235986352,133.92303672936396,133.94347109881346,133.96390546826296,133.98433973770443,134.0047742071547,134.0252085766042,134.04564284598746,134.06607731537952,134.0865116847708,134.10694595409586,134.12738032342895,134.1478147927628,134.1682491620886,134.18868343142094,134.20911790069658,134.2295522699642,134.2499865391801,134.27042090845498,134.29085537766514,134.31128964688105,134.33172401609772,134.35215848524967,134.37259275440738,134.41346149265883,134.4338958618173,134.45433023091755,134.47476459995232,134.49519906905334,134.51563333809463,134.5360677071294,134.5565019761707,134.5769364451553,134.59737081413186,134.61780508311494,134.63823945204058,134.6586739210179,134.67910828988533,134.69954265881097,134.71997702772933,134.74041139653855,134.7608456654052,134.78128003426536,134.80171450307535,134.82214887188456,134.84258314063482,134.8630176093793,134.88345197813032,134.90388634687406,134.9243206155661,134.94475508425967,134.9651894529452,134.98562372157903,135.0060581902144,135.0264925588417,135.04692682747554,135.06736119605193,135.0877956646218,135.10822993313923,135.1286643016574,135.14909877016908,135.16953313868726,135.18996740714647,135.21040177559917,135.2308362440017,135.2512705124027,135.2717048807972,135.2921391491982,135.3125736175425,135.3330079858788,135.35344225416338,135.3738767224495,135.39431109072757,135.41474545901292,135.4351797272393,135.45561419545993,135.47604856362886,135.49648283179704,135.51691729995946,135.5373516680702,135.55778593618015,135.57822030429088,135.5986547723369,135.61908904038864,135.6395234084339,135.65995787642896,135.68039224442327,135.70082651241682,135.72126088034565,135.74169534828252,135.76212961615238,135.78256398403028,135.80299845190893,135.82343271972786,135.84386708754027,135.86430145535996,135.88473582311417,135.90517019087565,135.92560455857893,135.94603882628144,135.9664732939782,135.98690766162326,136.00734192926757,136.02777639690612,136.04821076449298,136.06864503202087,136.08907939960045,136.10951386712986,136.12994823459303,136.1503825020627,136.17081696953392,136.19125133700436,136.21168560440856,136.2321199717626,136.2525544391101,136.27298870646337,136.2934230738174,136.31385754111398,136.33429180834355,136.35472617558116,136.37516054281878,136.3955949099909,136.4160292771703,136.43646364434971,136.4568981114644,136.47733237852663,136.49776674564782,136.51820111264533,136.53863547970832,136.5590698466549,136.5795042137106,136.59993858065718,136.62037294760376,136.64080731442664,136.6612416813732,136.68167604820337,136.70211041502625,136.7225447818564,136.7429790485694,136.76341351527662,136.78384788210678,136.80428214870335,136.82471661541058,136.8451509820079,136.86558534871438,136.88601961531094,136.90645408190903,136.92688844838995,136.94732271486282,136.9677571813445,136.98819154781813,137.00862581429828,137.02906018066278,137.04949464714446,137.0699289133845,137.090363279749,137.11079774610698,137.1312320123543,137.15166637860239,137.17210074485047,137.19253521097562,137.21296947722294,137.2334038433546,137.25383810947824,137.27427257549425,137.2947069415095,137.31514120763313,137.33557567353273,137.35601003954798,137.39687867145403,137.41731313735363,137.43774750312878,137.45818176902685,137.47861623481003,137.49905060058518,137.51948486625042,137.53991923203284,137.56035369769234,137.58078796335758,137.60122232902359,137.62165679456666,137.64209116023267,137.66252542566508,137.6829597912074,137.70339425675775,137.72382852219016,137.74426288761606,137.76469735305,137.785131618366,137.80556598367548,137.82600024899148,137.846434714309,137.86686907950207,137.8873034447024,137.907737709902,137.92817217509582,137.94860654017975,137.96904080526292,137.98947527034034,138.00990963542426,138.03034390039102,138.05077826535853,138.07121273031953,138.09164709517063,138.1120813600137,138.13251582486555,138.15295018971665,138.1733844545597,138.1938188192944,138.21425328402984,138.23468764864083,138.25512191337475,138.27555637799378,138.29599074260477,138.31642500710586,138.33685937160772,138.35729383610305,138.3777282006049,138.39816246498958,138.41859692948492,138.43903129375394,138.45946555813862,138.47989992240036,138.50033438667015,138.5207686509384,138.54120301520015,138.56163737935276,138.58207174350537,138.60250610753428,138.6229404716869,138.64337483572308,138.66380919963558,138.68424356367177,138.70467782759079,138.72511229150405,138.74554665542382,138.76598091922642,138.78641538302327,138.80684974682663,138.8272840105128,138.84771837419248,138.8681528378802,138.88858720156713,138.9090214651369,138.92945592870092,138.94989029227145,138.97032455571753,138.99075891917164,139.01119338262652,139.03162764596345,139.05206200929388,139.07249647263234,139.092930735962,139.11336509918328,139.13379946240457,139.15423382562585,139.17466818872344,139.1951025518283,139.21553681493242,139.23597127791436,139.25640564101923,139.2768399038905,139.29727436687244,139.31770872974448,139.33814309260924,139.35857735548052,139.3790118182369,139.39944618099253,139.4198804436237,139.44031490638008,139.460749269012,139.48118353165046,139.50161789417325,139.5220523566968,139.54248661921156,139.56292098161794,139.5833554440178,139.6037897064234,139.6242240688298,139.64465843111975,139.6650928934032,139.68552715557598,139.70596151774953,139.7263958799158,139.74683024208935,139.76726460414648,139.78769896619633,139.80813332813705,139.82856769019418,139.84900205212762,139.86943641395192,139.88987077577622,139.91030513759324,139.93073949941754,139.9511739611189,139.97160822282603,139.99204258453392,140.01247684612463,140.03291130770958,140.05334566918464,140.07378003076883,140.09421439224388,140.11464875360252,140.13508311507758,140.15551737631176,140.17595183767116,140.1963861989061,140.21682046014757,140.23725492139056,140.25768928251637,140.27812354363414,140.29855790464353,140.3189923656464,140.33942662665504,140.3802953485574,140.40072980944387,140.42116407021967,140.44159843099624,140.46203289176628,140.48246715242567,140.50290151308582,140.52333577373793,140.54377023428242,140.56420459482615,140.5846389553626,140.60507331578992,140.62550767621724,140.64594203652086,140.66637629694742,140.68681075714267,140.7072451174463,140.72767937764002,140.74811383783526,140.76854819790606,140.78898245798337,140.80941681806144,140.82985127801658,140.85028563797823,140.87071989793913,140.8911542577771,140.9115887176231,140.93202297735115,140.95245733718912,140.9728917968023,140.99332605653035,141.01376041613548,141.03419477563148,141.05462913512747,141.0750634946162,141.09549785411218,141.11593221349176,141.13636657286406,141.15680093212723,141.17723519138963,141.19766965064628,141.21810400979302,141.238538268939,141.25897272807924,141.27940708710958,141.29984134613915,141.3202757050458,141.34071016396047,141.36114452287438,141.38157878166385,141.40201314046135,141.4224475991432,141.442881957817,141.46331621649733,141.48375067517918,141.50418503373658,141.52461929218407,141.54505365063233,141.5654880090733,141.58592246752232,141.606356725737,141.6267911840623,141.64722554227774,141.6676598004924,141.68809415870055,141.70852861680032,141.72896287478216,141.7493972328739,141.76983169074083,141.79026594872266,141.81070030658157,141.83113466444775,141.8515690221975,141.87200337994,141.89243773757335,141.91287219520746,141.93330645283277,141.9537408103497,141.97417506786587,141.9946095253763,142.0150438827768,142.03547814006015,142.0559124974534,142.07634695462184,142.09678131190594,142.11721556907287,142.13765002623404,142.1580843832853,142.17851864032855,142.1989529972634,142.21938745419902,142.23982171113312,142.26025606794428,142.28069052464707,142.30112478145747,142.3215591381595,142.3419934947451,142.3624279513242,142.38286220790906,142.40329656437825,142.42373102084093,142.44416527730937,142.46459963366215,142.48503388989775,142.5054683461276,142.52590270236396,142.54633705847664,142.56677131459583,142.58720577071654,142.60764012672007,142.62807438259915,142.64850883860345,142.66894319436688,142.68937745025323,142.70981180602394,142.73024626167899,142.75068051732524,142.77111487297952,142.79154932851088,142.811983584048,142.83241793946945,142.8528522948909,142.87328675030585,142.89372100549372,142.91415536079876,142.93458981598087,142.95502407116874,142.97545842624095,142.99589268130512,143.01632713626168,143.03676149121748,143.057195846166,143.07763020100538,143.09806455584476,143.11849891056045,143.1389332652834,143.1593676198827,143.17980197448924,143.2002362289786,143.22067058346875,143.24110503795237,143.26153939232609,143.28197374669253,143.30240810094983,143.32284245520714,143.36371106348088,143.3841455175061,143.4045798715233,143.42501412554702,143.44544857945584,143.46588293324749,143.4863171870311,143.50675154082273,143.52718599449145,143.54762034816667,143.56805460172473,143.5884890552843,143.60892340883584,143.62935766216106,143.64979201560345,143.67022646892292,143.69066072213172,143.7110950753413,143.73152942854358,143.75196378163673,143.77239813472988,143.79283248769934,143.81326684067608,143.8337011935364,143.85413554638944,143.8745697991326,143.89500425187725,143.91543860461388,143.9358728572406,143.95630730975245,143.97674166225625,143.99717591476656,144.01761026716122,144.03804471943295,144.0584790717112,144.07891332398867,144.099347776144,144.11978212830581,144.14021638035047,144.1606507323886,144.18108518431836,144.2015194362466,144.2219537880519,144.24238823986525,144.26282249156066,144.28325684324955,144.3036911948293,144.32412554640905,144.34455989798153,144.36499424944486,144.38542850079102,144.40586295213143,144.42629730336193,144.44673155459168,144.46716600581567,144.48760035692976,144.50803460792667,144.52846895891707,144.5489034099155,144.56933776079677,144.58977201156085,144.61020646231918,144.63064081308403,144.65107506372442,144.67150941437285,144.69194386490562,144.7123781153132,144.73281246572878,144.75324691614514,144.7736811664363,144.79411551661906,144.81454986680183,144.83498431697808,144.85541856704367,144.87585291711002,144.89628726705268,144.9167216168862,144.93715596671973,144.95759031654597,144.97802476626384,144.99845901586377,145.0188933654572,145.03932771505788,145.05976206454216,145.08019641390274,145.1006307632706,145.12106521263922,145.14149946188263,145.16193381101766,145.18236806015193,145.20280250928045,145.22323685829906,145.2436711072005,145.26410555609618,145.28453990488197,145.30497425366775,145.32540850233636,145.3458429509992,145.36627729955217,145.38671154809708,145.40714599653438,145.42758034497092,145.44801459329028,145.46844894160313,145.4888833898076,145.50931763800327,145.52975198609056,145.55018633406144,145.5706207820258,145.5910550299959,145.61148937785038,145.6319238255819,145.6523580733192,145.67279242105724,145.6932266686781,145.7136611161768,145.73409546368202,145.75452981106355,145.77496415845235,145.79539850572473,145.81583285299712,145.83626710014505,145.85670154730178,145.87713589433406,145.89757014125644,145.91800458818034,145.93843893510348,145.95887318190216,145.97930752859247,145.99974197527627,146.02017632185016,146.0406105684233,146.06104501488153,146.08147936133173,146.10191360767203,146.12234795389668,146.1427824001148,146.1632166463387,146.18365099244693,146.20408533843147,146.22451968442329,146.2449540302987,146.2653883761668,146.2858227219258,146.30625706768478,146.34712565884547,146.3675601043651,146.38799444989127,146.40842869530024,146.42886314059433,146.44929748588038,146.46973173105653,146.49016617622692,146.51060052128742,146.5310348662315,146.5514691111748,146.57190355611237,146.59233790082362,146.612772245644,146.63320649023808,146.6536409349501,146.6740752794285,146.6945095238989,146.71494396837807,146.7353783127328,146.75581265697838,146.7762469012232,146.79668134535314,146.81711568947503,146.83754993348703,146.85798427738337,146.8784187212732,146.89885296505236,146.91928730883228,146.93972175248928,146.96015599615203,146.98059033969912,147.00102468312252,147.0214590265532,147.04189336998388,147.06232771317445,147.08276215648948,147.10319639957015,147.1236307426443,147.14406498572498,147.16449942857435,147.1849337715321,147.2053680142635,147.22580245711288,147.24623679972137,147.26667114233715,147.28710538483574,147.30753982732858,147.32797416971152,147.3484084120937,147.36884275435295,147.38927719650383,147.40971143865318,147.4301457806796,147.45058022271405,147.47101446463057,147.49144880654057,147.51188314822502,147.53231759002665,147.55275183158665,147.5731861732711,147.59362061472348,147.61405485616706,147.63448919750226,147.6549234388367,147.67535788004898,147.69579222126777,147.71622646225296,147.73666090334882,147.75709524433478,147.77752958520432,147.79796382595669,147.8183982667033,147.83883260734,147.85926684796868,147.87970118848898,147.92056986940588,147.94100420969335,147.96143864986516,147.9818728901446,148.00230723019922,148.02274157025386,148.04317601018556,148.06361025012302,148.08404458994482,148.1044790296437,148.12491326934833,148.1453476089373,148.165781948519,148.18621628787514,148.2066506273477,148.22708496669657,148.24751940593706,148.2679536450596,148.28838798417564,148.30882232318254,148.32925666218944,148.34969100107264,148.3701253398467,148.39055957862,148.41099401727115,148.4314283559288,148.45186269447004,148.47229703288758,148.492731371196,148.5131657095044,148.53359994781204,148.5540343859975,148.57446872407309,148.5949029620242,148.61533739998413,148.63577173782687,148.65620597566885,148.6766403133879,148.69707475099858,148.71750898860046,148.73794332609395,148.7583777634718,148.7788121008416,148.7992463381015,148.81968067536218,148.84011511249992,148.860549349527,148.88098368655483,148.90141812345973,148.92185236025398,148.94228669704898,148.9627210337203,148.98315537028247,149.00358970684465,149.0240240432904,149.04445827972813,149.06489271594182,149.0853270522639,149.10576128835964,149.12619572445692,149.14663006043702,149.16706429640908,149.18749863227276,149.20793306801352,149.22836740376079,149.24880163939088,149.26923607490608,149.28967041041324,149.3305389810921,149.3509734163672,149.37140765153163,149.39184198669682,149.41227642173908,149.43271065667068,149.45314499148662,149.4735793262953,149.49401366099482,149.51444799569435,149.53488233015378,149.55531676473765,149.5757509990799,149.59618533343018,149.6166195676633,149.63705400189792,149.6574883360081,149.67792257000838,149.698356903893,149.7187913377711,149.73922567153932,149.75965990530676,149.78009433895204,149.80052867248742,149.82096290590562,149.8413972393173,149.8618316726206,149.88226600592316,149.90270023910125,149.92313467217173,149.94356900511775,149.96400333807105,149.98443757090718,150.00487200374482,150.02530633645802,150.0457405690613,150.06617500154243,150.08660933403007,150.10704356640053,150.12747789865534,150.14791233090364,150.16834656304127,150.18878089506325,150.2092153270787,150.2296495589835,150.25008389077266,150.27051822255453,150.29095265422802,150.31138688578358,150.33182121733262,150.35225544865534,150.372689880096,150.3931242112958,150.4135584425021,150.43399287359352,150.4544272045605,150.47486153553473,150.4952957663918,150.5157301971267,150.5361645278681,150.55659875849233,150.5770331889944,150.59746751950297,150.61790174989437,150.63833608016284,150.65877051032294,150.6792047404815,150.69963907051715,150.72007350056083,150.74050783037092,150.76094206017297,150.78137638986664,150.80181081956107,150.8222450491303,150.84267937859113,150.86311380805273,150.8835480372727,150.9039823665007,150.92441669572872,150.94485102471663,150.9652853537118,150.98571968259057,151.00615391146857,151.0265883402244,151.04702266887034,151.06745689739182,151.0878913259221,151.1083256543352,151.12875988262385,151.14919421080413,151.16962863898516,151.19006286704098,151.21049719510484,151.23093162293662,151.25136595076037,151.27180017859064,151.29223450618883,151.31266893378051,151.33310316126153,151.3535374886269,151.37397191598575,151.39440614323394,151.41484047036647,151.4352747973753,151.45570912439143,151.47614345129114,151.49657777806715,151.51701210485044,151.5374464315173,151.5578807580605,151.57831508449453,151.59874951092934,151.61918373723893,151.63961806344014,151.68048671560246,151.70092104157084,151.7213553674228,151.7417896932675,151.76222401900304,151.78265834462218,151.80309257011686,151.82352699562034,151.84396132089023,151.86439554627577,151.88482997142273,151.9052642965762,151.9256985214888,151.94613284652587,151.96656727133086,151.9870015961278,152.00743582081486,152.02787024538702,152.04830456983473,152.06873879428895,152.0891731186275,152.10960754284315,152.13004176694812,152.15047609105386,152.1709104150359,152.1913447389088,152.21177906278172,152.2322133865382,152.25264781017177,152.27308203369466,152.3139505805011,152.3343850037927,152.35481932696712,152.3752535501335,152.39568797307584,152.41612229601014,152.4365566188353,152.45699084165972,152.47742526425282,152.49785958683788,152.51829380931304,152.53872823178244,152.55916255402553,152.57959677626786,152.60003109839454,152.6204655205147,152.64089974240778,152.68176838607178,152.7022027078492,152.7226370293938,152.74307135093113,152.76350577236008,152.7839399936638,152.80437431485916,152.82480853605375,152.84524295713345,152.8656772780887,152.88611149893404,152.90654591977363,152.92698024050333,152.9474145611166,152.9678487816127,152.98828320210305,153.00871752236708,153.02915174263035,153.04958616288786,153.07002048291906,153.0904547029495,153.110889022857,153.13132344265614,153.15175766233733,153.1721919818956,153.19262630146113,153.21306072091102,153.23349504023645,153.2539292595684,153.27436367866176,153.29479799776163,153.31523221674433,153.33566653561138,153.35610085447115,153.37653517310537,153.39696949173958,153.41740391025087,153.43783822876867,153.45827244705288,153.47870676533057,153.4991411834999,153.51957540155126,153.5400097194797,153.5604441374162,153.58087835523474,153.60131267281395,153.62174699051684,153.6421813079869,153.6626156254497,153.68304994268692,153.7034841599234,153.7239185771541,153.7443528941585,153.76478711116215,153.7852215279272,153.80565584469878,153.82609006135317,153.84652437800105,153.86695879442414,153.8873930108457,153.90782732714433,153.9282617433346,153.94869605952408,153.9691302754727,153.98956459142937,154.00999900727038,154.03043322298618,154.0508675385936,154.07130195420177,154.09173616968474,154.1121704849429,154.13260480020108,154.15303911545197,154.17347343047732,154.19390774550266,154.2143420604043,154.23477637519682,154.2552106898729,154.27564490442455,154.296079318985,154.31651363342826,154.33694784763065,154.3573821619575,154.37781657605228,154.39825079002185,154.41868510399945,154.4391195178614,154.4595538315989,154.4799880452265,154.50042235873843,154.52085677224386,154.5412909855222,154.56172529880132,154.5821597119575,154.60259392511944,154.6230282380493,154.6434625509719,154.66389686366892,154.68433117636596,154.7047654889393,154.72519990152068,154.7456341138677,154.76606842620822,154.78650273832318,154.80693705043814,154.8273713624294,154.84780557442718,154.86823998619366,154.8886742979521,154.90910860948497,154.92954292101786,154.94997723242705,154.9704115437271,154.99084585502715,155.01128006608633,155.0317144771543,155.05214878810511,155.07258299893874,155.0930174096502,155.11345172025176,155.13388593084528,155.15432024133042,155.1747546515835,155.19518896182853,155.2156231720801,155.23605748209957,155.25649189199612,155.29736041156866,155.31779482123238,155.33822903078544,155.35866334022285,155.37909764965298,155.39953195885755,155.41996626806213,155.44040057715029,155.46083498611551,155.48126919497008,155.50170350370172,155.52213771232346,155.54257212094672,155.583440637718,155.60387504599203,155.6243093541416,155.644743662182,155.66517787010525,155.68561227803002,155.70604658571392,155.72648079340433,155.7469151009791,155.76734950843093,155.7877837157721,155.8082180229976,155.8286524302166,155.84908663720853,155.8695209442012,155.8899552510702,155.91038965783082,155.9308238644735,155.95125817099324,155.9716925774046,155.99212678380718,156.01256108998496,156.03299529616197,156.0534297022241,156.07386400816176,156.0942983139903,156.11473261969513,156.13516692529083,156.15560123088653,156.17603543624864,156.196469841605,156.21690414685145,156.23733835198072,156.25777265698707,156.27820706188504,156.29864126666507,156.3190755714386,156.3395099759873,156.3599441805345,156.38037848495878,156.4008127892739,156.4212471934734,156.44168139754765,156.46211570151354,156.4825501053565,156.5029843092052,156.52341861282184,156.54385291643848,156.56428721993143,156.58472152331524,156.60515582658263,156.62559012972633,156.6460244327609,156.66645873567904,156.68689303858991,156.70732734127523,156.72776164396055,156.74819594652217,156.76863014885748,156.78906455119431,156.8094988534067,156.82993315550993,156.85036745761317,156.8708017594763,156.89123606134672,156.91167026298353,156.9321046646146,156.95253896613576,156.97297316742333,156.99340756870515,157.01384186987707,157.0342760709318,157.05471037198004,157.07514477280347,157.09557897350896,157.11601327420794,157.13644767479855,157.15688197515556,157.17731617550453,157.19775047574512,157.21818487587007,157.2386190758698,157.25905337576114,157.27948767553607,157.29992197530373,157.32035627484584,157.34079057427152,157.36122487368993,157.3816591729992,157.40209347207565,157.42252767115133,157.44296207010484,157.46339636894845,157.4838305676676,157.50426496627915,157.52469926477352,157.54513346325984,157.56556776152138,157.58600215978367,157.60643635780434,157.62687065583305,157.64730505362968,157.66773935141828,157.68817354909697,157.70860784666002,157.72904224410013,157.74947644142958,157.76991073864338,157.79034513573424,157.81077933283086,157.8312136296954,157.85164792643627,157.8720822231844,157.8925165196997,157.91295081620774,157.93338501260587,157.9538194087727,157.97425370493147,157.99468790098035,158.01512229691434,158.03555659272388,158.05599078842351,158.0764250840075,158.09685947946855,158.11729377493612,158.1377279701701,158.1581623652819,158.17859666040022,158.19903085528495,158.21946515016316,158.23989954481658,158.28076803400472,158.30120242830162,158.32163672260504,158.342070916784,158.36250521085458,158.3829396048095,158.40337389863998,158.42380809236056,158.44424238596548,158.4646767795639,158.48511097293522,158.5055452661909,158.52597965932364,158.54641385246214,158.56684814536857,158.58728243826772,158.60771673094132,158.62815102361492,158.6485853160557,158.66901970848994,158.68945390081353,158.70988819289778,158.73032238498854,158.7507567769644,158.7711910688231,158.7916253605581,158.81205965218396,158.83249394368613,158.85292823507916,158.87336242635502,158.89379681751598,158.91423110855249,158.9346652994791,158.95509969028353,158.9755339810945,158.99596817167185,159.01640246213356,159.03683685247233,159.05727104281686,159.07770533292933,159.0981396229181,159.1185740129149,159.13900820267736,159.1594424924333,159.17987688196445,159.2003110714868,159.22074536090076,159.24117955008114,159.26161393926304,159.2820482283205,159.30248251715238,159.322916805977,159.34335109469248,159.36378538317513,159.384219571657,159.40465396001673,159.42508824826655,159.4455224363992,159.46595682429324,159.48639111219381,159.5068252999772,159.52725958763767,159.54769397518976,159.5681281626239,159.58856244993513,159.6089967371372,159.62943112422363,159.64986531118484,159.67029959803767,159.69073398476758,159.71116817138682,159.7316024578904,159.75203674427758,159.77247103054106,159.7929053166954,159.81333960273332,159.83377388864756,159.85420817445265,159.87464246014133,159.89507664570556,159.91551103127858,159.93594531661802,159.95637960183376,159.97681388694036,159.99724817193055,160.01768245679705,160.0381167415544,160.05855102619535,160.0789853107126,160.09941959523712,160.11985377952806,160.14028816369682,160.1607224477557,160.18115663169738,160.2015910155169,160.22202529922652,160.24245948281896,160.26289376628847,160.2833281496496,160.3037623328928,160.32419661601307,160.34463099914137,160.36506528203608,160.38549946480634,160.40593374746823,160.42636813001445,160.44680231243547,160.4672365947481,160.48767097694508,160.50810515901685,160.52853944098024,160.5489737227108,160.56940800443408,160.58984228604822,160.61027656754595,160.6307107489265,160.6511451301849,160.67157941133337,160.69201359224098,160.7124479731574,160.73288225395663,160.75331643463142,160.77375071519782,160.79418509553216,160.81461937585846,160.83505355607485,160.85548793605994,160.875922216037,160.89635639578773,160.91679067553923,160.93722505505139,160.9576592345693,160.97809351385513,160.99852789313445,161.0189620721867,161.0393963512397,161.0598306300526,161.08026490875636,161.10069918746012,161.12113346592378,161.14156784427905,161.1620020225164,161.1824363006308,161.2028704786353,161.22330485664133,161.26417341206252,161.28460758960136,161.30504196701804,161.32547624432482,161.345910421398,161.36634479846543,161.38677907542296,161.40721325226332,161.42764752886433,161.44808190547337,161.46851608196448,161.48895035822352,161.50938473447604,161.5298189105015,161.55025318652042,161.5706874623138,161.59112183799152,161.61155601366772,161.63199028910458,161.65242466443306,161.67285893963708,161.6932931147312,161.71372738970967,161.73416176456521,161.7545959393101,161.77503021393932,161.79546448844485,161.81589876284124,161.8363330370048,161.85676731116837,161.877201685209,161.89763585902256,161.9180701328296,161.93850430641032,161.95893867999257,161.97937295334123,161.9998072265662,162.02024149968202,162.04067577267415,162.06111004567356,162.08154421843938,162.1019785910903,162.12241286350036,162.14284703591693,162.16328140821133,162.18371568039584,162.20414985234675,162.22458412429842,162.24501849601074,162.26545266772882,162.28588693921483,162.3063213105779,162.3267555819475,162.3471897530835,162.36762402409659,162.38805839500128,162.40849256578076,162.42892683645186,162.4493610070058,162.4697953773284,162.490229647643,162.51066331773472,162.53109768781724,162.55153185767267,162.5719661275216,162.59240039714496,162.61283476665267,162.63326893604244,162.65370320530928,162.67413757446775,162.694571743501,162.71500601242587,162.73544028123433,162.75587454980996,162.7763088183783,162.7967430867211,162.8171773549402,162.8376116231666,162.85804589116015,162.87848005903652,162.89891442679072,162.91934869443503,162.93978286196216,162.96021712936636,162.98065149654576,163.00108566372364,163.02151993066218,163.04195429760875,163.06238856431446,163.08282273091027,163.10325699739042,163.12369136375492,163.1441255299942,163.1645597961251,163.18499416213308,163.2054283280304,163.22586259369564,163.24629685936088,163.26673112478602,163.28716539010202,163.3075996553016,163.32803402049467,163.34846818534425,163.36890245019458,163.38933661492047,163.40977097953873,163.4302052439234,163.45063940830005,163.47107377245266,163.49150803648809,163.51194230039982,163.53237646420166,163.55281082788133,163.5732450914511,163.5936792549037,163.61411351824063,163.63454788133822,163.65498204432515,163.67541630731284,163.6958506700612,163.71628483269888,163.7367190952209,163.75715335761925,163.77758761979203,163.79802188196481,163.8184561438975,163.8388905058382,163.85932466754457,163.879758929128,163.90019309060153,163.92062745196017,163.94106171319436,163.9614959743194,163.98193023521162,164.00236449609656,164.02279875675595,164.04323291729816,164.0636672778346,164.08410153814475,164.10453579822206,164.12496995829133,164.14540431813657,164.1658384779803,164.18627273758466,164.20670709719707,164.24757551571383,164.26800977485982,164.28844403377298,164.30887829267886,164.32931255135918,164.34974691004027,164.37018116848049,164.3906153266944,164.41104958490905,164.43148384311644,164.45191810109827,164.47235235884727,164.49278671658976,164.51322087410517,164.5336551313885,164.55408938866458,164.57452364594792,164.5949579027656,164.61539215980883,164.63582631639292,164.65626067321136,164.6766949295561,164.69712918590812,164.71756344226014,164.73799769813922,164.7584319542584,164.77886610991118,164.7993004655582,164.81973472121172,164.84016887663165,164.860603231813,164.88103748700087,164.90147164218797,164.9219058969029,164.94234025162586,164.9627744063473,164.98320866083668],\"y\":[73603.9765625,73623.6796875,73623.6796875,73623.6796875,73623.6796875,73623.6796875,73620.6953125,73627.7421875,73625.5,73625.5,73625.5,73625.5,73625.5,73620.4921875,73618.2578125,73627.328125,73627.328125,73627.328125,73627.328125,73627.328125,73605.390625,73641.578125,73628.515625,73628.515625,73628.515625,73628.515625,73628.515625,73631.4453125,73623.890625,73617.4765625,73617.4765625,73617.4765625,73617.4765625,73617.4765625,73611.75,73618.375,73620.8984375,73620.8984375,73620.8984375,73620.8984375,73620.8984375,73636.2734375,73612.3203125,73622.390625,73622.390625,73622.390625,73622.390625,73622.390625,73625.4140625,73637.6015625,73630.6953125,73630.6953125,73630.6953125,73630.6953125,73630.6953125,73625.8125,73616.8984375,73624.40625,73624.40625,73624.40625,73624.40625,73624.40625,73618.828125,73637.546875,73629.21875,73629.21875,73629.21875,73629.21875,73629.21875,73623.8515625,73640.6796875,73633.90625,73633.90625,73633.90625,73633.90625,73633.90625,73638.2109375,73627.203125,73620.3125,73620.3125,73620.3125,73620.3125,73620.3125,73640.296875,73615.8125,73624.46875,73624.46875,73624.46875,73624.46875,73624.46875,73626.2109375,73629.0,73625.953125,73625.953125,73625.953125,73625.953125,73625.953125,73638.09375,73620.2109375,73618.84375,73618.84375,73618.84375,73618.84375,73618.84375,73610.0859375,73617.46875,73619.2421875,73619.2421875,73619.2421875,73619.2421875,73619.2421875,73607.78125,73612.7421875,73614.15625,73614.15625,73614.15625,73614.15625,73614.15625,73625.7890625,73618.546875,73620.28125,73620.28125,73620.28125,73620.28125,73620.28125,73627.3203125,73634.890625,73619.359375,73619.359375,73619.359375,73619.359375,73619.359375,73616.609375,73624.09375,73624.40625,73624.40625,73624.40625,73624.40625,73624.40625,73500.8828125,73006.6171875,72990.3046875,72990.3046875,72990.3046875,72990.3046875,72990.3046875,73591.25,73623.0390625,73626.453125,73626.453125,73626.453125,73626.453125,73626.453125,73629.859375,73631.3203125,73623.8046875,73623.8046875,73623.8046875,73623.8046875,73623.8046875,73614.8046875,73617.1953125,73618.46875,73618.46875,73618.46875,73618.46875,73618.46875,73591.4765625,73617.4140625,73616.859375,73616.859375,73616.859375,73616.859375,73616.859375,73608.6953125,73627.5546875,73621.953125,73621.953125,73621.953125,73621.953125,73621.953125,73626.90625,73623.125,73614.796875,73614.796875,73614.796875,73614.796875,73614.796875,73615.046875,73603.8515625,73611.40625,73611.40625,73611.40625,73611.40625,73611.40625,73608.71875,73626.96875,73627.796875,73627.796875,73627.796875,73627.796875,73627.796875,73619.3984375,73633.1171875,73616.546875,73616.546875,73616.546875,73616.546875,73616.546875,73618.703125,73631.5859375,73610.328125,73610.328125,73610.328125,73610.328125,73610.328125,73609.7265625,73610.6328125,73611.0703125,73611.0703125,73611.0703125,73611.0703125,73611.0703125,73606.9375,73615.140625,73614.625,73614.625,73614.625,73614.625,73614.625,73636.734375,73603.5234375,73622.9375,73622.9375,73622.9375,73622.9375,73622.9375,73622.515625,73621.140625,73616.25,73616.25,73616.25,73616.25,73616.25,73605.21875,73617.921875,73617.3671875,73617.3671875,73617.3671875,73617.3671875,73617.3671875,73607.078125,73619.7265625,73614.84375,73614.84375,73614.84375,73614.84375,73614.84375,73624.078125,73609.9609375,73613.265625,73613.265625,73613.265625,73613.265625,73613.265625,73620.0234375,73615.9375,73618.1875,73618.1875,73618.1875,73618.1875,73618.1875,73600.0546875,73641.609375,73613.09375,73613.09375,73613.09375,73613.09375,73613.09375,73602.7265625,73610.734375,73611.7421875,73611.7421875,73611.7421875,73611.7421875,73611.7421875,73615.0625,73612.75,73606.28125,73606.28125,73606.28125,73606.28125,73606.28125,73594.84375,73619.8984375,72922.7265625,72922.7265625,72922.7265625,72922.7265625,72922.7265625,72853.8984375,72932.2578125,73602.9140625,73602.9140625,73602.9140625,73602.9140625,73602.9140625,73609.9140625,73612.34375,73612.46875,73612.46875,73612.46875,73612.46875,73612.46875,73612.640625,73611.890625,73615.4453125,73615.4453125,73615.4453125,73615.4453125,73615.4453125,73614.171875,73616.5234375,73613.0546875,73613.0546875,73613.0546875,73613.0546875,73613.0546875,73611.7734375,73614.3359375,73612.375,73612.375,73612.375,73612.375,73612.375,73616.140625,73621.203125,73611.75,73611.75,73611.75,73611.75,73611.75,73611.5703125,73593.40625,73606.921875,73606.921875,73606.921875,73606.921875,73606.921875,73602.2890625,73610.390625,73609.21875,73609.21875,73609.21875,73609.21875,73609.21875,73608.078125,73622.75,73613.0625,73613.0625,73613.0625,73613.0625,73613.0625,73603.8828125,73598.40625,73612.1796875,73612.1796875,73612.1796875,73612.1796875,73612.1796875,73625.0859375,73607.9296875,73607.75,73607.75,73607.75,73607.75,73607.75,73604.640625,73607.5625,73608.3515625,73608.3515625,73608.3515625,73608.3515625,73608.3515625,73615.53125,73620.34375,73610.53125,73610.53125,73610.53125,73610.53125,73610.53125,73608.671875,73609.2109375,73609.8125,73609.8125,73609.8125,73609.8125,73609.8125,73618.1875,73610.4140625,73609.15625,73609.15625,73609.15625,73609.15625,73609.15625,73608.3203125,73609.84375,73611.046875,73611.046875,73611.046875,73611.046875,73611.046875,73617.6171875,73622.59375,73611.3046875,73611.3046875,73611.3046875,73611.3046875,73611.3046875,73612.140625,73612.6171875,73610.4453125,73610.4453125,73610.4453125,73610.4453125,73610.4453125,73614.71875,73625.265625,73605.0,73605.0,73605.0,73605.0,73605.0,73603.3671875,73586.2578125,73610.6328125,73610.6328125,73610.6328125,73610.6328125,73610.6328125,73614.8203125,73604.3046875,73607.484375,73607.484375,73607.484375,73607.484375,73607.484375,73616.25,73624.21875,73597.265625,73597.265625,73597.265625,73597.265625,73597.265625,72928.1640625,72862.921875,72981.046875,72981.046875,72981.046875,72981.046875,72981.046875,73608.6953125,73611.75,73605.234375,73605.234375,73605.234375,73605.234375,73605.234375,73599.3203125,73609.140625,73607.28125,73607.28125,73607.28125,73607.28125,73607.28125,73600.65625,73614.9375,73609.4375,73609.4375,73609.4375,73609.4375,73609.4375,73607.78125,73587.4140625,73604.7109375,73604.7109375,73604.7109375,73604.7109375,73604.7109375,73608.625,73609.8828125,73604.703125,73604.703125,73604.703125,73604.703125,73604.703125,73608.234375,73602.6171875,73604.8203125,73604.8203125,73604.8203125,73604.8203125,73604.8203125,73590.6484375,73617.875,73601.265625,73601.265625,73601.265625,73601.265625,73601.265625,73596.0390625,73595.3671875,73605.8515625,73605.8515625,73605.8515625,73605.8515625,73605.8515625,73603.546875,73604.5546875,73605.125,73605.125,73605.125,73605.125,73605.125,73600.6328125,73605.6953125,73599.5234375,73599.5234375,73599.5234375,73599.5234375,73599.5234375,73609.7265625,73598.90625,73598.484375,73598.484375,73598.484375,73598.484375,73598.484375,73592.9609375,73598.4453125,73597.421875,73597.421875,73597.421875,73597.421875,73597.421875,73608.46875,73610.5859375,73605.296875,73605.296875,73605.296875,73605.296875,73605.296875,73608.2578125,73604.421875,73604.296875,73604.296875,73604.296875,73604.296875,73604.296875,73609.2734375,73619.8984375,73612.796875,73612.796875,73612.796875,73612.796875,73612.796875,73612.5,73607.7421875,73602.046875,73602.046875,73602.046875,73602.046875,73602.046875,73597.34375,73613.484375,73605.015625,73605.015625,73605.015625,73605.015625,73605.015625,73593.3359375,73608.6328125,73607.5546875,73607.5546875,73607.5546875,73607.5546875,73607.5546875,73613.4765625,73610.8828125,73603.1796875,73603.1796875,73603.1796875,73603.1796875,73603.1796875,73602.1796875,73610.4765625,73602.28125,73602.28125,73602.28125,73602.28125,73602.28125,73591.6953125,73603.8359375,73603.4609375,73603.4609375,73603.4609375,73603.4609375,73603.4609375,73588.203125,73577.125,72921.0625,72921.0625,72921.0625,72921.0625,72921.0625,72870.8828125,72987.5859375,73600.984375,73600.984375,73600.984375,73600.984375,73600.984375,73613.484375,73607.078125,73603.15625,73603.15625,73603.15625,73603.15625,73603.15625,73593.8046875,73617.8203125,73599.609375,73599.609375,73599.609375,73599.609375,73599.609375,73572.8671875,73602.328125,73603.234375,73603.234375,73603.234375,73603.234375,73603.234375,73606.34375,73581.140625,73605.4375,73605.4375,73605.4375,73605.4375,73605.4375,73613.515625,73606.1796875,73605.3984375,73605.3984375,73605.3984375,73605.3984375,73605.3984375,73615.4453125,73601.1328125,73603.890625,73603.890625,73603.890625,73603.890625,73603.890625,73600.984375,73608.328125,73607.0,73607.0,73607.0,73607.0,73607.0,73613.1015625,73618.828125,73605.1875,73605.1875,73605.1875,73605.1875,73605.1875,73601.78125,73588.1953125,73599.5,73599.5,73599.5,73599.5,73599.5,73599.40625,73595.1484375,73601.9296875,73601.9296875,73601.9296875,73601.9296875,73601.9296875,73594.1796875,73613.5703125,73596.484375,73596.484375,73596.484375,73596.484375,73596.484375,73596.09375,73591.5703125,73607.1015625,73607.1015625,73607.1015625,73607.1015625,73607.1015625,73607.7578125,73618.8125,73609.828125,73609.828125,73609.828125,73609.828125,73609.828125,73598.7890625,73609.875,73608.265625,73608.265625,73608.265625,73608.265625,73608.265625,73601.96875,73605.5546875,73607.3125,73607.3125,73607.3125,73607.3125,73607.3125,73607.9609375,73615.484375,73603.4375,73603.4375,73603.4375,73603.4375,73603.4375,73601.359375,73595.8828125,73609.109375,73609.109375,73609.109375,73609.109375,73609.109375,73612.4375,73611.7890625,73609.90625,73609.90625,73609.90625,73609.90625,73609.90625,73611.1640625,73608.65625,73613.1875,73613.1875,73613.1875,73613.1875,73613.1875,73621.4609375,73606.7890625,73613.25,73613.25,73613.25,73613.25,73613.25,73598.734375,73612.5390625,73605.53125,73605.53125,73605.53125,73605.53125,73605.53125,72893.5859375,72855.4765625,73117.671875,73117.671875,73117.671875,73117.671875,73117.671875,73617.6875,73622.3515625,73609.5625,73609.5625,73609.5625,73609.5625,73609.5625,73608.296875,73609.2890625,73610.234375,73610.234375,73610.234375,73610.234375,73610.234375,73604.34375,73604.703125,73609.390625,73609.390625,73609.390625,73609.390625,73609.390625,73589.390625,73607.6640625,73611.6875,73611.6875,73611.6875,73611.6875,73611.6875,73595.2421875,73607.7109375,73612.3671875,73612.3671875,73612.3671875,73612.3671875,73612.3671875,73621.203125,73608.0078125,73617.4140625,73617.4140625,73617.4140625,73617.4140625,73617.4140625,73623.625,73628.5625,73611.203125,73611.203125,73611.203125,73611.203125,73611.203125,73603.5546875,73604.375,73605.34375,73605.34375,73605.34375,73605.34375,73605.34375,73608.609375,73606.3203125,73614.4609375,73614.4609375,73614.4609375,73614.4609375,73614.4609375,73619.796875,73622.0859375,73616.3046875,73616.3046875,73616.3046875,73616.3046875,73616.3046875,73618.7578125,73611.65625,73609.7421875,73609.7421875,73609.7421875,73609.7421875,73609.7421875,73610.0625,73603.046875,73609.4921875,73609.4921875,73609.4921875,73609.4921875,73609.4921875,73619.890625,73618.828125,73617.8046875,73617.8046875,73617.8046875,73617.8046875,73617.8046875,73618.1875,73610.7421875,73621.640625,73621.640625,73621.640625,73621.640625,73621.640625,73614.890625,73626.890625,73620.328125,73620.328125,73620.328125,73620.328125,73620.328125,73618.5390625,73612.828125,73618.453125,73618.453125,73618.453125,73618.453125,73618.453125,73618.7734375,73609.0,73612.953125,73612.953125,73612.953125,73612.953125,73612.953125,73616.6171875,73610.0078125,73618.859375,73618.859375,73618.859375,73618.859375,73618.859375,73607.1875,73630.59375,73619.53125,73619.53125,73619.53125,73619.53125,73619.53125,73606.8671875,73634.953125,73616.8046875,73616.8046875,73616.8046875,73616.8046875,73616.8046875,73614.171875,73615.5703125,73617.484375,73617.484375,73617.484375,73617.484375,73617.484375,73619.5859375,73204.1171875,72925.5,72844.9453125,72844.828125,72874.8359375,72917.890625,73130.046875,73605.109375,73610.28125,73610.28125,73610.28125,73610.28125,73610.28125,73614.703125,73599.2421875,73612.015625,73612.015625,73612.015625,73612.015625,73612.015625,73618.890625,73611.1328125,73618.609375,73618.609375,73618.609375,73618.609375,73618.609375,73620.3125,73618.9453125,73617.71875,73617.71875,73617.71875,73617.71875,73617.71875,73629.984375,73624.96875,73626.5,73626.5,73626.5,73626.5,73626.5,73633.4765625,73609.0234375,73625.453125,73625.453125,73625.453125,73625.453125,73625.453125,73627.5546875,73637.234375,73625.484375,73625.484375,73625.484375,73625.484375,73625.484375,73620.296875,73630.34375,73623.1875,73623.1875,73623.1875,73623.1875,73623.1875,73626.03125,73632.96875,73613.8203125,73613.8203125,73613.8203125,73613.8203125,73613.8203125,73635.7109375,73608.890625,73618.9453125,73618.9453125,73618.9453125,73618.9453125,73618.9453125,73610.671875,73620.1171875,73617.15625,73617.15625,73617.15625,73617.15625,73617.15625,73626.8359375,73615.4296875,73620.75,73620.75,73620.75,73620.75,73620.75,73635.1875,73624.046875,73622.484375,73622.484375,73622.484375,73622.484375,73622.484375,73623.125,73630.3203125,73615.53125,73615.53125,73615.53125,73615.53125,73615.53125,73624.265625,73610.90625,73610.203125,73610.203125,73610.203125,73610.203125,73610.203125,73606.96875,73620.0,73619.28125,73619.28125,73619.28125,73619.28125,73619.28125,73606.1640625,73620.2578125,73619.5546875,73619.5546875,73619.5546875,73619.5546875,73619.5546875,73627.578125,73624.515625,73624.78125,73624.78125,73624.78125,73624.78125,73624.78125,73625.046875,73634.828125,73618.8828125,73618.8828125,73618.8828125,73618.8828125,73618.8828125,73609.3046875,73620.1796875,73620.0546875,73620.0546875,73620.0546875,73620.0546875,73620.0546875,73603.8125,73617.9375,73621.6484375,73621.6484375,73621.6484375,73621.6484375,73621.6484375,73625.359375,73593.171875,72945.3515625,72945.3515625,72945.3515625,72945.3515625,72945.3515625,72908.234375,73025.953125,73610.75,73610.75,73610.75,73610.75,73610.75,73614.59375,73629.625,73613.890625,73613.890625,73613.890625,73613.890625,73613.890625,73627.46875,73603.34375,73617.4375,73617.4375,73617.4375,73617.4375,73617.4375,73621.0234375,73632.3046875,73620.453125,73620.453125,73620.453125,73620.453125,73620.453125,73622.015625,73602.9609375,73617.5390625,73617.5390625,73617.5390625,73617.5390625,73617.5390625,73618.4453125,73610.0,73611.9609375,73611.9609375,73611.9609375,73611.9609375,73611.9609375,73619.0234375,73609.4140625,73615.0625,73615.0625,73615.0625,73615.0625,73615.0625,73614.15625,73615.5390625,73618.4375,73618.4375,73618.4375,73618.4375,73618.4375,73649.875,73620.3828125,73615.234375,73615.234375,73615.234375,73615.234375,73615.234375,73613.3515625,73615.25,73615.1796875,73615.1796875,73615.1796875,73615.1796875,73615.1796875,73614.765625,73610.9140625,73625.046875,73625.046875,73625.046875,73625.046875,73625.046875,73627.578125,73628.2421875,73624.6875,73624.6875,73624.6875,73624.6875,73624.6875,73614.703125,73633.4921875,73618.109375,73618.109375,73618.109375,73618.109375,73618.109375,73617.6875,73616.5234375,73621.0625,73621.0625,73621.0625,73621.0625,73621.0625,73625.90625,73618.8203125,73621.96875,73621.96875,73621.96875,73621.96875,73621.96875,73632.5078125,73628.3125,73618.3515625,73618.3515625,73618.3515625,73618.3515625,73618.3515625,73618.953125,73625.125,73622.84375,73622.84375,73622.84375,73622.84375,73622.84375,73620.4765625,73627.6015625,73619.6171875,73619.6171875,73619.6171875,73619.6171875,73619.6171875,73614.625,73628.5,73627.8984375,73627.8984375,73627.8984375,73627.8984375,73627.8984375,73621.65625,73615.0078125,73623.5625,73623.5625,73623.5625,73623.5625,73623.5625,73639.9296875,73616.140625,73621.671875,73621.671875,73621.671875,73621.671875,73621.671875,73631.328125,73610.5,73287.28125,73287.28125,73287.28125,73287.28125,73287.28125,72863.921875,72836.078125,73491.96875,73491.96875,73491.96875,73491.96875,73491.96875,73630.65625,73612.890625,73626.625,73626.625,73626.625,73626.625,73626.625,73629.6015625,73622.2421875,73618.609375,73618.609375,73618.609375,73618.609375,73618.609375,73614.7109375,73627.609375,73625.75,73625.75,73625.75,73625.75,73625.75,73721.421875,73617.59375,73630.421875,73630.421875,73630.421875,73630.421875,73630.421875,73645.8359375,73606.046875,73621.4375,73621.4375,73621.4375,73621.4375,73621.4375,73629.0390625,73623.84375,73622.2265625,73622.2265625,73622.2265625,73622.2265625,73622.2265625,73643.78125,73614.0,73625.921875,73625.921875,73625.921875,73625.921875,73625.921875,73609.2578125,73640.2734375,73631.109375,73631.109375,73631.109375,73631.109375,73631.109375,73634.453125,73635.125,73623.421875,73623.421875,73623.421875,73623.421875,73623.421875,73620.625,73626.1171875,73626.5546875,73626.5546875,73626.5546875,73626.5546875,73626.5546875,73631.3203125,73633.3125,73617.671875,73617.671875,73617.671875,73617.671875,73617.671875,73627.484375,73617.890625,73621.015625,73621.015625,73621.015625,73621.015625,73621.015625,73634.6796875,73622.0703125,73625.375,73625.375,73625.375,73625.375,73625.375,73629.640625,73628.8515625,73622.796875,73622.796875,73622.796875,73622.796875,73622.796875,73623.6953125,73620.9296875,73621.3125,73621.3125,73621.3125,73621.3125,73621.3125,73624.4375,73616.796875,73626.6484375,73626.6484375,73626.6484375,73626.6484375,73626.6484375,73629.4296875,73640.546875,73629.703125,73629.703125,73629.703125,73629.703125,73629.703125,73633.8203125,73622.3203125,73622.0234375,73622.0234375,73622.0234375,73622.0234375,73622.0234375,73619.921875,73634.8515625,73629.0625,73629.0625,73629.0625,73629.0625,73629.0625,73627.3125,73651.046875,73622.4921875,73622.4921875,73622.4921875,73622.4921875,73622.4921875,73621.25,73634.9609375,73620.46875,73620.46875,73620.46875,73620.46875,73620.46875,73599.6015625,73152.0234375,72945.96875,72865.8359375,72844.515625,72873.0625,72931.0078125,73189.28125,73610.5390625,73613.9296875,73613.9296875,73613.9296875,73613.9296875,73613.9296875,73610.7578125,73627.125,73623.984375,73623.984375,73623.984375,73623.984375,73623.984375,73614.359375,73628.953125,73620.09375,73620.09375,73620.09375,73620.09375,73620.09375,73617.109375,73625.890625,73623.1796875,73623.1796875,73623.1796875,73623.1796875,73623.1796875,73622.015625,73608.9453125,73617.84375,73617.84375,73617.84375,73617.84375,73617.84375,73614.3828125,73624.296875,73620.9453125,73620.9453125,73620.9453125,73620.9453125,73620.9453125,73611.265625,73638.0703125,73622.109375,73622.109375,73622.109375,73622.109375,73622.109375,73618.40625,73625.296875,73625.3828125,73625.3828125,73625.3828125,73625.3828125,73625.3828125,73628.8828125,73615.5390625,73629.5234375,73629.5234375,73629.5234375,73629.5234375,73629.5234375,73631.8515625,73628.3671875,73628.0,73628.0,73628.0,73628.0,73628.0,73640.6640625,73612.328125,73625.96875,73625.96875,73625.96875,73625.96875,73625.96875,73625.71875,73610.3671875,73618.0546875,73618.0546875,73618.0546875,73618.0546875,73618.0546875,73627.0390625,73615.125,73615.796875,73615.796875,73615.796875,73615.796875,73615.796875,73619.375,73612.890625,73614.421875,73614.421875,73614.421875,73614.421875,73614.421875,73602.9453125,73626.6796875,73630.59375,73630.59375,73630.59375,73630.59375,73630.59375,73636.1875,73634.5078125,73620.734375,73620.734375,73620.734375,73620.734375,73620.734375,73636.5234375,73619.109375,73619.125,73619.125,73619.125,73619.125,73619.125,73634.765625,73616.5234375,73617.40625,73617.40625,73617.40625,73617.40625,73617.40625,73619.875,73617.7890625,73617.3828125,73617.3828125,73617.3828125,73617.3828125,73617.3828125,73615.3515625,73625.0078125,73622.96875,73622.96875,73622.96875,73622.96875,73622.96875,73619.5,73622.1796875,73622.6171875,73622.6171875,73622.6171875,73622.6171875,73622.6171875,73639.328125,73617.9453125,73153.359375,73153.359375,73153.359375,73153.359375,73153.359375,72833.578125,72849.8984375,73582.8125,73582.8125,73582.8125,73582.8125,73582.8125,73608.59375,73616.0078125,73616.03125,73616.03125,73616.03125,73616.03125,73616.03125,73615.296875,73618.4765625,73619.5,73619.5,73619.5,73619.5,73619.5,73619.2265625,73607.9296875,73607.109375,73607.109375,73607.109375,73607.109375,73607.109375,73626.5390625,73597.0546875,73621.171875,73621.171875,73621.171875,73621.171875,73621.171875,73613.6796875,73608.0390625,73614.765625,73614.765625,73614.765625,73614.765625,73614.765625,73620.671875,73626.7421875,73623.3125,73623.3125,73623.3125,73623.3125,73623.3125,73610.703125,73623.578125,73622.9609375,73622.9609375,73622.9609375,73622.9609375,73622.9609375,73626.1796875,73613.8671875,73620.59375,73620.59375,73620.59375,73620.59375,73620.59375,73620.359375,73637.1328125,73616.046875,73627.8203125,73621.34375,73614.6015625,73627.625,73618.328125]}},\"id\":\"37d7b73c-b232-4fe7-aed5-88a0a68c9158\",\"type\":\"ColumnDataSource\"},{\"attributes\":{\"active_drag\":\"auto\",\"active_inspect\":\"auto\",\"active_scroll\":\"auto\",\"active_tap\":\"auto\",\"tools\":[{\"id\":\"e34c48fe-52b5-4f06-801c-d512e14ff0d6\",\"type\":\"HoverTool\"},{\"id\":\"c9a413c2-bec4-4ff3-a589-0a1fb0c04ce3\",\"type\":\"CrosshairTool\"},{\"id\":\"cc5633bd-09b9-4f88-9527-e52fed3c6afe\",\"type\":\"PanTool\"},{\"id\":\"9be81ccb-32cc-4ba7-836f-0e43447920e6\",\"type\":\"WheelZoomTool\"},{\"id\":\"ad50ef9d-62f4-4469-b4b2-fa0062e99ec5\",\"type\":\"BoxZoomTool\"},{\"id\":\"8f9d834d-5c1b-4e89-912a-b17d9d64eb80\",\"type\":\"ResetTool\"},{\"id\":\"edd26976-e247-4dea-a8b6-3a6c41e176e3\",\"type\":\"TapTool\"},{\"id\":\"22ebb15a-1239-4488-8609-ba8289e7048e\",\"type\":\"SaveTool\"},{\"id\":\"43e648bb-26a8-469d-bcfb-c8596094f08f\",\"type\":\"BoxSelectTool\"}]},\"id\":\"37a4f14f-c415-444f-8bf5-30e0685c86b7\",\"type\":\"Toolbar\"},{\"attributes\":{},\"id\":\"c38d2273-d133-488b-b496-505d5c379837\",\"type\":\"BasicTickFormatter\"},{\"attributes\":{\"bottom_units\":\"screen\",\"fill_alpha\":{\"value\":0.5},\"fill_color\":{\"value\":\"lightgrey\"},\"left_units\":\"screen\",\"level\":\"overlay\",\"line_alpha\":{\"value\":1.0},\"line_color\":{\"value\":\"black\"},\"line_dash\":[4,4],\"line_width\":{\"value\":2},\"plot\":null,\"render_mode\":\"css\",\"right_units\":\"screen\",\"top_units\":\"screen\"},\"id\":\"ded8ed9e-c741-4e69-becf-699dcc530920\",\"type\":\"BoxAnnotation\"},{\"attributes\":{},\"id\":\"ba1e5d58-3bd9-405d-84a7-a466035123f2\",\"type\":\"BasicTicker\"},{\"attributes\":{\"overlay\":{\"id\":\"e546b83f-5419-49fc-8bf9-9adeb03b999e\",\"type\":\"BoxAnnotation\"},\"plot\":{\"id\":\"78349d76-755b-41ca-a70b-5b15770a23be\",\"subtype\":\"Figure\",\"type\":\"Plot\"}},\"id\":\"ad50ef9d-62f4-4469-b4b2-fa0062e99ec5\",\"type\":\"BoxZoomTool\"},{\"attributes\":{\"callback\":null},\"id\":\"30cbada3-cc68-48d7-8a1e-b5cd9c42f9cd\",\"type\":\"DataRange1d\"},{\"attributes\":{\"plot\":{\"id\":\"78349d76-755b-41ca-a70b-5b15770a23be\",\"subtype\":\"Figure\",\"type\":\"Plot\"}},\"id\":\"22ebb15a-1239-4488-8609-ba8289e7048e\",\"type\":\"SaveTool\"},{\"attributes\":{\"axis_label\":\"Time (BJD - 245833)\",\"formatter\":{\"id\":\"38317dae-46f3-44ac-9bf0-b895282f1346\",\"type\":\"BasicTickFormatter\"},\"plot\":{\"id\":\"78349d76-755b-41ca-a70b-5b15770a23be\",\"subtype\":\"Figure\",\"type\":\"Plot\"},\"ticker\":{\"id\":\"456e7386-f03b-4065-bd59-b87fb8b64f30\",\"type\":\"BasicTicker\"}},\"id\":\"3c1e8c62-34a4-453f-a42d-81a8a743a80a\",\"type\":\"LinearAxis\"},{\"attributes\":{\"plot\":null,\"text\":\"Kepler ID: 10874614, Quarter: 1\"},\"id\":\"0a8164d1-c854-44ef-aa3a-fd9ece6f5e5a\",\"type\":\"Title\"},{\"attributes\":{\"below\":[{\"id\":\"3c1e8c62-34a4-453f-a42d-81a8a743a80a\",\"type\":\"LinearAxis\"}],\"left\":[{\"id\":\"341fc0b8-cb92-4ede-92ee-cbb7a543f00f\",\"type\":\"LinearAxis\"}],\"renderers\":[{\"id\":\"3c1e8c62-34a4-453f-a42d-81a8a743a80a\",\"type\":\"LinearAxis\"},{\"id\":\"8a160847-19e7-4c1e-b823-594ea5bd0edd\",\"type\":\"Grid\"},{\"id\":\"341fc0b8-cb92-4ede-92ee-cbb7a543f00f\",\"type\":\"LinearAxis\"},{\"id\":\"6f08699d-e008-4951-9848-de0363353cd2\",\"type\":\"Grid\"},{\"id\":\"e546b83f-5419-49fc-8bf9-9adeb03b999e\",\"type\":\"BoxAnnotation\"},{\"id\":\"ded8ed9e-c741-4e69-becf-699dcc530920\",\"type\":\"BoxAnnotation\"},{\"id\":\"d4073509-eae7-4d74-8bbe-4298feb7fa88\",\"type\":\"Legend\"},{\"id\":\"6dc9a848-d6ab-44fc-9ccf-c8b2401e82c0\",\"type\":\"GlyphRenderer\"}],\"title\":{\"id\":\"0a8164d1-c854-44ef-aa3a-fd9ece6f5e5a\",\"type\":\"Title\"},\"tool_events\":{\"id\":\"96ff919a-37d8-4e0d-9c25-371394356ec4\",\"type\":\"ToolEvents\"},\"toolbar\":{\"id\":\"37a4f14f-c415-444f-8bf5-30e0685c86b7\",\"type\":\"Toolbar\"},\"x_range\":{\"id\":\"30cbada3-cc68-48d7-8a1e-b5cd9c42f9cd\",\"type\":\"DataRange1d\"},\"x_scale\":{\"id\":\"25583528-e01f-4823-8205-5c1be15fc58c\",\"type\":\"LinearScale\"},\"y_range\":{\"id\":\"9a67ec0a-7590-4230-a05b-1b20fe76810d\",\"type\":\"DataRange1d\"},\"y_scale\":{\"id\":\"95d70314-97d4-44a8-b9ab-2214161aefb5\",\"type\":\"LinearScale\"}},\"id\":\"78349d76-755b-41ca-a70b-5b15770a23be\",\"subtype\":\"Figure\",\"type\":\"Plot\"},{\"attributes\":{},\"id\":\"38317dae-46f3-44ac-9bf0-b895282f1346\",\"type\":\"BasicTickFormatter\"},{\"attributes\":{\"plot\":{\"id\":\"78349d76-755b-41ca-a70b-5b15770a23be\",\"subtype\":\"Figure\",\"type\":\"Plot\"}},\"id\":\"c9a413c2-bec4-4ff3-a589-0a1fb0c04ce3\",\"type\":\"CrosshairTool\"},{\"attributes\":{\"callback\":null},\"id\":\"9a67ec0a-7590-4230-a05b-1b20fe76810d\",\"type\":\"DataRange1d\"},{\"attributes\":{\"fill_alpha\":{\"value\":0.1},\"fill_color\":{\"value\":\"#1f77b4\"},\"line_alpha\":{\"value\":0.1},\"line_color\":{\"value\":\"#1f77b4\"},\"x\":{\"field\":\"x\"},\"y\":{\"field\":\"y\"}},\"id\":\"2a26c569-72a1-47c6-90be-572e7b0a8430\",\"type\":\"Circle\"},{\"attributes\":{\"fill_color\":{\"value\":\"orange\"},\"line_color\":{\"value\":\"orange\"},\"x\":{\"field\":\"x\"},\"y\":{\"field\":\"y\"}},\"id\":\"e7396c42-5275-4ba0-9360-da53f39f94f3\",\"type\":\"Circle\"},{\"attributes\":{\"dimension\":1,\"plot\":{\"id\":\"78349d76-755b-41ca-a70b-5b15770a23be\",\"subtype\":\"Figure\",\"type\":\"Plot\"},\"ticker\":{\"id\":\"ba1e5d58-3bd9-405d-84a7-a466035123f2\",\"type\":\"BasicTicker\"}},\"id\":\"6f08699d-e008-4951-9848-de0363353cd2\",\"type\":\"Grid\"},{\"attributes\":{\"plot\":{\"id\":\"78349d76-755b-41ca-a70b-5b15770a23be\",\"subtype\":\"Figure\",\"type\":\"Plot\"}},\"id\":\"8f9d834d-5c1b-4e89-912a-b17d9d64eb80\",\"type\":\"ResetTool\"}],\"root_ids\":[\"78349d76-755b-41ca-a70b-5b15770a23be\"]},\"title\":\"Bokeh Application\",\"version\":\"0.12.6\"}};\n",
       "            var render_items = [{\"docid\":\"58895cf4-7a7b-42c9-8020-e0b3608aa51a\",\"elementid\":\"6b32678c-7416-4f13-9113-14575bc440e8\",\"modelid\":\"78349d76-755b-41ca-a70b-5b15770a23be\"}];\n",
       "            \n",
       "            Bokeh.embed.embed_items(docs_json, render_items);\n",
       "          };\n",
       "          if (document.readyState != \"loading\") fn();\n",
       "          else document.addEventListener(\"DOMContentLoaded\", fn);\n",
       "        })();\n",
       "      },\n",
       "      function(Bokeh) {\n",
       "      }\n",
       "    ];\n",
       "  \n",
       "    function run_inline_js() {\n",
       "      \n",
       "      if ((window.Bokeh !== undefined) || (force === true)) {\n",
       "        for (var i = 0; i < inline_js.length; i++) {\n",
       "          inline_js[i](window.Bokeh);\n",
       "        }if (force === true) {\n",
       "          display_loaded();\n",
       "        }} else if (Date.now() < window._bokeh_timeout) {\n",
       "        setTimeout(run_inline_js, 100);\n",
       "      } else if (!window._bokeh_failed_load) {\n",
       "        console.log(\"Bokeh: BokehJS failed to load within specified timeout.\");\n",
       "        window._bokeh_failed_load = true;\n",
       "      } else if (force !== true) {\n",
       "        var cell = $(document.getElementById(\"6b32678c-7416-4f13-9113-14575bc440e8\")).parents('.cell').data().cell;\n",
       "        cell.output_area.append_execute_result(NB_LOAD_WARNING)\n",
       "      }\n",
       "  \n",
       "    }\n",
       "  \n",
       "    if (window._bokeh_is_loading === 0) {\n",
       "      console.log(\"Bokeh: BokehJS loaded, going straight to plotting\");\n",
       "      run_inline_js();\n",
       "    } else {\n",
       "      load_libs(js_urls, function() {\n",
       "        console.log(\"Bokeh: BokehJS plotting callback run at\", now());\n",
       "        run_inline_js();\n",
       "      });\n",
       "    }\n",
       "  }(this));\n",
       "</script>"
      ]
     },
     "metadata": {},
     "output_type": "display_data"
    }
   ],
   "source": [
    "#Plot is an object\n",
    "lc_smooth_265 = figure(\n",
    "    title= title, \n",
    "    x_axis_label=x_label,\n",
    "    y_axis_label=y_label,\n",
    "    tools = 'hover,crosshair,pan,wheel_zoom,box_zoom,reset,tap,save,box_select')\n",
    "\n",
    "#adding x and y data for plot\n",
    "lc_smooth_265.circle(t, smooth_flux,legend='Median Smooth Data',color='orange')\n",
    "\n",
    "show(lc_smooth_265)"
   ]
  },
  {
   "cell_type": "markdown",
   "metadata": {},
   "source": [
    "Fiding Period"
   ]
  },
  {
   "cell_type": "code",
   "execution_count": 92,
   "metadata": {
    "collapsed": false
   },
   "outputs": [
    {
     "name": "stdout",
     "output_type": "stream",
     "text": [
      "All periods:  [ 3.2694983   3.18776011  3.28993083  3.18775768  3.24905911  3.26949127\n",
      "  3.20818598  3.22861756  3.22861413]\n",
      "Avg. period:  3.23543499684  days.\n"
     ]
    }
   ],
   "source": [
    "#1st Argument: Flux Data\n",
    "#2nd Argument: cutoff for troughs that get counted\n",
    "#needs to be chaged for each quarter\n",
    "trough_cutoff = 73400\n",
    "period = find_period(smooth_flux,trough_cutoff)"
   ]
  },
  {
   "cell_type": "markdown",
   "metadata": {},
   "source": [
    "# Method 2: Removing \"nan\" Data points, then Median Smoothing of Data"
   ]
  },
  {
   "cell_type": "code",
   "execution_count": 93,
   "metadata": {
    "collapsed": true
   },
   "outputs": [],
   "source": [
    "#median smooth\n",
    "f_no_nan_smooth = median_smooth(f_no_nan,npixel,maxdelta,maxflux)"
   ]
  },
  {
   "cell_type": "code",
   "execution_count": 119,
   "metadata": {
    "collapsed": false,
    "scrolled": false
   },
   "outputs": [
    {
     "data": {
      "text/html": [
       "\n",
       "\n",
       "    <div class=\"bk-root\">\n",
       "        <div class=\"bk-plotdiv\" id=\"47c75d5c-a4f8-4ff2-9000-189127d65b22\"></div>\n",
       "    </div>\n",
       "<script type=\"text/javascript\">\n",
       "  \n",
       "  (function(global) {\n",
       "    function now() {\n",
       "      return new Date();\n",
       "    }\n",
       "  \n",
       "    var force = false;\n",
       "  \n",
       "    if (typeof (window._bokeh_onload_callbacks) === \"undefined\" || force === true) {\n",
       "      window._bokeh_onload_callbacks = [];\n",
       "      window._bokeh_is_loading = undefined;\n",
       "    }\n",
       "  \n",
       "  \n",
       "    \n",
       "    if (typeof (window._bokeh_timeout) === \"undefined\" || force === true) {\n",
       "      window._bokeh_timeout = Date.now() + 0;\n",
       "      window._bokeh_failed_load = false;\n",
       "    }\n",
       "  \n",
       "    var NB_LOAD_WARNING = {'data': {'text/html':\n",
       "       \"<div style='background-color: #fdd'>\\n\"+\n",
       "       \"<p>\\n\"+\n",
       "       \"BokehJS does not appear to have successfully loaded. If loading BokehJS from CDN, this \\n\"+\n",
       "       \"may be due to a slow or bad network connection. Possible fixes:\\n\"+\n",
       "       \"</p>\\n\"+\n",
       "       \"<ul>\\n\"+\n",
       "       \"<li>re-rerun `output_notebook()` to attempt to load from CDN again, or</li>\\n\"+\n",
       "       \"<li>use INLINE resources instead, as so:</li>\\n\"+\n",
       "       \"</ul>\\n\"+\n",
       "       \"<code>\\n\"+\n",
       "       \"from bokeh.resources import INLINE\\n\"+\n",
       "       \"output_notebook(resources=INLINE)\\n\"+\n",
       "       \"</code>\\n\"+\n",
       "       \"</div>\"}};\n",
       "  \n",
       "    function display_loaded() {\n",
       "      if (window.Bokeh !== undefined) {\n",
       "        var el = document.getElementById(\"47c75d5c-a4f8-4ff2-9000-189127d65b22\");\n",
       "        el.textContent = \"BokehJS \" + Bokeh.version + \" successfully loaded.\";\n",
       "      } else if (Date.now() < window._bokeh_timeout) {\n",
       "        setTimeout(display_loaded, 100)\n",
       "      }\n",
       "    }\n",
       "  \n",
       "    function run_callbacks() {\n",
       "      try {\n",
       "        window._bokeh_onload_callbacks.forEach(function(callback) { callback() });\n",
       "      }\n",
       "      finally {\n",
       "        delete window._bokeh_onload_callbacks\n",
       "      }\n",
       "      console.info(\"Bokeh: all callbacks have finished\");\n",
       "    }\n",
       "  \n",
       "    function load_libs(js_urls, callback) {\n",
       "      window._bokeh_onload_callbacks.push(callback);\n",
       "      if (window._bokeh_is_loading > 0) {\n",
       "        console.log(\"Bokeh: BokehJS is being loaded, scheduling callback at\", now());\n",
       "        return null;\n",
       "      }\n",
       "      if (js_urls == null || js_urls.length === 0) {\n",
       "        run_callbacks();\n",
       "        return null;\n",
       "      }\n",
       "      console.log(\"Bokeh: BokehJS not loaded, scheduling load and callback at\", now());\n",
       "      window._bokeh_is_loading = js_urls.length;\n",
       "      for (var i = 0; i < js_urls.length; i++) {\n",
       "        var url = js_urls[i];\n",
       "        var s = document.createElement('script');\n",
       "        s.src = url;\n",
       "        s.async = false;\n",
       "        s.onreadystatechange = s.onload = function() {\n",
       "          window._bokeh_is_loading--;\n",
       "          if (window._bokeh_is_loading === 0) {\n",
       "            console.log(\"Bokeh: all BokehJS libraries loaded\");\n",
       "            run_callbacks()\n",
       "          }\n",
       "        };\n",
       "        s.onerror = function() {\n",
       "          console.warn(\"failed to load library \" + url);\n",
       "        };\n",
       "        console.log(\"Bokeh: injecting script tag for BokehJS library: \", url);\n",
       "        document.getElementsByTagName(\"head\")[0].appendChild(s);\n",
       "      }\n",
       "    };var element = document.getElementById(\"47c75d5c-a4f8-4ff2-9000-189127d65b22\");\n",
       "    if (element == null) {\n",
       "      console.log(\"Bokeh: ERROR: autoload.js configured with elementid '47c75d5c-a4f8-4ff2-9000-189127d65b22' but no matching script tag was found. \")\n",
       "      return false;\n",
       "    }\n",
       "  \n",
       "    var js_urls = [];\n",
       "  \n",
       "    var inline_js = [\n",
       "      function(Bokeh) {\n",
       "        (function() {\n",
       "          var fn = function() {\n",
       "            var docs_json = {\"ba33c69a-2e2b-466b-9691-992979d9e7ea\":{\"roots\":{\"references\":[{\"attributes\":{\"plot\":{\"id\":\"6c5845fa-bfe3-4ed5-93a8-67c04efa83ec\",\"subtype\":\"Figure\",\"type\":\"Plot\"}},\"id\":\"ebc5f5c6-806f-4135-878e-17820c5078f1\",\"type\":\"PanTool\"},{\"attributes\":{\"dimension\":1,\"plot\":{\"id\":\"6c5845fa-bfe3-4ed5-93a8-67c04efa83ec\",\"subtype\":\"Figure\",\"type\":\"Plot\"},\"ticker\":{\"id\":\"ece10ee4-6a04-4382-bdc3-f29c76fb3165\",\"type\":\"BasicTicker\"}},\"id\":\"07b040db-e3ab-475e-a01d-cbd766e427d4\",\"type\":\"Grid\"},{\"attributes\":{},\"id\":\"c2d1385c-9b60-4723-9e83-a0b0fb2ea721\",\"type\":\"BasicTicker\"},{\"attributes\":{\"plot\":{\"id\":\"6c5845fa-bfe3-4ed5-93a8-67c04efa83ec\",\"subtype\":\"Figure\",\"type\":\"Plot\"}},\"id\":\"fbda7923-8ffb-424c-881d-c3ae40c15213\",\"type\":\"SaveTool\"},{\"attributes\":{\"callback\":null},\"id\":\"28be915e-2a96-454d-83be-e055bdac6ae6\",\"type\":\"DataRange1d\"},{\"attributes\":{\"callback\":null,\"plot\":{\"id\":\"6c5845fa-bfe3-4ed5-93a8-67c04efa83ec\",\"subtype\":\"Figure\",\"type\":\"Plot\"}},\"id\":\"44e205a3-8d12-461f-a65c-f5ca2cc32fe2\",\"type\":\"HoverTool\"},{\"attributes\":{\"callback\":null,\"column_names\":[\"x\",\"y\"],\"data\":{\"x\":[131.51178135778173,131.53221582827246,131.5526501987697,131.5730844693171,131.59351883981435,131.61395331031235,131.63438758080883,131.6548219512988,131.6752564217968,131.69569079228677,131.71612506272504,131.73655943322228,131.7569939036548,131.77742817415128,131.79786254459032,131.81829701508104,131.83873128551932,131.85916565595835,131.8796000263901,131.90003439682914,131.92046876726818,131.94090313769993,131.96133750808076,131.9817718785198,132.00220624889334,132.02264051933162,132.0430749897132,132.06350936008675,132.08394363046682,132.10437800084765,132.12481247122196,132.14524674160202,132.16568111192464,132.18611558229895,132.20654995262157,132.22698422300164,132.24741859332426,132.26785306364036,132.28828733396222,132.30872170427756,132.32915617454273,132.3495904448646,132.3700248151872,132.39045918544434,132.41089355570875,132.4313279259659,132.4517622962303,132.47219676649547,132.49263103675912,132.51306540695805,132.5334996771635,132.5539341474214,132.5743685176276,132.59480278783303,132.61523725804,132.63567162818072,132.65610599838692,132.67654026853415,132.69697473873384,132.71740910888184,132.73784337902907,132.75827784917055,132.77871221926034,132.79914648940758,132.8195808594901,132.84001532958064,132.86044959966966,132.88088396975218,132.90131843984273,132.92175270987354,132.94218707995606,132.96262144998764,132.98305592001998,133.00349019004352,133.0239245600751,133.04435893004847,133.06479330001457,133.08522767004615,133.10566203996132,133.1260964099274,133.1465307799008,133.16696514987416,133.18739951978205,133.20783398969797,133.22826825961238,133.24870262946206,133.26913699937722,133.28957136923418,133.31000573908386,133.33044000894006,133.35087447879778,133.37130884864746,133.3917432184462,133.41217758824496,133.43261195803643,133.45304632783518,133.47348059757496,133.4939150673672,133.51434943710774,133.53478370684752,133.55521817652334,133.57565254626388,133.59608681594545,133.6165211856205,133.6369556553036,133.65739002497867,133.67782429460203,133.69825876422692,133.71869313385105,133.73912740346714,133.75956177309126,133.77999624265067,133.80043051221583,133.82086488178174,133.84129925134766,133.8617336208481,133.8821679903558,133.90260235986352,133.92303672936396,133.94347109881346,133.96390546826296,133.98433973770443,134.0047742071547,134.0252085766042,134.04564284598746,134.06607731537952,134.0865116847708,134.10694595409586,134.12738032342895,134.1478147927628,134.1682491620886,134.18868343142094,134.20911790069658,134.2295522699642,134.2499865391801,134.27042090845498,134.29085537766514,134.31128964688105,134.33172401609772,134.35215848524967,134.37259275440738,134.41346149265883,134.4338958618173,134.45433023091755,134.47476459995232,134.49519906905334,134.51563333809463,134.5360677071294,134.5565019761707,134.5769364451553,134.59737081413186,134.61780508311494,134.63823945204058,134.6586739210179,134.67910828988533,134.69954265881097,134.71997702772933,134.74041139653855,134.7608456654052,134.78128003426536,134.80171450307535,134.82214887188456,134.84258314063482,134.8630176093793,134.88345197813032,134.90388634687406,134.9243206155661,134.94475508425967,134.9651894529452,134.98562372157903,135.0060581902144,135.0264925588417,135.04692682747554,135.06736119605193,135.0877956646218,135.10822993313923,135.1286643016574,135.14909877016908,135.16953313868726,135.18996740714647,135.21040177559917,135.2308362440017,135.2512705124027,135.2717048807972,135.2921391491982,135.3125736175425,135.3330079858788,135.35344225416338,135.3738767224495,135.39431109072757,135.41474545901292,135.4351797272393,135.45561419545993,135.47604856362886,135.49648283179704,135.51691729995946,135.5373516680702,135.55778593618015,135.57822030429088,135.5986547723369,135.61908904038864,135.6395234084339,135.65995787642896,135.68039224442327,135.70082651241682,135.72126088034565,135.74169534828252,135.76212961615238,135.78256398403028,135.80299845190893,135.82343271972786,135.84386708754027,135.86430145535996,135.88473582311417,135.90517019087565,135.92560455857893,135.94603882628144,135.9664732939782,135.98690766162326,136.00734192926757,136.02777639690612,136.04821076449298,136.06864503202087,136.08907939960045,136.10951386712986,136.12994823459303,136.1503825020627,136.17081696953392,136.19125133700436,136.21168560440856,136.2321199717626,136.2525544391101,136.27298870646337,136.2934230738174,136.31385754111398,136.33429180834355,136.35472617558116,136.37516054281878,136.3955949099909,136.4160292771703,136.43646364434971,136.4568981114644,136.47733237852663,136.49776674564782,136.51820111264533,136.53863547970832,136.5590698466549,136.5795042137106,136.59993858065718,136.62037294760376,136.64080731442664,136.6612416813732,136.68167604820337,136.70211041502625,136.7225447818564,136.7429790485694,136.76341351527662,136.78384788210678,136.80428214870335,136.82471661541058,136.8451509820079,136.86558534871438,136.88601961531094,136.90645408190903,136.92688844838995,136.94732271486282,136.9677571813445,136.98819154781813,137.00862581429828,137.02906018066278,137.04949464714446,137.0699289133845,137.090363279749,137.11079774610698,137.1312320123543,137.15166637860239,137.17210074485047,137.19253521097562,137.21296947722294,137.2334038433546,137.25383810947824,137.27427257549425,137.2947069415095,137.31514120763313,137.33557567353273,137.35601003954798,137.39687867145403,137.41731313735363,137.43774750312878,137.45818176902685,137.47861623481003,137.49905060058518,137.51948486625042,137.53991923203284,137.56035369769234,137.58078796335758,137.60122232902359,137.62165679456666,137.64209116023267,137.66252542566508,137.6829597912074,137.70339425675775,137.72382852219016,137.74426288761606,137.76469735305,137.785131618366,137.80556598367548,137.82600024899148,137.846434714309,137.86686907950207,137.8873034447024,137.907737709902,137.92817217509582,137.94860654017975,137.96904080526292,137.98947527034034,138.00990963542426,138.03034390039102,138.05077826535853,138.07121273031953,138.09164709517063,138.1120813600137,138.13251582486555,138.15295018971665,138.1733844545597,138.1938188192944,138.21425328402984,138.23468764864083,138.25512191337475,138.27555637799378,138.29599074260477,138.31642500710586,138.33685937160772,138.35729383610305,138.3777282006049,138.39816246498958,138.41859692948492,138.43903129375394,138.45946555813862,138.47989992240036,138.50033438667015,138.5207686509384,138.54120301520015,138.56163737935276,138.58207174350537,138.60250610753428,138.6229404716869,138.64337483572308,138.66380919963558,138.68424356367177,138.70467782759079,138.72511229150405,138.74554665542382,138.76598091922642,138.78641538302327,138.80684974682663,138.8272840105128,138.84771837419248,138.8681528378802,138.88858720156713,138.9090214651369,138.92945592870092,138.94989029227145,138.97032455571753,138.99075891917164,139.01119338262652,139.03162764596345,139.05206200929388,139.07249647263234,139.092930735962,139.11336509918328,139.13379946240457,139.15423382562585,139.17466818872344,139.1951025518283,139.21553681493242,139.23597127791436,139.25640564101923,139.2768399038905,139.29727436687244,139.31770872974448,139.33814309260924,139.35857735548052,139.3790118182369,139.39944618099253,139.4198804436237,139.44031490638008,139.460749269012,139.48118353165046,139.50161789417325,139.5220523566968,139.54248661921156,139.56292098161794,139.5833554440178,139.6037897064234,139.6242240688298,139.64465843111975,139.6650928934032,139.68552715557598,139.70596151774953,139.7263958799158,139.74683024208935,139.76726460414648,139.78769896619633,139.80813332813705,139.82856769019418,139.84900205212762,139.86943641395192,139.88987077577622,139.91030513759324,139.93073949941754,139.9511739611189,139.97160822282603,139.99204258453392,140.01247684612463,140.03291130770958,140.05334566918464,140.07378003076883,140.09421439224388,140.11464875360252,140.13508311507758,140.15551737631176,140.17595183767116,140.1963861989061,140.21682046014757,140.23725492139056,140.25768928251637,140.27812354363414,140.29855790464353,140.3189923656464,140.33942662665504,140.3802953485574,140.40072980944387,140.42116407021967,140.44159843099624,140.46203289176628,140.48246715242567,140.50290151308582,140.52333577373793,140.54377023428242,140.56420459482615,140.5846389553626,140.60507331578992,140.62550767621724,140.64594203652086,140.66637629694742,140.68681075714267,140.7072451174463,140.72767937764002,140.74811383783526,140.76854819790606,140.78898245798337,140.80941681806144,140.82985127801658,140.85028563797823,140.87071989793913,140.8911542577771,140.9115887176231,140.93202297735115,140.95245733718912,140.9728917968023,140.99332605653035,141.01376041613548,141.03419477563148,141.05462913512747,141.0750634946162,141.09549785411218,141.11593221349176,141.13636657286406,141.15680093212723,141.17723519138963,141.19766965064628,141.21810400979302,141.238538268939,141.25897272807924,141.27940708710958,141.29984134613915,141.3202757050458,141.34071016396047,141.36114452287438,141.38157878166385,141.40201314046135,141.4224475991432,141.442881957817,141.46331621649733,141.48375067517918,141.50418503373658,141.52461929218407,141.54505365063233,141.5654880090733,141.58592246752232,141.606356725737,141.6267911840623,141.64722554227774,141.6676598004924,141.68809415870055,141.70852861680032,141.72896287478216,141.7493972328739,141.76983169074083,141.79026594872266,141.81070030658157,141.83113466444775,141.8515690221975,141.87200337994,141.89243773757335,141.91287219520746,141.93330645283277,141.9537408103497,141.97417506786587,141.9946095253763,142.0150438827768,142.03547814006015,142.0559124974534,142.07634695462184,142.09678131190594,142.11721556907287,142.13765002623404,142.1580843832853,142.17851864032855,142.1989529972634,142.21938745419902,142.23982171113312,142.26025606794428,142.28069052464707,142.30112478145747,142.3215591381595,142.3419934947451,142.3624279513242,142.38286220790906,142.40329656437825,142.42373102084093,142.44416527730937,142.46459963366215,142.48503388989775,142.5054683461276,142.52590270236396,142.54633705847664,142.56677131459583,142.58720577071654,142.60764012672007,142.62807438259915,142.64850883860345,142.66894319436688,142.68937745025323,142.70981180602394,142.73024626167899,142.75068051732524,142.77111487297952,142.79154932851088,142.811983584048,142.83241793946945,142.8528522948909,142.87328675030585,142.89372100549372,142.91415536079876,142.93458981598087,142.95502407116874,142.97545842624095,142.99589268130512,143.01632713626168,143.03676149121748,143.057195846166,143.07763020100538,143.09806455584476,143.11849891056045,143.1389332652834,143.1593676198827,143.17980197448924,143.2002362289786,143.22067058346875,143.24110503795237,143.26153939232609,143.28197374669253,143.30240810094983,143.32284245520714,143.36371106348088,143.3841455175061,143.4045798715233,143.42501412554702,143.44544857945584,143.46588293324749,143.4863171870311,143.50675154082273,143.52718599449145,143.54762034816667,143.56805460172473,143.5884890552843,143.60892340883584,143.62935766216106,143.64979201560345,143.67022646892292,143.69066072213172,143.7110950753413,143.73152942854358,143.75196378163673,143.77239813472988,143.79283248769934,143.81326684067608,143.8337011935364,143.85413554638944,143.8745697991326,143.89500425187725,143.91543860461388,143.9358728572406,143.95630730975245,143.97674166225625,143.99717591476656,144.01761026716122,144.03804471943295,144.0584790717112,144.07891332398867,144.099347776144,144.11978212830581,144.14021638035047,144.1606507323886,144.18108518431836,144.2015194362466,144.2219537880519,144.24238823986525,144.26282249156066,144.28325684324955,144.3036911948293,144.32412554640905,144.34455989798153,144.36499424944486,144.38542850079102,144.40586295213143,144.42629730336193,144.44673155459168,144.46716600581567,144.48760035692976,144.50803460792667,144.52846895891707,144.5489034099155,144.56933776079677,144.58977201156085,144.61020646231918,144.63064081308403,144.65107506372442,144.67150941437285,144.69194386490562,144.7123781153132,144.73281246572878,144.75324691614514,144.7736811664363,144.79411551661906,144.81454986680183,144.83498431697808,144.85541856704367,144.87585291711002,144.89628726705268,144.9167216168862,144.93715596671973,144.95759031654597,144.97802476626384,144.99845901586377,145.0188933654572,145.03932771505788,145.05976206454216,145.08019641390274,145.1006307632706,145.12106521263922,145.14149946188263,145.16193381101766,145.18236806015193,145.20280250928045,145.22323685829906,145.2436711072005,145.26410555609618,145.28453990488197,145.30497425366775,145.32540850233636,145.3458429509992,145.36627729955217,145.38671154809708,145.40714599653438,145.42758034497092,145.44801459329028,145.46844894160313,145.4888833898076,145.50931763800327,145.52975198609056,145.55018633406144,145.5706207820258,145.5910550299959,145.61148937785038,145.6319238255819,145.6523580733192,145.67279242105724,145.6932266686781,145.7136611161768,145.73409546368202,145.75452981106355,145.77496415845235,145.79539850572473,145.81583285299712,145.83626710014505,145.85670154730178,145.87713589433406,145.89757014125644,145.91800458818034,145.93843893510348,145.95887318190216,145.97930752859247,145.99974197527627,146.02017632185016,146.0406105684233,146.06104501488153,146.08147936133173,146.10191360767203,146.12234795389668,146.1427824001148,146.1632166463387,146.18365099244693,146.20408533843147,146.22451968442329,146.2449540302987,146.2653883761668,146.2858227219258,146.30625706768478,146.34712565884547,146.3675601043651,146.38799444989127,146.40842869530024,146.42886314059433,146.44929748588038,146.46973173105653,146.49016617622692,146.51060052128742,146.5310348662315,146.5514691111748,146.57190355611237,146.59233790082362,146.612772245644,146.63320649023808,146.6536409349501,146.6740752794285,146.6945095238989,146.71494396837807,146.7353783127328,146.75581265697838,146.7762469012232,146.79668134535314,146.81711568947503,146.83754993348703,146.85798427738337,146.8784187212732,146.89885296505236,146.91928730883228,146.93972175248928,146.96015599615203,146.98059033969912,147.00102468312252,147.0214590265532,147.04189336998388,147.06232771317445,147.08276215648948,147.10319639957015,147.1236307426443,147.14406498572498,147.16449942857435,147.1849337715321,147.2053680142635,147.22580245711288,147.24623679972137,147.26667114233715,147.28710538483574,147.30753982732858,147.32797416971152,147.3484084120937,147.36884275435295,147.38927719650383,147.40971143865318,147.4301457806796,147.45058022271405,147.47101446463057,147.49144880654057,147.51188314822502,147.53231759002665,147.55275183158665,147.5731861732711,147.59362061472348,147.61405485616706,147.63448919750226,147.6549234388367,147.67535788004898,147.69579222126777,147.71622646225296,147.73666090334882,147.75709524433478,147.77752958520432,147.79796382595669,147.8183982667033,147.83883260734,147.85926684796868,147.87970118848898,147.92056986940588,147.94100420969335,147.96143864986516,147.9818728901446,148.00230723019922,148.02274157025386,148.04317601018556,148.06361025012302,148.08404458994482,148.1044790296437,148.12491326934833,148.1453476089373,148.165781948519,148.18621628787514,148.2066506273477,148.22708496669657,148.24751940593706,148.2679536450596,148.28838798417564,148.30882232318254,148.32925666218944,148.34969100107264,148.3701253398467,148.39055957862,148.41099401727115,148.4314283559288,148.45186269447004,148.47229703288758,148.492731371196,148.5131657095044,148.53359994781204,148.5540343859975,148.57446872407309,148.5949029620242,148.61533739998413,148.63577173782687,148.65620597566885,148.6766403133879,148.69707475099858,148.71750898860046,148.73794332609395,148.7583777634718,148.7788121008416,148.7992463381015,148.81968067536218,148.84011511249992,148.860549349527,148.88098368655483,148.90141812345973,148.92185236025398,148.94228669704898,148.9627210337203,148.98315537028247,149.00358970684465,149.0240240432904,149.04445827972813,149.06489271594182,149.0853270522639,149.10576128835964,149.12619572445692,149.14663006043702,149.16706429640908,149.18749863227276,149.20793306801352,149.22836740376079,149.24880163939088,149.26923607490608,149.28967041041324,149.3305389810921,149.3509734163672,149.37140765153163,149.39184198669682,149.41227642173908,149.43271065667068,149.45314499148662,149.4735793262953,149.49401366099482,149.51444799569435,149.53488233015378,149.55531676473765,149.5757509990799,149.59618533343018,149.6166195676633,149.63705400189792,149.6574883360081,149.67792257000838,149.698356903893,149.7187913377711,149.73922567153932,149.75965990530676,149.78009433895204,149.80052867248742,149.82096290590562,149.8413972393173,149.8618316726206,149.88226600592316,149.90270023910125,149.92313467217173,149.94356900511775,149.96400333807105,149.98443757090718,150.00487200374482,150.02530633645802,150.0457405690613,150.06617500154243,150.08660933403007,150.10704356640053,150.12747789865534,150.14791233090364,150.16834656304127,150.18878089506325,150.2092153270787,150.2296495589835,150.25008389077266,150.27051822255453,150.29095265422802,150.31138688578358,150.33182121733262,150.35225544865534,150.372689880096,150.3931242112958,150.4135584425021,150.43399287359352,150.4544272045605,150.47486153553473,150.4952957663918,150.5157301971267,150.5361645278681,150.55659875849233,150.5770331889944,150.59746751950297,150.61790174989437,150.63833608016284,150.65877051032294,150.6792047404815,150.69963907051715,150.72007350056083,150.74050783037092,150.76094206017297,150.78137638986664,150.80181081956107,150.8222450491303,150.84267937859113,150.86311380805273,150.8835480372727,150.9039823665007,150.92441669572872,150.94485102471663,150.9652853537118,150.98571968259057,151.00615391146857,151.0265883402244,151.04702266887034,151.06745689739182,151.0878913259221,151.1083256543352,151.12875988262385,151.14919421080413,151.16962863898516,151.19006286704098,151.21049719510484,151.23093162293662,151.25136595076037,151.27180017859064,151.29223450618883,151.31266893378051,151.33310316126153,151.3535374886269,151.37397191598575,151.39440614323394,151.41484047036647,151.4352747973753,151.45570912439143,151.47614345129114,151.49657777806715,151.51701210485044,151.5374464315173,151.5578807580605,151.57831508449453,151.59874951092934,151.61918373723893,151.63961806344014,151.68048671560246,151.70092104157084,151.7213553674228,151.7417896932675,151.76222401900304,151.78265834462218,151.80309257011686,151.82352699562034,151.84396132089023,151.86439554627577,151.88482997142273,151.9052642965762,151.9256985214888,151.94613284652587,151.96656727133086,151.9870015961278,152.00743582081486,152.02787024538702,152.04830456983473,152.06873879428895,152.0891731186275,152.10960754284315,152.13004176694812,152.15047609105386,152.1709104150359,152.1913447389088,152.21177906278172,152.2322133865382,152.25264781017177,152.27308203369466,152.3139505805011,152.3343850037927,152.35481932696712,152.3752535501335,152.39568797307584,152.41612229601014,152.4365566188353,152.45699084165972,152.47742526425282,152.49785958683788,152.51829380931304,152.53872823178244,152.55916255402553,152.57959677626786,152.60003109839454,152.6204655205147,152.64089974240778,152.68176838607178,152.7022027078492,152.7226370293938,152.74307135093113,152.76350577236008,152.7839399936638,152.80437431485916,152.82480853605375,152.84524295713345,152.8656772780887,152.88611149893404,152.90654591977363,152.92698024050333,152.9474145611166,152.9678487816127,152.98828320210305,153.00871752236708,153.02915174263035,153.04958616288786,153.07002048291906,153.0904547029495,153.110889022857,153.13132344265614,153.15175766233733,153.1721919818956,153.19262630146113,153.21306072091102,153.23349504023645,153.2539292595684,153.27436367866176,153.29479799776163,153.31523221674433,153.33566653561138,153.35610085447115,153.37653517310537,153.39696949173958,153.41740391025087,153.43783822876867,153.45827244705288,153.47870676533057,153.4991411834999,153.51957540155126,153.5400097194797,153.5604441374162,153.58087835523474,153.60131267281395,153.62174699051684,153.6421813079869,153.6626156254497,153.68304994268692,153.7034841599234,153.7239185771541,153.7443528941585,153.76478711116215,153.7852215279272,153.80565584469878,153.82609006135317,153.84652437800105,153.86695879442414,153.8873930108457,153.90782732714433,153.9282617433346,153.94869605952408,153.9691302754727,153.98956459142937,154.00999900727038,154.03043322298618,154.0508675385936,154.07130195420177,154.09173616968474,154.1121704849429,154.13260480020108,154.15303911545197,154.17347343047732,154.19390774550266,154.2143420604043,154.23477637519682,154.2552106898729,154.27564490442455,154.296079318985,154.31651363342826,154.33694784763065,154.3573821619575,154.37781657605228,154.39825079002185,154.41868510399945,154.4391195178614,154.4595538315989,154.4799880452265,154.50042235873843,154.52085677224386,154.5412909855222,154.56172529880132,154.5821597119575,154.60259392511944,154.6230282380493,154.6434625509719,154.66389686366892,154.68433117636596,154.7047654889393,154.72519990152068,154.7456341138677,154.76606842620822,154.78650273832318,154.80693705043814,154.8273713624294,154.84780557442718,154.86823998619366,154.8886742979521,154.90910860948497,154.92954292101786,154.94997723242705,154.9704115437271,154.99084585502715,155.01128006608633,155.0317144771543,155.05214878810511,155.07258299893874,155.0930174096502,155.11345172025176,155.13388593084528,155.15432024133042,155.1747546515835,155.19518896182853,155.2156231720801,155.23605748209957,155.25649189199612,155.29736041156866,155.31779482123238,155.33822903078544,155.35866334022285,155.37909764965298,155.39953195885755,155.41996626806213,155.44040057715029,155.46083498611551,155.48126919497008,155.50170350370172,155.52213771232346,155.54257212094672,155.583440637718,155.60387504599203,155.6243093541416,155.644743662182,155.66517787010525,155.68561227803002,155.70604658571392,155.72648079340433,155.7469151009791,155.76734950843093,155.7877837157721,155.8082180229976,155.8286524302166,155.84908663720853,155.8695209442012,155.8899552510702,155.91038965783082,155.9308238644735,155.95125817099324,155.9716925774046,155.99212678380718,156.01256108998496,156.03299529616197,156.0534297022241,156.07386400816176,156.0942983139903,156.11473261969513,156.13516692529083,156.15560123088653,156.17603543624864,156.196469841605,156.21690414685145,156.23733835198072,156.25777265698707,156.27820706188504,156.29864126666507,156.3190755714386,156.3395099759873,156.3599441805345,156.38037848495878,156.4008127892739,156.4212471934734,156.44168139754765,156.46211570151354,156.4825501053565,156.5029843092052,156.52341861282184,156.54385291643848,156.56428721993143,156.58472152331524,156.60515582658263,156.62559012972633,156.6460244327609,156.66645873567904,156.68689303858991,156.70732734127523,156.72776164396055,156.74819594652217,156.76863014885748,156.78906455119431,156.8094988534067,156.82993315550993,156.85036745761317,156.8708017594763,156.89123606134672,156.91167026298353,156.9321046646146,156.95253896613576,156.97297316742333,156.99340756870515,157.01384186987707,157.0342760709318,157.05471037198004,157.07514477280347,157.09557897350896,157.11601327420794,157.13644767479855,157.15688197515556,157.17731617550453,157.19775047574512,157.21818487587007,157.2386190758698,157.25905337576114,157.27948767553607,157.29992197530373,157.32035627484584,157.34079057427152,157.36122487368993,157.3816591729992,157.40209347207565,157.42252767115133,157.44296207010484,157.46339636894845,157.4838305676676,157.50426496627915,157.52469926477352,157.54513346325984,157.56556776152138,157.58600215978367,157.60643635780434,157.62687065583305,157.64730505362968,157.66773935141828,157.68817354909697,157.70860784666002,157.72904224410013,157.74947644142958,157.76991073864338,157.79034513573424,157.81077933283086,157.8312136296954,157.85164792643627,157.8720822231844,157.8925165196997,157.91295081620774,157.93338501260587,157.9538194087727,157.97425370493147,157.99468790098035,158.01512229691434,158.03555659272388,158.05599078842351,158.0764250840075,158.09685947946855,158.11729377493612,158.1377279701701,158.1581623652819,158.17859666040022,158.19903085528495,158.21946515016316,158.23989954481658,158.28076803400472,158.30120242830162,158.32163672260504,158.342070916784,158.36250521085458,158.3829396048095,158.40337389863998,158.42380809236056,158.44424238596548,158.4646767795639,158.48511097293522,158.5055452661909,158.52597965932364,158.54641385246214,158.56684814536857,158.58728243826772,158.60771673094132,158.62815102361492,158.6485853160557,158.66901970848994,158.68945390081353,158.70988819289778,158.73032238498854,158.7507567769644,158.7711910688231,158.7916253605581,158.81205965218396,158.83249394368613,158.85292823507916,158.87336242635502,158.89379681751598,158.91423110855249,158.9346652994791,158.95509969028353,158.9755339810945,158.99596817167185,159.01640246213356,159.03683685247233,159.05727104281686,159.07770533292933,159.0981396229181,159.1185740129149,159.13900820267736,159.1594424924333,159.17987688196445,159.2003110714868,159.22074536090076,159.24117955008114,159.26161393926304,159.2820482283205,159.30248251715238,159.322916805977,159.34335109469248,159.36378538317513,159.384219571657,159.40465396001673,159.42508824826655,159.4455224363992,159.46595682429324,159.48639111219381,159.5068252999772,159.52725958763767,159.54769397518976,159.5681281626239,159.58856244993513,159.6089967371372,159.62943112422363,159.64986531118484,159.67029959803767,159.69073398476758,159.71116817138682,159.7316024578904,159.75203674427758,159.77247103054106,159.7929053166954,159.81333960273332,159.83377388864756,159.85420817445265,159.87464246014133,159.89507664570556,159.91551103127858,159.93594531661802,159.95637960183376,159.97681388694036,159.99724817193055,160.01768245679705,160.0381167415544,160.05855102619535,160.0789853107126,160.09941959523712,160.11985377952806,160.14028816369682,160.1607224477557,160.18115663169738,160.2015910155169,160.22202529922652,160.24245948281896,160.26289376628847,160.2833281496496,160.3037623328928,160.32419661601307,160.34463099914137,160.36506528203608,160.38549946480634,160.40593374746823,160.42636813001445,160.44680231243547,160.4672365947481,160.48767097694508,160.50810515901685,160.52853944098024,160.5489737227108,160.56940800443408,160.58984228604822,160.61027656754595,160.6307107489265,160.6511451301849,160.67157941133337,160.69201359224098,160.7124479731574,160.73288225395663,160.75331643463142,160.77375071519782,160.79418509553216,160.81461937585846,160.83505355607485,160.85548793605994,160.875922216037,160.89635639578773,160.91679067553923,160.93722505505139,160.9576592345693,160.97809351385513,160.99852789313445,161.0189620721867,161.0393963512397,161.0598306300526,161.08026490875636,161.10069918746012,161.12113346592378,161.14156784427905,161.1620020225164,161.1824363006308,161.2028704786353,161.22330485664133,161.26417341206252,161.28460758960136,161.30504196701804,161.32547624432482,161.345910421398,161.36634479846543,161.38677907542296,161.40721325226332,161.42764752886433,161.44808190547337,161.46851608196448,161.48895035822352,161.50938473447604,161.5298189105015,161.55025318652042,161.5706874623138,161.59112183799152,161.61155601366772,161.63199028910458,161.65242466443306,161.67285893963708,161.6932931147312,161.71372738970967,161.73416176456521,161.7545959393101,161.77503021393932,161.79546448844485,161.81589876284124,161.8363330370048,161.85676731116837,161.877201685209,161.89763585902256,161.9180701328296,161.93850430641032,161.95893867999257,161.97937295334123,161.9998072265662,162.02024149968202,162.04067577267415,162.06111004567356,162.08154421843938,162.1019785910903,162.12241286350036,162.14284703591693,162.16328140821133,162.18371568039584,162.20414985234675,162.22458412429842,162.24501849601074,162.26545266772882,162.28588693921483,162.3063213105779,162.3267555819475,162.3471897530835,162.36762402409659,162.38805839500128,162.40849256578076,162.42892683645186,162.4493610070058,162.4697953773284,162.490229647643,162.51066331773472,162.53109768781724,162.55153185767267,162.5719661275216,162.59240039714496,162.61283476665267,162.63326893604244,162.65370320530928,162.67413757446775,162.694571743501,162.71500601242587,162.73544028123433,162.75587454980996,162.7763088183783,162.7967430867211,162.8171773549402,162.8376116231666,162.85804589116015,162.87848005903652,162.89891442679072,162.91934869443503,162.93978286196216,162.96021712936636,162.98065149654576,163.00108566372364,163.02151993066218,163.04195429760875,163.06238856431446,163.08282273091027,163.10325699739042,163.12369136375492,163.1441255299942,163.1645597961251,163.18499416213308,163.2054283280304,163.22586259369564,163.24629685936088,163.26673112478602,163.28716539010202,163.3075996553016,163.32803402049467,163.34846818534425,163.36890245019458,163.38933661492047,163.40977097953873,163.4302052439234,163.45063940830005,163.47107377245266,163.49150803648809,163.51194230039982,163.53237646420166,163.55281082788133,163.5732450914511,163.5936792549037,163.61411351824063,163.63454788133822,163.65498204432515,163.67541630731284,163.6958506700612,163.71628483269888,163.7367190952209,163.75715335761925,163.77758761979203,163.79802188196481,163.8184561438975,163.8388905058382,163.85932466754457,163.879758929128,163.90019309060153,163.92062745196017,163.94106171319436,163.9614959743194,163.98193023521162,164.00236449609656,164.02279875675595,164.04323291729816,164.0636672778346,164.08410153814475,164.10453579822206,164.12496995829133,164.14540431813657,164.1658384779803,164.18627273758466,164.20670709719707,164.24757551571383,164.26800977485982,164.28844403377298,164.30887829267886,164.32931255135918,164.34974691004027,164.37018116848049,164.3906153266944,164.41104958490905,164.43148384311644,164.45191810109827,164.47235235884727,164.49278671658976,164.51322087410517,164.5336551313885,164.55408938866458,164.57452364594792,164.5949579027656,164.61539215980883,164.63582631639292,164.65626067321136,164.6766949295561,164.69712918590812,164.71756344226014,164.73799769813922,164.7584319542584,164.77886610991118,164.7993004655582,164.81973472121172,164.84016887663165,164.860603231813,164.88103748700087,164.90147164218797,164.9219058969029,164.94234025162586,164.9627744063473,164.98320866083668],\"y\":[73603.9765625,73623.6796875,73623.6796875,73623.6796875,73623.6796875,73623.6796875,73620.6953125,73627.7421875,73625.5,73625.5,73625.5,73625.5,73625.5,73620.4921875,73618.2578125,73627.328125,73627.328125,73627.328125,73627.328125,73627.328125,73605.390625,73641.578125,73628.515625,73628.515625,73628.515625,73628.515625,73628.515625,73631.4453125,73623.890625,73617.4765625,73617.4765625,73617.4765625,73617.4765625,73617.4765625,73611.75,73618.375,73620.8984375,73620.8984375,73620.8984375,73620.8984375,73620.8984375,73636.2734375,73612.3203125,73622.390625,73622.390625,73622.390625,73622.390625,73622.390625,73625.4140625,73637.6015625,73630.6953125,73630.6953125,73630.6953125,73630.6953125,73630.6953125,73625.8125,73616.8984375,73624.40625,73624.40625,73624.40625,73624.40625,73624.40625,73618.828125,73637.546875,73629.21875,73629.21875,73629.21875,73629.21875,73629.21875,73623.8515625,73640.6796875,73633.90625,73633.90625,73633.90625,73633.90625,73633.90625,73638.2109375,73627.203125,73620.3125,73620.3125,73620.3125,73620.3125,73620.3125,73640.296875,73615.8125,73624.46875,73624.46875,73624.46875,73624.46875,73624.46875,73626.2109375,73629.0,73625.953125,73625.953125,73625.953125,73625.953125,73625.953125,73638.09375,73620.2109375,73618.84375,73618.84375,73618.84375,73618.84375,73618.84375,73610.0859375,73617.46875,73619.2421875,73619.2421875,73619.2421875,73619.2421875,73619.2421875,73607.78125,73612.7421875,73614.15625,73614.15625,73614.15625,73614.15625,73614.15625,73625.7890625,73618.546875,73620.28125,73620.28125,73620.28125,73620.28125,73620.28125,73627.3203125,73634.890625,73619.359375,73619.359375,73619.359375,73619.359375,73619.359375,73616.609375,73624.09375,73624.40625,73624.40625,73624.40625,73624.40625,73624.40625,73500.8828125,73006.6171875,72990.3046875,72990.3046875,72990.3046875,72990.3046875,72990.3046875,73591.25,73623.0390625,73626.453125,73626.453125,73626.453125,73626.453125,73626.453125,73629.859375,73631.3203125,73623.8046875,73623.8046875,73623.8046875,73623.8046875,73623.8046875,73614.8046875,73617.1953125,73618.46875,73618.46875,73618.46875,73618.46875,73618.46875,73591.4765625,73617.4140625,73616.859375,73616.859375,73616.859375,73616.859375,73616.859375,73608.6953125,73627.5546875,73621.953125,73621.953125,73621.953125,73621.953125,73621.953125,73626.90625,73623.125,73614.796875,73614.796875,73614.796875,73614.796875,73614.796875,73615.046875,73603.8515625,73611.40625,73611.40625,73611.40625,73611.40625,73611.40625,73608.71875,73626.96875,73627.796875,73627.796875,73627.796875,73627.796875,73627.796875,73619.3984375,73633.1171875,73616.546875,73616.546875,73616.546875,73616.546875,73616.546875,73618.703125,73631.5859375,73610.328125,73610.328125,73610.328125,73610.328125,73610.328125,73609.7265625,73610.6328125,73611.0703125,73611.0703125,73611.0703125,73611.0703125,73611.0703125,73606.9375,73615.140625,73614.625,73614.625,73614.625,73614.625,73614.625,73636.734375,73603.5234375,73622.9375,73622.9375,73622.9375,73622.9375,73622.9375,73622.515625,73621.140625,73616.25,73616.25,73616.25,73616.25,73616.25,73605.21875,73617.921875,73617.3671875,73617.3671875,73617.3671875,73617.3671875,73617.3671875,73607.078125,73619.7265625,73614.84375,73614.84375,73614.84375,73614.84375,73614.84375,73624.078125,73609.9609375,73613.265625,73613.265625,73613.265625,73613.265625,73613.265625,73620.0234375,73615.9375,73618.1875,73618.1875,73618.1875,73618.1875,73618.1875,73600.0546875,73641.609375,73613.09375,73613.09375,73613.09375,73613.09375,73613.09375,73602.7265625,73610.734375,73611.7421875,73611.7421875,73611.7421875,73611.7421875,73611.7421875,73615.0625,73612.75,73606.28125,73606.28125,73606.28125,73606.28125,73606.28125,73594.84375,73619.8984375,72922.7265625,72922.7265625,72922.7265625,72922.7265625,72922.7265625,72853.8984375,72932.2578125,73602.9140625,73602.9140625,73602.9140625,73602.9140625,73602.9140625,73609.9140625,73612.34375,73612.46875,73612.46875,73612.46875,73612.46875,73612.46875,73612.640625,73611.890625,73615.4453125,73615.4453125,73615.4453125,73615.4453125,73615.4453125,73614.171875,73616.5234375,73613.0546875,73613.0546875,73613.0546875,73613.0546875,73613.0546875,73611.7734375,73614.3359375,73612.375,73612.375,73612.375,73612.375,73612.375,73616.140625,73621.203125,73611.75,73611.75,73611.75,73611.75,73611.75,73611.5703125,73593.40625,73606.921875,73606.921875,73606.921875,73606.921875,73606.921875,73602.2890625,73610.390625,73609.21875,73609.21875,73609.21875,73609.21875,73609.21875,73608.078125,73622.75,73613.0625,73613.0625,73613.0625,73613.0625,73613.0625,73603.8828125,73598.40625,73612.1796875,73612.1796875,73612.1796875,73612.1796875,73612.1796875,73625.0859375,73607.9296875,73607.75,73607.75,73607.75,73607.75,73607.75,73604.640625,73607.5625,73608.3515625,73608.3515625,73608.3515625,73608.3515625,73608.3515625,73615.53125,73620.34375,73610.53125,73610.53125,73610.53125,73610.53125,73610.53125,73608.671875,73609.2109375,73609.8125,73609.8125,73609.8125,73609.8125,73609.8125,73618.1875,73610.4140625,73609.15625,73609.15625,73609.15625,73609.15625,73609.15625,73608.3203125,73609.84375,73611.046875,73611.046875,73611.046875,73611.046875,73611.046875,73617.6171875,73622.59375,73611.3046875,73611.3046875,73611.3046875,73611.3046875,73611.3046875,73612.140625,73612.6171875,73610.4453125,73610.4453125,73610.4453125,73610.4453125,73610.4453125,73614.71875,73625.265625,73605.0,73605.0,73605.0,73605.0,73605.0,73603.3671875,73586.2578125,73610.6328125,73610.6328125,73610.6328125,73610.6328125,73610.6328125,73614.8203125,73604.3046875,73607.484375,73607.484375,73607.484375,73607.484375,73607.484375,73616.25,73624.21875,73597.265625,73597.265625,73597.265625,73597.265625,73597.265625,72928.1640625,72862.921875,72981.046875,72981.046875,72981.046875,72981.046875,72981.046875,73608.6953125,73611.75,73605.234375,73605.234375,73605.234375,73605.234375,73605.234375,73599.3203125,73609.140625,73607.28125,73607.28125,73607.28125,73607.28125,73607.28125,73600.65625,73614.9375,73609.4375,73609.4375,73609.4375,73609.4375,73609.4375,73607.78125,73587.4140625,73604.7109375,73604.7109375,73604.7109375,73604.7109375,73604.7109375,73608.625,73609.8828125,73604.703125,73604.703125,73604.703125,73604.703125,73604.703125,73608.234375,73602.6171875,73604.8203125,73604.8203125,73604.8203125,73604.8203125,73604.8203125,73590.6484375,73617.875,73601.265625,73601.265625,73601.265625,73601.265625,73601.265625,73596.0390625,73595.3671875,73605.8515625,73605.8515625,73605.8515625,73605.8515625,73605.8515625,73603.546875,73604.5546875,73605.125,73605.125,73605.125,73605.125,73605.125,73600.6328125,73605.6953125,73599.5234375,73599.5234375,73599.5234375,73599.5234375,73599.5234375,73609.7265625,73598.90625,73598.484375,73598.484375,73598.484375,73598.484375,73598.484375,73592.9609375,73598.4453125,73597.421875,73597.421875,73597.421875,73597.421875,73597.421875,73608.46875,73610.5859375,73605.296875,73605.296875,73605.296875,73605.296875,73605.296875,73608.2578125,73604.421875,73604.296875,73604.296875,73604.296875,73604.296875,73604.296875,73609.2734375,73619.8984375,73612.796875,73612.796875,73612.796875,73612.796875,73612.796875,73612.5,73607.7421875,73602.046875,73602.046875,73602.046875,73602.046875,73602.046875,73597.34375,73613.484375,73605.015625,73605.015625,73605.015625,73605.015625,73605.015625,73593.3359375,73608.6328125,73607.5546875,73607.5546875,73607.5546875,73607.5546875,73607.5546875,73613.4765625,73610.8828125,73603.1796875,73603.1796875,73603.1796875,73603.1796875,73603.1796875,73602.1796875,73610.4765625,73602.28125,73602.28125,73602.28125,73602.28125,73602.28125,73591.6953125,73603.8359375,73603.4609375,73603.4609375,73603.4609375,73603.4609375,73603.4609375,73588.203125,73577.125,72921.0625,72921.0625,72921.0625,72921.0625,72921.0625,72870.8828125,72987.5859375,73600.984375,73600.984375,73600.984375,73600.984375,73600.984375,73613.484375,73607.078125,73603.15625,73603.15625,73603.15625,73603.15625,73603.15625,73593.8046875,73617.8203125,73599.609375,73599.609375,73599.609375,73599.609375,73599.609375,73572.8671875,73602.328125,73603.234375,73603.234375,73603.234375,73603.234375,73603.234375,73606.34375,73581.140625,73605.4375,73605.4375,73605.4375,73605.4375,73605.4375,73613.515625,73606.1796875,73605.3984375,73605.3984375,73605.3984375,73605.3984375,73605.3984375,73615.4453125,73601.1328125,73603.890625,73603.890625,73603.890625,73603.890625,73603.890625,73600.984375,73608.328125,73607.0,73607.0,73607.0,73607.0,73607.0,73613.1015625,73618.828125,73605.1875,73605.1875,73605.1875,73605.1875,73605.1875,73601.78125,73588.1953125,73599.5,73599.5,73599.5,73599.5,73599.5,73599.40625,73595.1484375,73601.9296875,73601.9296875,73601.9296875,73601.9296875,73601.9296875,73594.1796875,73613.5703125,73596.484375,73596.484375,73596.484375,73596.484375,73596.484375,73596.09375,73591.5703125,73607.1015625,73607.1015625,73607.1015625,73607.1015625,73607.1015625,73607.7578125,73618.8125,73609.828125,73609.828125,73609.828125,73609.828125,73609.828125,73598.7890625,73609.875,73608.265625,73608.265625,73608.265625,73608.265625,73608.265625,73601.96875,73605.5546875,73607.3125,73607.3125,73607.3125,73607.3125,73607.3125,73607.9609375,73615.484375,73603.4375,73603.4375,73603.4375,73603.4375,73603.4375,73601.359375,73595.8828125,73609.109375,73609.109375,73609.109375,73609.109375,73609.109375,73612.4375,73611.7890625,73609.90625,73609.90625,73609.90625,73609.90625,73609.90625,73611.1640625,73608.65625,73613.1875,73613.1875,73613.1875,73613.1875,73613.1875,73621.4609375,73606.7890625,73613.25,73613.25,73613.25,73613.25,73613.25,73598.734375,73612.5390625,73605.53125,73605.53125,73605.53125,73605.53125,73605.53125,72893.5859375,72855.4765625,73117.671875,73117.671875,73117.671875,73117.671875,73117.671875,73617.6875,73622.3515625,73609.5625,73609.5625,73609.5625,73609.5625,73609.5625,73608.296875,73609.2890625,73610.234375,73610.234375,73610.234375,73610.234375,73610.234375,73604.34375,73604.703125,73609.390625,73609.390625,73609.390625,73609.390625,73609.390625,73589.390625,73607.6640625,73611.6875,73611.6875,73611.6875,73611.6875,73611.6875,73595.2421875,73607.7109375,73612.3671875,73612.3671875,73612.3671875,73612.3671875,73612.3671875,73621.203125,73608.0078125,73617.4140625,73617.4140625,73617.4140625,73617.4140625,73617.4140625,73623.625,73628.5625,73611.203125,73611.203125,73611.203125,73611.203125,73611.203125,73603.5546875,73604.375,73605.34375,73605.34375,73605.34375,73605.34375,73605.34375,73608.609375,73606.3203125,73614.4609375,73614.4609375,73614.4609375,73614.4609375,73614.4609375,73619.796875,73622.0859375,73616.3046875,73616.3046875,73616.3046875,73616.3046875,73616.3046875,73618.7578125,73611.65625,73609.7421875,73609.7421875,73609.7421875,73609.7421875,73609.7421875,73610.0625,73603.046875,73609.4921875,73609.4921875,73609.4921875,73609.4921875,73609.4921875,73619.890625,73618.828125,73617.8046875,73617.8046875,73617.8046875,73617.8046875,73617.8046875,73618.1875,73610.7421875,73621.640625,73621.640625,73621.640625,73621.640625,73621.640625,73614.890625,73626.890625,73620.328125,73620.328125,73620.328125,73620.328125,73620.328125,73618.5390625,73612.828125,73618.453125,73618.453125,73618.453125,73618.453125,73618.453125,73618.7734375,73609.0,73612.953125,73612.953125,73612.953125,73612.953125,73612.953125,73616.6171875,73610.0078125,73618.859375,73618.859375,73618.859375,73618.859375,73618.859375,73607.1875,73630.59375,73619.53125,73619.53125,73619.53125,73619.53125,73619.53125,73606.8671875,73634.953125,73616.8046875,73616.8046875,73616.8046875,73616.8046875,73616.8046875,73614.171875,73615.5703125,73617.484375,73617.484375,73617.484375,73617.484375,73617.484375,73619.5859375,73204.1171875,72925.5,72844.9453125,72844.828125,72874.8359375,72917.890625,73130.046875,73605.109375,73610.28125,73610.28125,73610.28125,73610.28125,73610.28125,73614.703125,73599.2421875,73612.015625,73612.015625,73612.015625,73612.015625,73612.015625,73618.890625,73611.1328125,73618.609375,73618.609375,73618.609375,73618.609375,73618.609375,73620.3125,73618.9453125,73617.71875,73617.71875,73617.71875,73617.71875,73617.71875,73629.984375,73624.96875,73626.5,73626.5,73626.5,73626.5,73626.5,73633.4765625,73609.0234375,73625.453125,73625.453125,73625.453125,73625.453125,73625.453125,73627.5546875,73637.234375,73625.484375,73625.484375,73625.484375,73625.484375,73625.484375,73620.296875,73630.34375,73623.1875,73623.1875,73623.1875,73623.1875,73623.1875,73626.03125,73632.96875,73613.8203125,73613.8203125,73613.8203125,73613.8203125,73613.8203125,73635.7109375,73608.890625,73618.9453125,73618.9453125,73618.9453125,73618.9453125,73618.9453125,73610.671875,73620.1171875,73617.15625,73617.15625,73617.15625,73617.15625,73617.15625,73626.8359375,73615.4296875,73620.75,73620.75,73620.75,73620.75,73620.75,73635.1875,73624.046875,73622.484375,73622.484375,73622.484375,73622.484375,73622.484375,73623.125,73630.3203125,73615.53125,73615.53125,73615.53125,73615.53125,73615.53125,73624.265625,73610.90625,73610.203125,73610.203125,73610.203125,73610.203125,73610.203125,73606.96875,73620.0,73619.28125,73619.28125,73619.28125,73619.28125,73619.28125,73606.1640625,73620.2578125,73619.5546875,73619.5546875,73619.5546875,73619.5546875,73619.5546875,73627.578125,73624.515625,73624.78125,73624.78125,73624.78125,73624.78125,73624.78125,73625.046875,73634.828125,73618.8828125,73618.8828125,73618.8828125,73618.8828125,73618.8828125,73609.3046875,73620.1796875,73620.0546875,73620.0546875,73620.0546875,73620.0546875,73620.0546875,73603.8125,73617.9375,73621.6484375,73621.6484375,73621.6484375,73621.6484375,73621.6484375,73625.359375,73593.171875,72945.3515625,72945.3515625,72945.3515625,72945.3515625,72945.3515625,72908.234375,73025.953125,73610.75,73610.75,73610.75,73610.75,73610.75,73614.59375,73629.625,73613.890625,73613.890625,73613.890625,73613.890625,73613.890625,73627.46875,73603.34375,73617.4375,73617.4375,73617.4375,73617.4375,73617.4375,73621.0234375,73632.3046875,73620.453125,73620.453125,73620.453125,73620.453125,73620.453125,73622.015625,73602.9609375,73617.5390625,73617.5390625,73617.5390625,73617.5390625,73617.5390625,73618.4453125,73610.0,73611.9609375,73611.9609375,73611.9609375,73611.9609375,73611.9609375,73619.0234375,73609.4140625,73615.0625,73615.0625,73615.0625,73615.0625,73615.0625,73614.15625,73615.5390625,73618.4375,73618.4375,73618.4375,73618.4375,73618.4375,73649.875,73620.3828125,73615.234375,73615.234375,73615.234375,73615.234375,73615.234375,73613.3515625,73615.25,73615.1796875,73615.1796875,73615.1796875,73615.1796875,73615.1796875,73614.765625,73610.9140625,73625.046875,73625.046875,73625.046875,73625.046875,73625.046875,73627.578125,73628.2421875,73624.6875,73624.6875,73624.6875,73624.6875,73624.6875,73614.703125,73633.4921875,73618.109375,73618.109375,73618.109375,73618.109375,73618.109375,73617.6875,73616.5234375,73621.0625,73621.0625,73621.0625,73621.0625,73621.0625,73625.90625,73618.8203125,73621.96875,73621.96875,73621.96875,73621.96875,73621.96875,73632.5078125,73628.3125,73618.3515625,73618.3515625,73618.3515625,73618.3515625,73618.3515625,73618.953125,73625.125,73622.84375,73622.84375,73622.84375,73622.84375,73622.84375,73620.4765625,73627.6015625,73619.6171875,73619.6171875,73619.6171875,73619.6171875,73619.6171875,73614.625,73628.5,73627.8984375,73627.8984375,73627.8984375,73627.8984375,73627.8984375,73621.65625,73615.0078125,73623.5625,73623.5625,73623.5625,73623.5625,73623.5625,73639.9296875,73616.140625,73621.671875,73621.671875,73621.671875,73621.671875,73621.671875,73631.328125,73610.5,73287.28125,73287.28125,73287.28125,73287.28125,73287.28125,72863.921875,72836.078125,73491.96875,73491.96875,73491.96875,73491.96875,73491.96875,73630.65625,73612.890625,73626.625,73626.625,73626.625,73626.625,73626.625,73629.6015625,73622.2421875,73618.609375,73618.609375,73618.609375,73618.609375,73618.609375,73614.7109375,73627.609375,73625.75,73625.75,73625.75,73625.75,73625.75,73721.421875,73617.59375,73630.421875,73630.421875,73630.421875,73630.421875,73630.421875,73645.8359375,73606.046875,73621.4375,73621.4375,73621.4375,73621.4375,73621.4375,73629.0390625,73623.84375,73622.2265625,73622.2265625,73622.2265625,73622.2265625,73622.2265625,73643.78125,73614.0,73625.921875,73625.921875,73625.921875,73625.921875,73625.921875,73609.2578125,73640.2734375,73631.109375,73631.109375,73631.109375,73631.109375,73631.109375,73634.453125,73635.125,73623.421875,73623.421875,73623.421875,73623.421875,73623.421875,73620.625,73626.1171875,73626.5546875,73626.5546875,73626.5546875,73626.5546875,73626.5546875,73631.3203125,73633.3125,73617.671875,73617.671875,73617.671875,73617.671875,73617.671875,73627.484375,73617.890625,73621.015625,73621.015625,73621.015625,73621.015625,73621.015625,73634.6796875,73622.0703125,73625.375,73625.375,73625.375,73625.375,73625.375,73629.640625,73628.8515625,73622.796875,73622.796875,73622.796875,73622.796875,73622.796875,73623.6953125,73620.9296875,73621.3125,73621.3125,73621.3125,73621.3125,73621.3125,73624.4375,73616.796875,73626.6484375,73626.6484375,73626.6484375,73626.6484375,73626.6484375,73629.4296875,73640.546875,73629.703125,73629.703125,73629.703125,73629.703125,73629.703125,73633.8203125,73622.3203125,73622.0234375,73622.0234375,73622.0234375,73622.0234375,73622.0234375,73619.921875,73634.8515625,73629.0625,73629.0625,73629.0625,73629.0625,73629.0625,73627.3125,73651.046875,73622.4921875,73622.4921875,73622.4921875,73622.4921875,73622.4921875,73621.25,73634.9609375,73620.46875,73620.46875,73620.46875,73620.46875,73620.46875,73599.6015625,73152.0234375,72945.96875,72865.8359375,72844.515625,72873.0625,72931.0078125,73189.28125,73610.5390625,73613.9296875,73613.9296875,73613.9296875,73613.9296875,73613.9296875,73610.7578125,73627.125,73623.984375,73623.984375,73623.984375,73623.984375,73623.984375,73614.359375,73628.953125,73620.09375,73620.09375,73620.09375,73620.09375,73620.09375,73617.109375,73625.890625,73623.1796875,73623.1796875,73623.1796875,73623.1796875,73623.1796875,73622.015625,73608.9453125,73617.84375,73617.84375,73617.84375,73617.84375,73617.84375,73614.3828125,73624.296875,73620.9453125,73620.9453125,73620.9453125,73620.9453125,73620.9453125,73611.265625,73638.0703125,73622.109375,73622.109375,73622.109375,73622.109375,73622.109375,73618.40625,73625.296875,73625.3828125,73625.3828125,73625.3828125,73625.3828125,73625.3828125,73628.8828125,73615.5390625,73629.5234375,73629.5234375,73629.5234375,73629.5234375,73629.5234375,73631.8515625,73628.3671875,73628.0,73628.0,73628.0,73628.0,73628.0,73640.6640625,73612.328125,73625.96875,73625.96875,73625.96875,73625.96875,73625.96875,73625.71875,73610.3671875,73618.0546875,73618.0546875,73618.0546875,73618.0546875,73618.0546875,73627.0390625,73615.125,73615.796875,73615.796875,73615.796875,73615.796875,73615.796875,73619.375,73612.890625,73614.421875,73614.421875,73614.421875,73614.421875,73614.421875,73602.9453125,73626.6796875,73630.59375,73630.59375,73630.59375,73630.59375,73630.59375,73636.1875,73634.5078125,73620.734375,73620.734375,73620.734375,73620.734375,73620.734375,73636.5234375,73619.109375,73619.125,73619.125,73619.125,73619.125,73619.125,73634.765625,73616.5234375,73617.40625,73617.40625,73617.40625,73617.40625,73617.40625,73619.875,73617.7890625,73617.3828125,73617.3828125,73617.3828125,73617.3828125,73617.3828125,73615.3515625,73625.0078125,73622.96875,73622.96875,73622.96875,73622.96875,73622.96875,73619.5,73622.1796875,73622.6171875,73622.6171875,73622.6171875,73622.6171875,73622.6171875,73639.328125,73617.9453125,73153.359375,73153.359375,73153.359375,73153.359375,73153.359375,72833.578125,72849.8984375,73582.8125,73582.8125,73582.8125,73582.8125,73582.8125,73608.59375,73616.0078125,73616.03125,73616.03125,73616.03125,73616.03125,73616.03125,73615.296875,73618.4765625,73619.5,73619.5,73619.5,73619.5,73619.5,73619.2265625,73607.9296875,73607.109375,73607.109375,73607.109375,73607.109375,73607.109375,73626.5390625,73597.0546875,73621.171875,73621.171875,73621.171875,73621.171875,73621.171875,73613.6796875,73608.0390625,73614.765625,73614.765625,73614.765625,73614.765625,73614.765625,73620.671875,73626.7421875,73623.3125,73623.3125,73623.3125,73623.3125,73623.3125,73610.703125,73623.578125,73622.9609375,73622.9609375,73622.9609375,73622.9609375,73622.9609375,73626.1796875,73613.8671875,73620.59375,73620.59375,73620.59375,73620.59375,73620.59375,73620.359375,73637.1328125,73616.046875,73627.8203125,73621.34375,73614.6015625,73627.625,73618.328125]}},\"id\":\"7bece50f-6fc4-4168-8ace-386db4e33498\",\"type\":\"ColumnDataSource\"},{\"attributes\":{\"plot\":{\"id\":\"6c5845fa-bfe3-4ed5-93a8-67c04efa83ec\",\"subtype\":\"Figure\",\"type\":\"Plot\"}},\"id\":\"ac257174-1015-4d43-83ab-c0de2f159ce9\",\"type\":\"WheelZoomTool\"},{\"attributes\":{\"plot\":{\"id\":\"6c5845fa-bfe3-4ed5-93a8-67c04efa83ec\",\"subtype\":\"Figure\",\"type\":\"Plot\"}},\"id\":\"672c31f5-f1ae-4d04-96ca-3ff6b08301cd\",\"type\":\"CrosshairTool\"},{\"attributes\":{\"plot\":{\"id\":\"6c5845fa-bfe3-4ed5-93a8-67c04efa83ec\",\"subtype\":\"Figure\",\"type\":\"Plot\"}},\"id\":\"596069c7-d959-402e-b443-c943b54c3000\",\"type\":\"ResetTool\"},{\"attributes\":{},\"id\":\"fbd072ed-a941-42e3-81bc-b39e775f05fe\",\"type\":\"LinearScale\"},{\"attributes\":{},\"id\":\"3886d67f-8974-47ca-9084-34c9035ccbfa\",\"type\":\"ToolEvents\"},{\"attributes\":{\"below\":[{\"id\":\"017d9384-a186-4ca5-98d6-4f5dbbf3fa8b\",\"type\":\"LinearAxis\"}],\"left\":[{\"id\":\"a6854168-9097-45b9-a930-817c41b2b0ff\",\"type\":\"LinearAxis\"}],\"renderers\":[{\"id\":\"017d9384-a186-4ca5-98d6-4f5dbbf3fa8b\",\"type\":\"LinearAxis\"},{\"id\":\"7db995fc-7179-4f7c-bcdb-fe9ea903c151\",\"type\":\"Grid\"},{\"id\":\"a6854168-9097-45b9-a930-817c41b2b0ff\",\"type\":\"LinearAxis\"},{\"id\":\"07b040db-e3ab-475e-a01d-cbd766e427d4\",\"type\":\"Grid\"},{\"id\":\"888e35d7-8e46-4dcc-880a-3437193cc111\",\"type\":\"BoxAnnotation\"},{\"id\":\"4dda5faa-7a93-49ed-9ca1-8d078558e7a5\",\"type\":\"BoxAnnotation\"},{\"id\":\"be29bc59-c9fe-4062-a20b-eac0734e9431\",\"type\":\"Legend\"},{\"id\":\"a81c3c0f-9f5e-494a-83e7-ec4a04b79da4\",\"type\":\"GlyphRenderer\"}],\"title\":{\"id\":\"aa26aff2-9ea8-4857-b0e2-25dccabb7abb\",\"type\":\"Title\"},\"tool_events\":{\"id\":\"3886d67f-8974-47ca-9084-34c9035ccbfa\",\"type\":\"ToolEvents\"},\"toolbar\":{\"id\":\"c3944321-9aab-4a0d-bb24-c79a0fce07d8\",\"type\":\"Toolbar\"},\"x_range\":{\"id\":\"28be915e-2a96-454d-83be-e055bdac6ae6\",\"type\":\"DataRange1d\"},\"x_scale\":{\"id\":\"75c53279-b834-4613-ab2f-6993e8f3ccfa\",\"type\":\"LinearScale\"},\"y_range\":{\"id\":\"88bc2d7e-841f-42f8-8932-0572a6c6b900\",\"type\":\"DataRange1d\"},\"y_scale\":{\"id\":\"fbd072ed-a941-42e3-81bc-b39e775f05fe\",\"type\":\"LinearScale\"}},\"id\":\"6c5845fa-bfe3-4ed5-93a8-67c04efa83ec\",\"subtype\":\"Figure\",\"type\":\"Plot\"},{\"attributes\":{},\"id\":\"75c53279-b834-4613-ab2f-6993e8f3ccfa\",\"type\":\"LinearScale\"},{\"attributes\":{\"axis_label\":\"Time (BJD - 245833)\",\"formatter\":{\"id\":\"bcadc19e-19ba-4db8-85b4-f25c7f84bbeb\",\"type\":\"BasicTickFormatter\"},\"plot\":{\"id\":\"6c5845fa-bfe3-4ed5-93a8-67c04efa83ec\",\"subtype\":\"Figure\",\"type\":\"Plot\"},\"ticker\":{\"id\":\"c2d1385c-9b60-4723-9e83-a0b0fb2ea721\",\"type\":\"BasicTicker\"}},\"id\":\"017d9384-a186-4ca5-98d6-4f5dbbf3fa8b\",\"type\":\"LinearAxis\"},{\"attributes\":{\"callback\":null,\"overlay\":{\"id\":\"4dda5faa-7a93-49ed-9ca1-8d078558e7a5\",\"type\":\"BoxAnnotation\"},\"plot\":{\"id\":\"6c5845fa-bfe3-4ed5-93a8-67c04efa83ec\",\"subtype\":\"Figure\",\"type\":\"Plot\"},\"renderers\":[{\"id\":\"a81c3c0f-9f5e-494a-83e7-ec4a04b79da4\",\"type\":\"GlyphRenderer\"}]},\"id\":\"b3d867e6-2cf6-4ec6-bd75-6e1a353dd368\",\"type\":\"BoxSelectTool\"},{\"attributes\":{\"data_source\":{\"id\":\"7bece50f-6fc4-4168-8ace-386db4e33498\",\"type\":\"ColumnDataSource\"},\"glyph\":{\"id\":\"29d70982-0eef-4499-8c30-e89ceb1465f5\",\"type\":\"Circle\"},\"hover_glyph\":null,\"muted_glyph\":null,\"nonselection_glyph\":{\"id\":\"25b79d63-f6ef-43ba-bcd6-87b858ca9d8e\",\"type\":\"Circle\"},\"selection_glyph\":null},\"id\":\"a81c3c0f-9f5e-494a-83e7-ec4a04b79da4\",\"type\":\"GlyphRenderer\"},{\"attributes\":{\"fill_alpha\":{\"value\":0.1},\"fill_color\":{\"value\":\"#1f77b4\"},\"line_alpha\":{\"value\":0.1},\"line_color\":{\"value\":\"#1f77b4\"},\"x\":{\"field\":\"x\"},\"y\":{\"field\":\"y\"}},\"id\":\"25b79d63-f6ef-43ba-bcd6-87b858ca9d8e\",\"type\":\"Circle\"},{\"attributes\":{},\"id\":\"0d8fe7a8-6b6b-4a77-89e0-409f927c8088\",\"type\":\"BasicTickFormatter\"},{\"attributes\":{\"plot\":null,\"text\":\"Kepler ID: 10874614, Quarter: 1\"},\"id\":\"aa26aff2-9ea8-4857-b0e2-25dccabb7abb\",\"type\":\"Title\"},{\"attributes\":{\"overlay\":{\"id\":\"888e35d7-8e46-4dcc-880a-3437193cc111\",\"type\":\"BoxAnnotation\"},\"plot\":{\"id\":\"6c5845fa-bfe3-4ed5-93a8-67c04efa83ec\",\"subtype\":\"Figure\",\"type\":\"Plot\"}},\"id\":\"d594161a-50b5-4c65-a3e2-53b6b3dbe693\",\"type\":\"BoxZoomTool\"},{\"attributes\":{\"axis_label\":\"Flux(e-/sec)\",\"formatter\":{\"id\":\"0d8fe7a8-6b6b-4a77-89e0-409f927c8088\",\"type\":\"BasicTickFormatter\"},\"plot\":{\"id\":\"6c5845fa-bfe3-4ed5-93a8-67c04efa83ec\",\"subtype\":\"Figure\",\"type\":\"Plot\"},\"ticker\":{\"id\":\"ece10ee4-6a04-4382-bdc3-f29c76fb3165\",\"type\":\"BasicTicker\"}},\"id\":\"a6854168-9097-45b9-a930-817c41b2b0ff\",\"type\":\"LinearAxis\"},{\"attributes\":{\"plot\":{\"id\":\"6c5845fa-bfe3-4ed5-93a8-67c04efa83ec\",\"subtype\":\"Figure\",\"type\":\"Plot\"},\"ticker\":{\"id\":\"c2d1385c-9b60-4723-9e83-a0b0fb2ea721\",\"type\":\"BasicTicker\"}},\"id\":\"7db995fc-7179-4f7c-bcdb-fe9ea903c151\",\"type\":\"Grid\"},{\"attributes\":{\"active_drag\":\"auto\",\"active_inspect\":\"auto\",\"active_scroll\":\"auto\",\"active_tap\":\"auto\",\"tools\":[{\"id\":\"44e205a3-8d12-461f-a65c-f5ca2cc32fe2\",\"type\":\"HoverTool\"},{\"id\":\"672c31f5-f1ae-4d04-96ca-3ff6b08301cd\",\"type\":\"CrosshairTool\"},{\"id\":\"ebc5f5c6-806f-4135-878e-17820c5078f1\",\"type\":\"PanTool\"},{\"id\":\"ac257174-1015-4d43-83ab-c0de2f159ce9\",\"type\":\"WheelZoomTool\"},{\"id\":\"d594161a-50b5-4c65-a3e2-53b6b3dbe693\",\"type\":\"BoxZoomTool\"},{\"id\":\"596069c7-d959-402e-b443-c943b54c3000\",\"type\":\"ResetTool\"},{\"id\":\"82e6ae06-068b-435e-ba8d-a5790a46c17e\",\"type\":\"TapTool\"},{\"id\":\"fbda7923-8ffb-424c-881d-c3ae40c15213\",\"type\":\"SaveTool\"},{\"id\":\"b3d867e6-2cf6-4ec6-bd75-6e1a353dd368\",\"type\":\"BoxSelectTool\"}]},\"id\":\"c3944321-9aab-4a0d-bb24-c79a0fce07d8\",\"type\":\"Toolbar\"},{\"attributes\":{\"callback\":null,\"plot\":{\"id\":\"6c5845fa-bfe3-4ed5-93a8-67c04efa83ec\",\"subtype\":\"Figure\",\"type\":\"Plot\"}},\"id\":\"82e6ae06-068b-435e-ba8d-a5790a46c17e\",\"type\":\"TapTool\"},{\"attributes\":{},\"id\":\"ece10ee4-6a04-4382-bdc3-f29c76fb3165\",\"type\":\"BasicTicker\"},{\"attributes\":{\"bottom_units\":\"screen\",\"fill_alpha\":{\"value\":0.5},\"fill_color\":{\"value\":\"lightgrey\"},\"left_units\":\"screen\",\"level\":\"overlay\",\"line_alpha\":{\"value\":1.0},\"line_color\":{\"value\":\"black\"},\"line_dash\":[4,4],\"line_width\":{\"value\":2},\"plot\":null,\"render_mode\":\"css\",\"right_units\":\"screen\",\"top_units\":\"screen\"},\"id\":\"4dda5faa-7a93-49ed-9ca1-8d078558e7a5\",\"type\":\"BoxAnnotation\"},{\"attributes\":{\"bottom_units\":\"screen\",\"fill_alpha\":{\"value\":0.5},\"fill_color\":{\"value\":\"lightgrey\"},\"left_units\":\"screen\",\"level\":\"overlay\",\"line_alpha\":{\"value\":1.0},\"line_color\":{\"value\":\"black\"},\"line_dash\":[4,4],\"line_width\":{\"value\":2},\"plot\":null,\"render_mode\":\"css\",\"right_units\":\"screen\",\"top_units\":\"screen\"},\"id\":\"888e35d7-8e46-4dcc-880a-3437193cc111\",\"type\":\"BoxAnnotation\"},{\"attributes\":{\"items\":[{\"id\":\"063d0238-1de4-43ca-bbd4-58b780440be8\",\"type\":\"LegendItem\"}],\"plot\":{\"id\":\"6c5845fa-bfe3-4ed5-93a8-67c04efa83ec\",\"subtype\":\"Figure\",\"type\":\"Plot\"}},\"id\":\"be29bc59-c9fe-4062-a20b-eac0734e9431\",\"type\":\"Legend\"},{\"attributes\":{},\"id\":\"bcadc19e-19ba-4db8-85b4-f25c7f84bbeb\",\"type\":\"BasicTickFormatter\"},{\"attributes\":{\"label\":{\"value\":\"Median Smooth and no NAN Data\"},\"renderers\":[{\"id\":\"a81c3c0f-9f5e-494a-83e7-ec4a04b79da4\",\"type\":\"GlyphRenderer\"}]},\"id\":\"063d0238-1de4-43ca-bbd4-58b780440be8\",\"type\":\"LegendItem\"},{\"attributes\":{\"fill_color\":{\"value\":\"green\"},\"line_color\":{\"value\":\"green\"},\"x\":{\"field\":\"x\"},\"y\":{\"field\":\"y\"}},\"id\":\"29d70982-0eef-4499-8c30-e89ceb1465f5\",\"type\":\"Circle\"},{\"attributes\":{\"callback\":null},\"id\":\"88bc2d7e-841f-42f8-8932-0572a6c6b900\",\"type\":\"DataRange1d\"}],\"root_ids\":[\"6c5845fa-bfe3-4ed5-93a8-67c04efa83ec\"]},\"title\":\"Bokeh Application\",\"version\":\"0.12.6\"}};\n",
       "            var render_items = [{\"docid\":\"ba33c69a-2e2b-466b-9691-992979d9e7ea\",\"elementid\":\"47c75d5c-a4f8-4ff2-9000-189127d65b22\",\"modelid\":\"6c5845fa-bfe3-4ed5-93a8-67c04efa83ec\"}];\n",
       "            \n",
       "            Bokeh.embed.embed_items(docs_json, render_items);\n",
       "          };\n",
       "          if (document.readyState != \"loading\") fn();\n",
       "          else document.addEventListener(\"DOMContentLoaded\", fn);\n",
       "        })();\n",
       "      },\n",
       "      function(Bokeh) {\n",
       "      }\n",
       "    ];\n",
       "  \n",
       "    function run_inline_js() {\n",
       "      \n",
       "      if ((window.Bokeh !== undefined) || (force === true)) {\n",
       "        for (var i = 0; i < inline_js.length; i++) {\n",
       "          inline_js[i](window.Bokeh);\n",
       "        }if (force === true) {\n",
       "          display_loaded();\n",
       "        }} else if (Date.now() < window._bokeh_timeout) {\n",
       "        setTimeout(run_inline_js, 100);\n",
       "      } else if (!window._bokeh_failed_load) {\n",
       "        console.log(\"Bokeh: BokehJS failed to load within specified timeout.\");\n",
       "        window._bokeh_failed_load = true;\n",
       "      } else if (force !== true) {\n",
       "        var cell = $(document.getElementById(\"47c75d5c-a4f8-4ff2-9000-189127d65b22\")).parents('.cell').data().cell;\n",
       "        cell.output_area.append_execute_result(NB_LOAD_WARNING)\n",
       "      }\n",
       "  \n",
       "    }\n",
       "  \n",
       "    if (window._bokeh_is_loading === 0) {\n",
       "      console.log(\"Bokeh: BokehJS loaded, going straight to plotting\");\n",
       "      run_inline_js();\n",
       "    } else {\n",
       "      load_libs(js_urls, function() {\n",
       "        console.log(\"Bokeh: BokehJS plotting callback run at\", now());\n",
       "        run_inline_js();\n",
       "      });\n",
       "    }\n",
       "  }(this));\n",
       "</script>"
      ]
     },
     "metadata": {},
     "output_type": "display_data"
    }
   ],
   "source": [
    "#Plot is an object\n",
    "lc_no_nan_265 = figure(\n",
    "    title= title, \n",
    "    x_axis_label= x_label,\n",
    "    y_axis_label=y_label,\n",
    "    tools = 'hover,crosshair,pan,wheel_zoom,box_zoom,reset,tap,save,box_select')\n",
    "\n",
    "#adding x and y data for plot\n",
    "lc_no_nan_265.circle(t_no_nan, f_no_nan_smooth,legend='Median Smooth and no NAN Data',color='green')\n",
    "\n",
    "show(lc_no_nan_265)"
   ]
  },
  {
   "cell_type": "markdown",
   "metadata": {
    "collapsed": false,
    "scrolled": false
   },
   "source": [
    "Finding Period"
   ]
  },
  {
   "cell_type": "code",
   "execution_count": 95,
   "metadata": {
    "collapsed": false
   },
   "outputs": [
    {
     "data": {
      "text/html": [
       "\n",
       "\n",
       "    <div class=\"bk-root\">\n",
       "        <div class=\"bk-plotdiv\" id=\"106e89eb-1e39-4f15-a3f3-a9c54be33cd5\"></div>\n",
       "    </div>\n",
       "<script type=\"text/javascript\">\n",
       "  \n",
       "  (function(global) {\n",
       "    function now() {\n",
       "      return new Date();\n",
       "    }\n",
       "  \n",
       "    var force = false;\n",
       "  \n",
       "    if (typeof (window._bokeh_onload_callbacks) === \"undefined\" || force === true) {\n",
       "      window._bokeh_onload_callbacks = [];\n",
       "      window._bokeh_is_loading = undefined;\n",
       "    }\n",
       "  \n",
       "  \n",
       "    \n",
       "    if (typeof (window._bokeh_timeout) === \"undefined\" || force === true) {\n",
       "      window._bokeh_timeout = Date.now() + 0;\n",
       "      window._bokeh_failed_load = false;\n",
       "    }\n",
       "  \n",
       "    var NB_LOAD_WARNING = {'data': {'text/html':\n",
       "       \"<div style='background-color: #fdd'>\\n\"+\n",
       "       \"<p>\\n\"+\n",
       "       \"BokehJS does not appear to have successfully loaded. If loading BokehJS from CDN, this \\n\"+\n",
       "       \"may be due to a slow or bad network connection. Possible fixes:\\n\"+\n",
       "       \"</p>\\n\"+\n",
       "       \"<ul>\\n\"+\n",
       "       \"<li>re-rerun `output_notebook()` to attempt to load from CDN again, or</li>\\n\"+\n",
       "       \"<li>use INLINE resources instead, as so:</li>\\n\"+\n",
       "       \"</ul>\\n\"+\n",
       "       \"<code>\\n\"+\n",
       "       \"from bokeh.resources import INLINE\\n\"+\n",
       "       \"output_notebook(resources=INLINE)\\n\"+\n",
       "       \"</code>\\n\"+\n",
       "       \"</div>\"}};\n",
       "  \n",
       "    function display_loaded() {\n",
       "      if (window.Bokeh !== undefined) {\n",
       "        var el = document.getElementById(\"106e89eb-1e39-4f15-a3f3-a9c54be33cd5\");\n",
       "        el.textContent = \"BokehJS \" + Bokeh.version + \" successfully loaded.\";\n",
       "      } else if (Date.now() < window._bokeh_timeout) {\n",
       "        setTimeout(display_loaded, 100)\n",
       "      }\n",
       "    }\n",
       "  \n",
       "    function run_callbacks() {\n",
       "      try {\n",
       "        window._bokeh_onload_callbacks.forEach(function(callback) { callback() });\n",
       "      }\n",
       "      finally {\n",
       "        delete window._bokeh_onload_callbacks\n",
       "      }\n",
       "      console.info(\"Bokeh: all callbacks have finished\");\n",
       "    }\n",
       "  \n",
       "    function load_libs(js_urls, callback) {\n",
       "      window._bokeh_onload_callbacks.push(callback);\n",
       "      if (window._bokeh_is_loading > 0) {\n",
       "        console.log(\"Bokeh: BokehJS is being loaded, scheduling callback at\", now());\n",
       "        return null;\n",
       "      }\n",
       "      if (js_urls == null || js_urls.length === 0) {\n",
       "        run_callbacks();\n",
       "        return null;\n",
       "      }\n",
       "      console.log(\"Bokeh: BokehJS not loaded, scheduling load and callback at\", now());\n",
       "      window._bokeh_is_loading = js_urls.length;\n",
       "      for (var i = 0; i < js_urls.length; i++) {\n",
       "        var url = js_urls[i];\n",
       "        var s = document.createElement('script');\n",
       "        s.src = url;\n",
       "        s.async = false;\n",
       "        s.onreadystatechange = s.onload = function() {\n",
       "          window._bokeh_is_loading--;\n",
       "          if (window._bokeh_is_loading === 0) {\n",
       "            console.log(\"Bokeh: all BokehJS libraries loaded\");\n",
       "            run_callbacks()\n",
       "          }\n",
       "        };\n",
       "        s.onerror = function() {\n",
       "          console.warn(\"failed to load library \" + url);\n",
       "        };\n",
       "        console.log(\"Bokeh: injecting script tag for BokehJS library: \", url);\n",
       "        document.getElementsByTagName(\"head\")[0].appendChild(s);\n",
       "      }\n",
       "    };var element = document.getElementById(\"106e89eb-1e39-4f15-a3f3-a9c54be33cd5\");\n",
       "    if (element == null) {\n",
       "      console.log(\"Bokeh: ERROR: autoload.js configured with elementid '106e89eb-1e39-4f15-a3f3-a9c54be33cd5' but no matching script tag was found. \")\n",
       "      return false;\n",
       "    }\n",
       "  \n",
       "    var js_urls = [];\n",
       "  \n",
       "    var inline_js = [\n",
       "      function(Bokeh) {\n",
       "        (function() {\n",
       "          var fn = function() {\n",
       "            var docs_json = {\"db1f1f62-8091-4539-9dff-00b9411a3e40\":{\"roots\":{\"references\":[{\"attributes\":{\"line_alpha\":{\"value\":0.1},\"line_color\":{\"value\":\"#1f77b4\"},\"x\":{\"field\":\"x\"},\"y\":{\"field\":\"y\"}},\"id\":\"4bea4169-062e-48e8-8183-ead482a6437f\",\"type\":\"Line\"},{\"attributes\":{},\"id\":\"1e6be68e-b14b-49d7-909d-33b38fd8642c\",\"type\":\"ToolEvents\"},{\"attributes\":{\"plot\":null,\"text\":\"\"},\"id\":\"81437b8e-40e5-4e66-b2ec-87614d2dd8a1\",\"type\":\"Title\"},{\"attributes\":{\"plot\":{\"id\":\"c25847e8-65f9-4c01-ae09-20aaa4be8a5b\",\"subtype\":\"Figure\",\"type\":\"Plot\"},\"ticker\":{\"id\":\"d0bb5850-6ec8-41b1-b6d4-3f35fe8e2c49\",\"type\":\"LogTicker\"}},\"id\":\"3dd098e0-0c9f-43ce-a89c-18a329fdce1d\",\"type\":\"Grid\"},{\"attributes\":{\"num_minor_ticks\":10},\"id\":\"d0bb5850-6ec8-41b1-b6d4-3f35fe8e2c49\",\"type\":\"LogTicker\"},{\"attributes\":{\"callback\":null,\"plot\":{\"id\":\"c25847e8-65f9-4c01-ae09-20aaa4be8a5b\",\"subtype\":\"Figure\",\"type\":\"Plot\"}},\"id\":\"baec817e-968f-4ed4-9142-59416d489a98\",\"type\":\"HoverTool\"},{\"attributes\":{\"bottom_units\":\"screen\",\"fill_alpha\":{\"value\":0.5},\"fill_color\":{\"value\":\"lightgrey\"},\"left_units\":\"screen\",\"level\":\"overlay\",\"line_alpha\":{\"value\":1.0},\"line_color\":{\"value\":\"black\"},\"line_dash\":[4,4],\"line_width\":{\"value\":2},\"plot\":null,\"render_mode\":\"css\",\"right_units\":\"screen\",\"top_units\":\"screen\"},\"id\":\"a77dc1a5-a67f-4d30-b4dd-d6d5861f53b8\",\"type\":\"BoxAnnotation\"},{\"attributes\":{\"axis_label\":\"Period\",\"formatter\":{\"id\":\"6efffe0e-22c4-4131-aded-068ce23ef2a4\",\"type\":\"BasicTickFormatter\"},\"plot\":{\"id\":\"c25847e8-65f9-4c01-ae09-20aaa4be8a5b\",\"subtype\":\"Figure\",\"type\":\"Plot\"},\"ticker\":{\"id\":\"c638823f-e039-4d8f-8678-3e852f405955\",\"type\":\"BasicTicker\"}},\"id\":\"9ec70e6c-9406-4767-8b20-13cd74c6307f\",\"type\":\"LinearAxis\"},{\"attributes\":{\"plot\":{\"id\":\"c25847e8-65f9-4c01-ae09-20aaa4be8a5b\",\"subtype\":\"Figure\",\"type\":\"Plot\"}},\"id\":\"8720061e-532f-4dbe-89ec-948e5096dd34\",\"type\":\"ResetTool\"},{\"attributes\":{\"overlay\":{\"id\":\"a77dc1a5-a67f-4d30-b4dd-d6d5861f53b8\",\"type\":\"BoxAnnotation\"},\"plot\":{\"id\":\"c25847e8-65f9-4c01-ae09-20aaa4be8a5b\",\"subtype\":\"Figure\",\"type\":\"Plot\"}},\"id\":\"4c6332d4-57ff-40d5-84c9-c66d4b222bc0\",\"type\":\"BoxZoomTool\"},{\"attributes\":{\"callback\":null},\"id\":\"865b3d2d-7f35-4b87-8c5b-073c8da9ca10\",\"type\":\"DataRange1d\"},{\"attributes\":{\"callback\":null,\"plot\":{\"id\":\"c25847e8-65f9-4c01-ae09-20aaa4be8a5b\",\"subtype\":\"Figure\",\"type\":\"Plot\"}},\"id\":\"a20fa0ec-9c67-456e-a4d4-aff0cc17588a\",\"type\":\"TapTool\"},{\"attributes\":{\"plot\":{\"id\":\"c25847e8-65f9-4c01-ae09-20aaa4be8a5b\",\"subtype\":\"Figure\",\"type\":\"Plot\"}},\"id\":\"6e490e0e-2030-49cd-b480-487df67c268f\",\"type\":\"PanTool\"},{\"attributes\":{},\"id\":\"c638823f-e039-4d8f-8678-3e852f405955\",\"type\":\"BasicTicker\"},{\"attributes\":{},\"id\":\"0414e6f8-7e99-486c-9f09-3cc3ad89f4af\",\"type\":\"LogScale\"},{\"attributes\":{},\"id\":\"6efffe0e-22c4-4131-aded-068ce23ef2a4\",\"type\":\"BasicTickFormatter\"},{\"attributes\":{\"data_source\":{\"id\":\"50f58e84-f79b-4227-a315-2f66fa8cdbca\",\"type\":\"ColumnDataSource\"},\"glyph\":{\"id\":\"00f4e0c8-4073-4397-ac2b-e1a3e10dfdde\",\"type\":\"Line\"},\"hover_glyph\":null,\"muted_glyph\":null,\"nonselection_glyph\":{\"id\":\"4bea4169-062e-48e8-8183-ead482a6437f\",\"type\":\"Line\"},\"selection_glyph\":null},\"id\":\"ff103cfe-3b21-4ea9-bd70-7b173cc32fe7\",\"type\":\"GlyphRenderer\"},{\"attributes\":{\"plot\":{\"id\":\"c25847e8-65f9-4c01-ae09-20aaa4be8a5b\",\"subtype\":\"Figure\",\"type\":\"Plot\"}},\"id\":\"231af562-ecb3-45b9-8923-8e2e3039c4f3\",\"type\":\"WheelZoomTool\"},{\"attributes\":{\"line_color\":{\"value\":\"#1f77b4\"},\"x\":{\"field\":\"x\"},\"y\":{\"field\":\"y\"}},\"id\":\"00f4e0c8-4073-4397-ac2b-e1a3e10dfdde\",\"type\":\"Line\"},{\"attributes\":{\"callback\":null,\"overlay\":{\"id\":\"276c82f9-f40b-4a8f-8246-9ba7bfc59888\",\"type\":\"BoxAnnotation\"},\"plot\":{\"id\":\"c25847e8-65f9-4c01-ae09-20aaa4be8a5b\",\"subtype\":\"Figure\",\"type\":\"Plot\"},\"renderers\":[{\"id\":\"ff103cfe-3b21-4ea9-bd70-7b173cc32fe7\",\"type\":\"GlyphRenderer\"}]},\"id\":\"6bf27f47-eef4-40d9-9880-58343f460ea3\",\"type\":\"BoxSelectTool\"},{\"attributes\":{\"below\":[{\"id\":\"1b2d297c-210a-4f57-80b1-dc57f9fb36e5\",\"type\":\"LogAxis\"}],\"left\":[{\"id\":\"9ec70e6c-9406-4767-8b20-13cd74c6307f\",\"type\":\"LinearAxis\"}],\"renderers\":[{\"id\":\"1b2d297c-210a-4f57-80b1-dc57f9fb36e5\",\"type\":\"LogAxis\"},{\"id\":\"3dd098e0-0c9f-43ce-a89c-18a329fdce1d\",\"type\":\"Grid\"},{\"id\":\"9ec70e6c-9406-4767-8b20-13cd74c6307f\",\"type\":\"LinearAxis\"},{\"id\":\"443d7dd5-96e9-4572-b0e6-99ac7c4c0219\",\"type\":\"Grid\"},{\"id\":\"a77dc1a5-a67f-4d30-b4dd-d6d5861f53b8\",\"type\":\"BoxAnnotation\"},{\"id\":\"276c82f9-f40b-4a8f-8246-9ba7bfc59888\",\"type\":\"BoxAnnotation\"},{\"id\":\"ff103cfe-3b21-4ea9-bd70-7b173cc32fe7\",\"type\":\"GlyphRenderer\"}],\"title\":{\"id\":\"81437b8e-40e5-4e66-b2ec-87614d2dd8a1\",\"type\":\"Title\"},\"tool_events\":{\"id\":\"1e6be68e-b14b-49d7-909d-33b38fd8642c\",\"type\":\"ToolEvents\"},\"toolbar\":{\"id\":\"fc0a56a2-1d09-4341-b869-d80a423b0217\",\"type\":\"Toolbar\"},\"x_range\":{\"id\":\"865b3d2d-7f35-4b87-8c5b-073c8da9ca10\",\"type\":\"DataRange1d\"},\"x_scale\":{\"id\":\"0414e6f8-7e99-486c-9f09-3cc3ad89f4af\",\"type\":\"LogScale\"},\"y_range\":{\"id\":\"6040e206-d1e2-4ee3-934f-3fe530cd09aa\",\"type\":\"DataRange1d\"},\"y_scale\":{\"id\":\"358a6334-595c-4c8f-9642-b90aa3e3dcdb\",\"type\":\"LinearScale\"}},\"id\":\"c25847e8-65f9-4c01-ae09-20aaa4be8a5b\",\"subtype\":\"Figure\",\"type\":\"Plot\"},{\"attributes\":{},\"id\":\"358a6334-595c-4c8f-9642-b90aa3e3dcdb\",\"type\":\"LinearScale\"},{\"attributes\":{\"plot\":{\"id\":\"c25847e8-65f9-4c01-ae09-20aaa4be8a5b\",\"subtype\":\"Figure\",\"type\":\"Plot\"}},\"id\":\"af0e09aa-8632-49f6-bf1d-60b03c15528c\",\"type\":\"CrosshairTool\"},{\"attributes\":{\"bottom_units\":\"screen\",\"fill_alpha\":{\"value\":0.5},\"fill_color\":{\"value\":\"lightgrey\"},\"left_units\":\"screen\",\"level\":\"overlay\",\"line_alpha\":{\"value\":1.0},\"line_color\":{\"value\":\"black\"},\"line_dash\":[4,4],\"line_width\":{\"value\":2},\"plot\":null,\"render_mode\":\"css\",\"right_units\":\"screen\",\"top_units\":\"screen\"},\"id\":\"276c82f9-f40b-4a8f-8246-9ba7bfc59888\",\"type\":\"BoxAnnotation\"},{\"attributes\":{\"callback\":null,\"column_names\":[\"y\",\"x\"],\"data\":{\"x\":{\"__ndarray__\":\"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\",\"dtype\":\"float64\",\"shape\":[812]},\"y\":{\"__ndarray__\":\"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\",\"dtype\":\"float64\",\"shape\":[812]}}},\"id\":\"50f58e84-f79b-4227-a315-2f66fa8cdbca\",\"type\":\"ColumnDataSource\"},{\"attributes\":{\"active_drag\":\"auto\",\"active_inspect\":\"auto\",\"active_scroll\":\"auto\",\"active_tap\":\"auto\",\"tools\":[{\"id\":\"baec817e-968f-4ed4-9142-59416d489a98\",\"type\":\"HoverTool\"},{\"id\":\"af0e09aa-8632-49f6-bf1d-60b03c15528c\",\"type\":\"CrosshairTool\"},{\"id\":\"6e490e0e-2030-49cd-b480-487df67c268f\",\"type\":\"PanTool\"},{\"id\":\"231af562-ecb3-45b9-8923-8e2e3039c4f3\",\"type\":\"WheelZoomTool\"},{\"id\":\"4c6332d4-57ff-40d5-84c9-c66d4b222bc0\",\"type\":\"BoxZoomTool\"},{\"id\":\"8720061e-532f-4dbe-89ec-948e5096dd34\",\"type\":\"ResetTool\"},{\"id\":\"a20fa0ec-9c67-456e-a4d4-aff0cc17588a\",\"type\":\"TapTool\"},{\"id\":\"1bcb84c2-0e5b-45a9-b96b-76786e7dbdf6\",\"type\":\"SaveTool\"},{\"id\":\"6bf27f47-eef4-40d9-9880-58343f460ea3\",\"type\":\"BoxSelectTool\"}]},\"id\":\"fc0a56a2-1d09-4341-b869-d80a423b0217\",\"type\":\"Toolbar\"},{\"attributes\":{\"callback\":null},\"id\":\"6040e206-d1e2-4ee3-934f-3fe530cd09aa\",\"type\":\"DataRange1d\"},{\"attributes\":{\"dimension\":1,\"plot\":{\"id\":\"c25847e8-65f9-4c01-ae09-20aaa4be8a5b\",\"subtype\":\"Figure\",\"type\":\"Plot\"},\"ticker\":{\"id\":\"c638823f-e039-4d8f-8678-3e852f405955\",\"type\":\"BasicTicker\"}},\"id\":\"443d7dd5-96e9-4572-b0e6-99ac7c4c0219\",\"type\":\"Grid\"},{\"attributes\":{\"axis_label\":\"Period\",\"formatter\":{\"id\":\"ac3795a6-0d78-41a5-ac56-10761afb7423\",\"type\":\"LogTickFormatter\"},\"plot\":{\"id\":\"c25847e8-65f9-4c01-ae09-20aaa4be8a5b\",\"subtype\":\"Figure\",\"type\":\"Plot\"},\"ticker\":{\"id\":\"d0bb5850-6ec8-41b1-b6d4-3f35fe8e2c49\",\"type\":\"LogTicker\"}},\"id\":\"1b2d297c-210a-4f57-80b1-dc57f9fb36e5\",\"type\":\"LogAxis\"},{\"attributes\":{\"plot\":{\"id\":\"c25847e8-65f9-4c01-ae09-20aaa4be8a5b\",\"subtype\":\"Figure\",\"type\":\"Plot\"}},\"id\":\"1bcb84c2-0e5b-45a9-b96b-76786e7dbdf6\",\"type\":\"SaveTool\"},{\"attributes\":{\"ticker\":null},\"id\":\"ac3795a6-0d78-41a5-ac56-10761afb7423\",\"type\":\"LogTickFormatter\"}],\"root_ids\":[\"c25847e8-65f9-4c01-ae09-20aaa4be8a5b\"]},\"title\":\"Bokeh Application\",\"version\":\"0.12.6\"}};\n",
       "            var render_items = [{\"docid\":\"db1f1f62-8091-4539-9dff-00b9411a3e40\",\"elementid\":\"106e89eb-1e39-4f15-a3f3-a9c54be33cd5\",\"modelid\":\"c25847e8-65f9-4c01-ae09-20aaa4be8a5b\"}];\n",
       "            \n",
       "            Bokeh.embed.embed_items(docs_json, render_items);\n",
       "          };\n",
       "          if (document.readyState != \"loading\") fn();\n",
       "          else document.addEventListener(\"DOMContentLoaded\", fn);\n",
       "        })();\n",
       "      },\n",
       "      function(Bokeh) {\n",
       "      }\n",
       "    ];\n",
       "  \n",
       "    function run_inline_js() {\n",
       "      \n",
       "      if ((window.Bokeh !== undefined) || (force === true)) {\n",
       "        for (var i = 0; i < inline_js.length; i++) {\n",
       "          inline_js[i](window.Bokeh);\n",
       "        }if (force === true) {\n",
       "          display_loaded();\n",
       "        }} else if (Date.now() < window._bokeh_timeout) {\n",
       "        setTimeout(run_inline_js, 100);\n",
       "      } else if (!window._bokeh_failed_load) {\n",
       "        console.log(\"Bokeh: BokehJS failed to load within specified timeout.\");\n",
       "        window._bokeh_failed_load = true;\n",
       "      } else if (force !== true) {\n",
       "        var cell = $(document.getElementById(\"106e89eb-1e39-4f15-a3f3-a9c54be33cd5\")).parents('.cell').data().cell;\n",
       "        cell.output_area.append_execute_result(NB_LOAD_WARNING)\n",
       "      }\n",
       "  \n",
       "    }\n",
       "  \n",
       "    if (window._bokeh_is_loading === 0) {\n",
       "      console.log(\"Bokeh: BokehJS loaded, going straight to plotting\");\n",
       "      run_inline_js();\n",
       "    } else {\n",
       "      load_libs(js_urls, function() {\n",
       "        console.log(\"Bokeh: BokehJS plotting callback run at\", now());\n",
       "        run_inline_js();\n",
       "      });\n",
       "    }\n",
       "  }(this));\n",
       "</script>"
      ]
     },
     "metadata": {},
     "output_type": "display_data"
    },
    {
     "name": "stdout",
     "output_type": "stream",
     "text": [
      "Finding optimal frequency:\n",
      " - Estimated peak width = 0.188\n",
      " - Using 5 steps per peak; omega_step = 0.0375\n",
      " - User-specified period range:  0.5 to 31\n",
      " - Computing periods at 331 steps\n",
      "Zooming-in on 5 candidate peaks:\n",
      " - Computing periods at 1000 steps\n",
      "period = 3.23472012691\n",
      "Half the found period. 1.61736006345\n"
     ]
    }
   ],
   "source": [
    "#1st argument: time data\n",
    "#2nd argument: flux data\n",
    "#3rd argument: minimum period\n",
    "#4th argument: max period\n",
    "#5th argument: time between data points\n",
    "# min_period = .2\n",
    "# max_period = max(t) - min(t)\n",
    "nyquist = .2\n",
    "\n",
    "period2 = periodogram(t_no_nan,f_no_nan_smooth,min_period,max_period,nyquist)\n",
    "print 'Half the found period.', period2/2."
   ]
  },
  {
   "cell_type": "code",
   "execution_count": 96,
   "metadata": {
    "collapsed": false,
    "scrolled": true
   },
   "outputs": [
    {
     "name": "stdout",
     "output_type": "stream",
     "text": [
      "All periods:  [ 3.2694983   3.18776011  3.28993083  3.18775768  3.24905911  3.26949127\n",
      "  3.20818598  3.22861756  3.22861413]\n",
      "Avg. period:  3.23543499684  days.\n"
     ]
    }
   ],
   "source": [
    "#1st Argument: Flux Data\n",
    "#2nd Argument: cut_off for troughs that get counted\n",
    "period = find_period(f_no_nan_smooth,trough_cutoff)"
   ]
  },
  {
   "cell_type": "markdown",
   "metadata": {},
   "source": [
    "# Testing Box Least Square"
   ]
  },
  {
   "cell_type": "code",
   "execution_count": 97,
   "metadata": {
    "collapsed": true
   },
   "outputs": [],
   "source": [
    "import matplotlib.pyplot as plt\n",
    "import numpy as np\n",
    "import math"
   ]
  },
  {
   "cell_type": "code",
   "execution_count": 98,
   "metadata": {
    "collapsed": true
   },
   "outputs": [],
   "source": [
    "#### Copying code from: https://ridlow.wordpress.com/category/ipython-notebook/\n",
    "\n",
    "# t - time is an N-dimensional array of timestamps for the light curve,\n",
    "# x - flux is the N-dimensional light curve array,\n",
    "# qmi is the minimum transit duration to test, and\n",
    "# qma is the maximum transit duration to test.\n",
    "# fmin is the minimum frequency to test,\n",
    "# df is the frequency grid spacing,\n",
    "# nb is the number of bins to use in the folded light curve,\n",
    "# nf is the number of frequency bins to test,\n",
    "\n",
    "def bls(t, x, qmi, qma, fmin, df, nf, nb):\n",
    "    \"\"\"Frist trial, BLS algorithm, only minor modification from author's code\"\"\"\n",
    "    \n",
    "    n = len(t); rn = len(x)\n",
    "    #! use try\n",
    "    if n != rn:\n",
    "        print \"Different size of array, t and x\"\n",
    "        return 0\n",
    "\n",
    "    rn = float(rn) # float of n\n",
    "\n",
    "    minbin = 5\n",
    "    nbmax = 2000\n",
    "    if nb > nbmax:\n",
    "        print \"Error: NB > NBMAX!\"\n",
    "        return 0\n",
    "\n",
    "    tot = t[-1] - t[0] # total time span\n",
    "\n",
    "    if fmin < 1.0/tot:\n",
    "        print \"Error: fmin < 1/T\"\n",
    "        return 0\n",
    "\n",
    "    # parameters in binning (after folding)\n",
    "    kmi = int(qmi*nb) # nb is number of bin -> a single period\n",
    "    if kmi < 1: \n",
    "        kmi = 1\n",
    "    kma = int(qma*nb) + 1\n",
    "    kkmi = rn*qmi # to check the bin size\n",
    "    if kkmi < minbin: \n",
    "        kkmi = minbin\n",
    "\n",
    "    # For the extension of arrays (edge effect: transit happen at the edge of data set)\n",
    "    nb1 = nb + 1\n",
    "    nbkma = nb + kma\n",
    "        \n",
    "    # Data centering\n",
    "    t1 = t[0]\n",
    "    u = t - t1\n",
    "    s = np.mean(x) # ! Modified\n",
    "    v = x - s\n",
    "\n",
    "    bpow = 0.0\n",
    "    p = np.zeros(nf)\n",
    "    # Start period search\n",
    "    for jf in range(nf):\n",
    "        f0 = fmin + df*jf # iteration in frequency not period\n",
    "        p0 = 1.0/f0\n",
    "\n",
    "        # Compute folded time series with p0 period\n",
    "        ibi = np.zeros(nbkma)\n",
    "        y = np.zeros(nbkma)\n",
    "        for i in range(n):\n",
    "            ph = u[i]*f0 # instead of t mod P, he use t*f then calculate the phase (less computation)\n",
    "            ph = ph - int(ph)\n",
    "            j = int(nb*ph) # data to a bin \n",
    "            ibi[j] = ibi[j] + 1 # number of data in a bin\n",
    "            y[j] = y[j] + v[i] # sum of light in a bin\n",
    "        \n",
    "        # Extend the arrays  ibi()  and  y() beyond nb by wrapping\n",
    "        for j in range(nb1, nbkma):\n",
    "            jnb = j - nb\n",
    "            ibi[j] = ibi[jnb]\n",
    "            y[j] = y[jnb]\n",
    "\n",
    "        # Compute BLS statictics for this trial period\n",
    "        power = 0.0\n",
    "\n",
    "        for i in range(nb): # shift the test period\n",
    "            s = 0.0\n",
    "            k = 0\n",
    "            kk = 0\n",
    "            nb2 = i + kma\n",
    "            # change the size of test period (from kmi to kma)\n",
    "            for j in range(i, nb2): \n",
    "                k = k + 1\n",
    "                kk = kk + ibi[j]\n",
    "                s = s + y[j]\n",
    "                if k < kmi: continue # only calculate SR for test period > kmi\n",
    "                if kk < kkmi: continue # \n",
    "                rn1 = float(kk)\n",
    "                powo = s*s/(rn1*(rn - rn1))\n",
    "                if powo > power: # save maximum SR in a test period\n",
    "                    power = powo # SR value\n",
    "                    jn1 = i # \n",
    "                    jn2 = j\n",
    "                    rn3 = rn1\n",
    "                    s3 = s\n",
    "\n",
    "        power = math.sqrt(power)\n",
    "        p[jf] = power\n",
    "\n",
    "        if power > bpow:\n",
    "            bpow = power # Save the absolute maximum of SR\n",
    "            in1 = jn1\n",
    "            in2 = jn2\n",
    "            qtran = rn3/rn\n",
    "            # depth = -s3*rn/(rn3*(rn - rn3))\n",
    "            # ! Modified\n",
    "            high = -s3/(rn - rn3)\n",
    "            low = s3/rn3\n",
    "            depth = high - low\n",
    "            bper = p0\n",
    "    \n",
    "    # ! add\n",
    "    sde = (bpow - np.mean(p))/np.std(p) # signal detection efficiency\n",
    "\n",
    "    return bpow, in1, in2, qtran, depth, bper, sde, p, high, low"
   ]
  },
  {
   "cell_type": "code",
   "execution_count": 105,
   "metadata": {
    "collapsed": false
   },
   "outputs": [
    {
     "name": "stdout",
     "output_type": "stream",
     "text": [
      "Best SR:  81.6082656047 \n",
      "Ingress:  255 \n",
      "Egress:  285 \n",
      "q:  0.100369458128 \n",
      "Depth:  271.582175416 \n",
      "Period:  3.23624595469 \n",
      "SDE:  5.41992869835\n"
     ]
    }
   ],
   "source": [
    "# t - time is an N-dimensional array of timestamps for the light curve,\n",
    "# x - flux is the N-dimensional light curve array,\n",
    "# qmi is the minimum transit duration to test, and\n",
    "# qma is the maximum transit duration to test.\n",
    "# fmin is the minimum frequency to test,\n",
    "# df is the frequency grid spacing,\n",
    "# nb is the number of bins to use in the folded light curve,\n",
    "# nf is the number of frequency bins to test,\n",
    "\n",
    "qmi = 0.1 #.02 is about 30 mins\n",
    "qma = 0.3\n",
    "fmin = round(1./max_period,2) #freq = 1/period\n",
    "df = 0.001 \n",
    "nf = 1000\n",
    "nb = 300\n",
    "t = t_no_nan\n",
    "f = f_no_nan_smooth\n",
    "res = bls(t, f, qmi, qma, fmin, df, nf, nb)\n",
    "print \"Best SR: \", res[0], \"\\nIngress: \", res[1], \"\\nEgress: \", res[2], \"\\nq: \", res[3], \\\n",
    "\"\\nDepth: \", res[4], \"\\nPeriod: \", res[5], \"\\nSDE: \", res[6]\n"
   ]
  },
  {
   "cell_type": "code",
   "execution_count": 107,
   "metadata": {
    "collapsed": false
   },
   "outputs": [
    {
     "data": {
      "text/plain": [
       "<matplotlib.text.Text at 0x13e474e0>"
      ]
     },
     "execution_count": 107,
     "metadata": {},
     "output_type": "execute_result"
    },
    {
     "data": {
      "image/png": "[encoded data removed]",
      "text/plain": [
       "<matplotlib.figure.Figure at 0x135c1320>"
      ]
     },
     "metadata": {},
     "output_type": "display_data"
    }
   ],
   "source": [
    "fmin = round(1./max_period,2) #freq = 1/period\n",
    "steps = (fmax - fmin)/nf\n",
    "freq = np.arange(fmin, fmax,steps)\n",
    "plt.plot(freq, res[7], 'k.')\n",
    "plt.title(\"SDE = {0}\".format(res[6]))\n",
    "plt.xlabel(r\"Frequency (d$^{-1}$)\")\n",
    "plt.ylabel(r\"$SR$\")"
   ]
  },
  {
   "cell_type": "markdown",
   "metadata": {},
   "source": [
    "## Data centering\n",
    "Subtract it with the average value"
   ]
  },
  {
   "cell_type": "code",
   "execution_count": 174,
   "metadata": {
    "collapsed": false
   },
   "outputs": [
    {
     "data": {
      "text/plain": [
       "<matplotlib.text.Text at 0x1bfbdda0>"
      ]
     },
     "execution_count": 174,
     "metadata": {},
     "output_type": "execute_result"
    },
    {
     "data": {
      "image/png": "[encoded data removed]",
      "text/plain": [
       "<matplotlib.figure.Figure at 0x1c6544e0>"
      ]
     },
     "metadata": {},
     "output_type": "display_data"
    }
   ],
   "source": [
    "t1 = t[0]\n",
    "#subtracts t0 from all times\n",
    "u = t - t1\n",
    "s = np.mean(f)\n",
    "#each flux point subtracted from mean of flux\n",
    "# v = f - s\n",
    "\n",
    "## adjustment\n",
    "#Better cause it shows percentage of change\n",
    "v = f/s\n",
    "\n",
    "#plotting data\n",
    "plt.plot(u, v, 'b.')\n",
    "plt.title(\"Data Centering\")\n",
    "plt.xlabel(r\"$t - t_0$, (days)\")\n",
    "plt.ylabel(r\"$x(t) - \\mu$, Flux\")"
   ]
  },
  {
   "cell_type": "markdown",
   "metadata": {},
   "source": [
    "## Folded and binned\n",
    "If we fold the data with correct period and binned to 300 bins"
   ]
  },
  {
   "cell_type": "code",
   "execution_count": 175,
   "metadata": {
    "collapsed": false
   },
   "outputs": [
    {
     "data": {
      "text/plain": [
       "<matplotlib.text.Text at 0x1a9e4fd0>"
      ]
     },
     "execution_count": 175,
     "metadata": {},
     "output_type": "execute_result"
    },
    {
     "data": {
      "image/png": "[encoded data removed]",
      "text/plain": [
       "<matplotlib.figure.Figure at 0x1c9f2860>"
      ]
     },
     "metadata": {},
     "output_type": "display_data"
    }
   ],
   "source": [
    "#converting period to freq\n",
    "f0 = 1.0/res[5] #  freq = 1/T\n",
    "nbin = nb # number of bin\n",
    "n = len(t)\n",
    "ibi = np.zeros(nbin)\n",
    "y = np.zeros(nbin)\n",
    "phase = np.linspace(0.0, 1.0, nbin) #place holder for new vector\n",
    "\n",
    "#this loop folds the data for each phase\n",
    "for i in range(n):\n",
    "    ph = u[i]*f0 #divides by period\n",
    "    ph = ph - int(ph) # removes integer, ex. 5.2 ->> .2\n",
    "    \n",
    "    #creates mean value of flux over time in a bin\n",
    "    j = int(nbin*ph) # data to a bin \n",
    "    ibi[j] = ibi[j] + 1.0 # number of data in a bin\n",
    "    y[j] = y[j] + v[i] # sum of light in a bin\n",
    "\n",
    "\n",
    "plt.plot(phase, y/ibi, 'r.')\n",
    "plt.title(\"Period: {0} d  bin: {1}\".format(1/f0, nbin))\n",
    "plt.xlabel(r\"Phase ($\\phi$)\")\n",
    "plt.ylabel(r\"Mean value of $x(\\phi)$ in a bin\")"
   ]
  },
  {
   "cell_type": "markdown",
   "metadata": {},
   "source": [
    "## Fitted to the BLS result\n",
    "Folded with correct trial period and fit it with the BLS results."
   ]
  },
  {
   "cell_type": "code",
   "execution_count": 180,
   "metadata": {
    "collapsed": false
   },
   "outputs": [
    {
     "data": {
      "text/plain": [
       "<matplotlib.text.Text at 0x1a26ec18>"
      ]
     },
     "execution_count": 180,
     "metadata": {},
     "output_type": "execute_result"
    },
    {
     "data": {
      "image/png": "[encoded data removed]",
      "text/plain": [
       "<matplotlib.figure.Figure at 0x1abf22b0>"
      ]
     },
     "metadata": {},
     "output_type": "display_data"
    }
   ],
   "source": [
    "\n",
    "plt.plot(phase, y/ibi, 'r.')\n",
    "\n",
    "#bls fit\n",
    "fite = np.zeros(nbin) + res[8] # H\n",
    "#uses ingress(res[1]), and engress(res[2]), to model expected results\n",
    "fite[res[1]:res[2]+1] = res[9] # L\n",
    "\n",
    "#added to adjust for new y axis scale\n",
    "fite = fite/s + 1\n",
    "\n",
    "plt.plot(phase, fite)\n",
    "plt.title(\"Period: {0} d  bin: {1}\".format(1/f0, nbin))\n",
    "plt.xlabel(r\"Phase ($\\phi$)\")\n",
    "plt.ylabel(r\"Mean value of $x(\\phi)$ in a bin\")"
   ]
  },
  {
   "cell_type": "code",
   "execution_count": 198,
   "metadata": {
    "collapsed": false
   },
   "outputs": [
    {
     "name": "stdout",
     "output_type": "stream",
     "text": [
      "0.003\n",
      "335\n",
      "None\n"
     ]
    }
   ],
   "source": [
    "print koi.koi_depth\n",
    "print koi.koi_num_transits\n",
    "print koi.star.kic_teff"
   ]
  },
  {
   "cell_type": "markdown",
   "metadata": {},
   "source": [
    "## Practicing Finding Planetary Features\n",
    "Finding radius of planet"
   ]
  },
  {
   "cell_type": "code",
   "execution_count": 236,
   "metadata": {
    "collapsed": false
   },
   "outputs": [
    {
     "name": "stdout",
     "output_type": "stream",
     "text": [
      "Radius of Planet:  1.35323061042 Rj\n"
     ]
    }
   ],
   "source": [
    "r_s =  1.391 * R_sun\n",
    "depth = .01\n",
    "r_p = r_s *np.sqrt(depth)\n",
    "print 'Radius of Planet: ', r_p/R_jup, \"Rj\""
   ]
  },
  {
   "cell_type": "markdown",
   "metadata": {},
   "source": [
    "## Other Possible ways to use BLS"
   ]
  },
  {
   "cell_type": "markdown",
   "metadata": {},
   "source": [
    "## Folded but unbinned\n",
    "What if the light curve is only folded not binned: more computation of SR"
   ]
  },
  {
   "cell_type": "code",
   "execution_count": 181,
   "metadata": {
    "collapsed": false
   },
   "outputs": [
    {
     "data": {
      "text/plain": [
       "<matplotlib.text.Text at 0x1a269e48>"
      ]
     },
     "execution_count": 181,
     "metadata": {},
     "output_type": "execute_result"
    },
    {
     "data": {
      "image/png": "[encoded data removed]",
      "text/plain": [
       "<matplotlib.figure.Figure at 0x19dfe438>"
      ]
     },
     "metadata": {},
     "output_type": "display_data"
    }
   ],
   "source": [
    "T0 = res[5]\n",
    "n = len(t)\n",
    "y = np.zeros(n)\n",
    "y = t % T0\n",
    "\n",
    "plt.plot(y, v, 'r.')\n",
    "plt.title(\"Period: {0} d\".format(1/f0))\n",
    "plt.xlabel(r\"Phase ($\\phi$)\")\n",
    "plt.ylabel(r\"Mean value of $x(\\phi)$ in a bin\")"
   ]
  },
  {
   "cell_type": "markdown",
   "metadata": {},
   "source": [
    "## Folded with wrong trial period\n",
    "More scattered"
   ]
  },
  {
   "cell_type": "code",
   "execution_count": 182,
   "metadata": {
    "collapsed": false
   },
   "outputs": [
    {
     "data": {
      "text/plain": [
       "<matplotlib.text.Text at 0x1a674160>"
      ]
     },
     "execution_count": 182,
     "metadata": {},
     "output_type": "execute_result"
    },
    {
     "data": {
      "image/png": "[encoded data removed]",
      "text/plain": [
       "<matplotlib.figure.Figure at 0x1aac36a0>"
      ]
     },
     "metadata": {},
     "output_type": "display_data"
    }
   ],
   "source": [
    "f0 = 0.4 #  freq = 1/T\n",
    "nbin = nb # number of bin\n",
    "n = len(t)\n",
    "ibi = np.zeros(nbin)\n",
    "y = np.zeros(nbin)\n",
    "phase = np.linspace(0.0, 1.0, nbin)\n",
    "\n",
    "for i in range(n):\n",
    "    ph = u[i]*f0 \n",
    "    ph = ph - int(ph)\n",
    "    j = int(nbin*ph) # data to a bin \n",
    "    ibi[j] = ibi[j] + 1.0 # number of data in a bin\n",
    "    y[j] = y[j] + v[i] # sum of light in a bin\n",
    "\n",
    "\n",
    "plt.plot(phase, y/ibi, 'r.')\n",
    "plt.title(\"Period: {0} d  bin: {1}\".format(1/f0, nbin))\n",
    "plt.xlabel(r\"Phase ($\\phi$)\")\n",
    "plt.ylabel(r\"Mean value of $x(\\phi)$ in a bin\")"
   ]
  },
  {
   "cell_type": "markdown",
   "metadata": {},
   "source": [
    "## Folded with the alias of trial period\n",
    "Less scattered"
   ]
  },
  {
   "cell_type": "code",
   "execution_count": 183,
   "metadata": {
    "collapsed": false
   },
   "outputs": [
    {
     "data": {
      "text/plain": [
       "<matplotlib.text.Text at 0x1a666748>"
      ]
     },
     "execution_count": 183,
     "metadata": {},
     "output_type": "execute_result"
    },
    {
     "data": {
      "image/png": "[encoded data removed]",
      "text/plain": [
       "<matplotlib.figure.Figure at 0x1bd8d668>"
      ]
     },
     "metadata": {},
     "output_type": "display_data"
    }
   ],
   "source": [
    "f0 = 0.25 #  freq = 1/T\n",
    "nbin = nb # number of bin\n",
    "n = len(t)\n",
    "ibi = np.zeros(nbin)\n",
    "y = np.zeros(nbin)\n",
    "phase = np.linspace(0.0, 1.0, nbin)\n",
    "\n",
    "for i in range(n):\n",
    "    ph = u[i]*f0 \n",
    "    ph = ph - int(ph)\n",
    "    j = int(nbin*ph) # data to a bin \n",
    "    ibi[j] = ibi[j] + 1.0 # number of data in a bin\n",
    "    y[j] = y[j] + v[i] # sum of light in a bin\n",
    "\n",
    "\n",
    "plt.plot(phase, y/ibi, 'r.')\n",
    "plt.title(\"Period: {0} d  bin: {1}\".format(1/f0, nbin))\n",
    "plt.xlabel(r\"Phase ($\\phi$)\")\n",
    "plt.ylabel(r\"Mean value of $x(\\phi)$ in a bin\")"
   ]
  },
  {
   "cell_type": "markdown",
   "metadata": {},
   "source": [
    "# Ignore Everything Below Here"
   ]
  },
  {
   "cell_type": "code",
   "execution_count": 28,
   "metadata": {
    "collapsed": true
   },
   "outputs": [],
   "source": [
    "# #using pyfits to open a quarter of data as .fits file\n",
    "# pyfits.open('c:/Users/rscsa/.kplr/data/lightcurves/010874614/kplr010874614-2009131105131_llc.fits')\n",
    "# print pyfits.hdu.image.PrimaryHDU()"
   ]
  }
 ],
 "metadata": {
  "kernelspec": {
   "display_name": "Python 2",
   "language": "python",
   "name": "python2"
  },
  "language_info": {
   "codemirror_mode": {
    "name": "ipython",
    "version": 2
   },
   "file_extension": ".py",
   "mimetype": "text/x-python",
   "name": "python",
   "nbconvert_exporter": "python",
   "pygments_lexer": "ipython2",
   "version": "2.7.13"
  }
 },
 "nbformat": 4,
 "nbformat_minor": 2
}
