{
 "cells": [
  {
   "cell_type": "markdown",
   "metadata": {},
   "source": [
    "# Importing Module"
   ]
  },
  {
   "cell_type": "code",
   "execution_count": 1,
   "metadata": {
    "collapsed": true
   },
   "outputs": [],
   "source": [
    "#kplr used to import koi data easier\n",
    "import kplr\n",
    "client = kplr.API()\n",
    "\n",
    "#used to open .fits files\n",
    "import pyfits\n",
    "# import astropy\n",
    "\n",
    "#Used for plotting and numerical functions\n",
    "import matplotlib.pyplot as plt\n",
    "import numpy as np\n",
    "%matplotlib inline"
   ]
  },
  {
   "cell_type": "markdown",
   "metadata": {},
   "source": [
    "# Importing Data"
   ]
  },
  {
   "cell_type": "code",
   "execution_count": 10,
   "metadata": {
    "collapsed": false
   },
   "outputs": [
    {
     "name": "stdout",
     "output_type": "stream",
     "text": [
      "Period of koi:  (0.025, -0.025, None)\n",
      "10187017\n",
      "Associated Star Temperature:  4727\n"
     ]
    }
   ],
   "source": [
    "# Find a KOI.\n",
    "koi = client.koi(82.01)\n",
    "\n",
    "#period, period error (postive & negative)\n",
    "print 'Period of koi: ',(koi.koi_period, koi.koi_period_err1, koi.koi_period_err2)\n",
    "\n",
    "# This KOI has an associated star.\n",
    "star = koi.star\n",
    "print 'Associated Star Temperature: ',(star.kic_teff)\n",
    "\n",
    "#Download the lightcurves for this KOI.\n",
    "lightcurves = koi.get_light_curves()\n",
    "# for lc in lightcurves:\n",
    "#     print (lc.filename)"
   ]
  },
  {
   "cell_type": "markdown",
   "metadata": {},
   "source": [
    "Getting Like Curve Data"
   ]
  },
  {
   "cell_type": "code",
   "execution_count": 6,
   "metadata": {
    "collapsed": false
   },
   "outputs": [],
   "source": [
    "# Loop over the datasets and read in the data.\n",
    "time, flux, ferr, quality = [], [], [], []\n",
    "for lc in lightcurves:\n",
    "    with lc.open() as f:\n",
    "        # The lightcurve data are in the first FITS HDU.\n",
    "        hdu_data = f[1].data\n",
    "        time.append(hdu_data[\"time\"])\n",
    "        flux.append(hdu_data[\"sap_flux\"])\n",
    "        ferr.append(hdu_data[\"sap_flux_err\"])\n",
    "        quality.append(hdu_data[\"sap_quality\"])"
   ]
  },
  {
   "cell_type": "markdown",
   "metadata": {},
   "source": [
    "Plotting Data"
   ]
  },
  {
   "cell_type": "code",
   "execution_count": 7,
   "metadata": {
    "collapsed": false
   },
   "outputs": [
    {
     "data": {
      "text/plain": [
       "<matplotlib.text.Text at 0xa996080>"
      ]
     },
     "execution_count": 7,
     "metadata": {},
     "output_type": "execute_result"
    },
    {
     "data": {
      "image/png": "[encoded data removed]",
      "text/plain": [
       "<matplotlib.figure.Figure at 0xa722710>"
      ]
     },
     "metadata": {},
     "output_type": "display_data"
    }
   ],
   "source": [
    "#Time (BJD - 2454833)\n",
    "#Flux (e-/sec) + ____e+4\n",
    "#Which quarter do you want to look at?\n",
    "quarter = 4\n",
    "\n",
    "#plotting Light curve\n",
    "plt.figure()\n",
    "# print len(time)\n",
    "# print len(time[quarter])\n",
    "# print len(flux[quarter])\n",
    "plt.plot(time[quarter],flux[quarter])\n",
    "plt.xlabel('Time (BJD - 2454833)')\n",
    "plt.ylabel('Flux (e-/sec) e+4')"
   ]
  },
  {
   "cell_type": "code",
   "execution_count": 8,
   "metadata": {
    "collapsed": false
   },
   "outputs": [
    {
     "ename": "ValueError",
     "evalue": "Empty filename: ''",
     "output_type": "error",
     "traceback": [
      "\u001b[0;31m---------------------------------------------------------------------------\u001b[0m",
      "\u001b[0;31mValueError\u001b[0m                                Traceback (most recent call last)",
      "\u001b[0;32m<ipython-input-8-ad51af09d127>\u001b[0m in \u001b[0;36m<module>\u001b[0;34m()\u001b[0m\n\u001b[1;32m      1\u001b[0m \u001b[1;31m#using pyfits to open a quarter of data as .fits file\u001b[0m\u001b[1;33m\u001b[0m\u001b[1;33m\u001b[0m\u001b[0m\n\u001b[0;32m----> 2\u001b[0;31m \u001b[0mpyfits\u001b[0m\u001b[1;33m.\u001b[0m\u001b[0mopen\u001b[0m\u001b[1;33m(\u001b[0m\u001b[1;34m''\u001b[0m\u001b[1;33m)\u001b[0m\u001b[1;33m\u001b[0m\u001b[0m\n\u001b[0m\u001b[1;32m      3\u001b[0m \u001b[1;32mprint\u001b[0m \u001b[0mpyfits\u001b[0m\u001b[1;33m.\u001b[0m\u001b[0mhdu\u001b[0m\u001b[1;33m.\u001b[0m\u001b[0mimage\u001b[0m\u001b[1;33m.\u001b[0m\u001b[0mPrimaryHDU\u001b[0m\u001b[1;33m(\u001b[0m\u001b[1;33m)\u001b[0m\u001b[1;33m\u001b[0m\u001b[0m\n",
      "\u001b[0;32mC:\\Users\\rscsa\\Anaconda2\\lib\\site-packages\\pyfits\\hdu\\hdulist.pyc\u001b[0m in \u001b[0;36mfitsopen\u001b[0;34m(name, mode, memmap, save_backup, **kwargs)\u001b[0m\n\u001b[1;32m    120\u001b[0m \u001b[1;33m\u001b[0m\u001b[0m\n\u001b[1;32m    121\u001b[0m     \u001b[1;32mif\u001b[0m \u001b[1;32mnot\u001b[0m \u001b[0mname\u001b[0m\u001b[1;33m:\u001b[0m\u001b[1;33m\u001b[0m\u001b[0m\n\u001b[0;32m--> 122\u001b[0;31m         \u001b[1;32mraise\u001b[0m \u001b[0mValueError\u001b[0m\u001b[1;33m(\u001b[0m\u001b[1;34m'Empty filename: %s'\u001b[0m \u001b[1;33m%\u001b[0m \u001b[0mrepr\u001b[0m\u001b[1;33m(\u001b[0m\u001b[0mname\u001b[0m\u001b[1;33m)\u001b[0m\u001b[1;33m)\u001b[0m\u001b[1;33m\u001b[0m\u001b[0m\n\u001b[0m\u001b[1;32m    123\u001b[0m \u001b[1;33m\u001b[0m\u001b[0m\n\u001b[1;32m    124\u001b[0m     \u001b[1;32mreturn\u001b[0m \u001b[0mHDUList\u001b[0m\u001b[1;33m.\u001b[0m\u001b[0mfromfile\u001b[0m\u001b[1;33m(\u001b[0m\u001b[0mname\u001b[0m\u001b[1;33m,\u001b[0m \u001b[0mmode\u001b[0m\u001b[1;33m,\u001b[0m \u001b[0mmemmap\u001b[0m\u001b[1;33m,\u001b[0m \u001b[0msave_backup\u001b[0m\u001b[1;33m,\u001b[0m \u001b[1;33m**\u001b[0m\u001b[0mkwargs\u001b[0m\u001b[1;33m)\u001b[0m\u001b[1;33m\u001b[0m\u001b[0m\n",
      "\u001b[0;31mValueError\u001b[0m: Empty filename: ''"
     ]
    }
   ],
   "source": [
    "#using pyfits to open a quarter of data as .fits file\n",
    "pyfits.open('')\n",
    "print pyfits.hdu.image.PrimaryHDU()"
   ]
  },
  {
   "cell_type": "code",
   "execution_count": null,
   "metadata": {
    "collapsed": true
   },
   "outputs": [],
   "source": []
  },
  {
   "cell_type": "code",
   "execution_count": null,
   "metadata": {
    "collapsed": true
   },
   "outputs": [],
   "source": []
  }
 ],
 "metadata": {
  "kernelspec": {
   "display_name": "Python 2",
   "language": "python",
   "name": "python2"
  },
  "language_info": {
   "codemirror_mode": {
    "name": "ipython",
    "version": 2
   },
   "file_extension": ".py",
   "mimetype": "text/x-python",
   "name": "python",
   "nbconvert_exporter": "python",
   "pygments_lexer": "ipython2",
   "version": "2.7.13"
  }
 },
 "nbformat": 4,
 "nbformat_minor": 2
}
